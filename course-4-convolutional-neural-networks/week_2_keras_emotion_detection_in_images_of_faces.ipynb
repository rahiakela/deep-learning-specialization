{
  "nbformat": 4,
  "nbformat_minor": 0,
  "metadata": {
    "colab": {
      "name": "week-2-keras-emotion-detection-in-images-of-faces.ipynb",
      "provenance": [],
      "toc_visible": true,
      "include_colab_link": true
    },
    "kernelspec": {
      "name": "python3",
      "display_name": "Python 3"
    }
  },
  "cells": [
    {
      "cell_type": "markdown",
      "metadata": {
        "id": "view-in-github",
        "colab_type": "text"
      },
      "source": [
        "<a href=\"https://colab.research.google.com/github/rahiakela/coursera-deep-learning-specialization/blob/course-4-convolutional-neural-networks/week_2_keras_emotion_detection_in_images_of_faces.ipynb\" target=\"_parent\"><img src=\"https://colab.research.google.com/assets/colab-badge.svg\" alt=\"Open In Colab\"/></a>"
      ]
    },
    {
      "cell_type": "markdown",
      "metadata": {
        "id": "NTQC383dDH-U",
        "colab_type": "text"
      },
      "source": [
        "# Keras tutorial - Emotion Detection in Images of Faces"
      ]
    },
    {
      "cell_type": "markdown",
      "metadata": {
        "id": "j28HUHAGDXw6",
        "colab_type": "text"
      },
      "source": [
        "Welcome to the first assignment of week 2. In this assignment, you will:\n",
        "1. Learn to use Keras, a high-level neural networks API (programming framework), written in Python and capable of running on top of several lower-level frameworks including TensorFlow and CNTK. \n",
        "2. See how you can in a couple of hours build a deep learning algorithm."
      ]
    },
    {
      "cell_type": "markdown",
      "metadata": {
        "id": "SydtPrS8DcHq",
        "colab_type": "text"
      },
      "source": [
        "#### Why are we using Keras? "
      ]
    },
    {
      "cell_type": "markdown",
      "metadata": {
        "id": "0jY697VIDeUY",
        "colab_type": "text"
      },
      "source": [
        "* Keras was developed to enable deep learning engineers to build and experiment with different models very quickly. \n",
        "* Just as TensorFlow is a higher-level framework than Python, Keras is an even higher-level framework and provides additional abstractions. \n",
        "* Being able to go from idea to result with the least possible delay is key to finding good models. \n",
        "* However, Keras is more restrictive than the lower-level frameworks, so there are some very complex models that you would still implement in TensorFlow rather than in Keras. \n",
        "* That being said, Keras will work fine for many common models. "
      ]
    },
    {
      "cell_type": "markdown",
      "metadata": {
        "id": "T8rxptx8DiTz",
        "colab_type": "text"
      },
      "source": [
        "## Load packages"
      ]
    },
    {
      "cell_type": "markdown",
      "metadata": {
        "id": "7RsvZt97DplP",
        "colab_type": "text"
      },
      "source": [
        "* In this exercise, you'll work on the \"Emotion detection\" model, which we'll explain below. \n",
        "* Let's load the required packages."
      ]
    },
    {
      "cell_type": "code",
      "metadata": {
        "id": "CJpVT6umDqHR",
        "colab_type": "code",
        "colab": {}
      },
      "source": [
        "from __future__ import absolute_import, division, print_function, unicode_literals\n",
        "\n",
        "try:\n",
        "  # %tensorflow_version only exists in Colab.\n",
        "  %tensorflow_version 2.x\n",
        "except Exception:\n",
        "  pass\n",
        "\n",
        "import tensorflow as tf\n",
        "from tensorflow import keras\n",
        "import numpy as np\n",
        "\n",
        "from tensorflow.keras import layers\n",
        "from tensorflow.keras.layers import Input, Dense, Activation, ZeroPadding2D, BatchNormalization, Flatten, Conv2D \n",
        "from tensorflow.keras.layers import AveragePooling2D, MaxPooling2D, Dropout, GlobalMaxPooling2D, GlobalAveragePooling2D\n",
        "\n",
        "from tensorflow.keras.models import Model, Sequential\n",
        "\n",
        "from tensorflow.keras.preprocessing.image import load_img, img_to_array\n",
        "#import tensorflow.keras.utils.layers_utils\n",
        "#import tensorflow.keras.utils.plot_model\n",
        "#from tensorflow.keras.utils.layers_utils import layers_utils\n",
        "#from tensorflow.keras.utils.data_utils import get_file\n",
        "#from tensorflow.keras.utils.vis_utils import model_to_dot\n",
        "\n",
        "from tensorflow.keras.applications.imagenet_utils import preprocess_input\n",
        "\n",
        "from tensorflow.keras import backend as keras_backend\n",
        "\n",
        "keras_backend.set_image_data_format('channels_last')\n",
        "\n",
        "import pydot\n",
        "from IPython.display import SVG\n",
        "\n",
        "from kt_utils import *\n",
        "\n",
        "import matplotlib.pyplot as plt\n",
        "from matplotlib.pyplot import imshow\n",
        "\n",
        "%matplotlib inline"
      ],
      "execution_count": 0,
      "outputs": []
    },
    {
      "cell_type": "markdown",
      "metadata": {
        "id": "6zFCpMFMKAhl",
        "colab_type": "text"
      },
      "source": [
        "**Note**: As you can see, we've imported a lot of functions from Keras. You can use them by calling them directly in your code. Ex: `X = Input(...)` or `X = ZeroPadding2D(...)`. \n",
        "\n",
        "In other words, unlike TensorFlow, you don't have to create the graph and then make a separate `sess.run()` call to evaluate those variables."
      ]
    },
    {
      "cell_type": "markdown",
      "metadata": {
        "id": "hqmxUsa3KDh6",
        "colab_type": "text"
      },
      "source": [
        "## 1 - Emotion Tracking"
      ]
    },
    {
      "cell_type": "markdown",
      "metadata": {
        "id": "sjlNEF1NKECL",
        "colab_type": "text"
      },
      "source": [
        "* A nearby community health clinic is helping the local residents monitor their mental health.  \n",
        "* As part of their study, they are asking volunteers to record their emotions throughout the day.\n",
        "* To help the participants more easily track their emotions, you are asked to create an app that will classify their emotions based on some pictures that the volunteers will take of their facial expressions.\n",
        "* As a proof-of-concept, you first train your model to detect if someone's emotion is classified as \"happy\" or \"not happy.\"\n",
        "\n",
        "To build and train this model, you have gathered pictures of some volunteers in a nearby neighborhood. The dataset is labeled.\n",
        "<img src='https://github.com/rahiakela/img-repo/blob/master/deep-learning-specialization/face_images.png?raw=1' width='800'/>\n",
        "\n",
        "Run the following code to normalize the dataset and learn about its shapes."
      ]
    },
    {
      "cell_type": "code",
      "metadata": {
        "id": "yVfQEH01F6GR",
        "colab_type": "code",
        "colab": {
          "base_uri": "https://localhost:8080/",
          "height": 124
        },
        "outputId": "3e1352b7-714b-421f-8b0d-500f40c82f87"
      },
      "source": [
        "X_train_orig, Y_train_orig, X_test_orig, Y_test_orig, classes = load_dataset()\n",
        "\n",
        "# Normalize image vectors(features)\n",
        "X_train = X_train_orig / 255.\n",
        "X_test = X_test_orig / 255.\n",
        "\n",
        "# Reshape(labels)\n",
        "Y_train = Y_train_orig.T\n",
        "Y_test = Y_test_orig.T\n",
        "\n",
        "print(f'number of training examples = {str(X_train.shape[0])}')\n",
        "print(f'number of test examples = {str(X_test.shape[0])}')\n",
        "print(f'X_train shape: {str(X_train.shape)}')\n",
        "print(f'Y_train shape: {str(Y_train.shape)}')\n",
        "print(f'X_test shape: {str(X_test.shape)}')\n",
        "print(f'Y_test shape: {str(Y_test.shape)}')"
      ],
      "execution_count": 10,
      "outputs": [
        {
          "output_type": "stream",
          "text": [
            "number of training examples = 600\n",
            "number of test examples = 150\n",
            "X_train shape: (600, 64, 64, 3)\n",
            "Y_train shape: (600, 1)\n",
            "X_test shape: (150, 64, 64, 3)\n",
            "Y_test shape: (150, 1)\n"
          ],
          "name": "stdout"
        }
      ]
    },
    {
      "cell_type": "markdown",
      "metadata": {
        "id": "0bNyylGdMVZD",
        "colab_type": "text"
      },
      "source": [
        "**Details of the \"Face\" dataset**:\n",
        "- Images are of shape (64,64,3)\n",
        "- Training: 600 pictures\n",
        "- Test: 150 pictures"
      ]
    },
    {
      "cell_type": "markdown",
      "metadata": {
        "id": "aZnbRfbMMdbp",
        "colab_type": "text"
      },
      "source": [
        "## 2 - Building a model in Keras"
      ]
    },
    {
      "cell_type": "markdown",
      "metadata": {
        "id": "vg-tQYjmMeBb",
        "colab_type": "text"
      },
      "source": [
        "Keras is very good for rapid prototyping. In just a short time you will be able to build a model that achieves outstanding results.\n",
        "\n",
        "Here is an example of a model in Keras:\n",
        "\n",
        "```python\n",
        "def model(input_shape):\n",
        "    \"\"\"\n",
        "    input_shape: The height, width and channels as a tuple.  \n",
        "        Note that this does not include the 'batch' as a dimension.\n",
        "        If you have a batch like 'X_train', \n",
        "        then you can provide the input_shape using\n",
        "        X_train.shape[1:]\n",
        "    \"\"\"\n",
        "    \n",
        "    # Define the input placeholder as a tensor with shape input_shape. Think of this as your input image!\n",
        "    X_input = Input(input_shape)\n",
        "\n",
        "    # Zero-Padding: pads the border of X_input with zeroes\n",
        "    X = ZeroPadding2D((3, 3))(X_input)\n",
        "\n",
        "    # CONV -> BN -> RELU Block applied to X\n",
        "    X = Conv2D(32, (7, 7), strides = (1, 1), name = 'conv0')(X)\n",
        "    X = BatchNormalization(axis = 3, name = 'bn0')(X)\n",
        "    X = Activation('relu')(X)\n",
        "\n",
        "    # MAXPOOL\n",
        "    X = MaxPooling2D((2, 2), name='max_pool')(X)\n",
        "\n",
        "    # FLATTEN X (means convert it to a vector) + FULLYCONNECTED\n",
        "    X = Flatten()(X)\n",
        "    X = Dense(1, activation='sigmoid', name='fc')(X)\n",
        "\n",
        "    # Create model. This creates your Keras model instance, you'll use this instance to train/test the model.\n",
        "    model = Model(inputs = X_input, outputs = X, name='HappyModel')\n",
        "    \n",
        "    return model\n",
        "```"
      ]
    },
    {
      "cell_type": "markdown",
      "metadata": {
        "id": "r_YFAxsVNLe5",
        "colab_type": "text"
      },
      "source": [
        "#### Variable naming convention"
      ]
    },
    {
      "cell_type": "markdown",
      "metadata": {
        "id": "-Dsc7h9INMCO",
        "colab_type": "text"
      },
      "source": [
        "* Note that Keras uses a different convention with variable names than we've previously used with numpy and TensorFlow. \n",
        "* Instead of creating unique variable names for each step and each layer, such as \n",
        "```\n",
        "X = ...\n",
        "Z1 = ...\n",
        "A1 = ...\n",
        "```\n",
        "* Keras re-uses and overwrites the same variable at each step:\n",
        "```\n",
        "X = ...\n",
        "X = ...\n",
        "X = ...\n",
        "```\n",
        "* The exception is `X_input`, which we kept separate since it's needed later."
      ]
    },
    {
      "cell_type": "markdown",
      "metadata": {
        "id": "T4s--5R2NUod",
        "colab_type": "text"
      },
      "source": [
        "#### Objects as functions"
      ]
    },
    {
      "cell_type": "markdown",
      "metadata": {
        "id": "BVligiM3NVEx",
        "colab_type": "text"
      },
      "source": [
        "* Notice how there are two pairs of parentheses in each statement.  For example:\n",
        "```\n",
        "X = ZeroPadding2D((3, 3))(X_input)\n",
        "```\n",
        "* The first is a constructor call which creates an object (ZeroPadding2D).\n",
        "* In Python, objects can be called as functions. Search for 'python object as function and you can read this blog post [Python Pandemonium](https://medium.com/python-pandemonium/function-as-objects-in-python-d5215e6d1b0d).  See the section titled \"Objects as functions.\"\n",
        "* The single line is equivalent to this:\n",
        "```\n",
        "ZP = ZeroPadding2D((3, 3)) # ZP is an object that can be called as a function\n",
        "X = ZP(X_input) \n",
        "```"
      ]
    },
    {
      "cell_type": "markdown",
      "metadata": {
        "id": "m6QMyrf5NYQV",
        "colab_type": "text"
      },
      "source": [
        "**Exercise**: Implement a `HappyModel()`.  \n",
        "* This assignment is more open-ended than most. \n",
        "* Start by implementing a model using the architecture we suggest, and run through the rest of this assignment using that as your initial model. * Later, come back and try out other model architectures. \n",
        "* For example, you might take inspiration from the model above, but then vary the network architecture and hyperparameters however you wish. \n",
        "* You can also use other functions such as `AveragePooling2D()`, `GlobalMaxPooling2D()`, `Dropout()`. \n",
        "\n",
        "**Note**: Be careful with your data's shapes. Use what you've learned in the videos to make sure your convolutional, pooling and fully-connected layers are adapted to the volumes you're applying it to."
      ]
    },
    {
      "cell_type": "code",
      "metadata": {
        "id": "4RqlI8slMQkY",
        "colab_type": "code",
        "colab": {}
      },
      "source": [
        "# FUNCTION: HappyModel\n",
        "def happy_model(input_shape):\n",
        "  '''\n",
        "  Implementation of the HappyModel.\n",
        "    \n",
        "  Arguments:\n",
        "  input_shape -- shape of the images of the dataset\n",
        "      (height, width, channels) as a tuple.  \n",
        "      Note that this does not include the 'batch' as a dimension.\n",
        "      If you have a batch like 'X_train', \n",
        "      then you can provide the input_shape using\n",
        "      X_train.shape[1:]\n",
        "\n",
        "  Returns:\n",
        "    model -- a Model() instance in Keras\n",
        "  '''\n",
        "\n",
        "  ### START CODE HERE ###\n",
        "  # Feel free to use the suggested outline in the text above to get started, and run through the whole\n",
        "  # exercise (including the later portions of this notebook) once. The come back also try out other\n",
        "  # network architectures as well. \n",
        "  \n",
        "  # Define the input placeholder as a tensor with shape input_shape. Think of this as your input image!\n",
        "  X_input = Input(input_shape)\n",
        "\n",
        "  # Zero-Padding: pads the border of X_input with zeroes\n",
        "  X = ZeroPadding2D((3, 3))(X_input)\n",
        "\n",
        "  # CONV -> BN -> RELU Block applied to X\n",
        "  X = Conv2D(32, (7, 7), strides=(1, 1), name='conv0')(X)\n",
        "  X = BatchNormalization(axis=3, name='bn0')(X)\n",
        "  X = Activation('relu')(X)\n",
        "\n",
        "  # MAXPOOL\n",
        "  X = MaxPooling2D((2, 2), name='max_pool')(X)\n",
        "\n",
        "  # FLATTEN X (means convert it to a vector) + FULLYCONNECTED\n",
        "  X = Flatten()(X)\n",
        "  X = Dense(1, activation='sigmoid', name='fc')(X)\n",
        "\n",
        "  # Create model. This creates your Keras model instance, you'll use this instance to train/test the model.\n",
        "  model = Model(inputs=X_input, outputs=X, name='HappyModel')\n",
        "\n",
        "  ### END CODE HERE ###\n",
        "\n",
        "  return model"
      ],
      "execution_count": 0,
      "outputs": []
    },
    {
      "cell_type": "markdown",
      "metadata": {
        "id": "jdDwLv9NQ0wL",
        "colab_type": "text"
      },
      "source": [
        "You have now built a function to describe your model. To train and test this model, there are four steps in Keras:\n",
        "1. Create the model by calling the function above  \n",
        "\n",
        "2. Compile the model by calling `model.compile(optimizer = \"...\", loss = \"...\", metrics = [\"accuracy\"])`  \n",
        "\n",
        "3. Train the model on train data by calling `model.fit(x = ..., y = ..., epochs = ..., batch_size = ...)`  \n",
        "\n",
        "4. Test the model on test data by calling `model.evaluate(x = ..., y = ...)`  \n",
        "\n",
        "If you want to know more about `model.compile()`, `model.fit()`, `model.evaluate()` and their arguments, refer to the official [Keras documentation](https://keras.io/models/model/)."
      ]
    },
    {
      "cell_type": "markdown",
      "metadata": {
        "id": "ye_-FgxxSBCh",
        "colab_type": "text"
      },
      "source": [
        "#### Step 1: create the model."
      ]
    },
    {
      "cell_type": "markdown",
      "metadata": {
        "id": "ovtwVwdMSLsK",
        "colab_type": "text"
      },
      "source": [
        "**Hint**:  \n",
        "The `input_shape` parameter is a tuple (height, width, channels).  It excludes the batch number.  \n",
        "Try `X_train.shape[1:]` as the `input_shape`."
      ]
    },
    {
      "cell_type": "code",
      "metadata": {
        "id": "bBVK2bmmSNvG",
        "colab_type": "code",
        "colab": {}
      },
      "source": [
        "### START CODE HERE ### (1 line)\n",
        "happyModel = happy_model(X_train.shape[1:])\n",
        "### END CODE HERE ###"
      ],
      "execution_count": 0,
      "outputs": []
    },
    {
      "cell_type": "markdown",
      "metadata": {
        "id": "3kh1Kh5QSfNU",
        "colab_type": "text"
      },
      "source": [
        "#### Step 2: compile the model"
      ]
    },
    {
      "cell_type": "markdown",
      "metadata": {
        "id": "Og8vqUGpSfnR",
        "colab_type": "text"
      },
      "source": [
        "**Hint**:  \n",
        "Optimizers you can try include `'adam'`, `'sgd'` or others.  See the documentation for [optimizers](https://keras.io/optimizers/)  \n",
        "The \"happiness detection\" is a binary classification problem.  The loss function that you can use is `'binary_cross_entropy'`.  Note that `'categorical_cross_entropy'` won't work with your data set as its formatted, because the data is an array of 0 or 1 rather than two arrays (one for each category).  Documentation for [losses](https://keras.io/losses/)"
      ]
    },
    {
      "cell_type": "code",
      "metadata": {
        "id": "O5xbFdwkScYD",
        "colab_type": "code",
        "colab": {}
      },
      "source": [
        "### START CODE HERE ### (1 line)\n",
        "happyModel.compile(loss='binary_crossentropy', optimizer='adam', metrics=['accuracy'])\n",
        "### END CODE HERE ###"
      ],
      "execution_count": 0,
      "outputs": []
    },
    {
      "cell_type": "markdown",
      "metadata": {
        "id": "JJcKFajaT2by",
        "colab_type": "text"
      },
      "source": [
        "#### Step 3: train the model"
      ]
    },
    {
      "cell_type": "markdown",
      "metadata": {
        "id": "VIIKtWqyT23C",
        "colab_type": "text"
      },
      "source": [
        "**Hint**:  \n",
        "Use the `'X_train'`, `'Y_train'` variables.  Use integers for the epochs and batch_size\n",
        "\n",
        "**Note**: If you run `fit()` again, the `model` will continue to train with the parameters it has already learned instead of reinitializing them."
      ]
    },
    {
      "cell_type": "code",
      "metadata": {
        "id": "5eri5fj-VxVm",
        "colab_type": "code",
        "colab": {}
      },
      "source": [
        "keras_backend.clear_session()\n",
        "np.random.seed(42)"
      ],
      "execution_count": 0,
      "outputs": []
    },
    {
      "cell_type": "code",
      "metadata": {
        "id": "FOWZ25MCTToM",
        "colab_type": "code",
        "colab": {
          "base_uri": "https://localhost:8080/",
          "height": 1000
        },
        "outputId": "8a9aecf6-9a65-417b-989e-001d989211dc"
      },
      "source": [
        "### START CODE HERE ### (1 line)\n",
        "history = happyModel.fit(X_train, Y_train, epochs=40, batch_size=16)\n",
        "### END CODE HERE ###"
      ],
      "execution_count": 17,
      "outputs": [
        {
          "output_type": "stream",
          "text": [
            "Train on 600 samples\n",
            "Epoch 1/40\n",
            "600/600 [==============================] - 4s 7ms/sample - loss: 0.0928 - accuracy: 0.9817\n",
            "Epoch 2/40\n",
            "600/600 [==============================] - 4s 7ms/sample - loss: 0.0106 - accuracy: 0.9933\n",
            "Epoch 3/40\n",
            "600/600 [==============================] - 4s 7ms/sample - loss: 0.0046 - accuracy: 0.9983\n",
            "Epoch 4/40\n",
            "600/600 [==============================] - 4s 7ms/sample - loss: 0.0039 - accuracy: 0.9983\n",
            "Epoch 5/40\n",
            "600/600 [==============================] - 4s 7ms/sample - loss: 8.6983e-04 - accuracy: 1.0000\n",
            "Epoch 6/40\n",
            "600/600 [==============================] - 4s 7ms/sample - loss: 7.8344e-04 - accuracy: 1.0000\n",
            "Epoch 7/40\n",
            "600/600 [==============================] - 4s 7ms/sample - loss: 6.2430e-04 - accuracy: 1.0000\n",
            "Epoch 8/40\n",
            "600/600 [==============================] - 4s 7ms/sample - loss: 5.6089e-04 - accuracy: 1.0000\n",
            "Epoch 9/40\n",
            "600/600 [==============================] - 4s 7ms/sample - loss: 5.6865e-04 - accuracy: 1.0000\n",
            "Epoch 10/40\n",
            "600/600 [==============================] - 4s 7ms/sample - loss: 6.0584e-04 - accuracy: 1.0000\n",
            "Epoch 11/40\n",
            "600/600 [==============================] - 4s 7ms/sample - loss: 5.3346e-04 - accuracy: 1.0000\n",
            "Epoch 12/40\n",
            "600/600 [==============================] - 4s 7ms/sample - loss: 6.2874e-04 - accuracy: 1.0000\n",
            "Epoch 13/40\n",
            "600/600 [==============================] - 4s 7ms/sample - loss: 4.0206e-04 - accuracy: 1.0000\n",
            "Epoch 14/40\n",
            "600/600 [==============================] - 4s 7ms/sample - loss: 5.1650e-04 - accuracy: 1.0000\n",
            "Epoch 15/40\n",
            "600/600 [==============================] - 4s 7ms/sample - loss: 5.2018e-04 - accuracy: 1.0000\n",
            "Epoch 16/40\n",
            "600/600 [==============================] - 4s 7ms/sample - loss: 4.7802e-04 - accuracy: 1.0000\n",
            "Epoch 17/40\n",
            "600/600 [==============================] - 4s 7ms/sample - loss: 5.5429e-04 - accuracy: 1.0000\n",
            "Epoch 18/40\n",
            "600/600 [==============================] - 4s 7ms/sample - loss: 3.4170e-04 - accuracy: 1.0000\n",
            "Epoch 19/40\n",
            "600/600 [==============================] - 4s 7ms/sample - loss: 5.1597e-04 - accuracy: 1.0000\n",
            "Epoch 20/40\n",
            "600/600 [==============================] - 4s 7ms/sample - loss: 3.8895e-04 - accuracy: 1.0000\n",
            "Epoch 21/40\n",
            "600/600 [==============================] - 4s 7ms/sample - loss: 3.5454e-04 - accuracy: 1.0000\n",
            "Epoch 22/40\n",
            "600/600 [==============================] - 4s 7ms/sample - loss: 4.4050e-04 - accuracy: 1.0000\n",
            "Epoch 23/40\n",
            "600/600 [==============================] - 4s 7ms/sample - loss: 2.6757e-04 - accuracy: 1.0000\n",
            "Epoch 24/40\n",
            "600/600 [==============================] - 4s 7ms/sample - loss: 3.1855e-04 - accuracy: 1.0000\n",
            "Epoch 25/40\n",
            "600/600 [==============================] - 4s 7ms/sample - loss: 3.4699e-04 - accuracy: 1.0000\n",
            "Epoch 26/40\n",
            "600/600 [==============================] - 4s 7ms/sample - loss: 3.9450e-04 - accuracy: 1.0000\n",
            "Epoch 27/40\n",
            "600/600 [==============================] - 4s 7ms/sample - loss: 3.2645e-04 - accuracy: 1.0000\n",
            "Epoch 28/40\n",
            "600/600 [==============================] - 4s 7ms/sample - loss: 3.2807e-04 - accuracy: 1.0000\n",
            "Epoch 29/40\n",
            "600/600 [==============================] - 4s 7ms/sample - loss: 3.8910e-04 - accuracy: 1.0000\n",
            "Epoch 30/40\n",
            "600/600 [==============================] - 4s 7ms/sample - loss: 2.9992e-04 - accuracy: 1.0000\n",
            "Epoch 31/40\n",
            "600/600 [==============================] - 4s 7ms/sample - loss: 2.7689e-04 - accuracy: 1.0000\n",
            "Epoch 32/40\n",
            "600/600 [==============================] - 4s 7ms/sample - loss: 3.2170e-04 - accuracy: 1.0000\n",
            "Epoch 33/40\n",
            "600/600 [==============================] - 4s 7ms/sample - loss: 2.4339e-04 - accuracy: 1.0000\n",
            "Epoch 34/40\n",
            "600/600 [==============================] - 4s 7ms/sample - loss: 2.8089e-04 - accuracy: 1.0000\n",
            "Epoch 35/40\n",
            "600/600 [==============================] - 4s 7ms/sample - loss: 2.7652e-04 - accuracy: 1.0000\n",
            "Epoch 36/40\n",
            "600/600 [==============================] - 4s 7ms/sample - loss: 2.8259e-04 - accuracy: 1.0000\n",
            "Epoch 37/40\n",
            "600/600 [==============================] - 4s 7ms/sample - loss: 3.0743e-04 - accuracy: 1.0000\n",
            "Epoch 38/40\n",
            "600/600 [==============================] - 4s 7ms/sample - loss: 2.9837e-04 - accuracy: 1.0000\n",
            "Epoch 39/40\n",
            "600/600 [==============================] - 4s 7ms/sample - loss: 4.5314e-04 - accuracy: 1.0000\n",
            "Epoch 40/40\n",
            "600/600 [==============================] - 4s 7ms/sample - loss: 1.9182e-04 - accuracy: 1.0000\n"
          ],
          "name": "stdout"
        }
      ]
    },
    {
      "cell_type": "markdown",
      "metadata": {
        "id": "BUVp6AhyUga4",
        "colab_type": "text"
      },
      "source": [
        "#### Step 4: evaluate model  "
      ]
    },
    {
      "cell_type": "markdown",
      "metadata": {
        "id": "4VRCO3brUhDl",
        "colab_type": "text"
      },
      "source": [
        "**Hint**:  \n",
        "Use the `'X_test'` and `'Y_test'` variables to evaluate the model's performance."
      ]
    },
    {
      "cell_type": "code",
      "metadata": {
        "id": "d3aDVc-vUdAU",
        "colab_type": "code",
        "colab": {
          "base_uri": "https://localhost:8080/",
          "height": 88
        },
        "outputId": "91fa16c5-6efb-4c3d-8fb7-af0fb922fccf"
      },
      "source": [
        "### START CODE HERE ### (1 line)\n",
        "preds = happyModel.evaluate(X_test, Y_test)\n",
        "### END CODE HERE ###\n",
        "\n",
        "print()\n",
        "print(f'Loss = {str(preds[0])}')\n",
        "print(f'Test Accuracy = {str(preds[1])}')"
      ],
      "execution_count": 18,
      "outputs": [
        {
          "output_type": "stream",
          "text": [
            "150/150 [==============================] - 0s 2ms/sample - loss: 0.0638 - accuracy: 0.9800\n",
            "\n",
            "Loss = 0.06375813827539484\n",
            "Test Accuracy = 0.98\n"
          ],
          "name": "stdout"
        }
      ]
    },
    {
      "cell_type": "markdown",
      "metadata": {
        "id": "DSSFxlK-VD-m",
        "colab_type": "text"
      },
      "source": [
        "#### Expected performance   "
      ]
    },
    {
      "cell_type": "markdown",
      "metadata": {
        "id": "cX2W-zhIVErL",
        "colab_type": "text"
      },
      "source": [
        "If your `happyModel()` function worked, its accuracy should be better than random guessing (50% accuracy).\n",
        "\n",
        "To give you a point of comparison, our model gets around **95% test accuracy in 40 epochs** (and 99% train accuracy) with a mini batch size of 16 and \"adam\" optimizer."
      ]
    },
    {
      "cell_type": "code",
      "metadata": {
        "id": "r15P_fCnVhIr",
        "colab_type": "code",
        "colab": {
          "base_uri": "https://localhost:8080/",
          "height": 241
        },
        "outputId": "b322bcb5-e467-4749-8b74-df341b843a90"
      },
      "source": [
        "xs = range(len(history.history['accuracy']))\n",
        "\n",
        "plt.figure(figsize=(10,3))\n",
        "plt.subplot(1, 2, 1)\n",
        "plt.plot(xs, history.history['accuracy'], label='train')\n",
        "plt.plot(xs, history.history['loss'], label='train')\n",
        "plt.legend(loc='lower left')\n",
        "plt.xlabel('accuracy')\n",
        "plt.ylabel('loss')\n",
        "plt.title('Accuracy and Loss')\n",
        "\n",
        "#plt.tight_layout()\n",
        "plt.show()"
      ],
      "execution_count": 20,
      "outputs": [
        {
          "output_type": "display_data",
          "data": {
            "image/png": "[encoded data removed]",
            "text/plain": [
              "<Figure size 720x216 with 1 Axes>"
            ]
          },
          "metadata": {
            "tags": []
          }
        }
      ]
    },
    {
      "cell_type": "markdown",
      "metadata": {
        "id": "yn46TMh2VHh3",
        "colab_type": "text"
      },
      "source": [
        "#### Tips for improving your model"
      ]
    },
    {
      "cell_type": "markdown",
      "metadata": {
        "id": "_qeGlaO6Ws2V",
        "colab_type": "text"
      },
      "source": [
        "If you have not yet achieved a very good accuracy (>= 80%), here are some things tips:\n",
        "\n",
        "- Use blocks of CONV->BATCHNORM->RELU such as:\n",
        "```python\n",
        "X = Conv2D(32, (3, 3), strides = (1, 1), name = 'conv0')(X)\n",
        "X = BatchNormalization(axis = 3, name = 'bn0')(X)\n",
        "X = Activation('relu')(X)\n",
        "```\n",
        "until your height and width dimensions are quite low and your number of channels quite large (≈32 for example).  \n",
        "You can then flatten the volume and use a fully-connected layer.\n",
        "- Use MAXPOOL after such blocks.  It will help you lower the dimension in height and width.\n",
        "- Change your optimizer. We find 'adam' works well. \n",
        "- If you get memory issues, lower your batch_size (e.g. 12 )\n",
        "- Run more epochs until you see the train accuracy no longer improves. \n",
        "\n",
        "**Note**: If you perform hyperparameter tuning on your model, the test set actually becomes a dev set, and your model might end up overfitting to the test (dev) set. Normally, you'll want separate dev and test sets.  The dev set is used for parameter tuning, and the test set is used once to estimate the model's performance in production."
      ]
    },
    {
      "cell_type": "markdown",
      "metadata": {
        "id": "y8kNfFkbWxiY",
        "colab_type": "text"
      },
      "source": [
        "## 3 - Conclusion"
      ]
    },
    {
      "cell_type": "markdown",
      "metadata": {
        "id": "1wQTgmohWyDe",
        "colab_type": "text"
      },
      "source": [
        "Congratulations, you have created a proof of concept for \"happiness detection\"!"
      ]
    },
    {
      "cell_type": "markdown",
      "metadata": {
        "id": "5e9iReHUW0TL",
        "colab_type": "text"
      },
      "source": [
        "## Key Points to remember"
      ]
    },
    {
      "cell_type": "markdown",
      "metadata": {
        "id": "8W7xfDugW6TL",
        "colab_type": "text"
      },
      "source": [
        "- Keras is a tool we recommend for rapid prototyping. It allows you to quickly try out different model architectures.\n",
        "- Remember The four steps in Keras: \n",
        "\n",
        "\n",
        "1. Create  \n",
        "2. Compile  \n",
        "3. Fit/Train  \n",
        "4. Evaluate/Test  "
      ]
    },
    {
      "cell_type": "markdown",
      "metadata": {
        "id": "KpU_2yh8W8Hc",
        "colab_type": "text"
      },
      "source": [
        "## 4 - Test with your own image (Optional)"
      ]
    },
    {
      "cell_type": "markdown",
      "metadata": {
        "id": "EWaf_YzxXQuM",
        "colab_type": "text"
      },
      "source": [
        "Congratulations on finishing this assignment. You can now take a picture of your face and see if it can classify whether your expression is \"happy\" or \"not happy\". To do that:\n",
        "\n",
        "\n",
        "1. Click on \"File\" in the upper bar of this notebook, then click \"Open\" to go on your Coursera Hub.\n",
        "2. Add your image to this Jupyter Notebook's directory, in the \"images\" folder\n",
        "3. Write your image's name in the following code\n",
        "4. Run the code and check if the algorithm is right (0 is not happy, 1 is happy)!\n",
        "    \n",
        "The training/test sets were quite similar; for example, all the pictures were taken against the same background (since a front door camera is always mounted in the same position). This makes the problem easier, but a model trained on this data may or may not work on your own data. But feel free to give it a try! "
      ]
    },
    {
      "cell_type": "code",
      "metadata": {
        "id": "EBCMtujnXcdO",
        "colab_type": "code",
        "colab": {
          "base_uri": "https://localhost:8080/",
          "height": 388
        },
        "outputId": "9b0230f4-87c5-4ac7-9fcb-250dac6c32c5"
      },
      "source": [
        "### START CODE HERE ###\n",
        "img_path = 'my_image.jpg'\n",
        "### END CODE HERE ###\n",
        "img = load_img(img_path, target_size=(64, 64))\n",
        "imshow(img)\n",
        "\n",
        "x = img_to_array(img)\n",
        "x = np.expand_dims(x, axis=0)\n",
        "x = preprocess_input(x)\n",
        "\n",
        "print(happyModel.predict(x))"
      ],
      "execution_count": 23,
      "outputs": [
        {
          "output_type": "error",
          "ename": "OSError",
          "evalue": "ignored",
          "traceback": [
            "\u001b[0;31m---------------------------------------------------------------------------\u001b[0m",
            "\u001b[0;31mOSError\u001b[0m                                   Traceback (most recent call last)",
            "\u001b[0;32m<ipython-input-23-2fbd97b7faee>\u001b[0m in \u001b[0;36m<module>\u001b[0;34m()\u001b[0m\n\u001b[1;32m      1\u001b[0m \u001b[0mimg_path\u001b[0m \u001b[0;34m=\u001b[0m \u001b[0;34m'my_image.jpg'\u001b[0m\u001b[0;34m\u001b[0m\u001b[0;34m\u001b[0m\u001b[0m\n\u001b[1;32m      2\u001b[0m \u001b[0;31m### END CODE HERE ###\u001b[0m\u001b[0;34m\u001b[0m\u001b[0;34m\u001b[0m\u001b[0;34m\u001b[0m\u001b[0m\n\u001b[0;32m----> 3\u001b[0;31m \u001b[0mimg\u001b[0m \u001b[0;34m=\u001b[0m \u001b[0mload_img\u001b[0m\u001b[0;34m(\u001b[0m\u001b[0mimg_path\u001b[0m\u001b[0;34m,\u001b[0m \u001b[0mtarget_size\u001b[0m\u001b[0;34m=\u001b[0m\u001b[0;34m(\u001b[0m\u001b[0;36m64\u001b[0m\u001b[0;34m,\u001b[0m \u001b[0;36m64\u001b[0m\u001b[0;34m)\u001b[0m\u001b[0;34m)\u001b[0m\u001b[0;34m\u001b[0m\u001b[0;34m\u001b[0m\u001b[0m\n\u001b[0m\u001b[1;32m      4\u001b[0m \u001b[0mimshow\u001b[0m\u001b[0;34m(\u001b[0m\u001b[0mimg\u001b[0m\u001b[0;34m)\u001b[0m\u001b[0;34m\u001b[0m\u001b[0;34m\u001b[0m\u001b[0m\n\u001b[1;32m      5\u001b[0m \u001b[0;34m\u001b[0m\u001b[0m\n",
            "\u001b[0;32m/tensorflow-2.1.0/python3.6/keras_preprocessing/image/utils.py\u001b[0m in \u001b[0;36mload_img\u001b[0;34m(path, grayscale, color_mode, target_size, interpolation)\u001b[0m\n\u001b[1;32m    130\u001b[0m                         \", \".join(_PIL_INTERPOLATION_METHODS.keys())))\n\u001b[1;32m    131\u001b[0m             \u001b[0mresample\u001b[0m \u001b[0;34m=\u001b[0m \u001b[0m_PIL_INTERPOLATION_METHODS\u001b[0m\u001b[0;34m[\u001b[0m\u001b[0minterpolation\u001b[0m\u001b[0;34m]\u001b[0m\u001b[0;34m\u001b[0m\u001b[0;34m\u001b[0m\u001b[0m\n\u001b[0;32m--> 132\u001b[0;31m             \u001b[0mimg\u001b[0m \u001b[0;34m=\u001b[0m \u001b[0mimg\u001b[0m\u001b[0;34m.\u001b[0m\u001b[0mresize\u001b[0m\u001b[0;34m(\u001b[0m\u001b[0mwidth_height_tuple\u001b[0m\u001b[0;34m,\u001b[0m \u001b[0mresample\u001b[0m\u001b[0;34m)\u001b[0m\u001b[0;34m\u001b[0m\u001b[0;34m\u001b[0m\u001b[0m\n\u001b[0m\u001b[1;32m    133\u001b[0m     \u001b[0;32mreturn\u001b[0m \u001b[0mimg\u001b[0m\u001b[0;34m\u001b[0m\u001b[0;34m\u001b[0m\u001b[0m\n\u001b[1;32m    134\u001b[0m \u001b[0;34m\u001b[0m\u001b[0m\n",
            "\u001b[0;32m/usr/local/lib/python3.6/dist-packages/PIL/Image.py\u001b[0m in \u001b[0;36mresize\u001b[0;34m(self, size, resample, box)\u001b[0m\n\u001b[1;32m   1741\u001b[0m             \u001b[0;32mreturn\u001b[0m \u001b[0mself\u001b[0m\u001b[0;34m.\u001b[0m\u001b[0mconvert\u001b[0m\u001b[0;34m(\u001b[0m\u001b[0;34m'RGBa'\u001b[0m\u001b[0;34m)\u001b[0m\u001b[0;34m.\u001b[0m\u001b[0mresize\u001b[0m\u001b[0;34m(\u001b[0m\u001b[0msize\u001b[0m\u001b[0;34m,\u001b[0m \u001b[0mresample\u001b[0m\u001b[0;34m,\u001b[0m \u001b[0mbox\u001b[0m\u001b[0;34m)\u001b[0m\u001b[0;34m.\u001b[0m\u001b[0mconvert\u001b[0m\u001b[0;34m(\u001b[0m\u001b[0;34m'RGBA'\u001b[0m\u001b[0;34m)\u001b[0m\u001b[0;34m\u001b[0m\u001b[0;34m\u001b[0m\u001b[0m\n\u001b[1;32m   1742\u001b[0m \u001b[0;34m\u001b[0m\u001b[0m\n\u001b[0;32m-> 1743\u001b[0;31m         \u001b[0mself\u001b[0m\u001b[0;34m.\u001b[0m\u001b[0mload\u001b[0m\u001b[0;34m(\u001b[0m\u001b[0;34m)\u001b[0m\u001b[0;34m\u001b[0m\u001b[0;34m\u001b[0m\u001b[0m\n\u001b[0m\u001b[1;32m   1744\u001b[0m \u001b[0;34m\u001b[0m\u001b[0m\n\u001b[1;32m   1745\u001b[0m         \u001b[0;32mreturn\u001b[0m \u001b[0mself\u001b[0m\u001b[0;34m.\u001b[0m\u001b[0m_new\u001b[0m\u001b[0;34m(\u001b[0m\u001b[0mself\u001b[0m\u001b[0;34m.\u001b[0m\u001b[0mim\u001b[0m\u001b[0;34m.\u001b[0m\u001b[0mresize\u001b[0m\u001b[0;34m(\u001b[0m\u001b[0msize\u001b[0m\u001b[0;34m,\u001b[0m \u001b[0mresample\u001b[0m\u001b[0;34m,\u001b[0m \u001b[0mbox\u001b[0m\u001b[0;34m)\u001b[0m\u001b[0;34m)\u001b[0m\u001b[0;34m\u001b[0m\u001b[0;34m\u001b[0m\u001b[0m\n",
            "\u001b[0;32m/usr/local/lib/python3.6/dist-packages/PIL/ImageFile.py\u001b[0m in \u001b[0;36mload\u001b[0;34m(self)\u001b[0m\n\u001b[1;32m    231\u001b[0m                             \u001b[0;32melse\u001b[0m\u001b[0;34m:\u001b[0m\u001b[0;34m\u001b[0m\u001b[0;34m\u001b[0m\u001b[0m\n\u001b[1;32m    232\u001b[0m                                 raise IOError(\"image file is truncated \"\n\u001b[0;32m--> 233\u001b[0;31m                                               \"(%d bytes not processed)\" % len(b))\n\u001b[0m\u001b[1;32m    234\u001b[0m \u001b[0;34m\u001b[0m\u001b[0m\n\u001b[1;32m    235\u001b[0m                         \u001b[0mb\u001b[0m \u001b[0;34m=\u001b[0m \u001b[0mb\u001b[0m \u001b[0;34m+\u001b[0m \u001b[0ms\u001b[0m\u001b[0;34m\u001b[0m\u001b[0;34m\u001b[0m\u001b[0m\n",
            "\u001b[0;31mOSError\u001b[0m: image file is truncated (66 bytes not processed)"
          ]
        }
      ]
    },
    {
      "cell_type": "markdown",
      "metadata": {
        "id": "POnbxRlcXTD9",
        "colab_type": "text"
      },
      "source": [
        "## 5 - Other useful functions in Keras (Optional)"
      ]
    },
    {
      "cell_type": "markdown",
      "metadata": {
        "id": "gYlDnYRGaWOj",
        "colab_type": "text"
      },
      "source": [
        "Two other basic features of Keras that you'll find useful are:\n",
        "- `model.summary()`: prints the details of your layers in a table with the sizes of its inputs/outputs\n",
        "- `plot_model()`: plots your graph in a nice layout. You can even save it as \".png\" using SVG() if you'd like to share it on social media ;). It is saved in \"File\" then \"Open...\" in the upper bar of the notebook.\n",
        "\n",
        "Run the following code."
      ]
    },
    {
      "cell_type": "code",
      "metadata": {
        "id": "2Uon2aNjaYKK",
        "colab_type": "code",
        "colab": {
          "base_uri": "https://localhost:8080/",
          "height": 444
        },
        "outputId": "f26b4a17-9a75-4d51-d5be-80cebf50bb94"
      },
      "source": [
        "happyModel.summary()"
      ],
      "execution_count": 24,
      "outputs": [
        {
          "output_type": "stream",
          "text": [
            "Model: \"HappyModel\"\n",
            "_________________________________________________________________\n",
            "Layer (type)                 Output Shape              Param #   \n",
            "=================================================================\n",
            "input_1 (InputLayer)         [(None, 64, 64, 3)]       0         \n",
            "_________________________________________________________________\n",
            "zero_padding2d (ZeroPadding2 (None, 70, 70, 3)         0         \n",
            "_________________________________________________________________\n",
            "conv0 (Conv2D)               (None, 64, 64, 32)        4736      \n",
            "_________________________________________________________________\n",
            "bn0 (BatchNormalization)     (None, 64, 64, 32)        128       \n",
            "_________________________________________________________________\n",
            "activation (Activation)      (None, 64, 64, 32)        0         \n",
            "_________________________________________________________________\n",
            "max_pool (MaxPooling2D)      (None, 32, 32, 32)        0         \n",
            "_________________________________________________________________\n",
            "flatten (Flatten)            (None, 32768)             0         \n",
            "_________________________________________________________________\n",
            "fc (Dense)                   (None, 1)                 32769     \n",
            "=================================================================\n",
            "Total params: 37,633\n",
            "Trainable params: 37,569\n",
            "Non-trainable params: 64\n",
            "_________________________________________________________________\n"
          ],
          "name": "stdout"
        }
      ]
    },
    {
      "cell_type": "code",
      "metadata": {
        "id": "WW24iN4vahwI",
        "colab_type": "code",
        "colab": {}
      },
      "source": [
        ""
      ],
      "execution_count": 0,
      "outputs": []
    }
  ]
}