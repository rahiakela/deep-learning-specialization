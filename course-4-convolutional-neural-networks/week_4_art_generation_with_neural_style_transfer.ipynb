{
  "nbformat": 4,
  "nbformat_minor": 0,
  "metadata": {
    "colab": {
      "name": "week-4-art_generation_with_neural_style_transfer.ipynb",
      "provenance": [],
      "toc_visible": true,
      "include_colab_link": true
    },
    "kernelspec": {
      "name": "python3",
      "display_name": "Python 3"
    }
  },
  "cells": [
    {
      "cell_type": "markdown",
      "metadata": {
        "id": "view-in-github",
        "colab_type": "text"
      },
      "source": [
        "<a href=\"https://colab.research.google.com/github/rahiakela/coursera-deep-learning-specialization/blob/course-4-convolutional-neural-networks/week_4_art_generation_with_neural_style_transfer.ipynb\" target=\"_parent\"><img src=\"https://colab.research.google.com/assets/colab-badge.svg\" alt=\"Open In Colab\"/></a>"
      ]
    },
    {
      "cell_type": "markdown",
      "metadata": {
        "id": "4JDgacTNRgjj",
        "colab_type": "text"
      },
      "source": [
        "# Deep Learning & Art: Neural Style Transfer"
      ]
    },
    {
      "cell_type": "markdown",
      "metadata": {
        "id": "E7LywXj0RhM3",
        "colab_type": "text"
      },
      "source": [
        "In this assignment, you will learn about Neural Style Transfer. This algorithm was created by [Gatys et al. (2015).](https://arxiv.org/abs/1508.06576)\n",
        "\n",
        "**In this assignment, you will:**\n",
        "- Implement the neural style transfer algorithm \n",
        "- Generate novel artistic images using your algorithm \n",
        "\n",
        "Most of the algorithms you've studied optimize a cost function to get a set of parameter values. In Neural Style Transfer, you'll optimize a cost function to get pixel values!"
      ]
    },
    {
      "cell_type": "markdown",
      "metadata": {
        "id": "JVDBTjg3Rri4",
        "colab_type": "text"
      },
      "source": [
        "## Setup"
      ]
    },
    {
      "cell_type": "code",
      "metadata": {
        "id": "3nzMIS__RsyF",
        "colab_type": "code",
        "outputId": "9f9f3d16-b170-4ec0-a02e-5b32b30bf3a1",
        "colab": {
          "base_uri": "https://localhost:8080/",
          "height": 64
        }
      },
      "source": [
        "import os\n",
        "import sys\n",
        "import scipy.io\n",
        "import scipy.misc\n",
        "import matplotlib.pyplot as plt\n",
        "from matplotlib.pyplot import imshow\n",
        "from PIL import Image\n",
        "from nst_utils import *\n",
        "import numpy as np\n",
        "import tensorflow as tf\n",
        "import pprint\n",
        "%matplotlib inline"
      ],
      "execution_count": 0,
      "outputs": [
        {
          "output_type": "display_data",
          "data": {
            "text/html": [
              "<p style=\"color: red;\">\n",
              "The default version of TensorFlow in Colab will soon switch to TensorFlow 2.x.<br>\n",
              "We recommend you <a href=\"https://www.tensorflow.org/guide/migrate\" target=\"_blank\">upgrade</a> now \n",
              "or ensure your notebook will continue to use TensorFlow 1.x via the <code>%tensorflow_version 1.x</code> magic:\n",
              "<a href=\"https://colab.research.google.com/notebooks/tensorflow_version.ipynb\" target=\"_blank\">more info</a>.</p>\n"
            ],
            "text/plain": [
              "<IPython.core.display.HTML object>"
            ]
          },
          "metadata": {
            "tags": []
          }
        }
      ]
    },
    {
      "cell_type": "markdown",
      "metadata": {
        "id": "HNLC0kTiSkn8",
        "colab_type": "text"
      },
      "source": [
        "## 1 - Problem Statement"
      ]
    },
    {
      "cell_type": "markdown",
      "metadata": {
        "id": "YWgqqgZDSoNo",
        "colab_type": "text"
      },
      "source": [
        "Neural Style Transfer (NST) is one of the most fun techniques in deep learning. As seen below, it merges two images, namely: a **\"content\" image (C) and a \"style\" image (S), to create a \"generated\" image (G**). \n",
        "\n",
        "The generated image G combines the \"content\" of the image C with the \"style\" of image S. \n",
        "\n",
        "In this example, you are going to generate an image of the Louvre museum in Paris (content image C), mixed with a painting by Claude Monet, a leader of the impressionist movement (style image S).\n",
        "<img src='https://github.com/rahiakela/img-repo/blob/master/deep-learning-specialization/louvre_generated.png?raw=1' width='800'/>\n",
        "\n",
        "Let's see how you can do this. "
      ]
    },
    {
      "cell_type": "markdown",
      "metadata": {
        "id": "rIAMpIlxTY-S",
        "colab_type": "text"
      },
      "source": [
        "## 2 - Transfer Learning"
      ]
    },
    {
      "cell_type": "markdown",
      "metadata": {
        "id": "U0_6fiKzTeCo",
        "colab_type": "text"
      },
      "source": [
        "Neural Style Transfer (NST) uses a previously trained convolutional network, and builds on top of that. The idea of using a network trained on a different task and applying it to a new task is called transfer learning. \n",
        "\n",
        "Following the [original NST paper](https://arxiv.org/abs/1508.06576), we will use the VGG network. Specifically, we'll use VGG-19, a 19-layer version of the VGG network. This model has already been trained on the very large ImageNet database, and thus has learned to recognize a variety of low level features (at the shallower layers) and high level features (at the deeper layers). \n",
        "\n",
        "Run the following code to load parameters from the VGG model. This may take a few seconds. "
      ]
    },
    {
      "cell_type": "code",
      "metadata": {
        "id": "3Z8I6QsjTggR",
        "colab_type": "code",
        "colab": {}
      },
      "source": [
        "pp = pprint.PrettyPrinter(indent=4)\n",
        "# https://www.kaggle.com/teksab/imagenetvggverydeep19mat\n",
        "model = load_vgg_model('pretrained-model/imagenet-vgg-verydeep-19.mat')\n",
        "pp.pprint(model)"
      ],
      "execution_count": 0,
      "outputs": []
    },
    {
      "cell_type": "markdown",
      "metadata": {
        "id": "duC3wDp7U8NH",
        "colab_type": "text"
      },
      "source": [
        "* The model is stored in a python dictionary.  \n",
        "* The python dictionary contains key-value pairs for each layer.  \n",
        "* The 'key' is the variable name and the 'value' is a tensor for that layer. "
      ]
    },
    {
      "cell_type": "markdown",
      "metadata": {
        "id": "lUmVx3WiU_L_",
        "colab_type": "text"
      },
      "source": [
        "#### Assign input image to the model's input layer"
      ]
    },
    {
      "cell_type": "markdown",
      "metadata": {
        "id": "9qHuhAr-VBd4",
        "colab_type": "text"
      },
      "source": [
        "To run an image through this network, you just have to feed the image to the model. In TensorFlow, you can do so using the [tf.assign](https://www.tensorflow.org/api_docs/python/tf/assign) function. In particular, you will use the assign function like this:  \n",
        "```python\n",
        "model[\"input\"].assign(image)\n",
        "```\n",
        "This assigns the image as an input to the model. "
      ]
    },
    {
      "cell_type": "markdown",
      "metadata": {
        "id": "hOn-iSJHVFT3",
        "colab_type": "text"
      },
      "source": [
        "#### Activate a layer"
      ]
    },
    {
      "cell_type": "markdown",
      "metadata": {
        "id": "NaucxQ-5VF8r",
        "colab_type": "text"
      },
      "source": [
        "After this, if you want to access the activations of a particular layer, say layer `4_2` when the network is run on this image, you would run a TensorFlow session on the correct tensor `conv4_2`, as follows:  \n",
        "```python\n",
        "sess.run(model[\"conv4_2\"])\n",
        "```"
      ]
    },
    {
      "cell_type": "markdown",
      "metadata": {
        "id": "bfXbw3ZWVK3N",
        "colab_type": "text"
      },
      "source": [
        "## 3 - Neural Style Transfer (NST)"
      ]
    },
    {
      "cell_type": "markdown",
      "metadata": {
        "id": "FkFEYwaUVNPg",
        "colab_type": "text"
      },
      "source": [
        "We will build the Neural Style Transfer (NST) algorithm in three steps:\n",
        "\n",
        "- Build the content cost function $J_{content}(C,G)$\n",
        "- Build the style cost function $J_{style}(S,G)$\n",
        "- Put it together to get $J(G) = \\alpha J_{content}(C,G) + \\beta J_{style}(S,G)$."
      ]
    },
    {
      "cell_type": "markdown",
      "metadata": {
        "id": "BuCkHqhRVRiu",
        "colab_type": "text"
      },
      "source": [
        "### 3.1 - Computing the content cost"
      ]
    },
    {
      "cell_type": "markdown",
      "metadata": {
        "id": "KqUvLTo0VTk3",
        "colab_type": "text"
      },
      "source": [
        "In our running example, the content image C will be the picture of the Louvre Museum in Paris. Run the code below to see a picture of the Louvre."
      ]
    },
    {
      "cell_type": "code",
      "metadata": {
        "id": "FCtAZBaxVYPD",
        "colab_type": "code",
        "colab": {}
      },
      "source": [
        "content_image = scipy.misc.imread('images/louvre.jpg')\n",
        "imshow(content_image);"
      ],
      "execution_count": 0,
      "outputs": []
    },
    {
      "cell_type": "markdown",
      "metadata": {
        "id": "14-y6QfmVj3F",
        "colab_type": "text"
      },
      "source": [
        "The content image (C) shows the Louvre museum's pyramid surrounded by old Paris buildings, against a sunny sky with a few clouds.\n",
        "\n",
        "** 3.1.1 - Make generated image G match the content of image C**"
      ]
    },
    {
      "cell_type": "markdown",
      "metadata": {
        "id": "sotYESyuVmt4",
        "colab_type": "text"
      },
      "source": [
        "#### Shallower versus deeper layers"
      ]
    },
    {
      "cell_type": "markdown",
      "metadata": {
        "id": "s0RLzkfhVo39",
        "colab_type": "text"
      },
      "source": [
        "* The shallower layers of a ConvNet tend to detect lower-level features such as edges and simple textures.\n",
        "* The deeper layers tend to detect higher-level features such as more complex textures as well as object classes. "
      ]
    },
    {
      "cell_type": "markdown",
      "metadata": {
        "id": "717vvSBiVrGA",
        "colab_type": "text"
      },
      "source": [
        "#### Choose a \"middle\" activation layer $a^{[l]}$"
      ]
    },
    {
      "cell_type": "markdown",
      "metadata": {
        "id": "NJod76jdVtMz",
        "colab_type": "text"
      },
      "source": [
        "We would like the \"generated\" image G to have similar content as the input image C. Suppose you have chosen some layer's activations to represent the content of an image. \n",
        "* In practice, you'll get the most visually pleasing results if you choose a layer in the **middle** of the network--neither too shallow nor too deep. \n",
        "* (After you have finished this exercise, feel free to come back and experiment with using different layers, to see how the results vary.)"
      ]
    },
    {
      "cell_type": "markdown",
      "metadata": {
        "id": "bWKDbZ-fVvbz",
        "colab_type": "text"
      },
      "source": [
        "#### Forward propagate image \"C\""
      ]
    },
    {
      "cell_type": "markdown",
      "metadata": {
        "id": "2ihsh_RUVyUy",
        "colab_type": "text"
      },
      "source": [
        "* Set the image C as the input to the pretrained VGG network, and run forward propagation.  \n",
        "* Let $a^{(C)}$ be the hidden layer activations in the layer you had chosen. (In lecture, we had written this as $a^{[l](C)}$, but here we'll drop the superscript $[l]$ to simplify the notation.) This will be an $n_H \\times n_W \\times n_C$ tensor."
      ]
    },
    {
      "cell_type": "markdown",
      "metadata": {
        "id": "gzOclLMbV0zP",
        "colab_type": "text"
      },
      "source": [
        "#### Forward propagate image \"G\""
      ]
    },
    {
      "cell_type": "markdown",
      "metadata": {
        "id": "lFB5klTFV2xY",
        "colab_type": "text"
      },
      "source": [
        "* Repeat this process with the image G: Set G as the input, and run forward progation. \n",
        "* Let $a^{(G)}$ be the corresponding hidden layer activation. "
      ]
    },
    {
      "cell_type": "markdown",
      "metadata": {
        "id": "I5sugLaWV4yk",
        "colab_type": "text"
      },
      "source": [
        "#### Content Cost Function $J_{content}(C,G)$"
      ]
    },
    {
      "cell_type": "markdown",
      "metadata": {
        "id": "u6jjXZsYV7Hl",
        "colab_type": "text"
      },
      "source": [
        "We will define the content cost function as:\n",
        "\n",
        "$$J_{content}(C,G) =  \\frac{1}{4 \\times n_H \\times n_W \\times n_C}\\sum _{ \\text{all entries}} (a^{(C)} - a^{(G)})^2\\tag{1} $$\n",
        "\n",
        "* Here, $n_H, n_W$ and $n_C$ are the height, width and number of channels of the hidden layer you have chosen, and appear in a normalization term in the cost. \n",
        "* For clarity, note that $a^{(C)}$ and $a^{(G)}$ are the 3D volumes corresponding to a hidden layer's activations. \n",
        "* In order to compute the cost $J_{content}(C,G)$, it might also be convenient to unroll these 3D volumes into a 2D matrix, as shown below.\n",
        "* Technically this unrolling step isn't needed to compute $J_{content}$, but it will be good practice for when you do need to carry out a similar operation later for computing the style cost $J_{style}$.\n",
        "\n",
        "<img src='https://github.com/rahiakela/img-repo/blob/master/deep-learning-specialization/NST_LOSS.png?raw=1' width='800'/>"
      ]
    },
    {
      "cell_type": "markdown",
      "metadata": {
        "id": "JALLRW0zWHoP",
        "colab_type": "text"
      },
      "source": [
        "**Exercise:** Compute the \"content cost\" using TensorFlow. \n",
        "\n",
        "**Instructions**: The 3 steps to implement this function are:\n",
        "1. Retrieve dimensions from `a_G`: \n",
        "    - To retrieve dimensions from a tensor `X`, use: `X.get_shape().as_list()`\n",
        "2. Unroll `a_C` and `a_G` as explained in the picture above\n",
        "    - You'll likey want to use these functions: [tf.transpose](https://www.tensorflow.org/versions/r1.15/api_docs/python/tf/transpose) and [tf.reshape](https://www.tensorflow.org/versions/r1.15/api_docs/python/tf/reshape).\n",
        "3. Compute the content cost:\n",
        "    - You'll likely want to use these functions: [tf.reduce_sum](https://www.tensorflow.org/api_docs/python/tf/reduce_sum), [tf.square](https://www.tensorflow.org/api_docs/python/tf/square) and [tf.subtract](https://www.tensorflow.org/api_docs/python/tf/subtract)."
      ]
    },
    {
      "cell_type": "markdown",
      "metadata": {
        "id": "i3Z9nA3iWMei",
        "colab_type": "text"
      },
      "source": [
        "#### Additional Hints for \"Unrolling\""
      ]
    },
    {
      "cell_type": "markdown",
      "metadata": {
        "id": "Lk1pzFdyWOpE",
        "colab_type": "text"
      },
      "source": [
        "* To unroll the tensor, we want the shape to change from $(m,n_H,n_W,n_C)$ to $(m, n_H \\times n_W, n_C)$.\n",
        "* `tf.reshape(tensor, shape)` takes a list of integers that represent the desired output shape.\n",
        "* For the `shape` parameter, a `-1` tells the function to choose the correct dimension size so that the output tensor still contains all the values of the original tensor.\n",
        "* So tf.reshape(a_C, shape=[m, n_H * n_W, n_C]) gives the same result as tf.reshape(a_C, shape=[m, -1, n_C]).\n",
        "* If you prefer to re-order the dimensions, you can use `tf.transpose(tensor, perm)`, where `perm` is a list of integers containing the original index of the dimensions. \n",
        "* For example, `tf.transpose(a_C, perm=[0,3,1,2])` changes the dimensions from $(m, n_H, n_W, n_C)$ to $(m, n_C, n_H, n_W)$.\n",
        "* There is more than one way to unroll the tensors.\n",
        "* Notice that it's not necessary to use tf.transpose to 'unroll' the tensors in this case but this is a useful function to practice and understand for other situations that you'll encounter."
      ]
    },
    {
      "cell_type": "code",
      "metadata": {
        "id": "xq3IsheNWRhc",
        "colab_type": "code",
        "colab": {}
      },
      "source": [
        "# FUNCTION: compute_content_cost\n",
        "def compute_content_cost(a_C, a_G):\n",
        "  '''\n",
        "  Computes the content cost\n",
        "    \n",
        "  Arguments:\n",
        "  a_C -- tensor of dimension (1, n_H, n_W, n_C), hidden layer activations representing content of the image C \n",
        "  a_G -- tensor of dimension (1, n_H, n_W, n_C), hidden layer activations representing content of the image G\n",
        "  \n",
        "  Returns: \n",
        "  J_content -- scalar that you compute using equation 1 above.\n",
        "  '''\n",
        "\n",
        "  ### START CODE HERE ###\n",
        "  # Retrieve dimensions from a_G (≈1 line)\n",
        "  m, n_H, n_W, n_C = a_G.get_shape().as_list()\n",
        "  \n",
        "  # Reshape a_C and a_G (≈2 lines)\n",
        "  a_C_unrolled = tf.reshape(a_C, shape=[m, n_H, n_W, n_C])\n",
        "  a_G_unrolled = tf.reshape(a_G, shape=[m, n_H, n_W, n_C])\n",
        "  \n",
        "  # compute the cost with tensorflow (≈1 line)\n",
        "  J_content = 1 / (4 * n_H * n_W * n_C) * tf.reduce_sum(tf.square(tf.substract(a_C_unrolled, a_G_unrolled)))\n",
        "  ### END CODE HERE ###\n",
        "  \n",
        "  return J_content"
      ],
      "execution_count": 0,
      "outputs": []
    },
    {
      "cell_type": "code",
      "metadata": {
        "id": "dZ-U41WVWl3X",
        "colab_type": "code",
        "colab": {}
      },
      "source": [
        "tf.reset_default_graph()\n",
        "\n",
        "with tf.Session() as sess:\n",
        "  tf.set_random_seed(1)\n",
        "  a_C = tf.random_normal([1, 4, 4, 3], mean=1, stddev=4)\n",
        "  a_G = tf.random_normal([1, 4, 4, 3], mean=1, stddev=4)\n",
        "  J_content = compute_content_cost(a_C, a_G)\n",
        "  print(f'J_content = {str(J_content.eval())}')"
      ],
      "execution_count": 0,
      "outputs": []
    },
    {
      "cell_type": "markdown",
      "metadata": {
        "id": "Ook4z5bYWhhk",
        "colab_type": "text"
      },
      "source": [
        "**Expected Output**:\n",
        "\n",
        "<table>\n",
        "    <tr>\n",
        "        <td>\n",
        "            **J_content**\n",
        "        </td>\n",
        "        <td>\n",
        "           6.76559\n",
        "        </td>\n",
        "    </tr>\n",
        "</table>"
      ]
    },
    {
      "cell_type": "markdown",
      "metadata": {
        "id": "cQRNhXK7Wt1e",
        "colab_type": "text"
      },
      "source": [
        "#### What you should remember\n",
        "- The content cost takes a hidden layer activation of the neural network, and measures how different $a^{(C)}$ and $a^{(G)}$ are. \n",
        "- When we minimize the content cost later, this will help make sure $G$ has similar content as $C$."
      ]
    },
    {
      "cell_type": "markdown",
      "metadata": {
        "id": "zonfn9lYWuZc",
        "colab_type": "text"
      },
      "source": [
        "### 3.2 - Computing the style cost"
      ]
    },
    {
      "cell_type": "markdown",
      "metadata": {
        "id": "r8PkSN6MWxIB",
        "colab_type": "text"
      },
      "source": [
        "For our running example, we will use the following style image: "
      ]
    },
    {
      "cell_type": "code",
      "metadata": {
        "id": "gnkXbWzUWz1O",
        "colab_type": "code",
        "colab": {}
      },
      "source": [
        "style_image = scipy.misc.imread(\"images/monet_800600.jpg\")\n",
        "imshow(style_image);"
      ],
      "execution_count": 0,
      "outputs": []
    },
    {
      "cell_type": "markdown",
      "metadata": {
        "id": "aTLBS-sydVIB",
        "colab_type": "text"
      },
      "source": [
        "This was painted in the style of *[impressionism](https://en.wikipedia.org/wiki/Impressionism)*.\n",
        "\n",
        "Lets see how you can now define a \"style\" cost function $J_{style}(S,G)$. "
      ]
    },
    {
      "cell_type": "markdown",
      "metadata": {
        "id": "gJsuKr6QdX2M",
        "colab_type": "text"
      },
      "source": [
        "### 3.2.1 - Style matrix"
      ]
    },
    {
      "cell_type": "markdown",
      "metadata": {
        "id": "aN8ZypqmdaSZ",
        "colab_type": "text"
      },
      "source": [
        "#### Gram matrix"
      ]
    },
    {
      "cell_type": "markdown",
      "metadata": {
        "id": "t2ZPt5rGdcCi",
        "colab_type": "text"
      },
      "source": [
        "* The style matrix is also called a \"Gram matrix.\" \n",
        "* In linear algebra, the Gram matrix G of a set of vectors $(v_{1},\\dots ,v_{n})$ is the matrix of dot products, whose entries are ${\\displaystyle G_{ij} = v_{i}^T v_{j} = np.dot(v_{i}, v_{j})  }$. \n",
        "* In other words, $G_{ij}$ compares how similar $v_i$ is to $v_j$: If they are highly similar, you would expect them to have a large dot product, and thus for $G_{ij}$ to be large. "
      ]
    },
    {
      "cell_type": "markdown",
      "metadata": {
        "id": "HIz7w5XQdd0b",
        "colab_type": "text"
      },
      "source": [
        "#### Two meanings of the variable $G$"
      ]
    },
    {
      "cell_type": "markdown",
      "metadata": {
        "id": "JQzxUXHadfxq",
        "colab_type": "text"
      },
      "source": [
        "* Note that there is an unfortunate collision in the variable names used here. We are following common terminology used in the literature. \n",
        "* $G$ is used to denote the Style matrix (or Gram matrix) \n",
        "* $G$ also denotes the generated image. \n",
        "* For this assignment, we will use $G_{gram}$ to refer to the Gram matrix, and $G$ to denote the generated image."
      ]
    },
    {
      "cell_type": "markdown",
      "metadata": {
        "id": "SMXVcFiIdiO8",
        "colab_type": "text"
      },
      "source": [
        "#### Compute $G_{gram}$"
      ]
    },
    {
      "cell_type": "markdown",
      "metadata": {
        "id": "ywmLrpXZdm5p",
        "colab_type": "text"
      },
      "source": [
        "In Neural Style Transfer (NST), you can compute the Style matrix by multiplying the \"unrolled\" filter matrix with its transpose:\n",
        "\n",
        "<img src='https://github.com/rahiakela/img-repo/blob/master/deep-learning-specialization/NST_GM.png?raw=1' width='800'/>\n",
        "\n",
        "$$\\mathbf{G}_{gram} = \\mathbf{A}_{unrolled} \\mathbf{A}_{unrolled}^T$$"
      ]
    },
    {
      "cell_type": "markdown",
      "metadata": {
        "id": "mYTfF1yPdu49",
        "colab_type": "text"
      },
      "source": [
        "#### $G_{(gram)i,j}$: correlation"
      ]
    },
    {
      "cell_type": "markdown",
      "metadata": {
        "id": "0Yr4nRUJdw86",
        "colab_type": "text"
      },
      "source": [
        "The result is a matrix of dimension $(n_C,n_C)$ where $n_C$ is the number of filters (channels). The value $G_{(gram)i,j}$ measures how similar the activations of filter $i$ are to the activations of filter $j$."
      ]
    },
    {
      "cell_type": "markdown",
      "metadata": {
        "id": "8qaywqp9dyuY",
        "colab_type": "text"
      },
      "source": [
        "#### $G_{(gram),i,i}$: prevalence of patterns or textures"
      ]
    },
    {
      "cell_type": "markdown",
      "metadata": {
        "id": "haGpmQJud0s0",
        "colab_type": "text"
      },
      "source": [
        "* The diagonal elements $G_{(gram)ii}$ measure how \"active\" a filter $i$ is. \n",
        "* For example, suppose filter $i$ is detecting vertical textures in the image. Then $G_{(gram)ii}$ measures how common  vertical textures are in the image as a whole.\n",
        "* If $G_{(gram)ii}$ is large, this means that the image has a lot of vertical texture. \n",
        "\n",
        "\n",
        "By capturing the prevalence of different types of features ($G_{(gram)ii}$), as well as how much different features occur together ($G_{(gram)ij}$), the Style matrix $G_{gram}$ measures the style of an image. "
      ]
    },
    {
      "cell_type": "markdown",
      "metadata": {
        "id": "0aAnjujXd2pG",
        "colab_type": "text"
      },
      "source": [
        "**Exercise**:\n",
        "* Using TensorFlow, implement a function that computes the Gram matrix of a matrix A. \n",
        "* The formula is: The gram matrix of A is $G_A = AA^T$. \n",
        "* You may use these functions: [matmul](https://www.tensorflow.org/api_docs/python/tf/matmul) and [transpose](https://www.tensorflow.org/api_docs/python/tf/transpose)."
      ]
    },
    {
      "cell_type": "code",
      "metadata": {
        "id": "bVA3WCf5d5cD",
        "colab_type": "code",
        "colab": {}
      },
      "source": [
        "# FUNCTION: gram_matrix\n",
        "def gram_matrix(A):\n",
        "    \"\"\"\n",
        "    Argument:\n",
        "    A -- matrix of shape (n_C, n_H*n_W)\n",
        "    \n",
        "    Returns:\n",
        "    GA -- Gram matrix of A, of shape (n_C, n_C)\n",
        "    \"\"\"\n",
        "    \n",
        "    ### START CODE HERE ### (≈1 line)\n",
        "    GA = tf.matmul(A, tf.transpose(A))\n",
        "    ### END CODE HERE ###\n",
        "    \n",
        "    return GA"
      ],
      "execution_count": 0,
      "outputs": []
    },
    {
      "cell_type": "code",
      "metadata": {
        "id": "l7z1O-lKd_YH",
        "colab_type": "code",
        "colab": {}
      },
      "source": [
        "tf.reset_default_graph()\n",
        "\n",
        "with tf.Session() as test:\n",
        "    tf.set_random_seed(1)\n",
        "    A = tf.random_normal([3, 2*1], mean=1, stddev=4)\n",
        "    GA = gram_matrix(A)\n",
        "    \n",
        "    print(f'GA = \\n{str(GA.eval())}')"
      ],
      "execution_count": 0,
      "outputs": []
    },
    {
      "cell_type": "markdown",
      "metadata": {
        "id": "bPPfhsEueHDk",
        "colab_type": "text"
      },
      "source": [
        "**Expected Output**:\n",
        "\n",
        "<table>\n",
        "    <tr>\n",
        "        <td>\n",
        "            **GA**\n",
        "        </td>\n",
        "        <td>\n",
        "           [[  6.42230511  -4.42912197  -2.09668207] <br>\n",
        " [ -4.42912197  19.46583748  19.56387138] <br>\n",
        " [ -2.09668207  19.56387138  20.6864624 ]]\n",
        "        </td>\n",
        "    </tr>\n",
        "\n",
        "</table>"
      ]
    },
    {
      "cell_type": "markdown",
      "metadata": {
        "id": "N5YxZNB_eJoy",
        "colab_type": "text"
      },
      "source": [
        "### 3.2.2 - Style cost"
      ]
    },
    {
      "cell_type": "markdown",
      "metadata": {
        "id": "T_q7Vu4CeONZ",
        "colab_type": "text"
      },
      "source": [
        "Your goal will be to minimize the distance between the Gram matrix of the \"style\" image S and the gram matrix of the \"generated\" image G. \n",
        "* For now, we are using only a single hidden layer $a^{[l]}$.  \n",
        "* The corresponding style cost for this layer is defined as: \n",
        "\n",
        "$$J_{style}^{[l]}(S,G) = \\frac{1}{4 \\times {n_C}^2 \\times (n_H \\times n_W)^2} \\sum _{i=1}^{n_C}\\sum_{j=1}^{n_C}(G^{(S)}_{(gram)i,j} - G^{(G)}_{(gram)i,j})^2\\tag{2} $$\n",
        "\n",
        "* $G_{gram}^{(S)}$ Gram matrix of the \"style\" image.\n",
        "* $G_{gram}^{(G)}$ Gram matrix of the \"generated\" image.\n",
        "* Remember, this cost is computed using the hidden layer activations for a particular hidden layer in the network $a^{[l]}$\n"
      ]
    },
    {
      "cell_type": "markdown",
      "metadata": {
        "id": "84AQFNikeQEG",
        "colab_type": "text"
      },
      "source": [
        "**Exercise**: Compute the style cost for a single layer. \n",
        "\n",
        "**Instructions**: The 3 steps to implement this function are:\n",
        "1. Retrieve dimensions from the hidden layer activations a_G: \n",
        "    - To retrieve dimensions from a tensor X, use: `X.get_shape().as_list()`\n",
        "2. Unroll the hidden layer activations a_S and a_G into 2D matrices, as explained in the picture above (see the images in the sections \"computing the content cost\" and \"style matrix\").\n",
        "    - You may use [tf.transpose](https://www.tensorflow.org/versions/r1.15/api_docs/python/tf/transpose) and [tf.reshape](https://www.tensorflow.org/versions/r1.15/api_docs/python/tf/reshape).\n",
        "3. Compute the Style matrix of the images S and G. (Use the function you had previously written.) \n",
        "4. Compute the Style cost:\n",
        "    - You may find [tf.reduce_sum](https://www.tensorflow.org/api_docs/python/tf/reduce_sum), [tf.square](https://www.tensorflow.org/api_docs/python/tf/square) and [tf.subtract](https://www.tensorflow.org/api_docs/python/tf/subtract) useful."
      ]
    },
    {
      "cell_type": "markdown",
      "metadata": {
        "id": "AbIR0R1seTR1",
        "colab_type": "text"
      },
      "source": [
        "#### Additional Hints"
      ]
    },
    {
      "cell_type": "markdown",
      "metadata": {
        "id": "RwKbvpJheVp3",
        "colab_type": "text"
      },
      "source": [
        "* Since the activation dimensions are $(m, n_H, n_W, n_C)$ whereas the desired unrolled matrix shape is $(n_C, n_H*n_W)$, the order of the filter dimension $n_C$ is changed.  So `tf.transpose` can be used to change the order of the filter dimension.\n",
        "* for the product $\\mathbf{G}_{gram} = \\mathbf{A}_{} \\mathbf{A}_{}^T$, you will also need to specify the `perm` parameter for the `tf.transpose` function."
      ]
    },
    {
      "cell_type": "code",
      "metadata": {
        "id": "uTwVSBk5eaJr",
        "colab_type": "code",
        "colab": {}
      },
      "source": [
        "# GRADED FUNCTION: compute_layer_style_cost\n",
        "\n",
        "def compute_layer_style_cost(a_S, a_G):\n",
        "    \"\"\"\n",
        "    Arguments:\n",
        "    a_S -- tensor of dimension (1, n_H, n_W, n_C), hidden layer activations representing style of the image S \n",
        "    a_G -- tensor of dimension (1, n_H, n_W, n_C), hidden layer activations representing style of the image G\n",
        "    \n",
        "    Returns: \n",
        "    J_style_layer -- tensor representing a scalar value, style cost defined above by equation (2)\n",
        "    \"\"\"\n",
        "    \n",
        "    ### START CODE HERE ###\n",
        "    # Retrieve dimensions from a_G (≈1 line)\n",
        "    m, n_H, n_W, n_C = a_G.get_shape().as_list()\n",
        "    \n",
        "    # Reshape the images to have them of shape (n_C, n_H*n_W) (≈2 lines)\n",
        "    a_S = tf.reshape(a_S, shape=[n_H * n_W, n_C])\n",
        "    a_G = tf.reshape(a_G, shape=[n_H * n_W, n_C])\n",
        "\n",
        "    # Computing gram_matrices for both images S and G (≈2 lines)\n",
        "    GS = gram_matrix(tf.transpose(a_S))\n",
        "    GG = gram_matrix(tf.transpose(a_G))\n",
        "\n",
        "    # Computing the loss (≈1 line)\n",
        "    J_style_layer = tf.reduce_sum(tf.subtract(GS, GG) ** 2) / (4 * n_C ** 2 * (n_H * n_W) ** 2)\n",
        "    \n",
        "    ### END CODE HERE ###\n",
        "    \n",
        "    return J_style_layer"
      ],
      "execution_count": 0,
      "outputs": []
    },
    {
      "cell_type": "code",
      "metadata": {
        "id": "o2ZDRHV0rRlU",
        "colab_type": "code",
        "colab": {}
      },
      "source": [
        "tf.reset_default_graph()\n",
        "\n",
        "with tf.Session() as test:\n",
        "    tf.set_random_seed(1)\n",
        "    a_S = tf.random_normal([1, 4, 4, 3], mean=1, stddev=4)\n",
        "    a_G = tf.random_normal([1, 4, 4, 3], mean=1, stddev=4)\n",
        "    J_style_layer = compute_layer_style_cost(a_S, a_G)\n",
        "    \n",
        "    print(f\"J_style_layer = {str(J_style_layer.eval())}\")"
      ],
      "execution_count": 0,
      "outputs": []
    },
    {
      "cell_type": "markdown",
      "metadata": {
        "id": "PrLawk_6eXrf",
        "colab_type": "text"
      },
      "source": [
        "**Expected Output**:\n",
        "\n",
        "<table>\n",
        "    <tr>\n",
        "        <td>\n",
        "            **J_style_layer**\n",
        "        </td>\n",
        "        <td>\n",
        "           9.19028\n",
        "        </td>\n",
        "    </tr>\n",
        "\n",
        "</table>"
      ]
    },
    {
      "cell_type": "markdown",
      "metadata": {
        "id": "FbjLUqifrb2B",
        "colab_type": "text"
      },
      "source": [
        "### 3.2.3 Style Weights"
      ]
    },
    {
      "cell_type": "markdown",
      "metadata": {
        "id": "yuC2y97TrfNE",
        "colab_type": "text"
      },
      "source": [
        "* So far you have captured the style from only one layer. \n",
        "* We'll get better results if we \"merge\" style costs from several different layers. \n",
        "* Each layer will be given weights ($\\lambda^{[l]}$) that reflect how much each layer will contribute to the style.\n",
        "* After completing this exercise, feel free to come back and experiment with different weights to see how it changes the generated image $G$.\n",
        "* By default, we'll give each layer equal weight, and the weights add up to 1.  ($\\sum_{l}^L\\lambda^{[l]} = 1$)"
      ]
    },
    {
      "cell_type": "code",
      "metadata": {
        "id": "-q4A2I58rij9",
        "colab_type": "code",
        "colab": {}
      },
      "source": [
        "STYLE_LAYERS = [\n",
        "  ('conv1_1', 0.2),\n",
        "  ('conv2_1', 0.2),\n",
        "  ('conv3_1', 0.2),\n",
        "  ('conv4_1', 0.2),\n",
        "  ('conv5_1', 0.2)             \n",
        "]"
      ],
      "execution_count": 0,
      "outputs": []
    },
    {
      "cell_type": "markdown",
      "metadata": {
        "id": "hWVKklxirhFr",
        "colab_type": "text"
      },
      "source": [
        "You can combine the style costs for different layers as follows:\n",
        "\n",
        "$$J_{style}(S,G) = \\sum_{l} \\lambda^{[l]} J^{[l]}_{style}(S,G)$$\n",
        "\n",
        "where the values for $\\lambda^{[l]}$ are given in `STYLE_LAYERS`. \n"
      ]
    },
    {
      "cell_type": "markdown",
      "metadata": {
        "id": "zY9OIWgrsB3D",
        "colab_type": "text"
      },
      "source": [
        "### Exercise: compute style cost"
      ]
    },
    {
      "cell_type": "markdown",
      "metadata": {
        "id": "RX5vO1C1sEle",
        "colab_type": "text"
      },
      "source": [
        "* We've implemented a compute_style_cost(...) function. \n",
        "* It calls your `compute_layer_style_cost(...)` several times, and weights their results using the values in `STYLE_LAYERS`. \n",
        "* Please read over it to make sure you understand what it's doing. "
      ]
    },
    {
      "cell_type": "markdown",
      "metadata": {
        "id": "MqvUlaB7sGoL",
        "colab_type": "text"
      },
      "source": [
        "#### Description of `compute_style_cost`"
      ]
    },
    {
      "cell_type": "markdown",
      "metadata": {
        "id": "BsWLKTHJsI7Y",
        "colab_type": "text"
      },
      "source": [
        "For each layer:\n",
        "* Select the activation (the output tensor) of the current layer.\n",
        "* Get the style of the style image \"S\" from the current layer.\n",
        "* Get the style of the generated image \"G\" from the current layer.\n",
        "* Compute the \"style cost\" for the current layer\n",
        "* Add the weighted style cost to the overall style cost (J_style)\n",
        "\n",
        "Once you're done with the loop:  \n",
        "* Return the overall style cost."
      ]
    },
    {
      "cell_type": "markdown",
      "metadata": {
        "id": "QziAx8kes_BN",
        "colab_type": "text"
      },
      "source": [
        "**Note**: In the inner-loop of the for-loop above, `a_G` is a tensor and hasn't been evaluated yet. It will be evaluated and updated at each iteration when we run the TensorFlow graph in model_nn() below.\n",
        "\n",
        "<!-- \n",
        "How do you choose the coefficients for each layer? The deeper layers capture higher-level concepts, and the features in the deeper layers are less localized in the image relative to each other. So if you want the generated image to softly follow the style image, try choosing larger weights for deeper layers and smaller weights for the first layers. In contrast, if you want the generated image to strongly follow the style image, try choosing smaller weights for deeper layers and larger weights for the first layers\n",
        "!-->"
      ]
    },
    {
      "cell_type": "markdown",
      "metadata": {
        "id": "Ii9aDDBSs_m3",
        "colab_type": "text"
      },
      "source": [
        "## What you should remember"
      ]
    },
    {
      "cell_type": "markdown",
      "metadata": {
        "id": "d4-hCq0JtB3M",
        "colab_type": "text"
      },
      "source": [
        "- The style of an image can be represented using the Gram matrix of a hidden layer's activations. \n",
        "- We get even better results by combining this representation from multiple different layers. \n",
        "- This is in contrast to the content representation, where usually using just a single hidden layer is sufficient.\n",
        "- Minimizing the style cost will cause the image $G$ to follow the style of the image $S$. "
      ]
    },
    {
      "cell_type": "markdown",
      "metadata": {
        "id": "O3qY7i00tErT",
        "colab_type": "text"
      },
      "source": [
        "### 3.3 - Defining the total cost to optimize"
      ]
    },
    {
      "cell_type": "markdown",
      "metadata": {
        "id": "RQHof1Jltg47",
        "colab_type": "text"
      },
      "source": [
        "Finally, let's create a cost function that minimizes both the style and the content cost. The formula is: \n",
        "\n",
        "$$J(G) = \\alpha J_{content}(C,G) + \\beta J_{style}(S,G)$$\n",
        "\n",
        "**Exercise**: Implement the total cost function which includes both the content cost and the style cost. "
      ]
    },
    {
      "cell_type": "code",
      "metadata": {
        "id": "QdZ1KRFisLRq",
        "colab_type": "code",
        "colab": {}
      },
      "source": [
        "# FUNCTION: total_cost\n",
        "\n",
        "def total_cost(J_content, J_style, alpha = 10, beta = 40):\n",
        "    \"\"\"\n",
        "    Computes the total cost function\n",
        "    \n",
        "    Arguments:\n",
        "    J_content -- content cost coded above\n",
        "    J_style -- style cost coded above\n",
        "    alpha -- hyperparameter weighting the importance of the content cost\n",
        "    beta -- hyperparameter weighting the importance of the style cost\n",
        "    \n",
        "    Returns:\n",
        "    J -- total cost as defined by the formula above.\n",
        "    \"\"\"\n",
        "    \n",
        "    ### START CODE HERE ### (≈1 line)\n",
        "    J = np.dot(alpha, J_content) + np.dot(beta, J_style)\n",
        "    ### END CODE HERE ###\n",
        "    \n",
        "    return J"
      ],
      "execution_count": 0,
      "outputs": []
    },
    {
      "cell_type": "code",
      "metadata": {
        "id": "z_vAlx4WuPBk",
        "colab_type": "code",
        "colab": {}
      },
      "source": [
        "tf.reset_default_graph()\n",
        "\n",
        "with tf.Session() as test:\n",
        "    np.random.seed(3)\n",
        "    J_content = np.random.randn()    \n",
        "    J_style = np.random.randn()\n",
        "    J = total_cost(J_content, J_style)\n",
        "    print(f\"J = { str(J)}\")"
      ],
      "execution_count": 0,
      "outputs": []
    },
    {
      "cell_type": "markdown",
      "metadata": {
        "id": "yo_SmDf2uURq",
        "colab_type": "text"
      },
      "source": [
        "**Expected Output**:\n",
        "\n",
        "<table>\n",
        "    <tr>\n",
        "        <td>\n",
        "            **J**\n",
        "        </td>\n",
        "        <td>\n",
        "           35.34667875478276\n",
        "        </td>\n",
        "    </tr>\n",
        "\n",
        "</table>"
      ]
    },
    {
      "cell_type": "markdown",
      "metadata": {
        "id": "FYlpIB37uIPn",
        "colab_type": "text"
      },
      "source": [
        "## What you should remember"
      ]
    },
    {
      "cell_type": "markdown",
      "metadata": {
        "id": "-kU2uUecuJDz",
        "colab_type": "text"
      },
      "source": [
        "- The total cost is a linear combination of the content cost $J_{content}(C,G)$ and the style cost $J_{style}(S,G)$.\n",
        "- $\\alpha$ and $\\beta$ are hyperparameters that control the relative weighting between content and style."
      ]
    },
    {
      "cell_type": "markdown",
      "metadata": {
        "id": "QIKIjzZ9uYO5",
        "colab_type": "text"
      },
      "source": [
        "## 4 - Solving the optimization problem"
      ]
    },
    {
      "cell_type": "markdown",
      "metadata": {
        "id": "hWzGfDCtubNB",
        "colab_type": "text"
      },
      "source": [
        "Finally, let's put everything together to implement Neural Style Transfer!\n",
        "\n",
        "\n",
        "Here's what the program will have to do:\n",
        "\n",
        "1. Create an Interactive Session\n",
        "2. Load the content image \n",
        "3. Load the style image\n",
        "4. Randomly initialize the image to be generated \n",
        "5. Load the VGG19 model\n",
        "7. Build the TensorFlow graph:\n",
        "    - Run the content image through the VGG19 model and compute the content cost\n",
        "    - Run the style image through the VGG19 model and compute the style cost\n",
        "    - Compute the total cost\n",
        "    - Define the optimizer and the learning rate\n",
        "8. Initialize the TensorFlow graph and run it for a large number of iterations, updating the generated image at every step.\n",
        "\n",
        "Lets go through the individual steps in detail. "
      ]
    },
    {
      "cell_type": "markdown",
      "metadata": {
        "id": "_BYTYOQUutwc",
        "colab_type": "text"
      },
      "source": [
        "#### Interactive Sessions"
      ]
    },
    {
      "cell_type": "markdown",
      "metadata": {
        "id": "Ts-DP9gbuuRq",
        "colab_type": "text"
      },
      "source": [
        "You've previously implemented the overall cost $J(G)$. We'll now set up TensorFlow to optimize this with respect to $G$. \n",
        "* To do so, your program has to reset the graph and use an \"[Interactive Session](https://www.tensorflow.org/api_docs/python/tf/InteractiveSession)\". \n",
        "* Unlike a regular session, the \"Interactive Session\" installs itself as the default session to build a graph.  \n",
        "* This allows you to run variables without constantly needing to refer to the session object (calling \"sess.run()\"), which simplifies the code. "
      ]
    },
    {
      "cell_type": "markdown",
      "metadata": {
        "id": "d8-3IdeuuwQH",
        "colab_type": "text"
      },
      "source": [
        "#### Start the interactive session."
      ]
    },
    {
      "cell_type": "code",
      "metadata": {
        "id": "bAtROLAEvKoy",
        "colab_type": "code",
        "colab": {}
      },
      "source": [
        "# Reset the graph\n",
        "tf.reset_default_graph()\n",
        "\n",
        "# Start interactive session\n",
        "sess = tf.InteractiveSession()"
      ],
      "execution_count": 0,
      "outputs": []
    },
    {
      "cell_type": "markdown",
      "metadata": {
        "id": "BZzQUXUjuyBL",
        "colab_type": "text"
      },
      "source": [
        "#### Content image"
      ]
    },
    {
      "cell_type": "markdown",
      "metadata": {
        "id": "CCxNqd4xvNTR",
        "colab_type": "text"
      },
      "source": [
        "Let's load, reshape, and normalize our \"content\" image (the Louvre museum picture):"
      ]
    },
    {
      "cell_type": "code",
      "metadata": {
        "id": "lFqHoIjvvPD1",
        "colab_type": "code",
        "colab": {}
      },
      "source": [
        "content_image = scipy.misc.imread(\"images/louvre_small.jpg\")\n",
        "content_image = reshape_and_normalize_image(content_image)"
      ],
      "execution_count": 0,
      "outputs": []
    },
    {
      "cell_type": "markdown",
      "metadata": {
        "id": "IHtu0ThSvVaI",
        "colab_type": "text"
      },
      "source": [
        "#### Style image\n",
        "Let's load, reshape and normalize our \"style\" image (Claude Monet's painting):"
      ]
    },
    {
      "cell_type": "code",
      "metadata": {
        "id": "R5Fm-_GyvYKq",
        "colab_type": "code",
        "colab": {}
      },
      "source": [
        "style_image = scipy.misc.imread(\"images/monet.jpg\")\n",
        "style_image = reshape_and_normalize_image(style_image)"
      ],
      "execution_count": 0,
      "outputs": []
    },
    {
      "cell_type": "markdown",
      "metadata": {
        "id": "2NgfBz1_vdWS",
        "colab_type": "text"
      },
      "source": [
        "#### Generated image correlated with content image\n",
        "Now, we initialize the \"generated\" image as a noisy image created from the content_image.\n",
        "\n",
        "* The generated image is slightly correlated with the content image.\n",
        "* By initializing the pixels of the generated image to be mostly noise but slightly correlated with the content image, this will help the content of the \"generated\" image more rapidly match the content of the \"content\" image. \n",
        "* Feel free to look in `nst_utils.py` to see the details of `generate_noise_image(...)`; to do so, click \"File-->Open...\" at the upper-left corner of this Jupyter notebook."
      ]
    },
    {
      "cell_type": "code",
      "metadata": {
        "id": "vL8dtEuMvhlR",
        "colab_type": "code",
        "colab": {}
      },
      "source": [
        "generated_image = generate_noise_image(content_image)\n",
        "imshow(generated_image[0]);"
      ],
      "execution_count": 0,
      "outputs": []
    },
    {
      "cell_type": "markdown",
      "metadata": {
        "id": "4--obHN7v1cm",
        "colab_type": "text"
      },
      "source": [
        "#### Load pre-trained VGG19 model\n",
        "Next, as explained in part (2), let's load the VGG19 model."
      ]
    },
    {
      "cell_type": "code",
      "metadata": {
        "id": "rf7M_Kfbv3_n",
        "colab_type": "code",
        "colab": {}
      },
      "source": [
        "model = load_vgg_model(\"pretrained-model/imagenet-vgg-verydeep-19.mat\")"
      ],
      "execution_count": 0,
      "outputs": []
    },
    {
      "cell_type": "markdown",
      "metadata": {
        "id": "szATQzxCv8oI",
        "colab_type": "text"
      },
      "source": [
        "#### Content Cost"
      ]
    },
    {
      "cell_type": "markdown",
      "metadata": {
        "id": "gqCvSSvjwA8k",
        "colab_type": "text"
      },
      "source": [
        "To get the program to compute the content cost, we will now assign `a_C` and `a_G` to be the appropriate hidden layer activations. We will use layer `conv4_2` to compute the content cost. The code below does the following:\n",
        "\n",
        "1. Assign the content image to be the input to the VGG model.\n",
        "2. Set a_C to be the tensor giving the hidden layer activation for layer \"conv4_2\".\n",
        "3. Set a_G to be the tensor giving the hidden layer activation for the same layer. \n",
        "4. Compute the content cost using a_C and a_G.\n",
        "\n",
        "**Note**: At this point, a_G is a tensor and hasn't been evaluated. It will be evaluated and updated at each iteration when we run the Tensorflow graph in model_nn() below."
      ]
    },
    {
      "cell_type": "code",
      "metadata": {
        "id": "PKve1AonwDbJ",
        "colab_type": "code",
        "colab": {}
      },
      "source": [
        "# Assign the content image to be the input of the VGG model.  \n",
        "sess.run(model['input'].assign(content_image))\n",
        "\n",
        "# Select the output tensor of layer conv4_2\n",
        "out = model['conv4_2']\n",
        "\n",
        "# Set a_C to be the hidden layer activation from the layer we have selected\n",
        "a_C = sess.run(out)\n",
        "\n",
        "# Set a_G to be the hidden layer activation from same layer. Here, a_G references model['conv4_2'] \n",
        "# and isn't evaluated yet. Later in the code, we'll assign the image G as the model input, so that\n",
        "# when we run the session, this will be the activations drawn from the appropriate layer, with G as input.\n",
        "a_G = out\n",
        "\n",
        "# Compute the content cost\n",
        "J_content = compute_content_cost(a_C, a_G)"
      ],
      "execution_count": 0,
      "outputs": []
    },
    {
      "cell_type": "markdown",
      "metadata": {
        "id": "86yrMwhYwVDG",
        "colab_type": "text"
      },
      "source": [
        "#### Style cost"
      ]
    },
    {
      "cell_type": "code",
      "metadata": {
        "id": "ugdk4U-1wVsm",
        "colab_type": "code",
        "colab": {}
      },
      "source": [
        "# Assign the input of the model to be the \"style\" image \n",
        "sess.run(model['input'].assign(style_image))\n",
        "\n",
        "# Compute the style cost\n",
        "J_style = compute_style_cost(model, STYLE_LAYERS)"
      ],
      "execution_count": 0,
      "outputs": []
    },
    {
      "cell_type": "markdown",
      "metadata": {
        "id": "iPzhmIhUwagH",
        "colab_type": "text"
      },
      "source": [
        "### Exercise: total cost\n",
        "* Now that you have J_content and J_style, compute the total cost J by calling `total_cost()`. \n",
        "* Use `alpha = 10` and `beta = 40`."
      ]
    },
    {
      "cell_type": "code",
      "metadata": {
        "id": "X-wXMzhWwflR",
        "colab_type": "code",
        "colab": {}
      },
      "source": [
        "### START CODE HERE ### (1 line)\n",
        "J = total_cost(J_content, J_style, alpha=10, beta=40)\n",
        "### END CODE HERE ###"
      ],
      "execution_count": 0,
      "outputs": []
    },
    {
      "cell_type": "markdown",
      "metadata": {
        "id": "2u5qpCmiw3j_",
        "colab_type": "text"
      },
      "source": [
        "### Optimizer\n",
        "\n",
        "* Use the Adam optimizer to minimize the total cost `J`.\n",
        "* Use a learning rate of 2.0.  \n",
        "* [Adam Optimizer documentation](https://www.tensorflow.org/api_docs/python/tf/train/AdamOptimizer)"
      ]
    },
    {
      "cell_type": "code",
      "metadata": {
        "id": "P4dKQ6Isw5Hl",
        "colab_type": "code",
        "colab": {}
      },
      "source": [
        "# define optimizer (1 line)\n",
        "optimizer = tf.train.AdamOptimizer(2.0)\n",
        "\n",
        "# define train_step (1 line)\n",
        "train_step = optimizer.minimize(J)"
      ],
      "execution_count": 0,
      "outputs": []
    },
    {
      "cell_type": "markdown",
      "metadata": {
        "id": "6EWD6ulew9xk",
        "colab_type": "text"
      },
      "source": [
        "### Exercise: implement the model"
      ]
    },
    {
      "cell_type": "markdown",
      "metadata": {
        "id": "CgR410RpxC7S",
        "colab_type": "text"
      },
      "source": [
        "* Implement the model_nn() function.  \n",
        "* The function **initializes** the variables of the tensorflow graph, \n",
        "* **assigns** the input image (initial generated image) as the input of the VGG19 model \n",
        "* and **runs** the `train_step` tensor (it was created in the code above this function) for a large number of steps.\n",
        "\n",
        "#### Hints\n",
        "* To initialize global variables, use this: \n",
        "```Python\n",
        "sess.run(tf.global_variables_initializer())\n",
        "```\n",
        "* Run `sess.run()` to evaluate a variable.\n",
        "* [assign](https://www.tensorflow.org/versions/r1.14/api_docs/python/tf/assign) can be used like this:\n",
        "```python\n",
        "model[\"input\"].assign(image)\n",
        "```"
      ]
    },
    {
      "cell_type": "code",
      "metadata": {
        "id": "qmVDTI2axFXW",
        "colab_type": "code",
        "colab": {}
      },
      "source": [
        "def model_nn(sess, input_image, num_iterations = 200):\n",
        "    \n",
        "    # Initialize global variables (you need to run the session on the initializer)\n",
        "    ### START CODE HERE ### (1 line)\n",
        "    sess.run(tf.global_variables_initializer())\n",
        "    ### END CODE HERE ###\n",
        "    \n",
        "    # Run the noisy input image (initial generated image) through the model. Use assign().\n",
        "    ### START CODE HERE ### (1 line)\n",
        "    sess.run(model['input'].assign(input_image))\n",
        "    ### END CODE HERE ###\n",
        "    \n",
        "    for i in range(num_iterations):\n",
        "    \n",
        "        # Run the session on the train_step to minimize the total cost\n",
        "        ### START CODE HERE ### (1 line)\n",
        "        _ = sess.run(train_step)\n",
        "        ### END CODE HERE ###\n",
        "        \n",
        "        # Compute the generated image by running the session on the current model['input']\n",
        "        ### START CODE HERE ### (1 line)\n",
        "        generated_image = sess.run(model['input'])\n",
        "        ### END CODE HERE ###\n",
        "\n",
        "        # Print every 20 iteration.\n",
        "        if i%20 == 0:\n",
        "            Jt, Jc, Js = sess.run([J, J_content, J_style])\n",
        "            print(\"Iteration \" + str(i) + \" :\")\n",
        "            print(\"total cost = \" + str(Jt))\n",
        "            print(\"content cost = \" + str(Jc))\n",
        "            print(\"style cost = \" + str(Js))\n",
        "            \n",
        "            # save current generated image in the \"/output\" directory\n",
        "            save_image(\"output/\" + str(i) + \".png\", generated_image)\n",
        "    \n",
        "    # save last generated image\n",
        "    save_image('output/generated_image.jpg', generated_image)\n",
        "    \n",
        "    return generated_image"
      ],
      "execution_count": 0,
      "outputs": []
    },
    {
      "cell_type": "markdown",
      "metadata": {
        "id": "Q_CpEDmYyOQ4",
        "colab_type": "text"
      },
      "source": [
        "Run the following cell to generate an artistic image. It should take about 3min on CPU for every 20 iterations but you start observing attractive results after ≈140 iterations. Neural Style Transfer is generally trained using GPUs."
      ]
    },
    {
      "cell_type": "code",
      "metadata": {
        "id": "yuI0NldOyQmF",
        "colab_type": "code",
        "colab": {}
      },
      "source": [
        "model_nn(sess, generated_image)"
      ],
      "execution_count": 0,
      "outputs": []
    },
    {
      "cell_type": "markdown",
      "metadata": {
        "id": "SeLfP_ZoyksY",
        "colab_type": "text"
      },
      "source": [
        "**Expected Output**:\n",
        "\n",
        "<table>\n",
        "    <tr>\n",
        "        <td>\n",
        "            **Iteration 0 : **\n",
        "        </td>\n",
        "        <td>\n",
        "           total cost = 5.05035e+09 <br>\n",
        "           content cost = 7877.67 <br>\n",
        "           style cost = 1.26257e+08\n",
        "        </td>\n",
        "    </tr>\n",
        "\n",
        "</table>"
      ]
    },
    {
      "cell_type": "markdown",
      "metadata": {
        "id": "DTk__nntyw-E",
        "colab_type": "text"
      },
      "source": [
        "You're done! After running this, in the upper bar of the notebook click on \"File\" and then \"Open\". Go to the \"/output\" directory to see all the saved images. Open \"generated_image\" to see the generated image! :)\n",
        "\n",
        "You should see something the image presented below on the right:\n",
        "\n",
        "<img src='https://github.com/rahiakela/img-repo/blob/master/deep-learning-specialization/louvre_generated.png?raw=1' width='800'/>\n",
        "\n",
        "We didn't want you to wait too long to see an initial result, and so had set the hyperparameters accordingly. To get the best looking results, running the optimization algorithm longer (and perhaps with a smaller learning rate) might work better. After completing and submitting this assignment, we encourage you to come back and play more with this notebook, and see if you can generate even better looking images. "
      ]
    },
    {
      "cell_type": "markdown",
      "metadata": {
        "id": "-m9ldLRizaQh",
        "colab_type": "text"
      },
      "source": [
        "Here are few other examples:\n",
        "\n",
        "- The beautiful ruins of the ancient city of Persepolis (Iran) with the style of Van Gogh (The Starry Night)\n",
        "<img src='https://github.com/rahiakela/img-repo/blob/master/deep-learning-specialization/perspolis_vangogh.png?raw=1' width='800'/>\n",
        "\n",
        "- The tomb of Cyrus the great in Pasargadae with the style of a Ceramic Kashi from Ispahan.\n",
        "<img src='https://github.com/rahiakela/img-repo/blob/master/deep-learning-specialization/pasargad_kashi.png?raw=1' width='800'/>\n",
        "\n",
        "- A scientific study of a turbulent fluid with the style of a abstract blue fluid painting.\n",
        "<img src='https://github.com/rahiakela/img-repo/blob/master/deep-learning-specialization/circle_abstract.png?raw=1' width='800'/>"
      ]
    },
    {
      "cell_type": "markdown",
      "metadata": {
        "id": "EV8wDlRxzqDW",
        "colab_type": "text"
      },
      "source": [
        "## 5 - Test with your own image (Optional/Ungraded)"
      ]
    },
    {
      "cell_type": "markdown",
      "metadata": {
        "id": "Em9oUHn_zwuE",
        "colab_type": "text"
      },
      "source": [
        "Finally, you can also rerun the algorithm on your own images! \n",
        "\n",
        "To do so, go back to part 4 and change the content image and style image with your own pictures. In detail, here's what you should do:\n",
        "\n",
        "1. Click on \"File -> Open\" in the upper tab of the notebook\n",
        "2. Go to \"/images\" and upload your images (requirement: (WIDTH = 300, HEIGHT = 225)), rename them \"my_content.png\" and \"my_style.png\" for example.\n",
        "3. Change the code in part (3.4) from :\n",
        "```python\n",
        "content_image = scipy.misc.imread(\"images/louvre.jpg\")\n",
        "style_image = scipy.misc.imread(\"images/claude-monet.jpg\")\n",
        "```\n",
        "to:\n",
        "```python\n",
        "content_image = scipy.misc.imread(\"images/my_content.jpg\")\n",
        "style_image = scipy.misc.imread(\"images/my_style.jpg\")\n",
        "```\n",
        "4. Rerun the cells (you may need to restart the Kernel in the upper tab of the notebook).\n",
        "\n",
        "You can share your generated images with us on social media with the hashtag #deeplearniNgAI or by direct tagging!\n",
        "\n",
        "You can also tune your hyperparameters: \n",
        "- Which layers are responsible for representing the style? STYLE_LAYERS\n",
        "- How many iterations do you want to run the algorithm? num_iterations\n",
        "- What is the relative weighting between content and style? alpha/beta"
      ]
    },
    {
      "cell_type": "markdown",
      "metadata": {
        "id": "hfBIPQOKz4NP",
        "colab_type": "text"
      },
      "source": [
        "## 6 - Conclusion"
      ]
    },
    {
      "cell_type": "markdown",
      "metadata": {
        "id": "UEmwcfGUz4ts",
        "colab_type": "text"
      },
      "source": [
        "Great job on completing this assignment! You are now able to use Neural Style Transfer to generate artistic images. This is also your first time building a model in which the optimization algorithm updates the pixel values rather than the neural network's parameters. Deep learning has many different types of models and this is only one of them! "
      ]
    },
    {
      "cell_type": "markdown",
      "metadata": {
        "id": "0K8mAM7oz7Xz",
        "colab_type": "text"
      },
      "source": [
        "## What you should remember"
      ]
    },
    {
      "cell_type": "markdown",
      "metadata": {
        "id": "Cmp5fR29z9D7",
        "colab_type": "text"
      },
      "source": [
        "- Neural Style Transfer is an algorithm that given a content image C and a style image S can generate an artistic image\n",
        "- It uses representations (hidden layer activations) based on a pretrained ConvNet. \n",
        "- The content cost function is computed using one hidden layer's activations.\n",
        "- The style cost function for one layer is computed using the Gram matrix of that layer's activations. The overall style cost function is obtained using several hidden layers.\n",
        "- Optimizing the total cost function results in synthesizing new images. "
      ]
    },
    {
      "cell_type": "markdown",
      "metadata": {
        "id": "6WlCZJ960DPP",
        "colab_type": "text"
      },
      "source": [
        "# Congratulations on finishing the course!\n",
        "This was the final programming exercise of this course. Congratulations--you've finished all the programming exercises of this course on Convolutional Networks! We hope to also see you in Course 5, on Sequence models! "
      ]
    },
    {
      "cell_type": "markdown",
      "metadata": {
        "id": "T5D9huAa0EgH",
        "colab_type": "text"
      },
      "source": [
        "### References:\n",
        "\n",
        "The Neural Style Transfer algorithm was due to Gatys et al. (2015). Harish Narayanan and Github user \"log0\" also have highly readable write-ups from which we drew inspiration. The pre-trained network used in this implementation is a VGG network, which is due to Simonyan and Zisserman (2015). Pre-trained weights were from the work of the MathConvNet team. \n",
        "\n",
        "- Leon A. Gatys, Alexander S. Ecker, Matthias Bethge, (2015). [A Neural Algorithm of Artistic Style](https://arxiv.org/abs/1508.06576) \n",
        "- Harish Narayanan, [Convolutional neural networks for artistic style transfer.](https://harishnarayanan.org/writing/artistic-style-transfer/)\n",
        "- Log0, [TensorFlow Implementation of \"A Neural Algorithm of Artistic Style\".](http://www.chioka.in/tensorflow-implementation-neural-algorithm-of-artistic-style)\n",
        "- Karen Simonyan and Andrew Zisserman (2015). [Very deep convolutional networks for large-scale image recognition](https://arxiv.org/pdf/1409.1556.pdf)\n",
        "- [MatConvNet.](http://www.vlfeat.org/matconvnet/pretrained/)\n"
      ]
    }
  ]
}