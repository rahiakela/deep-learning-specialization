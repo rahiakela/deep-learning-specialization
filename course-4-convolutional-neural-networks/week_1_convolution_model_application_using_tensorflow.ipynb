{
  "nbformat": 4,
  "nbformat_minor": 0,
  "metadata": {
    "colab": {
      "name": "week-1-convolution_model_application-using-tensorflow.ipynb",
      "provenance": [],
      "toc_visible": true,
      "include_colab_link": true
    },
    "kernelspec": {
      "name": "python3",
      "display_name": "Python 3"
    }
  },
  "cells": [
    {
      "cell_type": "markdown",
      "metadata": {
        "id": "view-in-github",
        "colab_type": "text"
      },
      "source": [
        "<a href=\"https://colab.research.google.com/github/rahiakela/coursera-deep-learning-specialization/blob/course-4-convolutional-neural-networks/week_1_convolution_model_application_using_tensorflow.ipynb\" target=\"_parent\"><img src=\"https://colab.research.google.com/assets/colab-badge.svg\" alt=\"Open In Colab\"/></a>"
      ]
    },
    {
      "cell_type": "markdown",
      "metadata": {
        "id": "9NV8sCny9lQY",
        "colab_type": "text"
      },
      "source": [
        "# Convolutional Neural Networks: Application"
      ]
    },
    {
      "cell_type": "markdown",
      "metadata": {
        "id": "u9phromP9lwg",
        "colab_type": "text"
      },
      "source": [
        "Welcome to Course 4's second assignment! In this notebook, you will:\n",
        "\n",
        "- Implement helper functions that you will use when implementing a TensorFlow model\n",
        "- Implement a fully functioning ConvNet using TensorFlow \n",
        "\n",
        "**After this assignment you will be able to:**\n",
        "\n",
        "- Build and train a ConvNet in TensorFlow for a classification problem \n",
        "\n",
        "We assume here that you are already familiar with TensorFlow. If you are not, please refer the *TensorFlow Tutorial* of the third week of Course 2 (\"*Improving deep neural networks*\")."
      ]
    },
    {
      "cell_type": "markdown",
      "metadata": {
        "id": "gYucALjN9rrc",
        "colab_type": "text"
      },
      "source": [
        "## 1.0 - TensorFlow model"
      ]
    },
    {
      "cell_type": "markdown",
      "metadata": {
        "id": "b-9S-IyR9sUH",
        "colab_type": "text"
      },
      "source": [
        "In the previous assignment, you built helper functions using numpy to understand the mechanics behind convolutional neural networks. Most practical applications of deep learning today are built using programming frameworks, which have many built-in functions you can simply call. "
      ]
    },
    {
      "cell_type": "markdown",
      "metadata": {
        "id": "8Ef5hyUY2Yzx",
        "colab_type": "text"
      },
      "source": [
        "### Setup"
      ]
    },
    {
      "cell_type": "markdown",
      "metadata": {
        "id": "LxaIIrIm2dcg",
        "colab_type": "text"
      },
      "source": [
        "As usual, we will start by loading in the packages. "
      ]
    },
    {
      "cell_type": "code",
      "metadata": {
        "id": "CAA9K1wu9uxR",
        "colab_type": "code",
        "outputId": "3d84ca40-86df-4dab-a944-456c2866c7e0",
        "colab": {
          "base_uri": "https://localhost:8080/",
          "height": 64
        }
      },
      "source": [
        "import math\n",
        "import numpy as np\n",
        "import h5py\n",
        "import matplotlib.pyplot as plt\n",
        "import scipy\n",
        "from PIL import Image\n",
        "from scipy import ndimage\n",
        "import tensorflow as tf\n",
        "from tensorflow.python.framework import ops\n",
        "from cnn_utils import *\n",
        "\n",
        "%matplotlib inline\n",
        "np.random.seed(1)"
      ],
      "execution_count": 1,
      "outputs": [
        {
          "output_type": "display_data",
          "data": {
            "text/html": [
              "<p style=\"color: red;\">\n",
              "The default version of TensorFlow in Colab will soon switch to TensorFlow 2.x.<br>\n",
              "We recommend you <a href=\"https://www.tensorflow.org/guide/migrate\" target=\"_blank\">upgrade</a> now \n",
              "or ensure your notebook will continue to use TensorFlow 1.x via the <code>%tensorflow_version 1.x</code> magic:\n",
              "<a href=\"https://colab.research.google.com/notebooks/tensorflow_version.ipynb\" target=\"_blank\">more info</a>.</p>\n"
            ],
            "text/plain": [
              "<IPython.core.display.HTML object>"
            ]
          },
          "metadata": {
            "tags": []
          }
        }
      ]
    },
    {
      "cell_type": "markdown",
      "metadata": {
        "id": "O0VzLwb79xuA",
        "colab_type": "text"
      },
      "source": [
        "Run the next cell to load the \"SIGNS\" dataset you are going to use."
      ]
    },
    {
      "cell_type": "code",
      "metadata": {
        "id": "dbKn5Ysl90Yi",
        "colab_type": "code",
        "colab": {}
      },
      "source": [
        "# Loading the data (signs)\n",
        "X_train_orig, Y_train_orig, X_test_orig, Y_test_orig, classes = load_dataset()"
      ],
      "execution_count": 0,
      "outputs": []
    },
    {
      "cell_type": "markdown",
      "metadata": {
        "id": "ebGL0G5OzU2f",
        "colab_type": "text"
      },
      "source": [
        "As a reminder, the SIGNS dataset is a collection of 6 signs representing numbers from 0 to 5.\n",
        "\n",
        "<img src='https://github.com/rahiakela/img-repo/blob/master/deep-learning-specialization/signs.png?raw=1' width='800'/>\n",
        "\n",
        "The next cell will show you an example of a labelled image in the dataset. Feel free to change the value of `index` below and re-run to see different examples. "
      ]
    },
    {
      "cell_type": "code",
      "metadata": {
        "id": "yJLEJxelz5Fm",
        "colab_type": "code",
        "outputId": "d4704656-541f-4a22-9db7-a08f427dcdb4",
        "colab": {
          "base_uri": "https://localhost:8080/",
          "height": 286
        }
      },
      "source": [
        "# Example of a picture\n",
        "index = 1\n",
        "plt.imshow(X_train_orig[index])\n",
        "print(f'y = {str(np.squeeze(Y_train_orig[:, index]))}')"
      ],
      "execution_count": 3,
      "outputs": [
        {
          "output_type": "stream",
          "text": [
            "y = 0\n"
          ],
          "name": "stdout"
        },
        {
          "output_type": "display_data",
          "data": {
            "image/png": "[encoded data removed]",
            "text/plain": [
              "<Figure size 432x288 with 1 Axes>"
            ]
          },
          "metadata": {
            "tags": []
          }
        }
      ]
    },
    {
      "cell_type": "markdown",
      "metadata": {
        "id": "TrJsqtZmzrDA",
        "colab_type": "text"
      },
      "source": [
        "In Course 2, you had built a fully-connected network for this dataset. But since this is an image dataset, it is more natural to apply a ConvNet to it.\n",
        "\n",
        "To get started, let's examine the shapes of your data. "
      ]
    },
    {
      "cell_type": "code",
      "metadata": {
        "id": "UtAkZlAx09br",
        "colab_type": "code",
        "outputId": "d658e1eb-8278-4aad-acff-113bb4dccac7",
        "colab": {
          "base_uri": "https://localhost:8080/",
          "height": 124
        }
      },
      "source": [
        "# scale the image's pixels data\n",
        "X_train = X_train_orig / 255.\n",
        "X_test = X_test_orig / 255.\n",
        "\n",
        "# convert to one-hot encoding\n",
        "Y_train = convert_to_one_hot(Y_train_orig, 6).T\n",
        "Y_test = convert_to_one_hot(Y_test_orig, 6).T\n",
        "\n",
        "print(f'number of training examples = {str(X_train_orig.shape[0])}')\n",
        "print(f'number of test examples = {str(X_test_orig.shape[0])}')\n",
        "print(f'X_train shape: {str(X_train.shape)}')\n",
        "print(f'Y_train shape: {str(Y_train.shape)}')\n",
        "print(f'X_test shape: {str(X_test.shape)}')\n",
        "print(f'Y_test shape: {str(Y_test.shape)}')\n",
        "conv_layers = {}"
      ],
      "execution_count": 4,
      "outputs": [
        {
          "output_type": "stream",
          "text": [
            "number of training examples = 1080\n",
            "number of test examples = 120\n",
            "X_train shape: (1080, 64, 64, 3)\n",
            "Y_train shape: (1080, 6)\n",
            "X_test shape: (120, 64, 64, 3)\n",
            "Y_test shape: (120, 6)\n"
          ],
          "name": "stdout"
        }
      ]
    },
    {
      "cell_type": "markdown",
      "metadata": {
        "id": "X68PYWk02Hqq",
        "colab_type": "text"
      },
      "source": [
        "### 1.1 - Create placeholders"
      ]
    },
    {
      "cell_type": "markdown",
      "metadata": {
        "id": "4Sf6s7sm2IFP",
        "colab_type": "text"
      },
      "source": [
        "TensorFlow requires that you create placeholders for the input data that will be fed into the model when running the session.\n",
        "\n",
        "**Exercise**: Implement the function below to create placeholders for the input image X and the output Y. You should not define the number of training examples for the moment. To do so, you could use \"None\" as the batch size, it will give you the flexibility to choose it later. Hence X should be of dimension **[None, n_H0, n_W0, n_C0]** and Y should be of dimension **[None, n_y]**.  [Hint: search for the tf.placeholder documentation\"](https://www.tensorflow.org/api_docs/python/tf/placeholder)."
      ]
    },
    {
      "cell_type": "code",
      "metadata": {
        "id": "tjzncxvR19m3",
        "colab_type": "code",
        "colab": {}
      },
      "source": [
        "# FUNCTION: create_placeholders\n",
        "def create_placeholders(n_H0, n_W0, n_C0, n_y):\n",
        "  '''\n",
        "  Creates the placeholders for the tensorflow session.\n",
        "    \n",
        "  Arguments:\n",
        "  n_H0 -- scalar, height of an input image\n",
        "  n_W0 -- scalar, width of an input image\n",
        "  n_C0 -- scalar, number of channels of the input\n",
        "  n_y -- scalar, number of classes\n",
        "      \n",
        "  Returns:\n",
        "  X -- placeholder for the data input, of shape [None, n_H0, n_W0, n_C0] and dtype \"float\"\n",
        "  Y -- placeholder for the input labels, of shape [None, n_y] and dtype \"float\"\n",
        "  '''\n",
        "\n",
        "  ### START CODE HERE ### (≈2 lines)\n",
        "  X = tf.placeholder(shape=(None, n_H0, n_W0, n_C0), dtype=tf.float32)\n",
        "  Y = tf.placeholder(shape=(None, n_y), dtype=tf.float32)\n",
        "  ### END CODE HERE ###\n",
        "  \n",
        "  return X, Y"
      ],
      "execution_count": 0,
      "outputs": []
    },
    {
      "cell_type": "code",
      "metadata": {
        "id": "-eNC5zyF3dy2",
        "colab_type": "code",
        "outputId": "7074bb66-8016-4f28-cbf3-16e82cd37ebe",
        "colab": {
          "base_uri": "https://localhost:8080/",
          "height": 52
        }
      },
      "source": [
        "X, Y = create_placeholders(64, 64, 3, 6)\n",
        "\n",
        "print(f'X = {str(X)}')\n",
        "print(f'Y = {str(Y)}')"
      ],
      "execution_count": 6,
      "outputs": [
        {
          "output_type": "stream",
          "text": [
            "X = Tensor(\"Placeholder:0\", shape=(?, 64, 64, 3), dtype=float32)\n",
            "Y = Tensor(\"Placeholder_1:0\", shape=(?, 6), dtype=float32)\n"
          ],
          "name": "stdout"
        }
      ]
    },
    {
      "cell_type": "markdown",
      "metadata": {
        "id": "KLca0GKq3_-w",
        "colab_type": "text"
      },
      "source": [
        "**Expected Output**\n",
        "\n",
        "<table> \n",
        "<tr>\n",
        "<td>\n",
        "    X = Tensor(\"Placeholder:0\", shape=(?, 64, 64, 3), dtype=float32)\n",
        "\n",
        "</td>\n",
        "</tr>\n",
        "<tr>\n",
        "<td>\n",
        "    Y = Tensor(\"Placeholder_1:0\", shape=(?, 6), dtype=float32)\n",
        "\n",
        "</td>\n",
        "</tr>\n",
        "</table>"
      ]
    },
    {
      "cell_type": "markdown",
      "metadata": {
        "id": "dqZo9agq4Agv",
        "colab_type": "text"
      },
      "source": [
        "### 1.2 - Initialize parameters"
      ]
    },
    {
      "cell_type": "markdown",
      "metadata": {
        "id": "r1v4BC9j4EKf",
        "colab_type": "text"
      },
      "source": [
        "You will initialize weights/filters $W1$ and $W2$ using `tf.contrib.layers.xavier_initializer(seed = 0)`. You don't need to worry about bias variables as you will soon see that TensorFlow functions take care of the bias. Note also that you will only initialize the weights/filters for the conv2d functions. TensorFlow initializes the layers for the fully connected part automatically. We will talk more about that later in this assignment.\n",
        "\n",
        "**Exercise:** Implement initialize_parameters(). The dimensions for each group of filters are provided below. Reminder - to initialize a parameter $W$ of shape [1,2,3,4] in Tensorflow, use:\n",
        "```python\n",
        "W = tf.get_variable(\"W\", [1,2,3,4], initializer = ...)\n",
        "```"
      ]
    },
    {
      "cell_type": "markdown",
      "metadata": {
        "id": "RNaTzAZO4Gm1",
        "colab_type": "text"
      },
      "source": [
        "#### tf.get_variable()"
      ]
    },
    {
      "cell_type": "markdown",
      "metadata": {
        "id": "sQxpVNUr4Iyw",
        "colab_type": "text"
      },
      "source": [
        "[Search for the tf.get_variable documentation](https://www.tensorflow.org/api_docs/python/tf/get_variable).  Notice that the documentation says:\n",
        "```\n",
        "Gets an existing variable with these parameters or create a new one.\n",
        "```\n",
        "So we can use this function to create a tensorflow variable with the specified name, but if the variables already exist, it will get the existing variable with that same name."
      ]
    },
    {
      "cell_type": "code",
      "metadata": {
        "id": "XNw3jLdH39Cu",
        "colab_type": "code",
        "colab": {}
      },
      "source": [
        "# FUNCTION: initialize_parameters\n",
        "def initialize_parameters():\n",
        "  '''\n",
        "  Initializes weight parameters to build a neural network with tensorflow. The shapes are:\n",
        "                      W1 : [4, 4, 3, 8]\n",
        "                      W2 : [2, 2, 8, 16]\n",
        "  Note that we will hard code the shape values in the function to make the grading simpler.\n",
        "  Normally, functions should take values as inputs rather than hard coding.\n",
        "  Returns:\n",
        "  parameters -- a dictionary of tensors containing W1, W2\n",
        "  '''\n",
        "\n",
        "  tf.set_random_seed(1)                  # so that your \"random\" numbers match ours\n",
        "\n",
        "  ### START CODE HERE ### (approx. 2 lines of code)\n",
        "  W1 = tf.get_variable('W1', [4, 4, 3, 8], initializer=tf.contrib.layers.xavier_initializer(seed=0))\n",
        "  W2 = tf.get_variable('W2', [2, 2, 8, 16], initializer=tf.contrib.layers.xavier_initializer(seed=0))\n",
        "  ### END CODE HERE ###\n",
        "\n",
        "  parameters = {'W1': W1, 'W2': W2}\n",
        "\n",
        "  return parameters"
      ],
      "execution_count": 0,
      "outputs": []
    },
    {
      "cell_type": "code",
      "metadata": {
        "id": "5ChGcdGz7I8R",
        "colab_type": "code",
        "outputId": "1fc362b1-e62c-4d3f-b955-f2bc8efe6ae6",
        "colab": {
          "base_uri": "https://localhost:8080/",
          "height": 355
        }
      },
      "source": [
        "tf.reset_default_graph()\n",
        "\n",
        "with tf.Session() as sess_test:\n",
        "  parameters = initialize_parameters()\n",
        "  init = tf.global_variables_initializer()\n",
        "  sess_test.run(init)\n",
        "\n",
        "  print(f'W1[1,1,1] = \\n {str(parameters[\"W1\"].eval()[1,1,1])}')\n",
        "  print(f'W1.shape: {str(parameters[\"W1\"].shape)}')\n",
        "  print('\\n')\n",
        "\n",
        "  print(f'W2[1,1,1] = \\n {str(parameters[\"W2\"].eval()[1,1,1])}')\n",
        "  print(f'W2.shape: {str(parameters[\"W2\"].shape)}')"
      ],
      "execution_count": 8,
      "outputs": [
        {
          "output_type": "stream",
          "text": [
            "WARNING:tensorflow:\n",
            "The TensorFlow contrib module will not be included in TensorFlow 2.0.\n",
            "For more information, please see:\n",
            "  * https://github.com/tensorflow/community/blob/master/rfcs/20180907-contrib-sunset.md\n",
            "  * https://github.com/tensorflow/addons\n",
            "  * https://github.com/tensorflow/io (for I/O related ops)\n",
            "If you depend on functionality not listed there, please file an issue.\n",
            "\n",
            "W1[1,1,1] = \n",
            " [ 0.00131723  0.1417614  -0.04434952  0.09197326  0.14984085 -0.03514394\n",
            " -0.06847463  0.05245192]\n",
            "W1.shape: (4, 4, 3, 8)\n",
            "\n",
            "\n",
            "W2[1,1,1] = \n",
            " [-0.08566415  0.17750949  0.11974221  0.16773748 -0.0830943  -0.08058\n",
            " -0.00577033 -0.14643836  0.24162132 -0.05857408 -0.19055021  0.1345228\n",
            " -0.22779644 -0.1601823  -0.16117483 -0.10286498]\n",
            "W2.shape: (2, 2, 8, 16)\n"
          ],
          "name": "stdout"
        }
      ]
    },
    {
      "cell_type": "markdown",
      "metadata": {
        "id": "0tufeZSj7hWf",
        "colab_type": "text"
      },
      "source": [
        "** Expected Output:**\n",
        "\n",
        "```\n",
        "W1[1,1,1] = \n",
        "[ 0.00131723  0.14176141 -0.04434952  0.09197326  0.14984085 -0.03514394\n",
        " -0.06847463  0.05245192]\n",
        "W1.shape: (4, 4, 3, 8)\n",
        "\n",
        "\n",
        "W2[1,1,1] = \n",
        "[-0.08566415  0.17750949  0.11974221  0.16773748 -0.0830943  -0.08058\n",
        " -0.00577033 -0.14643836  0.24162132 -0.05857408 -0.19055021  0.1345228\n",
        " -0.22779644 -0.1601823  -0.16117483 -0.10286498]\n",
        "W2.shape: (2, 2, 8, 16)\n",
        "```"
      ]
    },
    {
      "cell_type": "markdown",
      "metadata": {
        "id": "bLFI6kup9RcX",
        "colab_type": "text"
      },
      "source": [
        "### 1.3 - Forward propagation"
      ]
    },
    {
      "cell_type": "markdown",
      "metadata": {
        "id": "rXCrPDHM9R_0",
        "colab_type": "text"
      },
      "source": [
        "In TensorFlow, there are built-in functions that implement the convolution steps for you.\n",
        "\n",
        "- **tf.nn.conv2d(X,W, strides = [1,s,s,1], padding = 'SAME'):** given an input $X$ and a group of filters $W$, this function convolves $W$'s filters on X. The third parameter ([1,s,s,1]) represents the strides for each dimension of the input (m, n_H_prev, n_W_prev, n_C_prev). Normally, you'll choose a stride of 1 for the number of examples (the first value) and for the channels (the fourth value), which is why we wrote the value as `[1,s,s,1]`. You can read the full documentation on [conv2d](https://www.tensorflow.org/api_docs/python/tf/nn/conv2d).\n",
        "\n",
        "- **tf.nn.max_pool(A, ksize = [1,f,f,1], strides = [1,s,s,1], padding = 'SAME'):** given an input A, this function uses a window of size (f, f) and strides of size (s, s) to carry out max pooling over each window.  For max pooling, we usually operate on a single example at a time and a single channel at a time.  So the first and fourth value in `[1,f,f,1]` are both 1.  You can read the full documentation on [max_pool](https://www.tensorflow.org/api_docs/python/tf/nn/max_pool).\n",
        "\n",
        "- **tf.nn.relu(Z):** computes the elementwise ReLU of Z (which can be any shape). You can read the full documentation on [relu](https://www.tensorflow.org/api_docs/python/tf/nn/relu).\n",
        "\n",
        "- **tf.contrib.layers.flatten(P)**: given a tensor \"P\", this function takes each training (or test) example in the batch and flattens it into a 1D vector.  \n",
        "    * If a tensor P has the shape (m,h,w,c), where m is the number of examples (the batch size), it returns a flattened tensor with shape (batch_size, k), where $k=h \\times w \\times c$.  \"k\" equals the product of all the dimension sizes other than the first dimension.\n",
        "    * For example, given a tensor with dimensions [100,2,3,4], it flattens the tensor to be of shape [100, 24], where 24 = 2 * 3 * 4.  You can read the full documentation on [flatten](https://www.tensorflow.org/api_docs/python/tf/contrib/layers/flatten).\n",
        "\n",
        "- **tf.contrib.layers.fully_connected(F, num_outputs):** given the flattened input F, it returns the output computed using a fully connected layer. You can read the full documentation on [full_connected](https://www.tensorflow.org/api_docs/python/tf/contrib/layers/fully_connected).\n",
        "\n",
        "In the last function above (`tf.contrib.layers.fully_connected`), the fully connected layer automatically initializes weights in the graph and keeps on training them as you train the model. Hence, you did not need to initialize those weights when initializing the parameters."
      ]
    },
    {
      "cell_type": "markdown",
      "metadata": {
        "id": "WsdDLx8O9XyO",
        "colab_type": "text"
      },
      "source": [
        "#### Window, kernel, filter"
      ]
    },
    {
      "cell_type": "markdown",
      "metadata": {
        "id": "y8H8ZPPG9ZvH",
        "colab_type": "text"
      },
      "source": [
        "The words \"window\", \"kernel\", and \"filter\" are used to refer to the same thing.  This is why the parameter `ksize` refers to \"kernel size\", and we use `(f,f)` to refer to the filter size.  Both \"kernel\" and \"filter\" refer to the \"window.\""
      ]
    },
    {
      "cell_type": "markdown",
      "metadata": {
        "id": "pwbaxLgRA-ir",
        "colab_type": "text"
      },
      "source": [
        "**Exercise**\n",
        "\n",
        "Implement the `forward_propagation` function below to build the following model: \n",
        "\n",
        "`CONV2D -> RELU -> MAXPOOL -> CONV2D -> RELU -> MAXPOOL -> FLATTEN -> FULLYCONNECTED`. \n",
        "\n",
        "You should use the functions above. \n",
        "\n",
        "In detail, we will use the following parameters for all the steps:\n",
        " - Conv2D: stride 1, padding is \"SAME\"\n",
        " - ReLU\n",
        " - Max pool: Use an 8 by 8 filter size and an 8 by 8 stride, padding is \"SAME\"\n",
        " - Conv2D: stride 1, padding is \"SAME\"\n",
        " - ReLU\n",
        " - Max pool: Use a 4 by 4 filter size and a 4 by 4 stride, padding is \"SAME\"\n",
        " - Flatten the previous output.\n",
        " - FULLYCONNECTED (FC) layer: Apply a fully connected layer without an non-linear activation function. Do not call the softmax here. This will result in 6 neurons in the output layer, which then get passed later to a softmax. In TensorFlow, the softmax and cost function are lumped together into a single function, which you'll call in a different function when computing the cost."
      ]
    },
    {
      "cell_type": "code",
      "metadata": {
        "id": "QyRRj1_g9bua",
        "colab_type": "code",
        "colab": {}
      },
      "source": [
        "# FUNCTION: forward_propagation\n",
        "def forward_propagation(X, parameters):\n",
        "  '''\n",
        "  Implements the forward propagation for the model:\n",
        "  CONV2D -> RELU -> MAXPOOL -> CONV2D -> RELU -> MAXPOOL -> FLATTEN -> FULLYCONNECTED\n",
        "  \n",
        "  Note that for simplicity and grading purposes, we'll hard-code some values\n",
        "  such as the stride and kernel (filter) sizes. \n",
        "  Normally, functions should take these values as function parameters.\n",
        "  \n",
        "  Arguments:\n",
        "  X -- input dataset placeholder, of shape (input size, number of examples)\n",
        "  parameters -- python dictionary containing your parameters \"W1\", \"W2\"\n",
        "                the shapes are given in initialize_parameters\n",
        "\n",
        "  Returns:\n",
        "  Z3 -- the output of the last LINEAR unit\n",
        "  '''\n",
        "\n",
        "  # Retrieve the parameters from the dictionary \"parameters\" \n",
        "  W1 = parameters['W1']\n",
        "  W2 = parameters['W2']\n",
        "  \n",
        "  ### START CODE HERE ###\n",
        "  # CONV2D: stride of 1, padding 'SAME'\n",
        "  Z1 = tf.nn.conv2d(X, W1, strides=[1, 1, 1, 1], padding='SAME')\n",
        "  # RELU\n",
        "  A1 = tf.nn.relu(Z1)\n",
        "  # MAXPOOL: window 8x8, stride 8, padding 'SAME'\n",
        "  P1 = tf.nn.max_pool(A1, ksize=[1, 8, 8, 1], strides=[1, 8, 8, 1], padding='SAME')\n",
        "  # CONV2D: filters W2, stride 1, padding 'SAME'\n",
        "  Z2 = tf.nn.conv2d(P1, W2, strides=[1, 1, 1, 1], padding='SAME')\n",
        "  # RELU\n",
        "  A2 = tf.nn.relu(Z2)\n",
        "  # MAXPOOL: window 4x4, stride 4, padding 'SAME'\n",
        "  P2 = tf.nn.max_pool(A2, ksize=[1, 4, 4, 1], strides=[1, 4, 4, 1], padding='SAME')\n",
        "  # FLATTEN\n",
        "  F = tf.contrib.layers.flatten(P2)\n",
        "  # FULLY-CONNECTED without non-linear activation function (not not call softmax).\n",
        "  # 6 neurons in output layer. Hint: one of the arguments should be \"activation_fn=None\" \n",
        "  Z3 = tf.contrib.layers.fully_connected(F, 6, activation_fn=None)\n",
        "  ### END CODE HERE ###\n",
        "\n",
        "  return Z3"
      ],
      "execution_count": 0,
      "outputs": []
    },
    {
      "cell_type": "code",
      "metadata": {
        "id": "ouLHAyUjCRIc",
        "colab_type": "code",
        "outputId": "c8a0db28-ea01-4012-9cb2-0bc5eaba2a97",
        "colab": {
          "base_uri": "https://localhost:8080/",
          "height": 197
        }
      },
      "source": [
        "tf.reset_default_graph()\n",
        "\n",
        "with tf.Session() as sess:\n",
        "  np.random.seed(1)\n",
        "  X, Y = create_placeholders(64, 64, 3, 6)\n",
        "  parameters = initialize_parameters()\n",
        "  Z3 = forward_propagation(X, parameters)\n",
        "  init = tf.global_variables_initializer()\n",
        "  sess.run(init)\n",
        "  a = sess.run(Z3, {X: np.random.randn(2, 64, 64, 3), Y: np.random.randn(2, 6)})\n",
        "  print(f'Z3 = \\n {str(a)}')"
      ],
      "execution_count": 10,
      "outputs": [
        {
          "output_type": "stream",
          "text": [
            "WARNING:tensorflow:From /usr/local/lib/python3.6/dist-packages/tensorflow_core/contrib/layers/python/layers/layers.py:1634: flatten (from tensorflow.python.layers.core) is deprecated and will be removed in a future version.\n",
            "Instructions for updating:\n",
            "Use keras.layers.flatten instead.\n",
            "WARNING:tensorflow:From /usr/local/lib/python3.6/dist-packages/tensorflow_core/python/layers/core.py:332: Layer.apply (from tensorflow.python.keras.engine.base_layer) is deprecated and will be removed in a future version.\n",
            "Instructions for updating:\n",
            "Please use `layer.__call__` method instead.\n",
            "Z3 = \n",
            " [[ 1.4416984  -0.24909686  5.4504986  -0.26189622 -0.20669895  1.3654672 ]\n",
            " [ 1.4070847  -0.02573191  5.08928    -0.486699   -0.40940708  1.2624857 ]]\n"
          ],
          "name": "stdout"
        }
      ]
    },
    {
      "cell_type": "markdown",
      "metadata": {
        "id": "hlDz-ISbH0nu",
        "colab_type": "text"
      },
      "source": [
        "**Expected Output**:\n",
        "\n",
        "```\n",
        "Z3 = \n",
        "[[-0.44670227 -1.57208765 -1.53049231 -2.31013036 -1.29104376  0.46852064]\n",
        " [-0.17601591 -1.57972014 -1.4737016  -2.61672091 -1.00810647  0.5747785 ]]\n",
        "```"
      ]
    },
    {
      "cell_type": "markdown",
      "metadata": {
        "id": "z9pa1lpzO7d9",
        "colab_type": "text"
      },
      "source": [
        "### 1.4 - Compute cost"
      ]
    },
    {
      "cell_type": "markdown",
      "metadata": {
        "id": "lSEZ3ev7O8CF",
        "colab_type": "text"
      },
      "source": [
        "Implement the compute cost function below. Remember that the cost function helps the neural network see how much the model's predictions differ from the correct labels.  By adjusting the weights of the network to reduce the cost, the neural network can improve its predictions.\n",
        "\n",
        "You might find these two functions helpful: \n",
        "\n",
        "- **tf.nn.softmax_cross_entropy_with_logits(logits = Z, labels = Y):** computes the softmax entropy loss. This function both computes the softmax activation function as well as the resulting loss. You can check the full documentation  [softmax_cross_entropy_with_logits](https://www.tensorflow.org/api_docs/python/tf/nn/softmax_cross_entropy_with_logits).\n",
        "- **tf.reduce_mean:** computes the mean of elements across dimensions of a tensor. Use this to calculate the sum of the losses over all the examples to get the overall cost. You can check the full documentation [reduce_mean](https://www.tensorflow.org/api_docs/python/tf/reduce_mean)."
      ]
    },
    {
      "cell_type": "markdown",
      "metadata": {
        "id": "NhfIQbDLO-Jy",
        "colab_type": "text"
      },
      "source": [
        "#### Details on softmax_cross_entropy_with_logits (optional reading)"
      ]
    },
    {
      "cell_type": "markdown",
      "metadata": {
        "id": "ZhFljR_WPAYB",
        "colab_type": "text"
      },
      "source": [
        "* Softmax is used to format outputs so that they can be used for classification.  It assigns a value between 0 and 1 for each category, where the sum of all prediction values (across all possible categories) equals 1.\n",
        "* Cross Entropy is compares the model's predicted classifications with the actual labels and results in a numerical value representing the \"loss\" of the model's predictions.\n",
        "* \"Logits\" are the result of multiplying the weights and adding the biases.  Logits are passed through an activation function (such as a relu), and the result is called the \"activation.\"\n",
        "* The function is named `softmax_cross_entropy_with_logits` takes logits as input (and not activations); then uses the model to predict using softmax, and then compares the predictions with the true labels using cross entropy.  These are done with a single function to optimize the calculations.\n",
        "\n",
        "**Exercise**: Compute the cost below using the function above."
      ]
    },
    {
      "cell_type": "code",
      "metadata": {
        "id": "Wx82aG5EPC3M",
        "colab_type": "code",
        "colab": {}
      },
      "source": [
        "# FUNCTION: compute_cost \n",
        "def compute_cost(Z3, Y):\n",
        "  '''\n",
        "  Computes the cost\n",
        "    \n",
        "  Arguments:\n",
        "  Z3 -- output of forward propagation (output of the last LINEAR unit), of shape (number of examples, 6)\n",
        "  Y -- \"true\" labels vector placeholder, same shape as Z3\n",
        "  \n",
        "  Returns:\n",
        "  cost - Tensor of the cost function\n",
        "  '''\n",
        "\n",
        "  ### START CODE HERE ### (1 line of code)\n",
        "  cost = tf.reduce_mean(tf.nn.softmax_cross_entropy_with_logits(logits=Z3, labels=Y))\n",
        "  ### END CODE HERE ###\n",
        "\n",
        "  return cost"
      ],
      "execution_count": 0,
      "outputs": []
    },
    {
      "cell_type": "code",
      "metadata": {
        "id": "SxMKAO4TSR_u",
        "colab_type": "code",
        "outputId": "f0de8206-6573-451e-d3a9-5229844f1747",
        "colab": {
          "base_uri": "https://localhost:8080/",
          "height": 197
        }
      },
      "source": [
        "tf.reset_default_graph()\n",
        "\n",
        "with tf.Session() as sess:\n",
        "  np.random.seed(1)\n",
        "  X, Y = create_placeholders(64, 64, 3, 6)\n",
        "  parameters = initialize_parameters()\n",
        "  Z3 = forward_propagation(X, parameters)\n",
        "  cost = compute_cost(Z3, Y)\n",
        "  init = tf.global_variables_initializer()\n",
        "  sess.run(init)\n",
        "  a = sess.run(cost, {X: np.random.randn(4, 64, 64, 3), Y: np.random.randn(4, 6)})\n",
        "  print(f'cost = {str(a)}')"
      ],
      "execution_count": 12,
      "outputs": [
        {
          "output_type": "stream",
          "text": [
            "WARNING:tensorflow:From <ipython-input-11-ceee6446fb12>:14: softmax_cross_entropy_with_logits (from tensorflow.python.ops.nn_ops) is deprecated and will be removed in a future version.\n",
            "Instructions for updating:\n",
            "\n",
            "Future major versions of TensorFlow will allow gradients to flow\n",
            "into the labels input on backprop by default.\n",
            "\n",
            "See `tf.nn.softmax_cross_entropy_with_logits_v2`.\n",
            "\n",
            "cost = 4.6648703\n"
          ],
          "name": "stdout"
        }
      ]
    },
    {
      "cell_type": "markdown",
      "metadata": {
        "id": "ctoo1AFuH_cC",
        "colab_type": "text"
      },
      "source": [
        "**Expected Output**: \n",
        "```\n",
        "cost = 2.91034\n",
        "```"
      ]
    },
    {
      "cell_type": "markdown",
      "metadata": {
        "id": "6FGJtGAVICP0",
        "colab_type": "text"
      },
      "source": [
        "## 1.5 Model"
      ]
    },
    {
      "cell_type": "markdown",
      "metadata": {
        "id": "jvHE4AlIIFJX",
        "colab_type": "text"
      },
      "source": [
        "Finally you will merge the helper functions you implemented above to build a model. You will train it on the SIGNS dataset. \n",
        "\n",
        "**Exercise**: Complete the function below. \n",
        "\n",
        "The model below should:\n",
        "\n",
        "- create placeholders\n",
        "- initialize parameters\n",
        "- forward propagate\n",
        "- compute the cost\n",
        "- create an optimizer\n",
        "\n",
        "Finally you will create a session and run a for loop  for num_epochs, get the mini-batches, and then for each mini-batch you will optimize the function. [Hint for initializing the variables](https://www.tensorflow.org/api_docs/python/tf/global_variables_initializer)"
      ]
    },
    {
      "cell_type": "markdown",
      "metadata": {
        "id": "Grc8jLvkIKcD",
        "colab_type": "text"
      },
      "source": [
        "#### Adam Optimizer"
      ]
    },
    {
      "cell_type": "markdown",
      "metadata": {
        "id": "_FyXBUdHIK_2",
        "colab_type": "text"
      },
      "source": [
        "You can use `tf.train.AdamOptimizer(learning_rate = ...)` to create the optimizer.  The optimizer has a `minimize(loss=...)` function that you'll call to set the cost function that the optimizer will minimize.\n",
        "\n",
        "For details, check out the documentation for [Adam Optimizer](https://www.tensorflow.org/api_docs/python/tf/train/AdamOptimizer)"
      ]
    },
    {
      "cell_type": "markdown",
      "metadata": {
        "id": "1LOTmd99INdV",
        "colab_type": "text"
      },
      "source": [
        "#### Random mini batches"
      ]
    },
    {
      "cell_type": "markdown",
      "metadata": {
        "id": "e-y_DMvMIQsr",
        "colab_type": "text"
      },
      "source": [
        "If you took course 2 of the deep learning specialization, you implemented `random_mini_batches()` in the \"Optimization\" programming assignment. This function returns a list of mini-batches. It is already implemented in the `cnn_utils.py` file and imported here, so you can call it like this:\n",
        "```Python\n",
        "minibatches = random_mini_batches(X, Y, mini_batch_size = 64, seed = 0)\n",
        "```\n",
        "(You will want to choose the correct variable names when you use it in your code)."
      ]
    },
    {
      "cell_type": "markdown",
      "metadata": {
        "id": "C2OyBNeiITSC",
        "colab_type": "text"
      },
      "source": [
        "#### Evaluating the optimizer and cost"
      ]
    },
    {
      "cell_type": "markdown",
      "metadata": {
        "id": "6iAqnMKAIWwL",
        "colab_type": "text"
      },
      "source": [
        "Within a loop, for each mini-batch, you'll use the `tf.Session` object (named `sess`) to feed a mini-batch of inputs and labels into the neural network and evaluate the tensors for the optimizer as well as the cost.  Remember that we built a graph data structure and need to feed it inputs and labels and use `sess.run()` in order to get values for the optimizer and cost.\n",
        "\n",
        "You'll use this kind of syntax:\n",
        "```\n",
        "output_for_var1, output_for_var2 = sess.run(\n",
        "                                                fetches=[var1, var2],\n",
        "                                                feed_dict={var_inputs: the_batch_of_inputs,\n",
        "                                                           var_labels: the_batch_of_labels}\n",
        "                                                )\n",
        "```\n",
        "* Notice that `sess.run` takes its first argument `fetches` as a list of objects that you want it to evaluate (in this case, we want to evaluate the optimizer and the cost).  \n",
        "* It also takes a dictionary for the `feed_dict` parameter.  \n",
        "* The keys are the `tf.placeholder` variables that we created in the `create_placeholders` function above.  \n",
        "* The values are the variables holding the actual numpy arrays for each mini-batch.  \n",
        "* The sess.run outputs a tuple of the evaluated tensors, in the same order as the list given to `fetches`. \n",
        "\n",
        "For more information on how to use sess.run, see the documentation [tf.Sesssion#run](https://www.tensorflow.org/api_docs/python/tf/Session#run) documentation."
      ]
    },
    {
      "cell_type": "code",
      "metadata": {
        "id": "k0Tu6F8yTXx1",
        "colab_type": "code",
        "colab": {}
      },
      "source": [
        "# FUNCTION: model\n",
        "def model(X_train, Y_train, X_test, Y_test, learning_rate=0.009, num_epochs=100, minibatch_size=64, print_cost=True):\n",
        "  '''\n",
        "  Implements a three-layer ConvNet in Tensorflow:\n",
        "  CONV2D -> RELU -> MAXPOOL -> CONV2D -> RELU -> MAXPOOL -> FLATTEN -> FULLYCONNECTED\n",
        "  \n",
        "  Arguments:\n",
        "  X_train -- training set, of shape (None, 64, 64, 3)\n",
        "  Y_train -- test set, of shape (None, n_y = 6)\n",
        "  X_test -- training set, of shape (None, 64, 64, 3)\n",
        "  Y_test -- test set, of shape (None, n_y = 6)\n",
        "  learning_rate -- learning rate of the optimization\n",
        "  num_epochs -- number of epochs of the optimization loop\n",
        "  minibatch_size -- size of a minibatch\n",
        "  print_cost -- True to print the cost every 100 epochs\n",
        "  \n",
        "  Returns:\n",
        "  train_accuracy -- real number, accuracy on the train set (X_train)\n",
        "  test_accuracy -- real number, testing accuracy on the test set (X_test)\n",
        "  parameters -- parameters learnt by the model. They can then be used to predict.\n",
        "  '''\n",
        "\n",
        "  ops.reset_default_graph()                           # to be able to rerun the model without overwriting tf variables\n",
        "  tf.set_random_seed(1)                               # to keep results consistent (tensorflow seed)\n",
        "  seed = 3                                            # to keep results consistent (numpy seed)\n",
        "  (m, n_H0, n_W0, n_C0) = X_train.shape\n",
        "  n_y = Y_train.shape[1]\n",
        "  costs = []                                          # To keep track of the cost\n",
        "\n",
        "  # Create Placeholders of the correct shape\n",
        "  ### START CODE HERE ### (1 line)\n",
        "  X, Y = create_placeholders(n_H0, n_W0, n_C0, n_y)\n",
        "  ### END CODE HERE ###\n",
        "\n",
        "  # Initialize parameters\n",
        "  ### START CODE HERE ### (1 line)\n",
        "  parameters = initialize_parameters()\n",
        "  ### END CODE HERE ###\n",
        "\n",
        "  # Forward propagation: Build the forward propagation in the tensorflow graph\n",
        "  ### START CODE HERE ### (1 line)\n",
        "  Z3 = forward_propagation(X, parameters)\n",
        "  ### END CODE HERE ###\n",
        "\n",
        "  # Cost function: Add cost function to tensorflow graph\n",
        "  ### START CODE HERE ### (1 line)\n",
        "  cost = compute_cost(Z3, Y)\n",
        "  ### END CODE HERE ###\n",
        "\n",
        "  # Backpropagation: Define the tensorflow optimizer. Use an AdamOptimizer that minimizes the cost.\n",
        "  ### START CODE HERE ### (1 line)\n",
        "  optimizer = tf.train.AdamOptimizer(learning_rate=learning_rate).minimize(cost)\n",
        "  ### END CODE HERE ###\n",
        "\n",
        "  # Initialize all the variables globally\n",
        "  init = tf.global_variables_initializer()\n",
        "\n",
        "  # Start the session to compute the tensorflow graph\n",
        "  with tf.Session() as sess:\n",
        "\n",
        "    # Run the initialization\n",
        "    sess.run(init)\n",
        "\n",
        "    # Do the training loop\n",
        "    for epoch in range(num_epochs):\n",
        "      minibatch_cost = 0\n",
        "      num_minibatches = int(m / minibatch_size)    # number of minibatches of size minibatch_size in the train set\n",
        "      seed = seed + 1\n",
        "      minibatches = random_mini_batches(X_train, Y_train, minibatch_size, seed)\n",
        "\n",
        "      for minibatch in minibatches:\n",
        "        # Select a minibatch\n",
        "        (minibatch_X, minibatch_Y) = minibatch\n",
        "        \"\"\"\n",
        "        # IMPORTANT: The line that runs the graph on a minibatch.\n",
        "        # Run the session to execute the optimizer and the cost.\n",
        "        # The feedict should contain a minibatch for (X,Y).\n",
        "        \"\"\"\n",
        "        ### START CODE HERE ### (1 line)\n",
        "        _ , temp_cost = sess.run(fetches=[optimizer, cost], feed_dict={X: minibatch_X, Y: minibatch_Y})\n",
        "        ### END CODE HERE ###\n",
        "\n",
        "        minibatch_cost += temp_cost / num_minibatches\n",
        "\n",
        "      # Print the cost every epoch\n",
        "      if print_cost == True and epoch % 5 == 0:\n",
        "          print (\"Cost after epoch %i: %f\" % (epoch, minibatch_cost))\n",
        "      if print_cost == True and epoch % 1 == 0:\n",
        "          costs.append(minibatch_cost)\n",
        "\n",
        "    # plot the cost\n",
        "    plt.plot(np.squeeze(costs))\n",
        "    plt.ylabel('cost')\n",
        "    plt.xlabel('iterations (per tens)')\n",
        "    plt.title(\"Learning rate =\" + str(learning_rate))\n",
        "    plt.show()\n",
        "\n",
        "    # Calculate the correct predictions\n",
        "    predict_op = tf.argmax(Z3, 1)\n",
        "    correct_prediction = tf.equal(predict_op, tf.argmax(Y, 1))\n",
        "\n",
        "    # Calculate accuracy on the test set\n",
        "    accuracy = tf.reduce_mean(tf.cast(correct_prediction, 'float'))\n",
        "    print(accuracy)\n",
        "    train_accuracy = accuracy.eval({X: X_train, Y: Y_train})\n",
        "    test_accuracy = accuracy.eval({X: X_test, Y: Y_test})\n",
        "    print(f'Train Accuracy: {train_accuracy}')\n",
        "    print(f'Test Accuracy: {test_accuracy}')\n",
        "\n",
        "    return train_accuracy, test_accuracy, parameters, Y"
      ],
      "execution_count": 0,
      "outputs": []
    },
    {
      "cell_type": "markdown",
      "metadata": {
        "id": "JnJHffrUTMTQ",
        "colab_type": "text"
      },
      "source": [
        "Run the following cell to train your model for 100 epochs. Check if your cost after epoch 0 and 5 matches our output. If not, stop the cell and go back to your code!"
      ]
    },
    {
      "cell_type": "code",
      "metadata": {
        "id": "K6x8Hq2PTJPq",
        "colab_type": "code",
        "colab": {
          "base_uri": "https://localhost:8080/",
          "height": 704
        },
        "outputId": "4da5a166-2812-40ad-885c-b7fe625cfe03"
      },
      "source": [
        "_, _, parameters, Y = model(X_train, Y_train, X_test, Y_test)"
      ],
      "execution_count": 14,
      "outputs": [
        {
          "output_type": "stream",
          "text": [
            "Cost after epoch 0: 1.921332\n",
            "Cost after epoch 5: 1.904156\n",
            "Cost after epoch 10: 1.904309\n",
            "Cost after epoch 15: 1.904477\n",
            "Cost after epoch 20: 1.901876\n",
            "Cost after epoch 25: 1.784094\n",
            "Cost after epoch 30: 1.687816\n",
            "Cost after epoch 35: 1.617915\n",
            "Cost after epoch 40: 1.588564\n",
            "Cost after epoch 45: 1.564675\n",
            "Cost after epoch 50: 1.552992\n",
            "Cost after epoch 55: 1.522002\n",
            "Cost after epoch 60: 1.469448\n",
            "Cost after epoch 65: 1.348304\n",
            "Cost after epoch 70: 1.256776\n",
            "Cost after epoch 75: 1.204447\n",
            "Cost after epoch 80: 1.112992\n",
            "Cost after epoch 85: 1.097759\n",
            "Cost after epoch 90: 1.044009\n",
            "Cost after epoch 95: 1.006472\n"
          ],
          "name": "stdout"
        },
        {
          "output_type": "display_data",
          "data": {
            "image/png": "[encoded data removed]",
            "text/plain": [
              "<Figure size 432x288 with 1 Axes>"
            ]
          },
          "metadata": {
            "tags": []
          }
        },
        {
          "output_type": "stream",
          "text": [
            "Tensor(\"Mean_1:0\", shape=(), dtype=float32)\n",
            "Train Accuracy: 0.6722221970558167\n",
            "Test Accuracy: 0.5249999761581421\n"
          ],
          "name": "stdout"
        }
      ]
    },
    {
      "cell_type": "markdown",
      "metadata": {
        "id": "1NaJx2UCTbNp",
        "colab_type": "text"
      },
      "source": [
        "**Expected output**: although it may not match perfectly, your expected output should be close to ours and your cost value should decrease.\n",
        "\n",
        "<table> \n",
        "<tr>\n",
        "    <td> \n",
        "    **Cost after epoch 0 =**\n",
        "    </td>\n",
        "    <td> \n",
        "      1.917929\n",
        "    </td> \n",
        "</tr>\n",
        "<tr>\n",
        "    <td> \n",
        "    **Cost after epoch 5 =**\n",
        "    </td>\n",
        "    <td> \n",
        "      1.506757\n",
        "    </td> \n",
        "</tr>\n",
        "<tr>\n",
        "    <td> \n",
        "    **Train Accuracy   =**\n",
        "    </td>\n",
        "    <td> \n",
        "      0.940741\n",
        "    </td> \n",
        "</tr> \n",
        "<tr>\n",
        "    <td> \n",
        "    **Test Accuracy   =**\n",
        "    </td>\n",
        "    <td> \n",
        "      0.783333\n",
        "    </td> \n",
        "</tr> \n",
        "</table>"
      ]
    },
    {
      "cell_type": "markdown",
      "metadata": {
        "id": "-9c9hFLvTicq",
        "colab_type": "text"
      },
      "source": [
        "Congratulations! You have finished the assignment and built a model that recognizes SIGN language with almost 80% accuracy on the test set. If you wish, feel free to play around with this dataset further. You can actually improve its accuracy by spending more time tuning the hyperparameters, or using regularization (as this model clearly has a high variance). \n",
        "\n",
        "Once again, here's a thumbs up for your work! "
      ]
    },
    {
      "cell_type": "code",
      "metadata": {
        "id": "CbBwaJVMTXhY",
        "colab_type": "code",
        "colab": {
          "base_uri": "https://localhost:8080/",
          "height": 52
        },
        "outputId": "efebada7-fe9c-4171-e0be-e19d8b655b63"
      },
      "source": [
        "!pip install scipy==1.1.0  # install latest version for colab"
      ],
      "execution_count": 15,
      "outputs": [
        {
          "output_type": "stream",
          "text": [
            "Requirement already satisfied: scipy==1.1.0 in /usr/local/lib/python3.6/dist-packages (1.1.0)\n",
            "Requirement already satisfied: numpy>=1.8.2 in /usr/local/lib/python3.6/dist-packages (from scipy==1.1.0) (1.17.4)\n"
          ],
          "name": "stdout"
        }
      ]
    },
    {
      "cell_type": "code",
      "metadata": {
        "id": "pz1u_szwa78Z",
        "colab_type": "code",
        "colab": {
          "base_uri": "https://localhost:8080/",
          "height": 506
        },
        "outputId": "8d328441-7fd2-4266-f61d-4274a0c30a87"
      },
      "source": [
        "import scipy\n",
        "from PIL import Image\n",
        "from scipy import ndimage\n",
        "\n",
        "## START CODE HERE ## (PUT YOUR IMAGE NAME) \n",
        "my_image = \"thumbs_up.jpg\"\n",
        "## END CODE HERE ##\n",
        "\n",
        "# We preprocess your image to fit your algorithm.\n",
        "fname = my_image\n",
        "image = np.array(ndimage.imread(fname, flatten=False))\n",
        "image = image/255.\n",
        "my_image = scipy.misc.imresize(image, size=(64,64)).reshape((1, 64*64*3)).T\n",
        "\n",
        "my_image_prediction = predict(my_image, parameters)\n",
        "plt.imshow(my_image)\n",
        "print(\"Your algorithm predicts: y = \" + str(np.squeeze(my_image_prediction)))"
      ],
      "execution_count": 17,
      "outputs": [
        {
          "output_type": "stream",
          "text": [
            "/usr/local/lib/python3.6/dist-packages/ipykernel_launcher.py:11: DeprecationWarning: `imread` is deprecated!\n",
            "`imread` is deprecated in SciPy 1.0.0.\n",
            "Use ``matplotlib.pyplot.imread`` instead.\n",
            "  # This is added back by InteractiveShellApp.init_path()\n",
            "/usr/local/lib/python3.6/dist-packages/ipykernel_launcher.py:13: DeprecationWarning: `imresize` is deprecated!\n",
            "`imresize` is deprecated in SciPy 1.0.0, and will be removed in 1.2.0.\n",
            "Use ``skimage.transform.resize`` instead.\n",
            "  del sys.path[0]\n"
          ],
          "name": "stderr"
        },
        {
          "output_type": "error",
          "ename": "KeyError",
          "evalue": "ignored",
          "traceback": [
            "\u001b[0;31m---------------------------------------------------------------------------\u001b[0m",
            "\u001b[0;31mKeyError\u001b[0m                                  Traceback (most recent call last)",
            "\u001b[0;32m<ipython-input-17-8d886fb1cac9>\u001b[0m in \u001b[0;36m<module>\u001b[0;34m()\u001b[0m\n\u001b[1;32m     13\u001b[0m \u001b[0mmy_image\u001b[0m \u001b[0;34m=\u001b[0m \u001b[0mscipy\u001b[0m\u001b[0;34m.\u001b[0m\u001b[0mmisc\u001b[0m\u001b[0;34m.\u001b[0m\u001b[0mimresize\u001b[0m\u001b[0;34m(\u001b[0m\u001b[0mimage\u001b[0m\u001b[0;34m,\u001b[0m \u001b[0msize\u001b[0m\u001b[0;34m=\u001b[0m\u001b[0;34m(\u001b[0m\u001b[0;36m64\u001b[0m\u001b[0;34m,\u001b[0m\u001b[0;36m64\u001b[0m\u001b[0;34m)\u001b[0m\u001b[0;34m)\u001b[0m\u001b[0;34m.\u001b[0m\u001b[0mreshape\u001b[0m\u001b[0;34m(\u001b[0m\u001b[0;34m(\u001b[0m\u001b[0;36m1\u001b[0m\u001b[0;34m,\u001b[0m \u001b[0;36m64\u001b[0m\u001b[0;34m*\u001b[0m\u001b[0;36m64\u001b[0m\u001b[0;34m*\u001b[0m\u001b[0;36m3\u001b[0m\u001b[0;34m)\u001b[0m\u001b[0;34m)\u001b[0m\u001b[0;34m.\u001b[0m\u001b[0mT\u001b[0m\u001b[0;34m\u001b[0m\u001b[0;34m\u001b[0m\u001b[0m\n\u001b[1;32m     14\u001b[0m \u001b[0;34m\u001b[0m\u001b[0m\n\u001b[0;32m---> 15\u001b[0;31m \u001b[0mmy_image_prediction\u001b[0m \u001b[0;34m=\u001b[0m \u001b[0mpredict\u001b[0m\u001b[0;34m(\u001b[0m\u001b[0mmy_image\u001b[0m\u001b[0;34m,\u001b[0m \u001b[0mparameters\u001b[0m\u001b[0;34m)\u001b[0m\u001b[0;34m\u001b[0m\u001b[0;34m\u001b[0m\u001b[0m\n\u001b[0m\u001b[1;32m     16\u001b[0m \u001b[0mplt\u001b[0m\u001b[0;34m.\u001b[0m\u001b[0mimshow\u001b[0m\u001b[0;34m(\u001b[0m\u001b[0mmy_image\u001b[0m\u001b[0;34m)\u001b[0m\u001b[0;34m\u001b[0m\u001b[0;34m\u001b[0m\u001b[0m\n\u001b[1;32m     17\u001b[0m \u001b[0mprint\u001b[0m\u001b[0;34m(\u001b[0m\u001b[0;34m\"Your algorithm predicts: y = \"\u001b[0m \u001b[0;34m+\u001b[0m \u001b[0mstr\u001b[0m\u001b[0;34m(\u001b[0m\u001b[0mnp\u001b[0m\u001b[0;34m.\u001b[0m\u001b[0msqueeze\u001b[0m\u001b[0;34m(\u001b[0m\u001b[0mmy_image_prediction\u001b[0m\u001b[0;34m)\u001b[0m\u001b[0;34m)\u001b[0m\u001b[0;34m)\u001b[0m\u001b[0;34m\u001b[0m\u001b[0;34m\u001b[0m\u001b[0m\n",
            "\u001b[0;32m/content/cnn_utils.py\u001b[0m in \u001b[0;36mpredict\u001b[0;34m(X, parameters)\u001b[0m\n\u001b[1;32m    101\u001b[0m \u001b[0;34m\u001b[0m\u001b[0m\n\u001b[1;32m    102\u001b[0m     \u001b[0mW1\u001b[0m \u001b[0;34m=\u001b[0m \u001b[0mtf\u001b[0m\u001b[0;34m.\u001b[0m\u001b[0mconvert_to_tensor\u001b[0m\u001b[0;34m(\u001b[0m\u001b[0mparameters\u001b[0m\u001b[0;34m[\u001b[0m\u001b[0;34m\"W1\"\u001b[0m\u001b[0;34m]\u001b[0m\u001b[0;34m)\u001b[0m\u001b[0;34m\u001b[0m\u001b[0;34m\u001b[0m\u001b[0m\n\u001b[0;32m--> 103\u001b[0;31m     \u001b[0mb1\u001b[0m \u001b[0;34m=\u001b[0m \u001b[0mtf\u001b[0m\u001b[0;34m.\u001b[0m\u001b[0mconvert_to_tensor\u001b[0m\u001b[0;34m(\u001b[0m\u001b[0mparameters\u001b[0m\u001b[0;34m[\u001b[0m\u001b[0;34m\"b1\"\u001b[0m\u001b[0;34m]\u001b[0m\u001b[0;34m)\u001b[0m\u001b[0;34m\u001b[0m\u001b[0;34m\u001b[0m\u001b[0m\n\u001b[0m\u001b[1;32m    104\u001b[0m     \u001b[0mW2\u001b[0m \u001b[0;34m=\u001b[0m \u001b[0mtf\u001b[0m\u001b[0;34m.\u001b[0m\u001b[0mconvert_to_tensor\u001b[0m\u001b[0;34m(\u001b[0m\u001b[0mparameters\u001b[0m\u001b[0;34m[\u001b[0m\u001b[0;34m\"W2\"\u001b[0m\u001b[0;34m]\u001b[0m\u001b[0;34m)\u001b[0m\u001b[0;34m\u001b[0m\u001b[0;34m\u001b[0m\u001b[0m\n\u001b[1;32m    105\u001b[0m     \u001b[0mb2\u001b[0m \u001b[0;34m=\u001b[0m \u001b[0mtf\u001b[0m\u001b[0;34m.\u001b[0m\u001b[0mconvert_to_tensor\u001b[0m\u001b[0;34m(\u001b[0m\u001b[0mparameters\u001b[0m\u001b[0;34m[\u001b[0m\u001b[0;34m\"b2\"\u001b[0m\u001b[0;34m]\u001b[0m\u001b[0;34m)\u001b[0m\u001b[0;34m\u001b[0m\u001b[0;34m\u001b[0m\u001b[0m\n",
            "\u001b[0;31mKeyError\u001b[0m: 'b1'"
          ]
        }
      ]
    },
    {
      "cell_type": "code",
      "metadata": {
        "id": "pUqaEzATfAKz",
        "colab_type": "code",
        "colab": {}
      },
      "source": [
        ""
      ],
      "execution_count": 0,
      "outputs": []
    }
  ]
}