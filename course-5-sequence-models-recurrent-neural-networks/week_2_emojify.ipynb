{
  "nbformat": 4,
  "nbformat_minor": 0,
  "metadata": {
    "colab": {
      "name": "week-2-emojify.ipynb",
      "provenance": [],
      "toc_visible": true,
      "authorship_tag": "ABX9TyMlzq3IZtUxthaahNDqsAxi",
      "include_colab_link": true
    },
    "kernelspec": {
      "name": "python3",
      "display_name": "Python 3"
    }
  },
  "cells": [
    {
      "cell_type": "markdown",
      "metadata": {
        "id": "view-in-github",
        "colab_type": "text"
      },
      "source": [
        "<a href=\"https://colab.research.google.com/github/rahiakela/coursera-deep-learning-specialization/blob/course-5-sequence-models-recurrent-neural-networks/week_2_emojify.ipynb\" target=\"_parent\"><img src=\"https://colab.research.google.com/assets/colab-badge.svg\" alt=\"Open In Colab\"/></a>"
      ]
    },
    {
      "cell_type": "markdown",
      "metadata": {
        "id": "xo5niL_U3WfY",
        "colab_type": "text"
      },
      "source": [
        "# Emojify! "
      ]
    },
    {
      "cell_type": "markdown",
      "metadata": {
        "id": "iSJD9t5L3XEK",
        "colab_type": "text"
      },
      "source": [
        "Welcome to the second assignment of Week 2. You are going to use word vector representations to build an Emojifier. \n",
        "\n",
        "Have you ever wanted to make your text messages more expressive? Your emojifier app will help you do that. \n",
        "So rather than writing:\n",
        ">\"Congratulations on the promotion! Let's get coffee and talk. Love you!\"   \n",
        "\n",
        "The emojifier can automatically turn this into:\n",
        ">\"Congratulations on the promotion! 👍 Let's get coffee and talk. ☕️ Love you! ❤️\"\n",
        "\n",
        "* You will implement a model which inputs a sentence (such as \"Let's go see the baseball game tonight!\") and finds the most appropriate emoji to be used with this sentence (⚾️)."
      ]
    },
    {
      "cell_type": "markdown",
      "metadata": {
        "id": "wFbSDn9R3Ze8",
        "colab_type": "text"
      },
      "source": [
        "#### Using word vectors to improve emoji lookups"
      ]
    },
    {
      "cell_type": "markdown",
      "metadata": {
        "id": "VVyfR65p3d71",
        "colab_type": "text"
      },
      "source": [
        "* In many emoji interfaces, you need to remember that ❤️ is the \"heart\" symbol rather than the \"love\" symbol. \n",
        "    * In other words, you'll have to remember to type \"heart\" to find the desired emoji, and typing \"love\" won't bring up that symbol.\n",
        "* We can make a more flexible emoji interface by using word vectors!\n",
        "* When using word vectors, you'll see that even if your training set explicitly relates only a few words to a particular emoji, your algorithm will be able to generalize and associate additional words in the test set to the same emoji.\n",
        "    * This works even if those additional words don't even appear in the training set. \n",
        "    * This allows you to build an accurate classifier mapping from sentences to emojis, even using a small training set. "
      ]
    },
    {
      "cell_type": "markdown",
      "metadata": {
        "id": "VQaxbQz33gR7",
        "colab_type": "text"
      },
      "source": [
        "#### What you'll build\n",
        "1. In this exercise, you'll start with a baseline model (Emojifier-V1) using word embeddings.\n",
        "2. Then you will build a more sophisticated model (Emojifier-V2) that further incorporates an LSTM. "
      ]
    },
    {
      "cell_type": "markdown",
      "metadata": {
        "id": "YA1xhgbe3olP",
        "colab_type": "text"
      },
      "source": [
        "## Setup\n",
        "\n",
        "Let's get started! Run the following cell to load the package you are going to use. "
      ]
    },
    {
      "cell_type": "code",
      "metadata": {
        "id": "K19aKdW57H-a",
        "colab_type": "code",
        "outputId": "e18a4221-2b2a-4529-e320-42b4a14f63d1",
        "colab": {
          "base_uri": "https://localhost:8080/",
          "height": 203
        }
      },
      "source": [
        "# install emoji\n",
        "! pip install emoji"
      ],
      "execution_count": 0,
      "outputs": [
        {
          "output_type": "stream",
          "text": [
            "Collecting emoji\n",
            "\u001b[?25l  Downloading https://files.pythonhosted.org/packages/40/8d/521be7f0091fe0f2ae690cc044faf43e3445e0ff33c574eae752dd7e39fa/emoji-0.5.4.tar.gz (43kB)\n",
            "\r\u001b[K     |███████▌                        | 10kB 16.3MB/s eta 0:00:01\r\u001b[K     |███████████████                 | 20kB 3.1MB/s eta 0:00:01\r\u001b[K     |██████████████████████▋         | 30kB 4.0MB/s eta 0:00:01\r\u001b[K     |██████████████████████████████▏ | 40kB 2.9MB/s eta 0:00:01\r\u001b[K     |████████████████████████████████| 51kB 2.5MB/s \n",
            "\u001b[?25hBuilding wheels for collected packages: emoji\n",
            "  Building wheel for emoji (setup.py) ... \u001b[?25l\u001b[?25hdone\n",
            "  Created wheel for emoji: filename=emoji-0.5.4-cp36-none-any.whl size=42175 sha256=487efc44aecf1a7c984c0fecb8d4fc7fdfeb14ab62b3e38bf9241347a7edb686\n",
            "  Stored in directory: /root/.cache/pip/wheels/2a/a9/0a/4f8e8cce8074232aba240caca3fade315bb49fac68808d1a9c\n",
            "Successfully built emoji\n",
            "Installing collected packages: emoji\n",
            "Successfully installed emoji-0.5.4\n"
          ],
          "name": "stdout"
        }
      ]
    },
    {
      "cell_type": "code",
      "metadata": {
        "id": "PvSJHtch3p6j",
        "colab_type": "code",
        "colab": {}
      },
      "source": [
        "import numpy as np\n",
        "from emo_utils import *\n",
        "import emoji\n",
        "import matplotlib.pyplot as plt\n",
        "\n",
        "%matplotlib inline"
      ],
      "execution_count": 0,
      "outputs": []
    },
    {
      "cell_type": "markdown",
      "metadata": {
        "id": "SrAZi4_l7ZfG",
        "colab_type": "text"
      },
      "source": [
        "## 1 - Baseline model: Emojifier-V1"
      ]
    },
    {
      "cell_type": "markdown",
      "metadata": {
        "id": "egVgFFvS7aGb",
        "colab_type": "text"
      },
      "source": [
        "### 1.1 - Dataset EMOJISET"
      ]
    },
    {
      "cell_type": "markdown",
      "metadata": {
        "id": "rXDGZM5S7eN1",
        "colab_type": "text"
      },
      "source": [
        "Let's start by building a simple baseline classifier. \n",
        "\n",
        "You have a tiny dataset (X, Y) where:\n",
        "- X contains 127 sentences (strings).\n",
        "- Y contains an integer label between 0 and 4 corresponding to an emoji for each sentence.\n",
        "\n",
        "<img src='https://github.com/rahiakela/img-repo/blob/master/deep-learning-specialization/data_set.png?raw=1' width='800'/>\n",
        "<caption><center> **Figure 1**: EMOJISET - a classification problem with 5 classes. A few examples of sentences are given here. </center></caption>\n",
        "\n",
        "Let's load the dataset using the code below. We split the dataset between training (127 examples) and testing (56 examples)."
      ]
    },
    {
      "cell_type": "code",
      "metadata": {
        "id": "rWE3WaBA7EL3",
        "colab_type": "code",
        "colab": {}
      },
      "source": [
        "X_train, Y_train = read_csv('data/train_emoji.csv')\n",
        "X_test, Y_test = read_csv('data/tesss.csv')"
      ],
      "execution_count": 0,
      "outputs": []
    },
    {
      "cell_type": "code",
      "metadata": {
        "id": "3ER1T-tAHUdv",
        "colab_type": "code",
        "colab": {}
      },
      "source": [
        "maxLen = len(max(X_train, key=len).split())"
      ],
      "execution_count": 0,
      "outputs": []
    },
    {
      "cell_type": "markdown",
      "metadata": {
        "id": "-0e2q0OrHX-F",
        "colab_type": "text"
      },
      "source": [
        "Run the following cell to print sentences from X_train and corresponding labels from Y_train. \n",
        "* Change `idx` to see different examples. \n",
        "* Note that due to the font used by iPython notebook, the heart emoji may be colored black rather than red."
      ]
    },
    {
      "cell_type": "code",
      "metadata": {
        "id": "lXRZFJS2HYhW",
        "colab_type": "code",
        "colab": {}
      },
      "source": [
        "for idx in range(10):\n",
        "    print(X_train[idx], label_to_emoji(Y_train[idx]))"
      ],
      "execution_count": 0,
      "outputs": []
    },
    {
      "cell_type": "markdown",
      "metadata": {
        "id": "TPyFoSKFHbhd",
        "colab_type": "text"
      },
      "source": [
        "### 1.2 - Overview of the Emojifier-V1"
      ]
    },
    {
      "cell_type": "markdown",
      "metadata": {
        "id": "VZBkmWEbHheT",
        "colab_type": "text"
      },
      "source": [
        "In this part, you are going to implement a baseline model called \"Emojifier-v1\".  \n",
        "\n",
        "<center>\n",
        "<img src='https://github.com/rahiakela/img-repo/blob/master/deep-learning-specialization/image_1.png?raw=1' width='800'/>\n",
        "<caption><center> **Figure 2**: Baseline model (Emojifier-V1).</center></caption>\n",
        "</center>\n",
        "\n",
        "\n",
        "#### Inputs and outputs\n",
        "* The input of the model is a string corresponding to a sentence (e.g. \"I love you). \n",
        "* The output will be a probability vector of shape (1,5), (there are 5 emojis to choose from).\n",
        "* The (1,5) probability vector is passed to an argmax layer, which extracts the index of the emoji with the highest probability.\n",
        "\n",
        "#### One-hot encoding\n",
        "* To get our labels into a format suitable for training a softmax classifier, lets convert $Y$ from its current shape  $(m, 1)$ into a \"one-hot representation\" $(m, 5)$, \n",
        "    * Each row is a one-hot vector giving the label of one example.\n",
        "    * Here, `Y_oh` stands for \"Y-one-hot\" in the variable names `Y_oh_train` and `Y_oh_test`: "
      ]
    },
    {
      "cell_type": "code",
      "metadata": {
        "id": "dwk46GjlHw75",
        "colab_type": "code",
        "colab": {}
      },
      "source": [
        "Y_oh_train = convert_to_one_hot(Y_train, C = 5)\n",
        "Y_oh_test = convert_to_one_hot(Y_test, C = 5)"
      ],
      "execution_count": 0,
      "outputs": []
    },
    {
      "cell_type": "markdown",
      "metadata": {
        "id": "g49WZSeKH5xX",
        "colab_type": "text"
      },
      "source": [
        "Let's see what `convert_to_one_hot()` did. Feel free to change `index` to print out different values. "
      ]
    },
    {
      "cell_type": "code",
      "metadata": {
        "id": "W-NyEDgQH76X",
        "colab_type": "code",
        "colab": {}
      },
      "source": [
        "idx = 50\n",
        "print(f'Sentence \"{X_train[50]}\" has label index {Y_train[idx]}, which is emoji {label_to_emoji(Y_train[idx])}')\n",
        "print(f'Label index {Y_train[idx]} in one-hot encoding format is {Y_oh_train[idx]}')"
      ],
      "execution_count": 0,
      "outputs": []
    },
    {
      "cell_type": "markdown",
      "metadata": {
        "id": "9UKOVQOeIPgL",
        "colab_type": "text"
      },
      "source": [
        "All the data is now ready to be fed into the Emojify-V1 model. Let's implement the model!"
      ]
    },
    {
      "cell_type": "markdown",
      "metadata": {
        "id": "_2HddezLIQJu",
        "colab_type": "text"
      },
      "source": [
        "### 1.3 - Implementing Emojifier-V1"
      ]
    },
    {
      "cell_type": "markdown",
      "metadata": {
        "id": "ssCzHAXAITnW",
        "colab_type": "text"
      },
      "source": [
        "As shown in Figure 2 (above), the first step is to:\n",
        "* Convert each word in the input sentence into their word vector representations.\n",
        "* Then take an average of the word vectors. \n",
        "* Similar to the previous exercise, we will use pre-trained 50-dimensional GloVe embeddings. \n",
        "\n",
        "Run the following cell to load the `word_to_vec_map`, which contains all the vector representations."
      ]
    },
    {
      "cell_type": "code",
      "metadata": {
        "id": "ch0tjHrfIVpZ",
        "colab_type": "code",
        "colab": {}
      },
      "source": [
        "word_to_index, index_to_word, word_to_vec_map = read_glove_vecs('../../readonly/glove.6B.50d.txt')"
      ],
      "execution_count": 0,
      "outputs": []
    },
    {
      "cell_type": "markdown",
      "metadata": {
        "id": "ovhXLcqxQUZ2",
        "colab_type": "text"
      },
      "source": [
        "You've loaded:\n",
        "- `word_to_index`: dictionary mapping from words to their indices in the vocabulary \n",
        "    - (400,001 words, with the valid indices ranging from 0 to 400,000)\n",
        "- `index_to_word`: dictionary mapping from indices to their corresponding words in the vocabulary\n",
        "- `word_to_vec_map`: dictionary mapping words to their GloVe vector representation.\n",
        "\n",
        "Run the following cell to check if it works."
      ]
    },
    {
      "cell_type": "code",
      "metadata": {
        "id": "9USrjfVIQX0Q",
        "colab_type": "code",
        "colab": {}
      },
      "source": [
        "word = \"cucumber\"\n",
        "idx = 289846\n",
        "print(\"the index of\", word, \"in the vocabulary is\", word_to_index[word])\n",
        "print(\"the\", str(idx) + \"th word in the vocabulary is\", index_to_word[idx])"
      ],
      "execution_count": 0,
      "outputs": []
    },
    {
      "cell_type": "markdown",
      "metadata": {
        "id": "3Wa5hH8PQa46",
        "colab_type": "text"
      },
      "source": [
        "**Exercise**: Implement `sentence_to_avg()`. You will need to carry out two steps:\n",
        "1. Convert every sentence to lower-case, then split the sentence into a list of words. \n",
        "    * `X.lower()` and `X.split()` might be useful. \n",
        "2. For each word in the sentence, access its GloVe representation.\n",
        "    * Then take the average of all of these word vectors.\n",
        "    * You might use `numpy.zeros()`."
      ]
    },
    {
      "cell_type": "markdown",
      "metadata": {
        "id": "q8s8LzAuQeGw",
        "colab_type": "text"
      },
      "source": [
        "#### Additional Hints"
      ]
    },
    {
      "cell_type": "markdown",
      "metadata": {
        "id": "gF81ClV2QgAm",
        "colab_type": "text"
      },
      "source": [
        "* When creating the `avg` array of zeros, you'll want it to be a vector of the same shape as the other word vectors in the `word_to_vec_map`.  \n",
        "    * You can choose a word that exists in the `word_to_vec_map` and access its `.shape` field.\n",
        "    * Be careful not to hard code the word that you access.  In other words, don't assume that if you see the word 'the' in the `word_to_vec_map` within this notebook, that this word will be in the `word_to_vec_map` when the function is being called by the automatic grader.\n",
        "    * Hint: you can use any one of the word vectors that you retrieved from the input `sentence` to find the shape of a word vector."
      ]
    },
    {
      "cell_type": "code",
      "metadata": {
        "id": "wakC5L4iQisd",
        "colab_type": "code",
        "colab": {}
      },
      "source": [
        "# GRADED FUNCTION: sentence_to_avg\n",
        "\n",
        "def sentence_to_avg(sentence, word_to_vec_map):\n",
        "    \"\"\"\n",
        "    Converts a sentence (string) into a list of words (strings). Extracts the GloVe representation of each word\n",
        "    and averages its value into a single vector encoding the meaning of the sentence.\n",
        "    \n",
        "    Arguments:\n",
        "    sentence -- string, one training example from X\n",
        "    word_to_vec_map -- dictionary mapping every word in a vocabulary into its 50-dimensional vector representation\n",
        "    \n",
        "    Returns:\n",
        "    avg -- average vector encoding information about the sentence, numpy-array of shape (50,)\n",
        "    \"\"\"\n",
        "    \n",
        "    ### START CODE HERE ###\n",
        "    # Step 1: Split sentence into list of lower case words (≈ 1 line)\n",
        "    words = sentence.lower().split()\n",
        "\n",
        "    # Initialize the average word vector, should have the same shape as your word vectors.\n",
        "    avg = np.zeros((50, ))\n",
        "    \n",
        "    # Step 2: average the word vectors. You can loop over the words in the list \"words\".\n",
        "    total = 0\n",
        "    for w in words:\n",
        "        total += word_to_vec_map[w]\n",
        "    avg = total / len(words)\n",
        "    \n",
        "    ### END CODE HERE ###\n",
        "    \n",
        "    return avg"
      ],
      "execution_count": 0,
      "outputs": []
    },
    {
      "cell_type": "code",
      "metadata": {
        "id": "okutMf-TQlQs",
        "colab_type": "code",
        "colab": {}
      },
      "source": [
        "avg = sentence_to_avg(\"Morrocan couscous is my favorite dish\", word_to_vec_map)\n",
        "print(\"avg = \\n\", avg)"
      ],
      "execution_count": 0,
      "outputs": []
    },
    {
      "cell_type": "markdown",
      "metadata": {
        "id": "F7NfENrfQnKF",
        "colab_type": "text"
      },
      "source": [
        "**Expected Output**:\n",
        "\n",
        "```Python\n",
        "avg =\n",
        "[-0.008005    0.56370833 -0.50427333  0.258865    0.55131103  0.03104983\n",
        " -0.21013718  0.16893933 -0.09590267  0.141784   -0.15708967  0.18525867\n",
        "  0.6495785   0.38371117  0.21102167  0.11301667  0.02613967  0.26037767\n",
        "  0.05820667 -0.01578167 -0.12078833 -0.02471267  0.4128455   0.5152061\n",
        "  0.38756167 -0.898661   -0.535145    0.33501167  0.68806933 -0.2156265\n",
        "  1.797155    0.10476933 -0.36775333  0.750785    0.10282583  0.348925\n",
        " -0.27262833  0.66768    -0.10706167 -0.283635    0.59580117  0.28747333\n",
        " -0.3366635   0.23393817  0.34349183  0.178405    0.1166155  -0.076433\n",
        "  0.1445417   0.09808667]\n",
        "```"
      ]
    },
    {
      "cell_type": "markdown",
      "metadata": {
        "id": "fx0CXluFVmuC",
        "colab_type": "text"
      },
      "source": [
        "#### Model"
      ]
    },
    {
      "cell_type": "markdown",
      "metadata": {
        "id": "ojT-RA60WJvJ",
        "colab_type": "text"
      },
      "source": [
        "You now have all the pieces to finish implementing the `model()` function. \n",
        "After using `sentence_to_avg()` you need to:\n",
        "* Pass the average through forward propagation\n",
        "* Compute the cost\n",
        "* Backpropagate to update the softmax parameters\n",
        "\n",
        "**Exercise**: Implement the `model()` function described in Figure (2). \n",
        "\n",
        "* The equations you need to implement in the forward pass and to compute the cross-entropy cost are below:\n",
        "* The variable $Y_{oh}$ (\"Y one hot\") is the one-hot encoding of the output labels. \n",
        "\n",
        "$$ z^{(i)} = W . avg^{(i)} + b$$\n",
        "\n",
        "$$ a^{(i)} = softmax(z^{(i)})$$\n",
        "\n",
        "$$ \\mathcal{L}^{(i)} = - \\sum_{k = 0}^{n_y - 1} Y_{oh,k}^{(i)} * log(a^{(i)}_k)$$\n",
        "\n",
        "**Note** It is possible to come up with a more efficient vectorized implementation. For now, let's use nested for loops to better understand the algorithm, and for easier debugging.\n",
        "\n",
        "We provided the function `softmax()`, which was imported earlier."
      ]
    },
    {
      "cell_type": "code",
      "metadata": {
        "id": "1RuDn0FZWMkJ",
        "colab_type": "code",
        "colab": {}
      },
      "source": [
        "# GRADED FUNCTION: model\n",
        "\n",
        "def model(X, Y, word_to_vec_map, learning_rate = 0.01, num_iterations = 400):\n",
        "    \"\"\"\n",
        "    Model to train word vector representations in numpy.\n",
        "    \n",
        "    Arguments:\n",
        "    X -- input data, numpy array of sentences as strings, of shape (m, 1)\n",
        "    Y -- labels, numpy array of integers between 0 and 7, numpy-array of shape (m, 1)\n",
        "    word_to_vec_map -- dictionary mapping every word in a vocabulary into its 50-dimensional vector representation\n",
        "    learning_rate -- learning_rate for the stochastic gradient descent algorithm\n",
        "    num_iterations -- number of iterations\n",
        "    \n",
        "    Returns:\n",
        "    pred -- vector of predictions, numpy-array of shape (m, 1)\n",
        "    W -- weight matrix of the softmax layer, of shape (n_y, n_h)\n",
        "    b -- bias of the softmax layer, of shape (n_y,)\n",
        "    \"\"\"\n",
        "    \n",
        "    np.random.seed(1)\n",
        "\n",
        "    # Define number of training examples\n",
        "    m = Y.shape[0]                          # number of training examples\n",
        "    n_y = 5                                 # number of classes  \n",
        "    n_h = 50                                # dimensions of the GloVe vectors \n",
        "    \n",
        "    # Initialize parameters using Xavier initialization\n",
        "    W = np.random.randn(n_y, n_h) / np.sqrt(n_h)\n",
        "    b = np.zeros((n_y,))\n",
        "    \n",
        "    # Convert Y to Y_onehot with n_y classes\n",
        "    Y_oh = convert_to_one_hot(Y, C = n_y) \n",
        "    \n",
        "    # Optimization loop\n",
        "    for t in range(num_iterations): # Loop over the number of iterations\n",
        "        for i in range(m):          # Loop over the training examples\n",
        "            \n",
        "            ### START CODE HERE ### (≈ 4 lines of code)\n",
        "            # Average the word vectors of the words from the i'th training example\n",
        "            avg = sentence_to_avg(X[i], word_to_vec_map)\n",
        "\n",
        "            # Forward propagate the avg through the softmax layer\n",
        "            z = np.dot(W, avg) + b\n",
        "            a = softmax(z)\n",
        "\n",
        "            # Compute cost using the i'th training label's one hot representation and \"A\" (the output of the softmax)\n",
        "            cost = - np.sum(Y_oh[i] * np.log(a))\n",
        "            ### END CODE HERE ###\n",
        "            \n",
        "            # Compute gradients \n",
        "            dz = a - Y_oh[i]\n",
        "            dW = np.dot(dz.reshape(n_y,1), avg.reshape(1, n_h))\n",
        "            db = dz\n",
        "\n",
        "            # Update parameters with Stochastic Gradient Descent\n",
        "            W = W - learning_rate * dW\n",
        "            b = b - learning_rate * db\n",
        "        \n",
        "        if t % 100 == 0:\n",
        "            print(\"Epoch: \" + str(t) + \" --- cost = \" + str(cost))\n",
        "            pred = predict(X, Y, W, b, word_to_vec_map) #predict is defined in emo_utils.py\n",
        "\n",
        "    return pred, W, b"
      ],
      "execution_count": 0,
      "outputs": []
    },
    {
      "cell_type": "code",
      "metadata": {
        "id": "y4Py5-saWSLY",
        "colab_type": "code",
        "colab": {}
      },
      "source": [
        "print(X_train.shape)\n",
        "print(Y_train.shape)\n",
        "print(np.eye(5)[Y_train.reshape(-1)].shape)\n",
        "print(X_train[0])\n",
        "print(type(X_train))\n",
        "Y = np.asarray([5,0,0,5, 4, 4, 4, 6, 6, 4, 1, 1, 5, 6, 6, 3, 6, 3, 4, 4])\n",
        "print(Y.shape)\n",
        "\n",
        "X = np.asarray(['I am going to the bar tonight', 'I love you', 'miss you my dear',\n",
        " 'Lets go party and drinks','Congrats on the new job','Congratulations',\n",
        " 'I am so happy for you', 'Why are you feeling bad', 'What is wrong with you',\n",
        " 'You totally deserve this prize', 'Let us go play football',\n",
        " 'Are you down for football this afternoon', 'Work hard play harder',\n",
        " 'It is suprising how people can be dumb sometimes',\n",
        " 'I am very disappointed','It is the best day in my life',\n",
        " 'I think I will end up alone','My life is so boring','Good job',\n",
        " 'Great so awesome'])\n",
        "\n",
        "print(X.shape)\n",
        "print(np.eye(5)[Y_train.reshape(-1)].shape)\n",
        "print(type(X_train))"
      ],
      "execution_count": 0,
      "outputs": []
    },
    {
      "cell_type": "markdown",
      "metadata": {
        "id": "_5R872p5WWi0",
        "colab_type": "text"
      },
      "source": [
        "Run the next cell to train your model and learn the softmax parameters (W,b). "
      ]
    },
    {
      "cell_type": "code",
      "metadata": {
        "id": "LLNmZKRXWXCO",
        "colab_type": "code",
        "colab": {}
      },
      "source": [
        "pred, W, b = model(X_train, Y_train, word_to_vec_map)\n",
        "print(pred)"
      ],
      "execution_count": 0,
      "outputs": []
    },
    {
      "cell_type": "markdown",
      "metadata": {
        "id": "9-8JWBmTWad3",
        "colab_type": "text"
      },
      "source": [
        "**Expected Output** (on a subset of iterations):\n",
        "\n",
        "<table>\n",
        "    <tr>\n",
        "        <td>\n",
        "            **Epoch: 0**\n",
        "        </td>\n",
        "        <td>\n",
        "           cost = 1.95204988128\n",
        "        </td>\n",
        "        <td>\n",
        "           Accuracy: 0.348484848485\n",
        "        </td>\n",
        "    </tr>\n",
        "<tr>\n",
        "        <td>\n",
        "            **Epoch: 100**\n",
        "        </td>\n",
        "        <td>\n",
        "           cost = 0.0797181872601\n",
        "        </td>\n",
        "        <td>\n",
        "           Accuracy: 0.931818181818\n",
        "        </td>\n",
        "    </tr>\n",
        "<tr>\n",
        "        <td>\n",
        "            **Epoch: 200**\n",
        "        </td>\n",
        "        <td>\n",
        "           cost = 0.0445636924368\n",
        "        </td>\n",
        "        <td>\n",
        "           Accuracy: 0.954545454545\n",
        "        </td>\n",
        "    </tr>\n",
        "    <tr>\n",
        "        <td>\n",
        "            **Epoch: 300**\n",
        "        </td>\n",
        "        <td>\n",
        "           cost = 0.0343226737879\n",
        "        </td>\n",
        "        <td>\n",
        "           Accuracy: 0.969696969697\n",
        "        </td>\n",
        "    </tr>\n",
        "</table>"
      ]
    },
    {
      "cell_type": "markdown",
      "metadata": {
        "id": "HLi748TaWiCA",
        "colab_type": "text"
      },
      "source": [
        "Great! Your model has pretty high accuracy on the training set. Lets now see how it does on the test set. "
      ]
    },
    {
      "cell_type": "markdown",
      "metadata": {
        "id": "hM68BrKHWk7p",
        "colab_type": "text"
      },
      "source": [
        "### 1.4 - Examining test set performance "
      ]
    },
    {
      "cell_type": "markdown",
      "metadata": {
        "id": "UvBcql87WnvZ",
        "colab_type": "text"
      },
      "source": [
        "* Note that the `predict` function used here is defined in emo_util.spy."
      ]
    },
    {
      "cell_type": "code",
      "metadata": {
        "id": "okFsCrmsWprf",
        "colab_type": "code",
        "colab": {}
      },
      "source": [
        "print(\"Training set:\")\n",
        "pred_train = predict(X_train, Y_train, W, b, word_to_vec_map)\n",
        "print('Test set:')\n",
        "pred_test = predict(X_test, Y_test, W, b, word_to_vec_map)"
      ],
      "execution_count": 0,
      "outputs": []
    },
    {
      "cell_type": "markdown",
      "metadata": {
        "id": "n5LpawasWrgY",
        "colab_type": "text"
      },
      "source": [
        "**Expected Output**:\n",
        "\n",
        "<table>\n",
        "    <tr>\n",
        "        <td>\n",
        "            **Train set accuracy**\n",
        "        </td>\n",
        "        <td>\n",
        "           97.7\n",
        "        </td>\n",
        "    </tr>\n",
        "    <tr>\n",
        "        <td>\n",
        "            **Test set accuracy**\n",
        "        </td>\n",
        "        <td>\n",
        "           85.7\n",
        "        </td>\n",
        "    </tr>\n",
        "</table>"
      ]
    },
    {
      "cell_type": "markdown",
      "metadata": {
        "id": "LBDTN7QjW1NW",
        "colab_type": "text"
      },
      "source": [
        "* Random guessing would have had 20% accuracy given that there are 5 classes. (1/5 = 20%).\n",
        "* This is pretty good performance after training on only 127 examples. \n",
        "\n",
        "\n",
        "#### The model matches emojis to relevant words\n",
        "In the training set, the algorithm saw the sentence \n",
        ">\"*I love you*\" \n",
        "\n",
        "with the label ❤️. \n",
        "* You can check that the word \"adore\" does not appear in the training set. \n",
        "* Nonetheless, lets see what happens if you write \"*I adore you*.\""
      ]
    },
    {
      "cell_type": "code",
      "metadata": {
        "id": "W-vJuE9hW4bG",
        "colab_type": "code",
        "colab": {}
      },
      "source": [
        "X_my_sentences = np.array([\"i adore you\", \"i love you\", \"funny lol\", \"lets play with a ball\", \"food is ready\", \"not feeling happy\"])\n",
        "Y_my_labels = np.array([[0], [0], [2], [1], [4],[3]])\n",
        "\n",
        "pred = predict(X_my_sentences, Y_my_labels , W, b, word_to_vec_map)\n",
        "print_predictions(X_my_sentences, pred)"
      ],
      "execution_count": 0,
      "outputs": []
    },
    {
      "cell_type": "markdown",
      "metadata": {
        "id": "5egFTHL4W_7X",
        "colab_type": "text"
      },
      "source": [
        "Amazing! \n",
        "* Because *adore* has a similar embedding as *love*, the algorithm has generalized correctly even to a word it has never seen before. \n",
        "* Words such as *heart*, *dear*, *beloved* or *adore* have embedding vectors similar to *love*. \n",
        "    * Feel free to modify the inputs above and try out a variety of input sentences. \n",
        "    * How well does it work?\n",
        "\n",
        "#### Word ordering isn't considered in this model\n",
        "* Note that the model doesn't get the following sentence correct:\n",
        ">\"not feeling happy\" \n",
        "\n",
        "* This algorithm ignores word ordering, so is not good at understanding phrases like \"not happy.\" \n",
        "\n",
        "#### Confusion matrix\n",
        "* Printing the confusion matrix can also help understand which classes are more difficult for your model. \n",
        "* A confusion matrix shows how often an example whose label is one class (\"actual\" class) is mislabeled by the algorithm with a different class (\"predicted\" class)."
      ]
    },
    {
      "cell_type": "code",
      "metadata": {
        "id": "DgVtsaQBXDcP",
        "colab_type": "code",
        "colab": {}
      },
      "source": [
        "print(Y_test.shape)\n",
        "print('           '+ label_to_emoji(0)+ '    ' + label_to_emoji(1) + '    ' +  label_to_emoji(2)+ '    ' + label_to_emoji(3)+'   ' + label_to_emoji(4))\n",
        "print(pd.crosstab(Y_test, pred_test.reshape(56,), rownames=['Actual'], colnames=['Predicted'], margins=True))\n",
        "plot_confusion_matrix(Y_test, pred_test)"
      ],
      "execution_count": 0,
      "outputs": []
    },
    {
      "cell_type": "markdown",
      "metadata": {
        "id": "DcVpFzsLXHy0",
        "colab_type": "text"
      },
      "source": [
        "## What you should remember from this section"
      ]
    },
    {
      "cell_type": "markdown",
      "metadata": {
        "id": "zgfzY5_mXIca",
        "colab_type": "text"
      },
      "source": [
        "- Even with a 127 training examples, you can get a reasonably good model for Emojifying. \n",
        "    - This is due to the generalization power word vectors gives you. \n",
        "- Emojify-V1 will perform poorly on sentences such as *\"This movie is not good and not enjoyable\"* \n",
        "    - It doesn't understand combinations of words.\n",
        "    - It just averages all the words' embedding vectors together, without considering the ordering of words. \n",
        "    \n",
        "**You will build a better algorithm in the next section!**"
      ]
    },
    {
      "cell_type": "markdown",
      "metadata": {
        "id": "xUrk5_BMXMIi",
        "colab_type": "text"
      },
      "source": [
        "## 2 - Emojifier-V2: Using LSTMs in Keras: "
      ]
    },
    {
      "cell_type": "markdown",
      "metadata": {
        "id": "Acf7ykPCXO1w",
        "colab_type": "text"
      },
      "source": [
        "Let's build an LSTM model that takes word **sequences** as input!\n",
        "* This model will be able to account for the word ordering. \n",
        "* Emojifier-V2 will continue to use pre-trained word embeddings to represent words.\n",
        "* We will feed word embeddings into an LSTM.\n",
        "* The LSTM will learn to predict the most appropriate emoji. \n",
        "\n",
        "Run the following cell to load the Keras packages."
      ]
    },
    {
      "cell_type": "code",
      "metadata": {
        "id": "mFymrDnGW7hX",
        "colab_type": "code",
        "colab": {}
      },
      "source": [
        "import numpy as np\n",
        "np.random.seed(0)\n",
        "from keras.models import Model\n",
        "from keras.layers import Dense, Input, Dropout, LSTM, Activation\n",
        "from keras.layers.embeddings import Embedding\n",
        "from keras.preprocessing import sequence\n",
        "from keras.initializers import glorot_uniform\n",
        "np.random.seed(1)"
      ],
      "execution_count": 0,
      "outputs": []
    },
    {
      "cell_type": "markdown",
      "metadata": {
        "id": "x1EkcCYi5FJS",
        "colab_type": "text"
      },
      "source": [
        "### 2.1 - Overview of the model"
      ]
    },
    {
      "cell_type": "markdown",
      "metadata": {
        "id": "hDcB2oO45K6A",
        "colab_type": "text"
      },
      "source": [
        "Here is the Emojifier-v2 you will implement:\n",
        "\n",
        "<img src='https://github.com/rahiakela/img-repo/blob/master/deep-learning-specialization/emojifier-v2.png?raw=1' width='800'/>\n",
        "<br>\n",
        "<caption><center> **Figure 3**: Emojifier-V2. A 2-layer LSTM sequence classifier. </center></caption>"
      ]
    },
    {
      "cell_type": "markdown",
      "metadata": {
        "id": "yMvvuucA5cCu",
        "colab_type": "text"
      },
      "source": [
        "### 2.2 Keras and mini-batching"
      ]
    },
    {
      "cell_type": "markdown",
      "metadata": {
        "id": "PnVbNL715vlZ",
        "colab_type": "text"
      },
      "source": [
        "* In this exercise, we want to train Keras using mini-batches. \n",
        "* However, most deep learning frameworks require that all sequences in the same mini-batch have the **same length**. \n",
        "    * This is what allows vectorization to work: If you had a 3-word sentence and a 4-word sentence, then the computations needed for them are different (one takes 3 steps of an LSTM, one takes 4 steps) so it's just not possible to do them both at the same time.\n",
        "    \n",
        "#### Padding handles sequences of varying length\n",
        "* The common solution to handling sequences of **different length** is to use padding.  Specifically:\n",
        "    * Set a maximum sequence length\n",
        "    * Pad all sequences to have the same length. \n",
        "    \n",
        "##### Example of padding\n",
        "* Given a maximum sequence length of 20, we could pad every sentence with \"0\"s so that each input sentence is of length 20. \n",
        "* Thus, the sentence \"I love you\" would be represented as $(e_{I}, e_{love}, e_{you}, \\vec{0}, \\vec{0}, \\ldots, \\vec{0})$. \n",
        "* In this example, any sentences longer than 20 words would have to be truncated. \n",
        "* One way to choose the maximum sequence length is to just pick the length of the longest sentence in the training set. "
      ]
    },
    {
      "cell_type": "markdown",
      "metadata": {
        "id": "24-NkTll5yzd",
        "colab_type": "text"
      },
      "source": [
        "### 2.3 - The Embedding layer"
      ]
    },
    {
      "cell_type": "markdown",
      "metadata": {
        "id": "BkJwCVJ_51oL",
        "colab_type": "text"
      },
      "source": [
        "* In Keras, the embedding matrix is represented as a \"layer\".\n",
        "* The embedding matrix maps word indices to embedding vectors.\n",
        "    * The word indices are positive integers.\n",
        "    * The embedding vectors are dense vectors of fixed size.\n",
        "    * When we say a vector is \"dense\", in this context, it means that most of the values are non-zero.  As a counter-example, a one-hot encoded vector is not \"dense.\"\n",
        "* The embedding matrix can be derived in two ways:\n",
        "    * Training a model to derive the embeddings from scratch. \n",
        "    * Using a pretrained embedding\n",
        "    \n",
        "#### Using and updating pre-trained embeddings\n",
        "* In this part, you will learn how to create an [Embedding()](https://keras.io/layers/embeddings/) layer in Keras\n",
        "* You will initialize the Embedding layer with the GloVe 50-dimensional vectors. \n",
        "* In the code below, we'll show you how Keras allows you to either train or leave fixed this layer.  \n",
        "* Because our training set is quite small, we will leave the GloVe embeddings fixed instead of updating them."
      ]
    },
    {
      "cell_type": "markdown",
      "metadata": {
        "id": "z_-8v1iQ58cn",
        "colab_type": "text"
      },
      "source": [
        "#### Inputs and outputs to the embedding layer"
      ]
    },
    {
      "cell_type": "markdown",
      "metadata": {
        "id": "X6VLbiDy589x",
        "colab_type": "text"
      },
      "source": [
        "* The `Embedding()` layer's input is an integer matrix of size **(batch size, max input length)**. \n",
        "    * This input corresponds to sentences converted into lists of indices (integers).\n",
        "    * The largest integer (the highest word index) in the input should be no larger than the vocabulary size.\n",
        "* The embedding layer outputs an array of shape (batch size, max input length, dimension of word vectors).\n",
        "\n",
        "* The figure shows the propagation of two example sentences through the embedding layer. \n",
        "    * Both examples have been zero-padded to a length of `max_len=5`.\n",
        "    * The word embeddings are 50 units in length.\n",
        "    * The final dimension of the representation is  `(2,max_len,50)`. \n",
        "\n",
        "<img src='https://github.com/rahiakela/img-repo/blob/master/deep-learning-specialization/embedding1.png?raw=1' width='800'/>\n",
        "<caption><center> **Figure 4**: Embedding layer</center></caption>"
      ]
    },
    {
      "cell_type": "markdown",
      "metadata": {
        "id": "2M4Y-E-z6LE8",
        "colab_type": "text"
      },
      "source": [
        "#### Prepare the input sentences"
      ]
    },
    {
      "cell_type": "markdown",
      "metadata": {
        "id": "Y1QMue5X6LyR",
        "colab_type": "text"
      },
      "source": [
        "**Exercise**: \n",
        "* Implement `sentences_to_indices`, which processes an array of sentences (X) and returns inputs to the embedding layer:\n",
        "    * Convert each training sentences into a list of indices (the indices correspond to each word in the sentence)\n",
        "    * Zero-pad all these lists so that their length is the length of the longest sentence.\n",
        "    \n",
        "##### Additional Hints\n",
        "* Note that you may have considered using the `enumerate()` function in the for loop, but for the purposes of passing the autograder, please follow the starter code by initializing and incrementing `j` explicitly."
      ]
    },
    {
      "cell_type": "code",
      "metadata": {
        "id": "lsa9761N6N6W",
        "colab_type": "code",
        "colab": {}
      },
      "source": [
        "for idx, val in enumerate([\"I\", \"like\", \"learning\"]):\n",
        "    print(idx,val)"
      ],
      "execution_count": 0,
      "outputs": []
    },
    {
      "cell_type": "code",
      "metadata": {
        "id": "9dD5WBBe6SoB",
        "colab_type": "code",
        "colab": {}
      },
      "source": [
        "# GRADED FUNCTION: sentences_to_indices\n",
        "\n",
        "def sentences_to_indices(X, word_to_index, max_len):\n",
        "    \"\"\"\n",
        "    Converts an array of sentences (strings) into an array of indices corresponding to words in the sentences.\n",
        "    The output shape should be such that it can be given to `Embedding()` (described in Figure 4). \n",
        "    \n",
        "    Arguments:\n",
        "    X -- array of sentences (strings), of shape (m, 1)\n",
        "    word_to_index -- a dictionary containing the each word mapped to its index\n",
        "    max_len -- maximum number of words in a sentence. You can assume every sentence in X is no longer than this. \n",
        "    \n",
        "    Returns:\n",
        "    X_indices -- array of indices corresponding to words in the sentences from X, of shape (m, max_len)\n",
        "    \"\"\"\n",
        "    \n",
        "    m = X.shape[0]                                   # number of training examples\n",
        "    \n",
        "    ### START CODE HERE ###\n",
        "    # Initialize X_indices as a numpy matrix of zeros and the correct shape (≈ 1 line)\n",
        "    X_indices = np.zeros((m, max_len))\n",
        "    \n",
        "    for i in range(m):                               # loop over training examples\n",
        "        \n",
        "        # Convert the ith training sentence in lower case and split is into words. You should get a list of words.\n",
        "        sentence_words = X[i].lower().split()\n",
        "        print(\"sentence_words lenght = \" + str(len(sentence_words)))\n",
        "        \n",
        "        # Initialize j to 0\n",
        "        j = 0\n",
        "        \n",
        "        # Loop over the words of sentence_words\n",
        "        for w in sentence_words:\n",
        "            # Set the (i,j)th entry of X_indices to the index of the correct word.\n",
        "            X_indices[i, j] = word_to_index[w]\n",
        "            # Increment j to j + 1\n",
        "            j = j + 1\n",
        "            \n",
        "    ### END CODE HERE ###\n",
        "    \n",
        "    return X_indices"
      ],
      "execution_count": 0,
      "outputs": []
    },
    {
      "cell_type": "markdown",
      "metadata": {
        "id": "x9WImbh0EU6k",
        "colab_type": "text"
      },
      "source": [
        "Run the following cell to check what `sentences_to_indices()` does, and check your results."
      ]
    },
    {
      "cell_type": "code",
      "metadata": {
        "id": "XgIb8RVEEXj-",
        "colab_type": "code",
        "colab": {}
      },
      "source": [
        "X1 = np.array([\"funny lol\", \"lets play baseball\", \"food is ready for you\"])\n",
        "X1_indices = sentences_to_indices(X1,word_to_index, max_len = 5)\n",
        "\n",
        "print(f\"X1 = {X1}\")\n",
        "print(f\"X1_indices =\\n{X1_indices}\")"
      ],
      "execution_count": 0,
      "outputs": []
    },
    {
      "cell_type": "markdown",
      "metadata": {
        "id": "2m4xM3DTEiL5",
        "colab_type": "text"
      },
      "source": [
        "**Expected Output**:\n",
        "\n",
        "```Python\n",
        "X1 = ['funny lol' 'lets play baseball' 'food is ready for you']\n",
        "X1_indices =\n",
        " [[ 155345.  225122.       0.       0.       0.]\n",
        " [ 220930.  286375.   69714.       0.       0.]\n",
        " [ 151204.  192973.  302254.  151349.  394475.]]\n",
        "```"
      ]
    },
    {
      "cell_type": "markdown",
      "metadata": {
        "id": "fqBQoE1uEmEk",
        "colab_type": "text"
      },
      "source": [
        "#### Build embedding layer"
      ]
    },
    {
      "cell_type": "markdown",
      "metadata": {
        "id": "XW9afHCFEmsq",
        "colab_type": "text"
      },
      "source": [
        "\n",
        "* Let's build the `Embedding()` layer in Keras, using pre-trained word vectors. \n",
        "* The embedding layer takes as input a list of word indices.\n",
        "    * `sentences_to_indices()` creates these word indices.\n",
        "* The embedding layer will return the word embeddings for a sentence. \n",
        "\n",
        "**Exercise**: Implement `pretrained_embedding_layer()` with these steps:\n",
        "1. Initialize the embedding matrix as a numpy array of zeros.\n",
        "    * The embedding matrix has a row for each unique word in the vocabulary.\n",
        "        * There is one additional row to handle \"unknown\" words.\n",
        "        * So vocab_len is the number of unique words plus one.\n",
        "    * Each row will store the vector representation of one word. \n",
        "        * For example, one row may be 50 positions long if using GloVe word vectors.\n",
        "    * In the code below, `emb_dim` represents the length of a word embedding.\n",
        "2. Fill in each row of the embedding matrix with the vector representation of a word\n",
        "    * Each word in `word_to_index` is a string.\n",
        "    * word_to_vec_map is a dictionary where the keys are strings and the values are the word vectors.\n",
        "3. Define the Keras embedding layer. \n",
        "    * Use [Embedding()](https://keras.io/layers/embeddings/). \n",
        "    * The input dimension is equal to the vocabulary length (number of unique words plus one).\n",
        "    * The output dimension is equal to the number of positions in a word embedding.\n",
        "    * Make this layer's embeddings fixed.\n",
        "        * If you were to set `trainable = True`, then it will allow the optimization algorithm to modify the values of the word embeddings.\n",
        "        * In this case, we don't want the model to modify the word embeddings.\n",
        "4. Set the embedding weights to be equal to the embedding matrix.\n",
        "    * Note that this is part of the code is already completed for you and does not need to be modified. "
      ]
    },
    {
      "cell_type": "code",
      "metadata": {
        "id": "nZbwcsYaEpBn",
        "colab_type": "code",
        "colab": {}
      },
      "source": [
        "# GRADED FUNCTION: pretrained_embedding_layer\n",
        "\n",
        "def pretrained_embedding_layer(word_to_vec_map, word_to_index):\n",
        "    \"\"\"\n",
        "    Creates a Keras Embedding() layer and loads in pre-trained GloVe 50-dimensional vectors.\n",
        "    \n",
        "    Arguments:\n",
        "    word_to_vec_map -- dictionary mapping words to their GloVe vector representation.\n",
        "    word_to_index -- dictionary mapping from words to their indices in the vocabulary (400,001 words)\n",
        "\n",
        "    Returns:\n",
        "    embedding_layer -- pretrained layer Keras instance\n",
        "    \"\"\"\n",
        "    \n",
        "    vocab_len = len(word_to_index) + 1                  # adding 1 to fit Keras embedding (requirement)\n",
        "    emb_dim = word_to_vec_map[\"cucumber\"].shape[0]      # define dimensionality of your GloVe word vectors (= 50)\n",
        "    \n",
        "    ### START CODE HERE ###\n",
        "    # Step 1\n",
        "    # Initialize the embedding matrix as a numpy array of zeros.\n",
        "    # See instructions above to choose the correct shape.\n",
        "    emb_matrix = np.zeros((vocab_len, emb_dim))\n",
        "    \n",
        "    # Step 2\n",
        "    # Set each row \"idx\" of the embedding matrix to be \n",
        "    # the word vector representation of the idx'th word of the vocabulary\n",
        "    for word, idx in word_to_index.items():\n",
        "        emb_matrix[idx, :] = word_to_vec_map[word]\n",
        "\n",
        "    # Step 3\n",
        "    # Define Keras embedding layer with the correct input and output sizes\n",
        "    # Make it non-trainable.\n",
        "    embedding_layer = Embedding(vocab_len, emb_dim, trainable=False)\n",
        "    ### END CODE HERE ###\n",
        "\n",
        "    # Step 4 (already done for you; please do not modify)\n",
        "    # Build the embedding layer, it is required before setting the weights of the embedding layer. \n",
        "    embedding_layer.build((None,)) # Do not modify the \"None\".  This line of code is complete as-is.\n",
        "    \n",
        "    # Set the weights of the embedding layer to the embedding matrix. Your layer is now pretrained.\n",
        "    embedding_layer.set_weights([emb_matrix])\n",
        "    \n",
        "    return embedding_layer"
      ],
      "execution_count": 0,
      "outputs": []
    },
    {
      "cell_type": "code",
      "metadata": {
        "id": "G-62uYHzE1r2",
        "colab_type": "code",
        "colab": {}
      },
      "source": [
        "embedding_layer = pretrained_embedding_layer(word_to_vec_map, word_to_index)\n",
        "print(f\"weights[0][1][3] ={embedding_layer.get_weights()[0][1][3]}\")"
      ],
      "execution_count": 0,
      "outputs": []
    },
    {
      "cell_type": "markdown",
      "metadata": {
        "id": "_wXv2o5oE8Zb",
        "colab_type": "text"
      },
      "source": [
        "**Expected Output**:\n",
        "\n",
        "```Python\n",
        "weights[0][1][3] = -0.3403\n",
        "```"
      ]
    },
    {
      "cell_type": "markdown",
      "metadata": {
        "id": "nMFEqgTwE-wV",
        "colab_type": "text"
      },
      "source": [
        "## 2.3 Building the Emojifier-V2"
      ]
    },
    {
      "cell_type": "markdown",
      "metadata": {
        "id": "E9o2T0cbFB6J",
        "colab_type": "text"
      },
      "source": [
        "Lets now build the Emojifier-V2 model. \n",
        "* You feed the embedding layer's output to an LSTM network. \n",
        "\n",
        "<img src='https://github.com/rahiakela/img-repo/blob/master/deep-learning-specialization/emojifier-v22.png?raw=1' width='800'/>\n",
        "<br>\n",
        "<caption><center> **Figure 3**: Emojifier-v2. A 2-layer LSTM sequence classifier. </center></caption>\n",
        "\n",
        "\n",
        "**Exercise:** Implement `Emojify_V2()`, which builds a Keras graph of the architecture shown in Figure 3. \n",
        "* The model takes as input an array of sentences of shape (`m`, `max_len`, ) defined by `input_shape`. \n",
        "* The model outputs a softmax probability vector of shape (`m`, `C = 5`). \n",
        "\n",
        "* You may need to use the following Keras layers:\n",
        "    * [Input()](https://keras.io/layers/core/#input)\n",
        "        * Set the `shape` and `dtype` parameters.\n",
        "        * The inputs are integers, so you can specify the data type as a string, 'int32'.\n",
        "    * [LSTM()](https://keras.io/layers/recurrent/#lstm)\n",
        "        * Set the `units` and `return_sequences` parameters.\n",
        "    * [Dropout()](https://keras.io/layers/core/#dropout)\n",
        "        * Set the `rate` parameter.\n",
        "    * [Dense()](https://keras.io/layers/core/#dense)\n",
        "        * Set the `units`, \n",
        "        * Note that `Dense()` has an `activation` parameter.  For the purposes of passing the autograder, please do not set the activation within `Dense()`.  Use the separate `Activation` layer to do so.\n",
        "    * [Activation()](https://keras.io/activations/).\n",
        "        * You can pass in the activation of your choice as a lowercase string.\n",
        "    * [Model](https://keras.io/models/model/)\n",
        "        Set `inputs` and `outputs`."
      ]
    },
    {
      "cell_type": "markdown",
      "metadata": {
        "id": "DVzS3iaCFFRy",
        "colab_type": "text"
      },
      "source": [
        "#### Additional Hints"
      ]
    },
    {
      "cell_type": "markdown",
      "metadata": {
        "id": "EGvT7fC8FIZM",
        "colab_type": "text"
      },
      "source": [
        "* Remember that these Keras layers return an object, and you will feed in the outputs of the previous layer as the input arguments to that object.  The returned object can be created and called in the same line.\n",
        "\n",
        "```Python\n",
        "# How to use Keras layers in two lines of code\n",
        "dense_object = Dense(units = ...)\n",
        "X = dense_object(inputs)\n",
        "\n",
        "# How to use Keras layers in one line of code\n",
        "X = Dense(units = ...)(inputs)\n",
        "```\n",
        "\n",
        "* The `embedding_layer` that is returned by `pretrained_embedding_layer` is a layer object that can be called as a function, passing in a single argument (sentence indices).\n",
        "\n",
        "* Here is some sample code in case you're stuck\n",
        "```Python\n",
        "raw_inputs = Input(shape=(maxLen,), dtype='int32')\n",
        "preprocessed_inputs = ... # some pre-processing\n",
        "X = LSTM(units = ..., return_sequences= ...)(processed_inputs)\n",
        "X = Dropout(rate = ..., )(X)\n",
        "...\n",
        "X = Dense(units = ...)(X)\n",
        "X = Activation(...)(X)\n",
        "model = Model(inputs=..., outputs=...)\n",
        "...\n",
        "```"
      ]
    },
    {
      "cell_type": "code",
      "metadata": {
        "id": "rHg65hePFLWx",
        "colab_type": "code",
        "colab": {}
      },
      "source": [
        "# GRADED FUNCTION: Emojify_V2\n",
        "\n",
        "def Emojify_V2(input_shape, word_to_vec_map, word_to_index):\n",
        "    \"\"\"\n",
        "    Function creating the Emojify-v2 model's graph.\n",
        "    \n",
        "    Arguments:\n",
        "    input_shape -- shape of the input, usually (max_len,)\n",
        "    word_to_vec_map -- dictionary mapping every word in a vocabulary into its 50-dimensional vector representation\n",
        "    word_to_index -- dictionary mapping from words to their indices in the vocabulary (400,001 words)\n",
        "\n",
        "    Returns:\n",
        "    model -- a model instance in Keras\n",
        "    \"\"\"\n",
        "    \n",
        "    ### START CODE HERE ###\n",
        "    # Define sentence_indices as the input of the graph.\n",
        "    # It should be of shape input_shape and dtype 'int32' (as it contains indices, which are integers).\n",
        "    sentence_indices = Input(shape=input_shape, dtype='int32')\n",
        "    \n",
        "    # Create the embedding layer pretrained with GloVe Vectors (≈1 line)\n",
        "    embedding_layer = pretrained_embedding_layer(word_to_vec_map, word_to_index)\n",
        "    \n",
        "    # Propagate sentence_indices through your embedding layer\n",
        "    # (See additional hints in the instructions).\n",
        "    embeddings = embedding_layer(sentence_indices)     \n",
        "    \n",
        "    # Propagate the embeddings through an LSTM layer with 128-dimensional hidden state\n",
        "    # The returned output should be a batch of sequences.\n",
        "    X = LSTM(units=128, return_sequences=True)(embeddings)\n",
        "    # Add dropout with a probability of 0.5\n",
        "    X = Dropout(rate=0.5)(X)\n",
        "    # Propagate X trough another LSTM layer with 128-dimensional hidden state\n",
        "    # The returned output should be a single hidden state, not a batch of sequences.\n",
        "    X = LSTM(units=128, return_sequences=False)(X)\n",
        "    # Add dropout with a probability of 0.5\n",
        "    X = Dropout(rate=0.5)(X)\n",
        "    # Propagate X through a Dense layer with 5 units\n",
        "    X = Dense(units=5)(X)\n",
        "    # Add a softmax activation\n",
        "    X = Activation('softmax')(X)\n",
        "    \n",
        "    # Create Model instance which converts sentence_indices into X.\n",
        "    model = Model(inputs=sentence_indices, outputs=X)\n",
        "    \n",
        "    ### END CODE HERE ###\n",
        "    \n",
        "    return model"
      ],
      "execution_count": 0,
      "outputs": []
    },
    {
      "cell_type": "markdown",
      "metadata": {
        "id": "O6uwxlb1FRza",
        "colab_type": "text"
      },
      "source": [
        "Run the following cell to create your model and check its summary. Because all sentences in the dataset are less than 10 words, we chose `max_len = 10`.  You should see your architecture, it uses \"20,223,927\" parameters, of which 20,000,050 (the word embeddings) are non-trainable, and the remaining 223,877 are. Because our vocabulary size has 400,001 words (with valid indices from 0 to 400,000) there are 400,001\\*50 = 20,000,050 non-trainable parameters. "
      ]
    },
    {
      "cell_type": "code",
      "metadata": {
        "id": "ogjc6Ha8FSSi",
        "colab_type": "code",
        "colab": {}
      },
      "source": [
        "model = Emojify_V2((maxLen,), word_to_vec_map, word_to_index)\n",
        "model.summary()"
      ],
      "execution_count": 0,
      "outputs": []
    },
    {
      "cell_type": "markdown",
      "metadata": {
        "id": "V1Jzuwm-FULD",
        "colab_type": "text"
      },
      "source": [
        "As usual, after creating your model in Keras, you need to compile it and define what loss, optimizer and metrics your are want to use. Compile your model using `categorical_crossentropy` loss, `adam` optimizer and `['accuracy']` metrics:"
      ]
    },
    {
      "cell_type": "code",
      "metadata": {
        "id": "_qpVYYHnFWPD",
        "colab_type": "code",
        "colab": {}
      },
      "source": [
        "model.compile(loss='categorical_crossentropy', optimizer='adam', metrics=['accuracy'])"
      ],
      "execution_count": 0,
      "outputs": []
    },
    {
      "cell_type": "markdown",
      "metadata": {
        "id": "MFbBchN8FbcW",
        "colab_type": "text"
      },
      "source": [
        "It's time to train your model. Your Emojifier-V2 `model` takes as input an array of shape (`m`, `max_len`) and outputs probability vectors of shape (`m`, `number of classes`). We thus have to convert X_train (array of sentences as strings) to X_train_indices (array of sentences as list of word indices), and Y_train (labels as indices) to Y_train_oh (labels as one-hot vectors)."
      ]
    },
    {
      "cell_type": "code",
      "metadata": {
        "id": "IWV0uqVVFd-D",
        "colab_type": "code",
        "colab": {}
      },
      "source": [
        "X_train_indices = sentences_to_indices(X_train, word_to_index, maxLen)\n",
        "Y_train_oh = convert_to_one_hot(Y_train, C = 5)"
      ],
      "execution_count": 0,
      "outputs": []
    },
    {
      "cell_type": "markdown",
      "metadata": {
        "id": "PDE-FzKTFgRl",
        "colab_type": "text"
      },
      "source": [
        "Fit the Keras model on `X_train_indices` and `Y_train_oh`. We will use `epochs = 50` and `batch_size = 32`."
      ]
    },
    {
      "cell_type": "code",
      "metadata": {
        "id": "0gZQL0baFogR",
        "colab_type": "code",
        "colab": {}
      },
      "source": [
        "model.fit(X_train_indices, Y_train_oh, epochs = 50, batch_size = 32, shuffle=True)"
      ],
      "execution_count": 0,
      "outputs": []
    },
    {
      "cell_type": "markdown",
      "metadata": {
        "id": "dnCKKANhFq88",
        "colab_type": "text"
      },
      "source": [
        "Your model should perform around **90% to 100% accuracy** on the training set. The exact accuracy you get may be a little different. Run the following cell to evaluate your model on the test set. "
      ]
    },
    {
      "cell_type": "code",
      "metadata": {
        "id": "mtUaqivgFt9R",
        "colab_type": "code",
        "colab": {}
      },
      "source": [
        "X_test_indices = sentences_to_indices(X_test, word_to_index, max_len = maxLen)\n",
        "Y_test_oh = convert_to_one_hot(Y_test, C = 5)\n",
        "loss, acc = model.evaluate(X_test_indices, Y_test_oh)\n",
        "print()\n",
        "print(\"Test accuracy = \", acc)"
      ],
      "execution_count": 0,
      "outputs": []
    },
    {
      "cell_type": "markdown",
      "metadata": {
        "id": "9NZXCKXeFwxv",
        "colab_type": "text"
      },
      "source": [
        "You should get a test accuracy between 80% and 95%. Run the cell below to see the mislabelled examples. "
      ]
    },
    {
      "cell_type": "code",
      "metadata": {
        "id": "k3RVmLMMFxM3",
        "colab_type": "code",
        "colab": {}
      },
      "source": [
        "# This code allows you to see the mislabelled examples\n",
        "C = 5\n",
        "y_test_oh = np.eye(C)[Y_test.reshape(-1)]\n",
        "X_test_indices = sentences_to_indices(X_test, word_to_index, maxLen)\n",
        "pred = model.predict(X_test_indices)\n",
        "for i in range(len(X_test)):\n",
        "    x = X_test_indices\n",
        "    num = np.argmax(pred[i])\n",
        "    if(num != Y_test[i]):\n",
        "        print('Expected emoji:'+ label_to_emoji(Y_test[i]) + ' prediction: '+ X_test[i] + label_to_emoji(num).strip())"
      ],
      "execution_count": 0,
      "outputs": []
    },
    {
      "cell_type": "markdown",
      "metadata": {
        "id": "uLMorgLEF1k-",
        "colab_type": "text"
      },
      "source": [
        "Now you can try it on your own example. Write your own sentence below. "
      ]
    },
    {
      "cell_type": "code",
      "metadata": {
        "id": "8LvyFs3xF2CS",
        "colab_type": "code",
        "colab": {}
      },
      "source": [
        "# Change the sentence below to see your prediction. Make sure all the words are in the Glove embeddings.  \n",
        "x_test = np.array(['not feeling happy'])\n",
        "X_test_indices = sentences_to_indices(x_test, word_to_index, maxLen)\n",
        "print(x_test[0] +' '+  label_to_emoji(np.argmax(model.predict(X_test_indices))))"
      ],
      "execution_count": 0,
      "outputs": []
    },
    {
      "cell_type": "code",
      "metadata": {
        "id": "SYZSLP5xQ6J1",
        "colab_type": "code",
        "colab": {}
      },
      "source": [
        "x_test = np.array(['Very sad now'])\n",
        "X_test_indices = sentences_to_indices(x_test, word_to_index, maxLen)\n",
        "print(x_test[0] +' '+  label_to_emoji(np.argmax(model.predict(X_test_indices))))"
      ],
      "execution_count": 0,
      "outputs": []
    },
    {
      "cell_type": "code",
      "metadata": {
        "id": "tMYuJu6VQ6u8",
        "colab_type": "code",
        "colab": {}
      },
      "source": [
        "x_test = np.array(['Not very sad now'])\n",
        "X_test_indices = sentences_to_indices(x_test, word_to_index, maxLen)\n",
        "print(x_test[0] +' '+  label_to_emoji(np.argmax(model.predict(X_test_indices))))"
      ],
      "execution_count": 0,
      "outputs": []
    },
    {
      "cell_type": "markdown",
      "metadata": {
        "id": "cZU5w4-5F4aK",
        "colab_type": "text"
      },
      "source": [
        "## LSTM version accounts for word order"
      ]
    },
    {
      "cell_type": "markdown",
      "metadata": {
        "id": "MPXMX269F6yq",
        "colab_type": "text"
      },
      "source": [
        "* Previously, Emojify-V1 model did not correctly label \"not feeling happy,\" but our implementation of Emojiy-V2 got it right. \n",
        "    * (Keras' outputs are slightly random each time, so you may not have obtained the same result.) \n",
        "* The current model still isn't very robust at understanding negation (such as \"not happy\")\n",
        "    * This is because the training set is small and doesn't have a lot of examples of negation. \n",
        "    * But if the training set were larger, the LSTM model would be much better than the Emojify-V1 model at understanding such complex sentences."
      ]
    },
    {
      "cell_type": "markdown",
      "metadata": {
        "id": "BkJ2ItqqF83m",
        "colab_type": "text"
      },
      "source": [
        "### Congratulations!\n",
        "\n",
        "You have completed this notebook! ❤️❤️❤️"
      ]
    },
    {
      "cell_type": "markdown",
      "metadata": {
        "id": "FP8VFKWJGAn9",
        "colab_type": "text"
      },
      "source": [
        "## What you should remember"
      ]
    },
    {
      "cell_type": "markdown",
      "metadata": {
        "id": "wrpZp_RnGFsN",
        "colab_type": "text"
      },
      "source": [
        "- If you have an NLP task where the training set is small, using word embeddings can help your algorithm significantly. \n",
        "- Word embeddings allow your model to work on words in the test set that may not even appear in the training set. \n",
        "- Training sequence models in Keras (and in most other deep learning frameworks) requires a few important details:\n",
        "    - To use mini-batches, the sequences need to be **padded** so that all the examples in a mini-batch have the **same length**. \n",
        "    - An `Embedding()` layer can be initialized with pretrained values. \n",
        "        - These values can be either fixed or trained further on your dataset. \n",
        "        - If however your labeled dataset is small, it's usually not worth trying to train a large pre-trained set of embeddings.   \n",
        "    - `LSTM()` has a flag called `return_sequences` to decide if you would like to return every hidden states or only the last one. \n",
        "    - You can use `Dropout()` right after `LSTM()` to regularize your network. \n",
        "\n",
        "\n",
        "#### Input sentences:\n",
        "```Python\n",
        "\"Congratulations on finishing this assignment and building an Emojifier.\"\n",
        "\"We hope you're happy with what you've accomplished in this notebook!\"\n",
        "```\n",
        "#### Output emojis:\n",
        "# 😀😀😀😀😀😀"
      ]
    },
    {
      "cell_type": "markdown",
      "metadata": {
        "id": "n4Ci0T7JGUpa",
        "colab_type": "text"
      },
      "source": [
        "## Acknowledgments"
      ]
    },
    {
      "cell_type": "markdown",
      "metadata": {
        "id": "uPCmQtmmGXAd",
        "colab_type": "text"
      },
      "source": [
        "Thanks to Alison Darcy and the Woebot team for their advice on the creation of this assignment. \n",
        "* Woebot is a chatbot friend that is ready to speak with you 24/7. \n",
        "* Part of Woebot's technology uses word embeddings to understand the emotions of what you say. \n",
        "* You can chat with Woebot by going to http://woebot.io\n",
        "\n",
        "<img src='https://github.com/rahiakela/img-repo/blob/master/deep-learning-specialization/woebot.png?raw=1' width='800'/>"
      ]
    }
  ]
}