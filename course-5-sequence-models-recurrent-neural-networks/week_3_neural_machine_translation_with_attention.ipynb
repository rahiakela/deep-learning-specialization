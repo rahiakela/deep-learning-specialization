{
  "nbformat": 4,
  "nbformat_minor": 0,
  "metadata": {
    "colab": {
      "name": "week-3-neural_machine_translation_with_attention.ipynb",
      "provenance": [],
      "toc_visible": true,
      "authorship_tag": "ABX9TyOtPefTAGi509vgexXypE04",
      "include_colab_link": true
    },
    "kernelspec": {
      "name": "python3",
      "display_name": "Python 3"
    }
  },
  "cells": [
    {
      "cell_type": "markdown",
      "metadata": {
        "id": "view-in-github",
        "colab_type": "text"
      },
      "source": [
        "<a href=\"https://colab.research.google.com/github/rahiakela/coursera-deep-learning-specialization/blob/course-5-sequence-models-recurrent-neural-networks/week_3_neural_machine_translation_with_attention.ipynb\" target=\"_parent\"><img src=\"https://colab.research.google.com/assets/colab-badge.svg\" alt=\"Open In Colab\"/></a>"
      ]
    },
    {
      "cell_type": "markdown",
      "metadata": {
        "id": "VhSS9NFZhKDx",
        "colab_type": "text"
      },
      "source": [
        "# Neural Machine Translation"
      ]
    },
    {
      "cell_type": "markdown",
      "metadata": {
        "id": "k1dR6avMhKth",
        "colab_type": "text"
      },
      "source": [
        "Welcome to your first programming assignment for this week! \n",
        "\n",
        "* You will build a Neural Machine Translation (NMT) model to translate human-readable dates (\"25th of June, 2009\") into machine-readable dates (\"2009-06-25\"). \n",
        "* You will do this using an attention model, one of the most sophisticated sequence-to-sequence models. \n",
        "\n",
        "This notebook was produced together with NVIDIA's Deep Learning Institute. "
      ]
    },
    {
      "cell_type": "markdown",
      "metadata": {
        "id": "RodYE-c8haSE",
        "colab_type": "text"
      },
      "source": [
        "## Setup\n",
        "\n",
        "Let's load all the packages you will need for this assignment."
      ]
    },
    {
      "cell_type": "code",
      "metadata": {
        "id": "RtH2_QKIksxx",
        "colab_type": "code",
        "outputId": "3068012a-61a5-45f5-aa1b-fba9ad8c765d",
        "colab": {
          "base_uri": "https://localhost:8080/",
          "height": 170
        }
      },
      "source": [
        "! pip install faker"
      ],
      "execution_count": 0,
      "outputs": [
        {
          "output_type": "stream",
          "text": [
            "Collecting faker\n",
            "\u001b[?25l  Downloading https://files.pythonhosted.org/packages/b0/fa/cc588102bbc75983141265d0013dd42cb4e6223961ee03f1bdbcf6e9d4e2/Faker-4.0.0-py3-none-any.whl (963kB)\n",
            "\u001b[K     |████████████████████████████████| 972kB 2.9MB/s \n",
            "\u001b[?25hRequirement already satisfied: text-unidecode==1.3 in /usr/local/lib/python3.6/dist-packages (from faker) (1.3)\n",
            "Requirement already satisfied: python-dateutil>=2.4 in /usr/local/lib/python3.6/dist-packages (from faker) (2.6.1)\n",
            "Requirement already satisfied: six>=1.5 in /usr/local/lib/python3.6/dist-packages (from python-dateutil>=2.4->faker) (1.12.0)\n",
            "Installing collected packages: faker\n",
            "Successfully installed faker-4.0.0\n"
          ],
          "name": "stdout"
        }
      ]
    },
    {
      "cell_type": "code",
      "metadata": {
        "id": "gw6DEhN7hcIM",
        "colab_type": "code",
        "colab": {}
      },
      "source": [
        "from keras.layers import Bidirectional, Concatenate, Permute, Dot, Input, LSTM, Multiply\n",
        "from keras.layers import RepeatVector, Dense, Activation, Lambda\n",
        "from keras.optimizers import Adam\n",
        "from keras.utils import to_categorical\n",
        "from keras.models import load_model, Model\n",
        "import keras.backend as K\n",
        "import numpy as np\n",
        "\n",
        "from faker import Faker\n",
        "import random\n",
        "from tqdm import tqdm\n",
        "from babel.dates import format_date\n",
        "from nmt_utils import *\n",
        "import matplotlib.pyplot as plt\n",
        "%matplotlib inline"
      ],
      "execution_count": 0,
      "outputs": []
    },
    {
      "cell_type": "markdown",
      "metadata": {
        "id": "lIIDXo_KhmES",
        "colab_type": "text"
      },
      "source": [
        "## 1 - Translating human readable dates into machine readable dates"
      ]
    },
    {
      "cell_type": "markdown",
      "metadata": {
        "id": "8Im9wYNCiUMu",
        "colab_type": "text"
      },
      "source": [
        "* The model you will build here could be used to translate from one language to another, such as translating from English to Hindi. \n",
        "* However, language translation requires massive datasets and usually takes days of training on GPUs. \n",
        "* To give you a place to experiment with these models without using massive datasets, we will perform a simpler \"date translation\" task. \n",
        "* The network will input a date written in a variety of possible formats (*e.g. \"the 29th of August 1958\", \"03/30/1968\", \"24 JUNE 1987\"*) \n",
        "* The network will translate them into standardized, machine readable dates (*e.g. \"1958-08-29\", \"1968-03-30\", \"1987-06-24\"*). \n",
        "* We will have the network learn to output dates in the common machine-readable format YYYY-MM-DD. \n",
        "\n",
        "<!-- \n",
        "Take a look at [nmt_utils.py](./nmt_utils.py) to see all the formatting. Count and figure out how the formats work, you will need this knowledge later. !--> "
      ]
    },
    {
      "cell_type": "markdown",
      "metadata": {
        "id": "wPgPv8RjiZP5",
        "colab_type": "text"
      },
      "source": [
        "### 1.1 - Dataset"
      ]
    },
    {
      "cell_type": "markdown",
      "metadata": {
        "id": "xxml2YmxiZ4S",
        "colab_type": "text"
      },
      "source": [
        "We will train the model on a dataset of 10,000 human readable dates and their equivalent, standardized, machine readable dates. Let's run the following cells to load the dataset and print some examples. "
      ]
    },
    {
      "cell_type": "code",
      "metadata": {
        "id": "jxal0VQ2ib5F",
        "colab_type": "code",
        "outputId": "21fc3763-7e6d-433a-c904-e047920dccd4",
        "colab": {
          "base_uri": "https://localhost:8080/",
          "height": 33
        }
      },
      "source": [
        "m = 10000\n",
        "dataset, human_vocab, machine_vocab, inv_machine_vocab = load_dataset(m)"
      ],
      "execution_count": 0,
      "outputs": [
        {
          "output_type": "stream",
          "text": [
            "100%|██████████| 10000/10000 [00:00<00:00, 19391.15it/s]\n"
          ],
          "name": "stderr"
        }
      ]
    },
    {
      "cell_type": "code",
      "metadata": {
        "id": "0OvHaXdsiqRp",
        "colab_type": "code",
        "outputId": "c4e41748-c5b8-44d2-e3e3-c680f9bca174",
        "colab": {
          "base_uri": "https://localhost:8080/",
          "height": 183
        }
      },
      "source": [
        "dataset[:10]"
      ],
      "execution_count": 0,
      "outputs": [
        {
          "output_type": "execute_result",
          "data": {
            "text/plain": [
              "[('9 may 1998', '1998-05-09'),\n",
              " ('10.11.19', '2019-11-10'),\n",
              " ('9/10/70', '1970-09-10'),\n",
              " ('saturday april 28 1990', '1990-04-28'),\n",
              " ('thursday january 26 1995', '1995-01-26'),\n",
              " ('monday march 7 1983', '1983-03-07'),\n",
              " ('sunday may 22 1988', '1988-05-22'),\n",
              " ('08 jul 2008', '2008-07-08'),\n",
              " ('8 sep 1999', '1999-09-08'),\n",
              " ('thursday january 1 1981', '1981-01-01')]"
            ]
          },
          "metadata": {
            "tags": []
          },
          "execution_count": 6
        }
      ]
    },
    {
      "cell_type": "markdown",
      "metadata": {
        "id": "HZzGYaszjh3A",
        "colab_type": "text"
      },
      "source": [
        "You've loaded:\n",
        "- `dataset`: a list of tuples of (human readable date, machine readable date).\n",
        "- `human_vocab`: a python dictionary mapping all characters used in the human readable dates to an integer-valued index.\n",
        "- `machine_vocab`: a python dictionary mapping all characters used in machine readable dates to an integer-valued index. \n",
        "    - **Note**: These indices are not necessarily consistent with `human_vocab`. \n",
        "- `inv_machine_vocab`: the inverse dictionary of `machine_vocab`, mapping from indices back to characters. \n",
        "\n",
        "Let's preprocess the data and map the raw text data into the index values. \n",
        "- We will set Tx=30 \n",
        "    - We assume Tx is the maximum length of the human readable date.\n",
        "    - If we get a longer input, we would have to truncate it.\n",
        "- We will set Ty=10\n",
        "    - \"YYYY-MM-DD\" is 10 characters long."
      ]
    },
    {
      "cell_type": "code",
      "metadata": {
        "id": "1tJM6481jisd",
        "colab_type": "code",
        "outputId": "be2b5544-9e49-4b64-8931-a26e2d5ffff5",
        "colab": {
          "base_uri": "https://localhost:8080/",
          "height": 83
        }
      },
      "source": [
        "Tx = 30\n",
        "Ty = 10\n",
        "X, Y, Xoh, Yoh = preprocess_data(dataset, human_vocab, machine_vocab, Tx, Ty)\n",
        "\n",
        "print(f'X.shape: {X.shape}')\n",
        "print(f'Y.shape: {Y.shape}')\n",
        "print(f'Xoh.shape: {Xoh.shape}')\n",
        "print(f'Yoh.shape: {Yoh.shape}')"
      ],
      "execution_count": 0,
      "outputs": [
        {
          "output_type": "stream",
          "text": [
            "X.shape: (10000, 30)\n",
            "Y.shape: (10000, 10)\n",
            "Xoh.shape: (10000, 30, 37)\n",
            "Yoh.shape: (10000, 10, 11)\n"
          ],
          "name": "stdout"
        }
      ]
    },
    {
      "cell_type": "markdown",
      "metadata": {
        "id": "lO-8TN1-j-Wp",
        "colab_type": "text"
      },
      "source": [
        "You now have:\n",
        "- `X`: a processed version of the human readable dates in the training set.\n",
        "    - Each character in X is replaced by an index (integer) mapped to the character using `human_vocab`. \n",
        "    - Each date is padded to ensure a length of $T_x$ using a special character (< pad >). \n",
        "    - `X.shape = (m, Tx)` where m is the number of training examples in a batch.\n",
        "- `Y`: a processed version of the machine readable dates in the training set.\n",
        "    - Each character is replaced by the index (integer) it is mapped to in `machine_vocab`. \n",
        "    - `Y.shape = (m, Ty)`. \n",
        "- `Xoh`: one-hot version of `X`\n",
        "    - Each index in `X` is converted to the one-hot representation (if the index is 2, the one-hot version has the index position 2 set to 1, and the remaining positions are 0.\n",
        "    - `Xoh.shape = (m, Tx, len(human_vocab))`\n",
        "- `Yoh`: one-hot version of `Y`\n",
        "    - Each index in `Y` is converted to the one-hot representation. \n",
        "    - `Yoh.shape = (m, Tx, len(machine_vocab))`. \n",
        "    - `len(machine_vocab) = 11` since there are 10 numeric digits (0 to 9) and the `-` symbol."
      ]
    },
    {
      "cell_type": "code",
      "metadata": {
        "id": "dSBD29vdl2ID",
        "colab_type": "code",
        "outputId": "cdbac679-8c8c-48bc-f5ab-f1213d6da3d6",
        "colab": {
          "base_uri": "https://localhost:8080/",
          "height": 417
        }
      },
      "source": [
        "index = 5\n",
        "print(f'Source date: {dataset[index][0]}')\n",
        "print(f'Target date: {dataset[index][1]}')\n",
        "print()\n",
        "\n",
        "print(f'Source after preprocessing (indices): {X[index]}')\n",
        "print(f'Target after preprocessing (indices): {Y[index]}')\n",
        "print()\n",
        "\n",
        "print(f'Source after preprocessing (one-hot): {Xoh[index]}')\n",
        "print(f'Target after preprocessing (one-hot): {Yoh[index]}')"
      ],
      "execution_count": 0,
      "outputs": [
        {
          "output_type": "stream",
          "text": [
            "Source date: monday march 7 1983\n",
            "Target date: 1983-03-07\n",
            "\n",
            "Source after preprocessing (indices): [24 26 25 16 13 34  0 24 13 28 15 20  0 10  0  4 12 11  6 36 36 36 36 36\n",
            " 36 36 36 36 36 36]\n",
            "Target after preprocessing (indices): [ 2 10  9  4  0  1  4  0  1  8]\n",
            "\n",
            "Source after preprocessing (one-hot): [[0. 0. 0. ... 0. 0. 0.]\n",
            " [0. 0. 0. ... 0. 0. 0.]\n",
            " [0. 0. 0. ... 0. 0. 0.]\n",
            " ...\n",
            " [0. 0. 0. ... 0. 0. 1.]\n",
            " [0. 0. 0. ... 0. 0. 1.]\n",
            " [0. 0. 0. ... 0. 0. 1.]]\n",
            "Target after preprocessing (one-hot): [[0. 0. 1. 0. 0. 0. 0. 0. 0. 0. 0.]\n",
            " [0. 0. 0. 0. 0. 0. 0. 0. 0. 0. 1.]\n",
            " [0. 0. 0. 0. 0. 0. 0. 0. 0. 1. 0.]\n",
            " [0. 0. 0. 0. 1. 0. 0. 0. 0. 0. 0.]\n",
            " [1. 0. 0. 0. 0. 0. 0. 0. 0. 0. 0.]\n",
            " [0. 1. 0. 0. 0. 0. 0. 0. 0. 0. 0.]\n",
            " [0. 0. 0. 0. 1. 0. 0. 0. 0. 0. 0.]\n",
            " [1. 0. 0. 0. 0. 0. 0. 0. 0. 0. 0.]\n",
            " [0. 1. 0. 0. 0. 0. 0. 0. 0. 0. 0.]\n",
            " [0. 0. 0. 0. 0. 0. 0. 0. 1. 0. 0.]]\n"
          ],
          "name": "stdout"
        }
      ]
    },
    {
      "cell_type": "markdown",
      "metadata": {
        "id": "b5_qyaQdm03W",
        "colab_type": "text"
      },
      "source": [
        "## 2 - Neural machine translation with attention"
      ]
    },
    {
      "cell_type": "markdown",
      "metadata": {
        "id": "leoj8oa2m1bY",
        "colab_type": "text"
      },
      "source": [
        "* If you had to translate a book's paragraph from French to English, you would not read the whole paragraph, then close the book and translate. \n",
        "* Even during the translation process, you would read/re-read and focus on the parts of the French paragraph corresponding to the parts of the English you are writing down. \n",
        "* The attention mechanism tells a Neural Machine Translation model where it should pay attention to at any step. "
      ]
    },
    {
      "cell_type": "markdown",
      "metadata": {
        "id": "bqSVqGpsm3cs",
        "colab_type": "text"
      },
      "source": [
        "### 2.1 - Attention mechanism"
      ]
    },
    {
      "cell_type": "markdown",
      "metadata": {
        "id": "wdqkKuM0m5T_",
        "colab_type": "text"
      },
      "source": [
        "In this part, you will implement the attention mechanism presented in the lecture videos. \n",
        "* Here is a figure to remind you how the model works. \n",
        "    * The diagram on the left shows the attention model. \n",
        "    * The diagram on the right shows what one \"attention\" step does to calculate the attention variables $\\alpha^{\\langle t, t' \\rangle}$.\n",
        "    * The attention variables $\\alpha^{\\langle t, t' \\rangle}$ are used to compute the context variable $context^{\\langle t \\rangle}$ for each timestep in the output ($t=1, \\ldots, T_y$). \n",
        "\n",
        "<table>\n",
        "<td> \n",
        "<img src='https://github.com/rahiakela/img-repo/blob/master/deep-learning-specialization/attn_model.png?raw=1' width='800'/><br>\n",
        "</td> \n",
        "<td> \n",
        "<img src='https://github.com/rahiakela/img-repo/blob/master/deep-learning-specialization/attn_mechanism.png?raw=1' width='800'/>\n",
        "<br>\n",
        "</td> \n",
        "</table>\n",
        "<caption><center> **Figure 1**: Neural machine translation with attention</center></caption>"
      ]
    },
    {
      "cell_type": "markdown",
      "metadata": {
        "id": "mdglfJ4g-JGu",
        "colab_type": "text"
      },
      "source": [
        "Here are some properties of the model that you may notice: \n",
        "\n",
        "#### Pre-attention and Post-attention LSTMs on both sides of the attention mechanism\n",
        "- There are two separate LSTMs in this model (see diagram on the left): pre-attention and post-attention LSTMs.\n",
        "- *Pre-attention* Bi-LSTM is the one at the bottom of the picture is a Bi-directional LSTM and comes *before* the attention mechanism.\n",
        "    - The attention mechanism is shown in the middle of the left-hand diagram.\n",
        "    - The pre-attention Bi-LSTM goes through $T_x$ time steps\n",
        "- *Post-attention* LSTM: at the top of the diagram comes *after* the attention mechanism. \n",
        "    - The post-attention LSTM goes through $T_y$ time steps. \n",
        "\n",
        "- The post-attention LSTM passes the hidden state $s^{\\langle t \\rangle}$ and cell state $c^{\\langle t \\rangle}$ from one time step to the next. "
      ]
    },
    {
      "cell_type": "markdown",
      "metadata": {
        "id": "i5DZiKPw-Kdw",
        "colab_type": "text"
      },
      "source": [
        "#### An LSTM has both a hidden state and cell state"
      ]
    },
    {
      "cell_type": "markdown",
      "metadata": {
        "id": "TAQqfws0-ROH",
        "colab_type": "text"
      },
      "source": [
        "* In the lecture videos, we were using only a basic RNN for the post-attention sequence model\n",
        "    * This means that the state captured by the RNN was outputting only the hidden state $s^{\\langle t\\rangle}$. \n",
        "* In this assignment, we are using an LSTM instead of a basic RNN.\n",
        "    * So the LSTM has both the hidden state $s^{\\langle t\\rangle}$ and the cell state $c^{\\langle t\\rangle}$. "
      ]
    },
    {
      "cell_type": "markdown",
      "metadata": {
        "id": "uHqZ44U3-TKI",
        "colab_type": "text"
      },
      "source": [
        "#### Each time step does not use predictions from the previous time step"
      ]
    },
    {
      "cell_type": "markdown",
      "metadata": {
        "id": "ReE5kDK8-Wdd",
        "colab_type": "text"
      },
      "source": [
        "* Unlike previous text generation examples earlier in the course, in this model, the post-attention LSTM at time $t$ does not take the previous time step's prediction $y^{\\langle t-1 \\rangle}$ as input.\n",
        "* The post-attention LSTM at time 't' only takes the hidden state $s^{\\langle t\\rangle}$ and cell state $c^{\\langle t\\rangle}$ as input. \n",
        "* We have designed the model this way because unlike language generation (where adjacent characters are highly correlated) there isn't as strong a dependency between the previous character and the next character in a YYYY-MM-DD date."
      ]
    },
    {
      "cell_type": "markdown",
      "metadata": {
        "id": "rxpyvKHC-ZNK",
        "colab_type": "text"
      },
      "source": [
        "#### Concatenation of hidden states from the forward and backward pre-attention LSTMs"
      ]
    },
    {
      "cell_type": "markdown",
      "metadata": {
        "id": "3mE0yRCz-cTd",
        "colab_type": "text"
      },
      "source": [
        "- $\\overrightarrow{a}^{\\langle t \\rangle}$: hidden state of the forward-direction, pre-attention LSTM.\n",
        "- $\\overleftarrow{a}^{\\langle t \\rangle}$: hidden state of the backward-direction, pre-attention LSTM.\n",
        "- $a^{\\langle t \\rangle} = [\\overrightarrow{a}^{\\langle t \\rangle}, \\overleftarrow{a}^{\\langle t \\rangle}]$: the concatenation of the activations of both the forward-direction $\\overrightarrow{a}^{\\langle t \\rangle}$ and backward-directions $\\overleftarrow{a}^{\\langle t \\rangle}$ of the pre-attention Bi-LSTM. "
      ]
    },
    {
      "cell_type": "markdown",
      "metadata": {
        "id": "FgoFeNZT-emv",
        "colab_type": "text"
      },
      "source": [
        "#### Computing \"energies\" $e^{\\langle t, t' \\rangle}$ as a function of $s^{\\langle t-1 \\rangle}$ and $a^{\\langle t' \\rangle}$"
      ]
    },
    {
      "cell_type": "markdown",
      "metadata": {
        "id": "ztgUKAln-iMT",
        "colab_type": "text"
      },
      "source": [
        "- Recall in the lesson videos \"Attention Model\", at time 6:45 to 8:16, the definition of \"e\" as a function of $s^{\\langle t-1 \\rangle}$ and $a^{\\langle t \\rangle}$.\n",
        "    - \"e\" is called the \"energies\" variable.\n",
        "    - $s^{\\langle t-1 \\rangle}$ is the hidden state of the post-attention LSTM\n",
        "    - $a^{\\langle t' \\rangle}$ is the hidden state of the pre-attention LSTM.\n",
        "    - $s^{\\langle t-1 \\rangle}$ and $a^{\\langle t \\rangle}$ are fed into a simple neural network, which learns the function to output $e^{\\langle t, t' \\rangle}$.\n",
        "    - $e^{\\langle t, t' \\rangle}$ is then used when computing the attention $a^{\\langle t, t' \\rangle}$ that $y^{\\langle t \\rangle}$ should pay to $a^{\\langle t' \\rangle}$."
      ]
    },
    {
      "cell_type": "markdown",
      "metadata": {
        "id": "Hc9BacQZ-lG5",
        "colab_type": "text"
      },
      "source": [
        "- The diagram on the right of figure 1 uses a `RepeatVector` node to copy $s^{\\langle t-1 \\rangle}$'s value $T_x$ times.\n",
        "- Then it uses `Concatenation` to concatenate $s^{\\langle t-1 \\rangle}$ and $a^{\\langle t \\rangle}$.\n",
        "- The concatenation of $s^{\\langle t-1 \\rangle}$ and $a^{\\langle t \\rangle}$ is fed into a \"Dense\" layer, which computes $e^{\\langle t, t' \\rangle}$. \n",
        "- $e^{\\langle t, t' \\rangle}$ is then passed through a softmax to compute $\\alpha^{\\langle t, t' \\rangle}$.\n",
        "- Note that the diagram doesn't explicitly show variable $e^{\\langle t, t' \\rangle}$, but $e^{\\langle t, t' \\rangle}$ is above the Dense layer and below the Softmax layer in the diagram in the right half of figure 1.\n",
        "- We'll explain how to use `RepeatVector` and `Concatenation` in Keras below. "
      ]
    },
    {
      "cell_type": "markdown",
      "metadata": {
        "id": "xbnjcZD--pF3",
        "colab_type": "text"
      },
      "source": [
        "### Implementation Details"
      ]
    },
    {
      "cell_type": "markdown",
      "metadata": {
        "id": "sj53TTyd-spx",
        "colab_type": "text"
      },
      "source": [
        "Let's implement this neural translator. You will start by implementing two functions: `one_step_attention()` and `model()`.\n",
        "\n",
        "#### one_step_attention\n",
        "* The inputs to the one_step_attention at time step $t$ are:\n",
        "    - $[a^{\\<1>},a^{\\<2>}, ..., a^{\\<T_x>}]$: all hidden states of the pre-attention Bi-LSTM.\n",
        "    - $s^{\\<t-1>}$: the previous hidden state of the post-attention LSTM \n",
        "* one_step_attention computes:\n",
        "    - $[\\alpha^{<t,1>},\\alpha^{<t,2>}, ..., \\alpha^{<t,T_x>}]$: the attention weights\n",
        "    - $context^{ \\langle t \\rangle }$: the context vector:\n",
        "    \n",
        "$$context^{<t>} = \\sum_{t' = 1}^{T_x} \\alpha^{<t,t'>}a^{<t'>}\\tag{1}$$ \n",
        "\n",
        "##### Clarifying 'context' and 'c'\n",
        "- In the lecture videos, the context was denoted $c^{\\langle t \\rangle}$\n",
        "- In the assignment, we are calling the context $context^{\\langle t \\rangle}$.\n",
        "    - This is to avoid confusion with the post-attention LSTM's internal memory cell variable, which is also denoted $c^{\\langle t \\rangle}$."
      ]
    },
    {
      "cell_type": "markdown",
      "metadata": {
        "id": "9CZJA4Nq-u_I",
        "colab_type": "text"
      },
      "source": [
        "#### Implement `one_step_attention`"
      ]
    },
    {
      "cell_type": "markdown",
      "metadata": {
        "id": "X4JBvHLy-z_q",
        "colab_type": "text"
      },
      "source": [
        "**Exercise**: Implement `one_step_attention()`. \n",
        "\n",
        "* The function `model()` will call the layers in `one_step_attention()` $T_y$ using a for-loop.\n",
        "* It is important that all $T_y$ copies have the same weights. \n",
        "    * It should not reinitialize the weights every time. \n",
        "    * In other words, all $T_y$ steps should have shared weights. \n",
        "* Here's how you can implement layers with shareable weights in Keras:\n",
        "    1. Define the layer objects in a variable scope that is outside of the `one_step_attention` function.  For example, defining the objects as global variables would work.\n",
        "        - Note that defining these variables inside the scope of the function `model` would technically work, since `model` will then call the `one_step_attention` function.  For the purposes of making grading and troubleshooting easier, we are defining these as global variables.  Note that the automatic grader will expect these to be global variables as well.\n",
        "    2. Call these objects when propagating the input.\n",
        "* We have defined the layers you need as global variables. \n",
        "    * Please run the following cells to create them. \n",
        "    * Please note that the automatic grader expects these global variables with the given variable names.  For grading purposes, please do not rename the global variables.\n",
        "* Please check the Keras documentation to learn more about these layers.  The layers are functions.  Below are examples of how to call these functions.\n",
        "    * [RepeatVector()](https://keras.io/layers/core/#repeatvector)\n",
        "```Python\n",
        "var_repeated = repeat_layer(var1)\n",
        "```\n",
        "    * [Concatenate()](https://keras.io/layers/merge/#concatenate)   \n",
        "```Python\n",
        "concatenated_vars = concatenate_layer([var1,var2,var3])\n",
        "```\n",
        "    * [Dense()](https://keras.io/layers/core/#dense)  \n",
        "```Python\n",
        "var_out = dense_layer(var_in)\n",
        "```\n",
        "    * [Activation()](https://keras.io/layers/core/#activation)  \n",
        "```Python\n",
        "activation = activation_layer(var_in)  \n",
        "```\n",
        "    * [Dot()](https://keras.io/layers/merge/#dot)  \n",
        "```Python\n",
        "dot_product = dot_layer([var1,var2])\n",
        "```"
      ]
    },
    {
      "cell_type": "code",
      "metadata": {
        "id": "aA_3xKulmieU",
        "colab_type": "code",
        "colab": {}
      },
      "source": [
        "# Defined shared layers as global variables\n",
        "repeator = RepeatVector(Tx)\n",
        "concatenator = Concatenate(axis=-1)\n",
        "densor1 = Dense(10, activation = \"tanh\")\n",
        "densor2 = Dense(1, activation = \"relu\")\n",
        "activator = Activation(softmax, name='attention_weights') # We are using a custom softmax(axis = 1) loaded in this notebook\n",
        "dotor = Dot(axes = 1)"
      ],
      "execution_count": 0,
      "outputs": []
    },
    {
      "cell_type": "code",
      "metadata": {
        "id": "7PfLebcn_cC8",
        "colab_type": "code",
        "colab": {}
      },
      "source": [
        "# GRADED FUNCTION: one_step_attention\n",
        "\n",
        "def one_step_attention(a, s_prev):\n",
        "    \"\"\"\n",
        "    Performs one step of attention: Outputs a context vector computed as a dot product of the attention weights\n",
        "    \"alphas\" and the hidden states \"a\" of the Bi-LSTM.\n",
        "    \n",
        "    Arguments:\n",
        "    a -- hidden state output of the Bi-LSTM, numpy-array of shape (m, Tx, 2*n_a)\n",
        "    s_prev -- previous hidden state of the (post-attention) LSTM, numpy-array of shape (m, n_s)\n",
        "    \n",
        "    Returns:\n",
        "    context -- context vector, input of the next (post-attention) LSTM cell\n",
        "    \"\"\"\n",
        "    \n",
        "    ### START CODE HERE ###\n",
        "    # Use repeator to repeat s_prev to be of shape (m, Tx, n_s) so that you can concatenate it with all hidden states \"a\" (≈ 1 line)\n",
        "    s_prev = repeator(s_prev)\n",
        "    # Use concatenator to concatenate a and s_prev on the last axis (≈ 1 line)\n",
        "    # For grading purposes, please list 'a' first and 's_prev' second, in this order.\n",
        "    concat = concatenator([a, s_prev])\n",
        "    # Use densor1 to propagate concat through a small fully-connected neural network to compute the \"intermediate energies\" variable e. (≈1 lines)\n",
        "    e = densor1(concat)\n",
        "    # Use densor2 to propagate e through a small fully-connected neural network to compute the \"energies\" variable energies. (≈1 lines)\n",
        "    energies = densor2(e)\n",
        "    # Use \"activator\" on \"energies\" to compute the attention weights \"alphas\" (≈ 1 line)\n",
        "    alphas = activator(energies)\n",
        "    # Use dotor together with \"alphas\" and \"a\" to compute the context vector to be given to the next (post-attention) LSTM-cell (≈ 1 line)\n",
        "    context = dotor([alphas, a])\n",
        "    ### END CODE HERE ###\n",
        "    \n",
        "    return context"
      ],
      "execution_count": 0,
      "outputs": []
    },
    {
      "cell_type": "markdown",
      "metadata": {
        "id": "D5YgLc5A_fvh",
        "colab_type": "text"
      },
      "source": [
        "You will be able to check the expected output of `one_step_attention()` after you've coded the `model()` function."
      ]
    },
    {
      "cell_type": "markdown",
      "metadata": {
        "id": "-sittZ-y_kph",
        "colab_type": "text"
      },
      "source": [
        "#### model"
      ]
    },
    {
      "cell_type": "markdown",
      "metadata": {
        "id": "FQW90XN2_lJO",
        "colab_type": "text"
      },
      "source": [
        "* `model` first runs the input through a Bi-LSTM to get $[a^{<1>},a^{<2>}, ..., a^{<T_x>}]$. \n",
        "* Then, `model` calls `one_step_attention()` $T_y$ times using a `for` loop.  At each iteration of this loop:\n",
        "    - It gives the computed context vector $context^{<t>}$ to the post-attention LSTM.\n",
        "    - It runs the output of the post-attention LSTM through a dense layer with softmax activation.\n",
        "    - The softmax generates a prediction $\\hat{y}^{<t>}$. \n",
        "\n",
        "**Exercise**: Implement `model()` as explained in figure 1 and the text above. Again, we have defined global layers that will share weights to be used in `model()`."
      ]
    },
    {
      "cell_type": "code",
      "metadata": {
        "id": "WI_ZpFOh_rM-",
        "colab_type": "code",
        "colab": {}
      },
      "source": [
        "n_a = 32 # number of units for the pre-attention, bi-directional LSTM's hidden state 'a'\n",
        "n_s = 64 # number of units for the post-attention LSTM's hidden state \"s\"\n",
        "\n",
        "# Please note, this is the post attention LSTM cell.  \n",
        "# For the purposes of passing the automatic grader\n",
        "# please do not modify this global variable.  This will be corrected once the automatic grader is also updated.\n",
        "post_activation_LSTM_cell = LSTM(n_s, return_state = True) # post-attention LSTM \n",
        "output_layer = Dense(len(machine_vocab), activation=softmax)"
      ],
      "execution_count": 0,
      "outputs": []
    },
    {
      "cell_type": "markdown",
      "metadata": {
        "id": "59dIP8yS_yYo",
        "colab_type": "text"
      },
      "source": [
        "Now you can use these layers $T_y$ times in a `for` loop to generate the outputs, and their parameters will not be reinitialized. You will have to carry out the following steps: \n",
        "\n",
        "1. Propagate the input `X` into a bi-directional LSTM.\n",
        "    * [Bidirectional](https://keras.io/layers/wrappers/#bidirectional) \n",
        "    * [LSTM](https://keras.io/layers/recurrent/#lstm)\n",
        "    * Remember that we want the LSTM to return a full sequence instead of just the last hidden state.  \n",
        "    \n",
        "Sample code:\n",
        "\n",
        "```Python\n",
        "sequence_of_hidden_states = Bidirectional(LSTM(units=..., return_sequences=...))(the_input_X)\n",
        "```\n",
        "    \n",
        "2. Iterate for $t = 0, \\cdots, T_y-1$: \n",
        "    1. Call `one_step_attention()`, passing in the sequence of hidden states $[a^{\\langle 1 \\rangle},a^{\\langle 2 \\rangle}, ..., a^{ \\langle T_x \\rangle}]$ from the pre-attention bi-directional LSTM, and the previous hidden state $s^{\\<t-1>}$ from the post-attention LSTM to calculate the context vector $context^{\\<t>}$.\n",
        "    2. Give $context^{\\<t>}$ to the post-attention LSTM cell. \n",
        "        - Remember to pass in the previous hidden-state $s^{\\langle t-1\\rangle}$ and cell-states $c^{\\langle t-1\\rangle}$ of this LSTM \n",
        "        * This outputs the new hidden state $s^{\\<t>}$ and the new cell state $c^{\\<t>}$.  \n",
        "\n",
        "        Sample code:\n",
        "        ```Python\n",
        "        next_hidden_state, _ , next_cell_state = \n",
        "            post_activation_LSTM_cell(inputs=..., initial_state=[prev_hidden_state, prev_cell_state])\n",
        "        ```   \n",
        "        Please note that the layer is actually the \"post attention LSTM cell\".  For the purposes of passing the automatic grader, please do not modify the naming of this global variable.  This will be fixed when we deploy updates to the automatic grader.\n",
        "    3. Apply a dense, softmax layer to $s^{\\<t>}$, get the output.  \n",
        "        Sample code:\n",
        "        ```Python\n",
        "        output = output_layer(inputs=...)\n",
        "        ```\n",
        "    4. Save the output by adding it to the list of outputs.\n",
        "\n",
        "3. Create your Keras model instance.\n",
        "    * It should have three inputs:\n",
        "        * `X`, the one-hot encoded inputs to the model, of shape ($T_{x}, humanVocabSize)$\n",
        "        * $s^{\\langle 0 \\rangle}$, the initial hidden state of the post-attention LSTM\n",
        "        * $c^{\\langle 0 \\rangle}$), the initial cell state of the post-attention LSTM\n",
        "    * The output is the list of outputs.  \n",
        "    Sample code\n",
        "    ```Python\n",
        "    model = Model(inputs=[...,...,...], outputs=...)\n",
        "    ```"
      ]
    },
    {
      "cell_type": "code",
      "metadata": {
        "id": "CEq8RlwO_y9a",
        "colab_type": "code",
        "colab": {}
      },
      "source": [
        "# GRADED FUNCTION: model\n",
        "\n",
        "def model(Tx, Ty, n_a, n_s, human_vocab_size, machine_vocab_size):\n",
        "    \"\"\"\n",
        "    Arguments:\n",
        "    Tx -- length of the input sequence\n",
        "    Ty -- length of the output sequence\n",
        "    n_a -- hidden state size of the Bi-LSTM\n",
        "    n_s -- hidden state size of the post-attention LSTM\n",
        "    human_vocab_size -- size of the python dictionary \"human_vocab\"\n",
        "    machine_vocab_size -- size of the python dictionary \"machine_vocab\"\n",
        "\n",
        "    Returns:\n",
        "    model -- Keras model instance\n",
        "    \"\"\"\n",
        "    \n",
        "    # Define the inputs of your model with a shape (Tx,)\n",
        "    # Define s0 (initial hidden state) and c0 (initial cell state)\n",
        "    # for the decoder LSTM with shape (n_s,)\n",
        "    X = Input(shape=(Tx, human_vocab_size))\n",
        "    s0 = Input(shape=(n_s,), name='s0')\n",
        "    c0 = Input(shape=(n_s,), name='c0')\n",
        "    s = s0\n",
        "    c = c0\n",
        "    \n",
        "    # Initialize empty list of outputs\n",
        "    outputs = []\n",
        "    \n",
        "    ### START CODE HERE ###\n",
        "    \n",
        "    # Step 1: Define your pre-attention Bi-LSTM. (≈ 1 line)\n",
        "    a = Bidirectional(LSTM(units=n_a, return_sequences=True))(X)\n",
        "    \n",
        "    # Step 2: Iterate for Ty steps\n",
        "    for t in range(Ty):\n",
        "    \n",
        "        # Step 2.A: Perform one step of the attention mechanism to get back the context vector at step t (≈ 1 line)\n",
        "        context = one_step_attention(a, s)\n",
        "        \n",
        "        # Step 2.B: Apply the post-attention LSTM cell to the \"context\" vector.\n",
        "        # Don't forget to pass: initial_state = [hidden state, cell state] (≈ 1 line)\n",
        "        s, _, c = post_activation_LSTM_cell(context, initial_state=[s, c])\n",
        "        \n",
        "        # Step 2.C: Apply Dense layer to the hidden state output of the post-attention LSTM (≈ 1 line)\n",
        "        out = output_layer(inputs=s)\n",
        "        \n",
        "        # Step 2.D: Append \"out\" to the \"outputs\" list (≈ 1 line)\n",
        "        outputs.append(out)\n",
        "    \n",
        "    # Step 3: Create model instance taking three inputs and returning the list of outputs. (≈ 1 line)\n",
        "    model = Model(inputs=[X, s0, c0], outputs=outputs)\n",
        "    \n",
        "    ### END CODE HERE ###\n",
        "    \n",
        "    return model"
      ],
      "execution_count": 0,
      "outputs": []
    },
    {
      "cell_type": "markdown",
      "metadata": {
        "id": "per8nPLC_5XY",
        "colab_type": "text"
      },
      "source": [
        "Run the following cell to create your model."
      ]
    },
    {
      "cell_type": "code",
      "metadata": {
        "id": "Vpyo5p1w_54F",
        "colab_type": "code",
        "colab": {}
      },
      "source": [
        "model = model(Tx, Ty, n_a, n_s, len(human_vocab), len(machine_vocab))"
      ],
      "execution_count": 0,
      "outputs": []
    },
    {
      "cell_type": "markdown",
      "metadata": {
        "id": "vKvD31CV1p-R",
        "colab_type": "text"
      },
      "source": [
        "#### Troubleshooting Note\n",
        "* If you are getting repeated errors after an initially incorrect implementation of \"model\", but believe that you have corrected the error, you may still see error messages when building your model.  \n",
        "* A solution is to save and restart your kernel (or shutdown then restart your notebook), and re-run the cells.\n",
        "\n",
        "Let's get a summary of the model to check if it matches the expected output."
      ]
    },
    {
      "cell_type": "code",
      "metadata": {
        "id": "gloF0B9G1tCv",
        "colab_type": "code",
        "colab": {}
      },
      "source": [
        "model.summary()"
      ],
      "execution_count": 0,
      "outputs": []
    },
    {
      "cell_type": "markdown",
      "metadata": {
        "id": "b6uu0iNm_8JW",
        "colab_type": "text"
      },
      "source": [
        "**Expected Output**:\n",
        "\n",
        "Here is the summary you should see\n",
        "<table>\n",
        "    <tr>\n",
        "        <td>\n",
        "            **Total params:**\n",
        "        </td>\n",
        "        <td>\n",
        "         52,960\n",
        "        </td>\n",
        "    </tr>\n",
        "        <tr>\n",
        "        <td>\n",
        "            **Trainable params:**\n",
        "        </td>\n",
        "        <td>\n",
        "         52,960\n",
        "        </td>\n",
        "    </tr>\n",
        "            <tr>\n",
        "        <td>\n",
        "            **Non-trainable params:**\n",
        "        </td>\n",
        "        <td>\n",
        "         0\n",
        "        </td>\n",
        "    </tr>\n",
        "                    <tr>\n",
        "        <td>\n",
        "            **bidirectional_1's output shape **\n",
        "        </td>\n",
        "        <td>\n",
        "         (None, 30, 64)  \n",
        "        </td>\n",
        "    </tr>\n",
        "    <tr>\n",
        "        <td>\n",
        "            **repeat_vector_1's output shape **\n",
        "        </td>\n",
        "        <td>\n",
        "         (None, 30, 64) \n",
        "        </td>\n",
        "    </tr>\n",
        "                <tr>\n",
        "        <td>\n",
        "            **concatenate_1's output shape **\n",
        "        </td>\n",
        "        <td>\n",
        "         (None, 30, 128) \n",
        "        </td>\n",
        "    </tr>\n",
        "            <tr>\n",
        "        <td>\n",
        "            **attention_weights's output shape **\n",
        "        </td>\n",
        "        <td>\n",
        "         (None, 30, 1)  \n",
        "        </td>\n",
        "    </tr>\n",
        "        <tr>\n",
        "        <td>\n",
        "            **dot_1's output shape **\n",
        "        </td>\n",
        "        <td>\n",
        "         (None, 1, 64)\n",
        "        </td>\n",
        "    </tr>\n",
        "           <tr>\n",
        "        <td>\n",
        "            **dense_3's output shape **\n",
        "        </td>\n",
        "        <td>\n",
        "         (None, 11) \n",
        "        </td>\n",
        "    </tr>\n",
        "</table>\n"
      ]
    },
    {
      "cell_type": "markdown",
      "metadata": {
        "id": "aEx1l1cZ1kJ-",
        "colab_type": "text"
      },
      "source": [
        "#### Compile the model\n"
      ]
    },
    {
      "cell_type": "markdown",
      "metadata": {
        "id": "pPjRnlh611bY",
        "colab_type": "text"
      },
      "source": [
        "* After creating your model in Keras, you need to compile it and define the loss function, optimizer and metrics you want to use. \n",
        "    * Loss function: 'categorical_crossentropy'.\n",
        "    * Optimizer: [Adam](https://keras.io/optimizers/#adam) [optimizer](https://keras.io/optimizers/#usage-of-optimizers)\n",
        "        - learning rate = 0.005 \n",
        "        - $\\beta_1 = 0.9$\n",
        "        - $\\beta_2 = 0.999$\n",
        "        - decay = 0.01  \n",
        "    * metric: 'accuracy'\n",
        "    \n",
        "Sample code\n",
        "```Python\n",
        "optimizer = Adam(lr=..., beta_1=..., beta_2=..., decay=...)\n",
        "model.compile(optimizer=..., loss=..., metrics=[...])\n",
        "```"
      ]
    },
    {
      "cell_type": "code",
      "metadata": {
        "id": "pAHcPtTo14v1",
        "colab_type": "code",
        "colab": {}
      },
      "source": [
        "### START CODE HERE ### (≈2 lines)\n",
        "opt = Adam(lr=0.005, beta_1=0.9, beta_2=0.999, decay=0.01)\n",
        "model.compile(loss='categorical_crossentropy', optimizer=opt, metrics=['accuracy'])\n",
        "### END CODE HERE ###"
      ],
      "execution_count": 0,
      "outputs": []
    },
    {
      "cell_type": "markdown",
      "metadata": {
        "id": "0VFVZzb23M1G",
        "colab_type": "text"
      },
      "source": [
        "#### Define inputs and outputs, and fit the model"
      ]
    },
    {
      "cell_type": "markdown",
      "metadata": {
        "id": "hOqgjKUn3NT5",
        "colab_type": "text"
      },
      "source": [
        "The last step is to define all your inputs and outputs to fit the model:\n",
        "- You have input X of shape $(m = 10000, T_x = 30)$ containing the training examples.\n",
        "- You need to create `s0` and `c0` to initialize your `post_attention_LSTM_cell` with zeros.\n",
        "- Given the `model()` you coded, you need the \"outputs\" to be a list of 10 elements of shape (m, T_y). \n",
        "    - The list `outputs[i][0], ..., outputs[i][Ty]` represents the true labels (characters) corresponding to the $i^{th}$ training example (`X[i]`). \n",
        "    - `outputs[i][j]` is the true label of the $j^{th}$ character in the $i^{th}$ training example."
      ]
    },
    {
      "cell_type": "code",
      "metadata": {
        "id": "4f5Z2ItT3PyE",
        "colab_type": "code",
        "colab": {}
      },
      "source": [
        "s0 = np.zeros((m, n_s))\n",
        "c0 = np.zeros((m, n_s))\n",
        "outputs = list(Yoh.swapaxes(0,1))"
      ],
      "execution_count": 0,
      "outputs": []
    },
    {
      "cell_type": "markdown",
      "metadata": {
        "id": "Mq8lKSh34Huc",
        "colab_type": "text"
      },
      "source": [
        "Let's now fit the model and run it for one epoch."
      ]
    },
    {
      "cell_type": "code",
      "metadata": {
        "id": "lp3cwmih4IL3",
        "colab_type": "code",
        "colab": {}
      },
      "source": [
        "model.fit([Xoh, s0, c0], outputs, epochs=1, batch_size=100)"
      ],
      "execution_count": 0,
      "outputs": []
    },
    {
      "cell_type": "markdown",
      "metadata": {
        "id": "qbKztgzk4j8f",
        "colab_type": "text"
      },
      "source": [
        "While training you can see the loss as well as the accuracy on each of the 10 positions of the output. The table below gives you an example of what the accuracies could be if the batch had 2 examples: \n",
        "\n",
        "<img src='https://github.com/rahiakela/img-repo/blob/master/deep-learning-specialization/table.png?raw=1' width='800'/> <br>\n",
        "<caption><center>Thus, `dense_2_acc_8: 0.89` means that you are predicting the 7th character of the output correctly 89% of the time in the current batch of data. </center></caption>\n",
        "\n",
        "\n",
        "We have run this model for longer, and saved the weights. Run the next cell to load our weights. (By training a model for several minutes, you should be able to obtain a model of similar accuracy, but loading our model will save you time.) "
      ]
    },
    {
      "cell_type": "code",
      "metadata": {
        "id": "_Rhi3Tah40X_",
        "colab_type": "code",
        "colab": {}
      },
      "source": [
        "model.load_weights('models/model.h5')"
      ],
      "execution_count": 0,
      "outputs": []
    },
    {
      "cell_type": "markdown",
      "metadata": {
        "id": "JoYhLG7N44Z3",
        "colab_type": "text"
      },
      "source": [
        "You can now see the results on new examples."
      ]
    },
    {
      "cell_type": "code",
      "metadata": {
        "id": "K-Uv0o4r5Ht1",
        "colab_type": "code",
        "colab": {}
      },
      "source": [
        "EXAMPLES = [\n",
        "   '3 May 1979', '5 April 09', '21th of August 2016', 'Tue 10 Jul 2007', 'Saturday May 9 2018',\n",
        "   'March 3 2001', 'March 3rd 2001', '1 March 2001'         \n",
        "]\n",
        "for example in EXAMPLES:\n",
        "  source = string_to_int(example, Tx, human_vocab)\n",
        "  source = np.array(list(map(lambda x: to_categorical(x, num_classes=len(human_vocab)), source))).swapaxes(0, 1)\n",
        "  prediction = model.predict([source, s0, c0])\n",
        "  prediction = np.argmax(prediction, axis=1)\n",
        "  output = [inv_machine_vocab[int(i)] for i in prediction]\n",
        "\n",
        "  print(f'source: {example}')\n",
        "  print(f'output: {\"\".join(output)}\\n')"
      ],
      "execution_count": 0,
      "outputs": []
    },
    {
      "cell_type": "markdown",
      "metadata": {
        "id": "vEY7mkXX6U_7",
        "colab_type": "text"
      },
      "source": [
        "You can also change these examples to test with your own examples. The next part will give you a better sense of what the attention mechanism is doing--i.e., what part of the input the network is paying attention to when generating a particular output character. "
      ]
    },
    {
      "cell_type": "markdown",
      "metadata": {
        "id": "CfCzsGd-6VmA",
        "colab_type": "text"
      },
      "source": [
        "## 3 - Visualizing Attention (Optional / Ungraded)"
      ]
    },
    {
      "cell_type": "markdown",
      "metadata": {
        "id": "ZuuWSFXj6Ye4",
        "colab_type": "text"
      },
      "source": [
        "Since the problem has a fixed output length of 10, it is also possible to carry out this task using 10 different softmax units to generate the 10 characters of the output. But one advantage of the attention model is that each part of the output (such as the month) knows it needs to depend only on a small part of the input (the characters in the input giving the month). We can  visualize what each part of the output is looking at which part of the input.\n",
        "\n",
        "Consider the task of translating \"Saturday 9 May 2018\" to \"2018-05-09\". If we visualize the computed $\\alpha^{\\langle t, t' \\rangle}$ we get this: \n",
        "\n",
        "<img src='https://github.com/rahiakela/img-repo/blob/master/deep-learning-specialization/date_attention.png?raw=1' width='800'/><br>\n",
        "<caption><center> **Figure 8**: Full Attention Map</center></caption>\n",
        "\n",
        "Notice how the output ignores the \"Saturday\" portion of the input. None of the output timesteps are paying much attention to that portion of the input. We also see that 9 has been translated as 09 and May has been correctly translated into 05, with the output paying attention to the parts of the input it needs to to make the translation. The year mostly requires it to pay attention to the input's \"18\" in order to generate \"2018.\" "
      ]
    },
    {
      "cell_type": "markdown",
      "metadata": {
        "id": "hUakK8_06lO9",
        "colab_type": "text"
      },
      "source": [
        "### 3.1 - Getting the attention weights from the network"
      ]
    },
    {
      "cell_type": "markdown",
      "metadata": {
        "id": "SvuFdYLJ6mNc",
        "colab_type": "text"
      },
      "source": [
        "Lets now visualize the attention values in your network. We'll propagate an example through the network, then visualize the values of $\\alpha^{\\langle t, t' \\rangle}$. \n",
        "\n",
        "To figure out where the attention values are located, let's start by printing a summary of the model ."
      ]
    },
    {
      "cell_type": "code",
      "metadata": {
        "id": "8HWuw-b06ogG",
        "colab_type": "code",
        "colab": {}
      },
      "source": [
        "model.summary()"
      ],
      "execution_count": 0,
      "outputs": []
    },
    {
      "cell_type": "markdown",
      "metadata": {
        "id": "W7xHUU_X8do8",
        "colab_type": "text"
      },
      "source": [
        "Navigate through the output of `model.summary()` above. You can see that the layer named `attention_weights` outputs the `alphas` of shape (m, 30, 1) before `dot_2` computes the context vector for every time step $t = 0, \\ldots, T_y-1$. Let's get the attention weights from this layer.\n",
        "\n",
        "The function `attention_map()` pulls out the attention values from your model and plots them."
      ]
    },
    {
      "cell_type": "code",
      "metadata": {
        "id": "W5IKUbEJ8en6",
        "colab_type": "code",
        "colab": {}
      },
      "source": [
        "attention_map = plot_attention_map(model, human_vocab, inv_machine_vocab, \"Tuesday 09 Oct 1993\", num = 7, n_s = 64);"
      ],
      "execution_count": 0,
      "outputs": []
    },
    {
      "cell_type": "markdown",
      "metadata": {
        "id": "oHHwZ52z8hV-",
        "colab_type": "text"
      },
      "source": [
        "On the generated plot you can observe the values of the attention weights for each character of the predicted output. Examine this plot and check that the places where the network is paying attention makes sense to you.\n",
        "\n",
        "In the date translation application, you will observe that most of the time attention helps predict the year, and doesn't have much impact on predicting the day or month."
      ]
    },
    {
      "cell_type": "markdown",
      "metadata": {
        "id": "sozwjzWz8kSJ",
        "colab_type": "text"
      },
      "source": [
        "### Congratulations!\n",
        "\n",
        "\n",
        "You have come to the end of this assignment \n",
        "\n",
        "## Here's what you should remember\n",
        "\n",
        "- Machine translation models can be used to map from one sequence to another. They are useful not just for translating human languages (like French->English) but also for tasks like date format translation. \n",
        "- An attention mechanism allows a network to focus on the most relevant parts of the input when producing a specific part of the output. \n",
        "- A network using an attention mechanism can translate from inputs of length $T_x$ to outputs of length $T_y$, where $T_x$ and $T_y$ can be different. \n",
        "- You can visualize attention weights $\\alpha^{\\langle t,t' \\rangle}$ to see what the network is paying attention to while generating each output.\n",
        "\n",
        "Congratulations on finishing this assignment! You are now able to implement an attention model and use it to learn complex mappings from one sequence to another. "
      ]
    }
  ]
}