{
  "nbformat": 4,
  "nbformat_minor": 0,
  "metadata": {
    "colab": {
      "name": "week-2-operations_on_word_vectors.ipynb",
      "provenance": [],
      "toc_visible": true,
      "authorship_tag": "ABX9TyPqph1RoskKU9p9XqaTnTq/",
      "include_colab_link": true
    },
    "kernelspec": {
      "name": "python3",
      "display_name": "Python 3"
    }
  },
  "cells": [
    {
      "cell_type": "markdown",
      "metadata": {
        "id": "view-in-github",
        "colab_type": "text"
      },
      "source": [
        "<a href=\"https://colab.research.google.com/github/rahiakela/coursera-deep-learning-specialization/blob/course-5-sequence-models-recurrent-neural-networks/week_2_operations_on_word_vectors.ipynb\" target=\"_parent\"><img src=\"https://colab.research.google.com/assets/colab-badge.svg\" alt=\"Open In Colab\"/></a>"
      ]
    },
    {
      "cell_type": "markdown",
      "metadata": {
        "id": "13sN0tN8OeCH",
        "colab_type": "text"
      },
      "source": [
        "# Operations on word vectors"
      ]
    },
    {
      "cell_type": "markdown",
      "metadata": {
        "id": "hdbNxPH3OenD",
        "colab_type": "text"
      },
      "source": [
        "Welcome to your first assignment of this week! \n",
        "\n",
        "Because word embeddings are very computationally expensive to train, most ML practitioners will load a pre-trained set of embeddings. \n",
        "\n",
        "**After this assignment you will be able to:**\n",
        "\n",
        "- Load pre-trained word vectors, and measure similarity using cosine similarity\n",
        "- Use word embeddings to solve word analogy problems such as Man is to Woman as King is to ______. \n",
        "- Modify word embeddings to reduce their gender bias "
      ]
    },
    {
      "cell_type": "markdown",
      "metadata": {
        "id": "ij67akqBOnRL",
        "colab_type": "text"
      },
      "source": [
        "## Setup\n",
        "\n",
        "Let's get started! Run the following cell to load the packages you will need."
      ]
    },
    {
      "cell_type": "code",
      "metadata": {
        "id": "X3-oDPnTOpB2",
        "colab_type": "code",
        "outputId": "81228228-cbdf-4f2f-8933-e5e2bf462602",
        "colab": {
          "base_uri": "https://localhost:8080/",
          "height": 80
        }
      },
      "source": [
        "import numpy as np\n",
        "from w2v_utils import *"
      ],
      "execution_count": 0,
      "outputs": [
        {
          "output_type": "stream",
          "text": [
            "Using TensorFlow backend.\n"
          ],
          "name": "stderr"
        },
        {
          "output_type": "display_data",
          "data": {
            "text/html": [
              "<p style=\"color: red;\">\n",
              "The default version of TensorFlow in Colab will soon switch to TensorFlow 2.x.<br>\n",
              "We recommend you <a href=\"https://www.tensorflow.org/guide/migrate\" target=\"_blank\">upgrade</a> now \n",
              "or ensure your notebook will continue to use TensorFlow 1.x via the <code>%tensorflow_version 1.x</code> magic:\n",
              "<a href=\"https://colab.research.google.com/notebooks/tensorflow_version.ipynb\" target=\"_blank\">more info</a>.</p>\n"
            ],
            "text/plain": [
              "<IPython.core.display.HTML object>"
            ]
          },
          "metadata": {
            "tags": []
          }
        }
      ]
    },
    {
      "cell_type": "markdown",
      "metadata": {
        "id": "KCM7XyVcSK1c",
        "colab_type": "text"
      },
      "source": [
        "#### Load the word vectors"
      ]
    },
    {
      "cell_type": "markdown",
      "metadata": {
        "id": "mqCUrj-YSLac",
        "colab_type": "text"
      },
      "source": [
        "* For this assignment, we will use 50-dimensional GloVe vectors to represent words. \n",
        "* Run the following cell to load the `word_to_vec_map`."
      ]
    },
    {
      "cell_type": "code",
      "metadata": {
        "id": "tRhje40BSOTb",
        "colab_type": "code",
        "outputId": "0e0541f9-8532-4b09-e351-48cce7b8717e",
        "colab": {
          "base_uri": "https://localhost:8080/",
          "height": 282
        }
      },
      "source": [
        "words, word_to_vec_map = read_glove_vecs('../data/glove.6B.50d.txt')"
      ],
      "execution_count": 0,
      "outputs": [
        {
          "output_type": "error",
          "ename": "FileNotFoundError",
          "evalue": "ignored",
          "traceback": [
            "\u001b[0;31m---------------------------------------------------------------------------\u001b[0m",
            "\u001b[0;31mFileNotFoundError\u001b[0m                         Traceback (most recent call last)",
            "\u001b[0;32m<ipython-input-4-e327b17382dd>\u001b[0m in \u001b[0;36m<module>\u001b[0;34m()\u001b[0m\n\u001b[0;32m----> 1\u001b[0;31m \u001b[0mwords\u001b[0m\u001b[0;34m,\u001b[0m \u001b[0mword_to_vec_map\u001b[0m \u001b[0;34m=\u001b[0m \u001b[0mread_glove_vecs\u001b[0m\u001b[0;34m(\u001b[0m\u001b[0;34m'../data/glove.6B.50d.txt'\u001b[0m\u001b[0;34m)\u001b[0m\u001b[0;34m\u001b[0m\u001b[0;34m\u001b[0m\u001b[0m\n\u001b[0m",
            "\u001b[0;32m/content/w2v_utils.py\u001b[0m in \u001b[0;36mread_glove_vecs\u001b[0;34m(glove_file)\u001b[0m\n\u001b[1;32m    100\u001b[0m \u001b[0;34m\u001b[0m\u001b[0m\n\u001b[1;32m    101\u001b[0m \u001b[0;32mdef\u001b[0m \u001b[0mread_glove_vecs\u001b[0m\u001b[0;34m(\u001b[0m\u001b[0mglove_file\u001b[0m\u001b[0;34m)\u001b[0m\u001b[0;34m:\u001b[0m\u001b[0;34m\u001b[0m\u001b[0;34m\u001b[0m\u001b[0m\n\u001b[0;32m--> 102\u001b[0;31m     \u001b[0;32mwith\u001b[0m \u001b[0mopen\u001b[0m\u001b[0;34m(\u001b[0m\u001b[0mglove_file\u001b[0m\u001b[0;34m,\u001b[0m \u001b[0;34m'r'\u001b[0m\u001b[0;34m)\u001b[0m \u001b[0;32mas\u001b[0m \u001b[0mf\u001b[0m\u001b[0;34m:\u001b[0m\u001b[0;34m\u001b[0m\u001b[0;34m\u001b[0m\u001b[0m\n\u001b[0m\u001b[1;32m    103\u001b[0m         \u001b[0mwords\u001b[0m \u001b[0;34m=\u001b[0m \u001b[0mset\u001b[0m\u001b[0;34m(\u001b[0m\u001b[0;34m)\u001b[0m\u001b[0;34m\u001b[0m\u001b[0;34m\u001b[0m\u001b[0m\n\u001b[1;32m    104\u001b[0m         \u001b[0mword_to_vec_map\u001b[0m \u001b[0;34m=\u001b[0m \u001b[0;34m{\u001b[0m\u001b[0;34m}\u001b[0m\u001b[0;34m\u001b[0m\u001b[0;34m\u001b[0m\u001b[0m\n",
            "\u001b[0;31mFileNotFoundError\u001b[0m: [Errno 2] No such file or directory: '../data/glove.6B.50d.txt'"
          ]
        }
      ]
    },
    {
      "cell_type": "markdown",
      "metadata": {
        "id": "nx9cKSm1TrXv",
        "colab_type": "text"
      },
      "source": [
        "You've loaded:\n",
        "- `words`: set of words in the vocabulary.\n",
        "- `word_to_vec_map`: dictionary mapping words to their GloVe vector representation."
      ]
    },
    {
      "cell_type": "markdown",
      "metadata": {
        "id": "8YSFMCd4TvIH",
        "colab_type": "text"
      },
      "source": [
        "#### Embedding vectors versus one-hot vectors"
      ]
    },
    {
      "cell_type": "markdown",
      "metadata": {
        "id": "jrJcKS2VTw_K",
        "colab_type": "text"
      },
      "source": [
        "* Recall from the lesson videos that one-hot vectors do not do a good job of capturing the level of similarity between words (every one-hot vector has the same Euclidean distance from any other one-hot vector).\n",
        "* Embedding vectors such as GloVe vectors provide much more useful information about the meaning of individual words. \n",
        "* Lets now see how you can use GloVe vectors to measure the similarity between two words. "
      ]
    },
    {
      "cell_type": "markdown",
      "metadata": {
        "id": "nMMxGE3sTzQv",
        "colab_type": "text"
      },
      "source": [
        "## 1 - Cosine similarity"
      ]
    },
    {
      "cell_type": "markdown",
      "metadata": {
        "id": "a_67pRmrUZAv",
        "colab_type": "text"
      },
      "source": [
        "To measure the similarity between two words, we need a way to measure the degree of similarity between two embedding vectors for the two words. Given two vectors $u$ and $v$, cosine similarity is defined as follows: \n",
        "\n",
        "$$\\text{CosineSimilarity(u, v)} = \\frac {u \\cdot v} {||u||_2 ||v||_2} = cos(\\theta) \\tag{1}$$\n",
        "\n",
        "* $u \\cdot v$ is the dot product (or inner product) of two vectors\n",
        "* $||u||_2$ is the norm (or length) of the vector $u$\n",
        "* $\\theta$ is the angle between $u$ and $v$. \n",
        "* The cosine similarity depends on the angle between $u$ and $v$. \n",
        "    * If $u$ and $v$ are very similar, their cosine similarity will be close to 1.\n",
        "    * If they are dissimilar, the cosine similarity will take a smaller value. \n",
        "\n",
        "<img src='https://github.com/rahiakela/img-repo/blob/master/deep-learning-specialization/cosine_sim.png?raw=1' width='800'/>\n",
        "<caption><center> **Figure 1**: The cosine of the angle between two vectors is a measure their similarity</center></caption>\n",
        "\n",
        "**Exercise**: Implement the function `cosine_similarity()` to evaluate the similarity between word vectors.\n",
        "\n",
        "**Reminder**: The norm of $u$ is defined as $ ||u||_2 = \\sqrt{\\sum_{i=1}^{n} u_i^2}$\n",
        "\n",
        "#### Additional Hints\n",
        "* You may find `np.dot`, `np.sum`, or `np.sqrt` useful depending upon the implementation that you choose."
      ]
    },
    {
      "cell_type": "code",
      "metadata": {
        "id": "mY8BAnO6Uc6n",
        "colab_type": "code",
        "colab": {}
      },
      "source": [
        "# FUNCTION: cosine_similarity\n",
        "\n",
        "def cosine_similarity(u, v):\n",
        "    \"\"\"\n",
        "    Cosine similarity reflects the degree of similarity between u and v\n",
        "        \n",
        "    Arguments:\n",
        "        u -- a word vector of shape (n,)          \n",
        "        v -- a word vector of shape (n,)\n",
        "\n",
        "    Returns:\n",
        "        cosine_similarity -- the cosine similarity between u and v defined by the formula above.\n",
        "    \"\"\"\n",
        "    \n",
        "    distance = 0.0\n",
        "    \n",
        "    ### START CODE HERE ###\n",
        "    # Compute the dot product between u and v (≈1 line)\n",
        "    dot = np.dot(u, v)\n",
        "    # Compute the L2 norm of u (≈1 line)\n",
        "    # norm_u = np.sqrt(np.sum(u ** 2))\n",
        "    norm_u = np.linalg.norm(u)\n",
        "    \n",
        "    # Compute the L2 norm of v (≈1 line)\n",
        "    # norm_v = np.sqrt(np.sum(v ** 2))\n",
        "    norm_v = np.linalg.norm(v)\n",
        "\n",
        "    # Compute the cosine similarity defined by formula (1) (≈1 line)\n",
        "    # cosine_similarity = dot / np.dot(norm_u, norm_v)\n",
        "    cosine_similarity = dot / (norm_u * norm_v)\n",
        "    ### END CODE HERE ###\n",
        "    \n",
        "    return cosine_similarity"
      ],
      "execution_count": 0,
      "outputs": []
    },
    {
      "cell_type": "code",
      "metadata": {
        "id": "T_Nn-MtPXbqU",
        "colab_type": "code",
        "colab": {}
      },
      "source": [
        "father = word_to_vec_map['father']\n",
        "mother = word_to_vec_map['mother']\n",
        "ball = word_to_vec_map['ball']\n",
        "crocodile = word_to_vec_map['crocodile']\n",
        "france = word_to_vec_map['france']\n",
        "italy = word_to_vec_map['italy']\n",
        "paris = word_to_vec_map['paris']\n",
        "rome = word_to_vec_map['rome']\n",
        "\n",
        "print(f'cosine_similarity(father, mother) = {cosine_similarity(father, mother)}')\n",
        "print(f'cosine_similarity(ball, mother) = {cosine_similarity(ball, crocodile)}')\n",
        "print(f'cosine_similarity(france - paris, rome - italy) = {cosine_similarity(france - paris, rome - italy)}')"
      ],
      "execution_count": 0,
      "outputs": []
    },
    {
      "cell_type": "markdown",
      "metadata": {
        "id": "aokICnFuc88n",
        "colab_type": "text"
      },
      "source": [
        "**Expected Output**:\n",
        "\n",
        "<table>\n",
        "    <tr>\n",
        "        <td>\n",
        "            **cosine_similarity(father, mother)** =\n",
        "        </td>\n",
        "        <td>\n",
        "         0.890903844289\n",
        "        </td>\n",
        "    </tr>\n",
        "        <tr>\n",
        "        <td>\n",
        "            **cosine_similarity(ball, crocodile)** =\n",
        "        </td>\n",
        "        <td>\n",
        "         0.274392462614\n",
        "        </td>\n",
        "    </tr>\n",
        "        <tr>\n",
        "        <td>\n",
        "            **cosine_similarity(france - paris, rome - italy)** =\n",
        "        </td>\n",
        "        <td>\n",
        "         -0.675147930817\n",
        "        </td>\n",
        "    </tr>\n",
        "</table>"
      ]
    },
    {
      "cell_type": "markdown",
      "metadata": {
        "id": "86PNxq8udCKV",
        "colab_type": "text"
      },
      "source": [
        "#### Try different words!\n",
        "* After you get the correct expected output, please feel free to modify the inputs and measure the cosine similarity between other pairs of words! \n",
        "* Playing around with the cosine similarity of other inputs will give you a better sense of how word vectors behave."
      ]
    },
    {
      "cell_type": "markdown",
      "metadata": {
        "id": "yb4kGiLVdCwm",
        "colab_type": "text"
      },
      "source": [
        "## 2 - Word analogy task"
      ]
    },
    {
      "cell_type": "markdown",
      "metadata": {
        "id": "B2fOBqTSdFqD",
        "colab_type": "text"
      },
      "source": [
        "* In the word analogy task, we complete the sentence:  \n",
        "    <font color='brown'>\"*a* is to *b* as *c* is to **____**\"</font>. \n",
        "\n",
        "* An example is:  \n",
        "    <font color='brown'> '*man* is to *woman* as *king* is to *queen*' </font>. \n",
        "\n",
        "* We are trying to find a word *d*, such that the associated word vectors $e_a, e_b, e_c, e_d$ are related in the following manner:   \n",
        "    $e_b - e_a \\approx e_d - e_c$\n",
        "* We will measure the similarity between $e_b - e_a$ and $e_d - e_c$ using cosine similarity. \n",
        "\n",
        "**Exercise**: Complete the code below to be able to perform word analogies!"
      ]
    },
    {
      "cell_type": "code",
      "metadata": {
        "id": "79ItyN2ldJGW",
        "colab_type": "code",
        "colab": {}
      },
      "source": [
        "# FUNCTION: complete_analogy\n",
        "\n",
        "def complete_analogy(word_a, word_b, word_c, word_to_vec_map):\n",
        "    \"\"\"\n",
        "    Performs the word analogy task as explained above: a is to b as c is to ____. \n",
        "    \n",
        "    Arguments:\n",
        "    word_a -- a word, string\n",
        "    word_b -- a word, string\n",
        "    word_c -- a word, string\n",
        "    word_to_vec_map -- dictionary that maps words to their corresponding vectors. \n",
        "    \n",
        "    Returns:\n",
        "    best_word --  the word such that v_b - v_a is close to v_best_word - v_c, as measured by cosine similarity\n",
        "    \"\"\"\n",
        "    \n",
        "    # convert words to lowercase\n",
        "    word_a, word_b, word_c = word_a.lower(), word_b.lower(), word_c.lower()\n",
        "    \n",
        "    ### START CODE HERE ###\n",
        "    # Get the word embeddings e_a, e_b and e_c (≈1-3 lines)\n",
        "    e_a, e_b, e_c = word_to_vec_map[word_a], word_to_vec_map[word_b], word_to_vec_map[word_c]\n",
        "    ### END CODE HERE ###\n",
        "    \n",
        "    words = word_to_vec_map.keys()\n",
        "    max_cosine_sim = -100              # Initialize max_cosine_sim to a large negative number\n",
        "    best_word = None                   # Initialize best_word with None, it will help keep track of the word to output\n",
        "\n",
        "    # to avoid best_word being one of the input words, skip the input words\n",
        "    # place the input words in a set for faster searching than a list\n",
        "    # We will re-use this set of input words inside the for-loop\n",
        "    input_words_set = set([word_a, word_b, word_c])\n",
        "    \n",
        "    # loop over the whole word vector set\n",
        "    for w in words:        \n",
        "        # to avoid best_word being one of the input words, skip the input words\n",
        "        if w in input_words_set:\n",
        "            continue\n",
        "        \n",
        "        ### START CODE HERE ###\n",
        "        # Compute cosine similarity between the vector (e_b - e_a) and the vector ((w's vector representation) - e_c)  (≈1 line)\n",
        "        cosine_sim = cosine_similarity(e_a - e_b, word_to_vec_map[w] - e_c)\n",
        "        \n",
        "        # If the cosine_sim is more than the max_cosine_sim seen so far,\n",
        "            # then: set the new max_cosine_sim to the current cosine_sim and the best_word to the current word (≈3 lines)\n",
        "        if cosine_sim > max_cosine_sim:\n",
        "            max_cosine_sim = cosine_sim\n",
        "            best_word = w\n",
        "        ### END CODE HERE ###\n",
        "        \n",
        "    return best_word"
      ],
      "execution_count": 0,
      "outputs": []
    },
    {
      "cell_type": "markdown",
      "metadata": {
        "id": "G-1tbDIbdQ7E",
        "colab_type": "text"
      },
      "source": [
        "Run the cell below to test your code, this may take 1-2 minutes."
      ]
    },
    {
      "cell_type": "code",
      "metadata": {
        "id": "7oOjmxT9dRau",
        "colab_type": "code",
        "colab": {}
      },
      "source": [
        "triads_to_try = [\n",
        "    ('italy', 'italian', 'spain'),\n",
        "    ('india', 'delhi', 'japan'),\n",
        "    ('man', 'woman', 'boy'),\n",
        "    ('small', 'smaller', 'large')        \n",
        "]\n",
        "for triad in triads_to_try:\n",
        "  print('{} -> {} :: {} -> {}'.format(*triad, complete_analogy(*triad, word_to_vec_map)))"
      ],
      "execution_count": 0,
      "outputs": []
    },
    {
      "cell_type": "markdown",
      "metadata": {
        "id": "zgMULgSLef9m",
        "colab_type": "text"
      },
      "source": [
        "**Expected Output**:\n",
        "\n",
        "<table>\n",
        "    <tr>\n",
        "        <td>\n",
        "            **italy -> italian** ::\n",
        "        </td>\n",
        "        <td>\n",
        "         spain -> spanish\n",
        "        </td>\n",
        "    </tr>\n",
        "        <tr>\n",
        "        <td>\n",
        "            **india -> delhi** ::\n",
        "        </td>\n",
        "        <td>\n",
        "         japan -> tokyo\n",
        "        </td>\n",
        "    </tr>\n",
        "        <tr>\n",
        "        <td>\n",
        "            **man -> woman ** ::\n",
        "        </td>\n",
        "        <td>\n",
        "         boy -> girl\n",
        "        </td>\n",
        "    </tr>\n",
        "        <tr>\n",
        "        <td>\n",
        "            **small -> smaller ** ::\n",
        "        </td>\n",
        "        <td>\n",
        "         large -> larger\n",
        "        </td>\n",
        "    </tr>\n",
        "</table>"
      ]
    },
    {
      "cell_type": "markdown",
      "metadata": {
        "id": "qGq0noaeelHN",
        "colab_type": "text"
      },
      "source": [
        "* Once you get the correct expected output, please feel free to modify the input cells above to test your own analogies. \n",
        "* Try to find some other analogy pairs that do work, but also find some where the algorithm doesn't give the right answer:\n",
        "    * For example, you can try small->smaller as big->?."
      ]
    },
    {
      "cell_type": "markdown",
      "metadata": {
        "id": "Y-6D1gqKelnz",
        "colab_type": "text"
      },
      "source": [
        "### Congratulations!"
      ]
    },
    {
      "cell_type": "markdown",
      "metadata": {
        "id": "THKf38MkepHC",
        "colab_type": "text"
      },
      "source": [
        "You've come to the end of the graded portion of the assignment. Here are the main points you should remember:\n",
        "\n",
        "- Cosine similarity is a good way to compare the similarity between pairs of word vectors.\n",
        "    - Note that L2 (Euclidean) distance also works.\n",
        "- For NLP applications, using a pre-trained set of word vectors is often a good way to get started.\n",
        "- Even though you have finished the graded portions, we recommend you take a look at the rest of this notebook to learn about debiasing word vectors.\n",
        "\n",
        "Congratulations on finishing the graded portions of this notebook! "
      ]
    },
    {
      "cell_type": "markdown",
      "metadata": {
        "id": "7X-vYGHFerBw",
        "colab_type": "text"
      },
      "source": [
        "## 3 - Debiasing word vectors (OPTIONAL/UNGRADED) "
      ]
    },
    {
      "cell_type": "markdown",
      "metadata": {
        "id": "QqYA06oSetsi",
        "colab_type": "text"
      },
      "source": [
        "In the following exercise, you will examine gender biases that can be reflected in a word embedding, and explore algorithms for reducing the bias. In addition to learning about the topic of debiasing, this exercise will also help hone your intuition about what word vectors are doing. This section involves a bit of linear algebra, though you can probably complete it even without being an expert in linear algebra, and we encourage you to give it a shot. This portion of the notebook is optional and is not graded. \n",
        "\n",
        "Lets first see how the GloVe word embeddings relate to gender. You will first compute a vector $g = e_{woman}-e_{man}$, where $e_{woman}$ represents the word vector corresponding to the word *woman*, and $e_{man}$ corresponds to the word vector corresponding to the word *man*. The resulting vector $g$ roughly encodes the concept of \"gender\". (You might get a more accurate representation if you compute $g_1 = e_{mother}-e_{father}$, $g_2 = e_{girl}-e_{boy}$, etc. and average over them. But just using $e_{woman}-e_{man}$ will give good enough results for now.) \n"
      ]
    },
    {
      "cell_type": "code",
      "metadata": {
        "id": "ipk7gcFDWKbm",
        "colab_type": "code",
        "colab": {}
      },
      "source": [
        "g = word_to_vec_map['woman'] - word_to_vec_map['man']\n",
        "print(g)"
      ],
      "execution_count": 0,
      "outputs": []
    },
    {
      "cell_type": "markdown",
      "metadata": {
        "id": "nIl7WSnbXQoy",
        "colab_type": "text"
      },
      "source": [
        "Now, you will consider the cosine similarity of different words with $g$. Consider what a positive value of similarity means vs a negative cosine similarity. "
      ]
    },
    {
      "cell_type": "code",
      "metadata": {
        "id": "9eyGcRYIXRKi",
        "colab_type": "code",
        "colab": {}
      },
      "source": [
        "print('List of names and their similarities with constructed vector:')\n",
        "\n",
        "# girls and boys name\n",
        "name_list = ['john', 'marie', 'sophie', 'ronaldo', 'priya', 'rahul', 'danielle', 'reza', 'katy', 'yasmin']\n",
        "\n",
        "for w in name_list:\n",
        "  print(w, cosine_similarity(word_to_vec_map[w], g))"
      ],
      "execution_count": 0,
      "outputs": []
    },
    {
      "cell_type": "markdown",
      "metadata": {
        "id": "u5xMlPr6XyHz",
        "colab_type": "text"
      },
      "source": [
        "As you can see, female first names tend to have a positive cosine similarity with our constructed vector $g$, while male first names tend to have a negative cosine similarity. This is not surprising, and the result seems acceptable. \n",
        "\n",
        "But let's try with some other words."
      ]
    },
    {
      "cell_type": "code",
      "metadata": {
        "id": "p67S0juiX2Pj",
        "colab_type": "code",
        "colab": {}
      },
      "source": [
        "print('Other words and their similarities:')\n",
        "\n",
        "word_list = [\n",
        "    'lipstick', 'guns', 'science', 'arts', 'literature', 'warrior','doctor', 'tree', 'receptionist', \n",
        "    'technology',  'fashion', 'teacher', 'engineer', 'pilot', 'computer', 'singer'         \n",
        "]\n",
        "\n",
        "for w in word_list:\n",
        "  print(w, cosine_similarity(word_to_vec_map[w], g))"
      ],
      "execution_count": 0,
      "outputs": []
    },
    {
      "cell_type": "markdown",
      "metadata": {
        "id": "y70hNyxiYPJE",
        "colab_type": "text"
      },
      "source": [
        "Do you notice anything surprising? It is astonishing how these results reflect certain unhealthy gender stereotypes. For example, \"computer\" is closer to \"man\" while \"literature\" is closer to \"woman\". Ouch! \n",
        "\n",
        "We'll see below how to reduce the bias of these vectors, using an algorithm due to [Boliukbasi et al., 2016](https://arxiv.org/abs/1607.06520). Note that some word pairs such as \"actor\"/\"actress\" or \"grandmother\"/\"grandfather\" should remain gender specific, while other words such as \"receptionist\" or \"technology\" should be neutralized, i.e. not be gender-related. You will have to treat these two types of words differently when debiasing."
      ]
    },
    {
      "cell_type": "markdown",
      "metadata": {
        "id": "qOGarF1-ZXhD",
        "colab_type": "text"
      },
      "source": [
        "### 3.1 - Neutralize bias for non-gender specific words "
      ]
    },
    {
      "cell_type": "markdown",
      "metadata": {
        "id": "gbrR0-H6ZZx1",
        "colab_type": "text"
      },
      "source": [
        "The figure below should help you visualize what neutralizing does. If you're using a 50-dimensional word embedding, the 50 dimensional space can be split into two parts: The bias-direction $g$, and the remaining 49 dimensions, which we'll call $g_{\\perp}$. In linear algebra, we say that the 49 dimensional $g_{\\perp}$ is perpendicular (or \"orthogonal\") to $g$, meaning it is at 90 degrees to $g$. The neutralization step takes a vector such as $e_{receptionist}$ and zeros out the component in the direction of $g$, giving us $e_{receptionist}^{debiased}$. \n",
        "\n",
        "Even though $g_{\\perp}$ is 49 dimensional, given the limitations of what we can draw on a 2D screen, we illustrate it using a 1 dimensional axis below. \n",
        "\n",
        "<img src='https://github.com/rahiakela/img-repo/blob/master/deep-learning-specialization/neutral.png?raw=1' width='800'/>\n",
        "<caption><center> **Figure 2**: The word vector for \"receptionist\" represented before and after applying the neutralize operation. </center></caption>\n",
        "\n",
        "**Exercise**: Implement `neutralize()` to remove the bias of words such as \"receptionist\" or \"scientist\". Given an input embedding $e$, you can use the following formulas to compute $e^{debiased}$: \n",
        "\n",
        "$$e^{bias\\_component} = \\frac{e \\cdot g}{||g||_2^2} * g\\tag{2}$$\n",
        "$$e^{debiased} = e - e^{bias\\_component}\\tag{3}$$\n",
        "\n",
        "If you are an expert in linear algebra, you may recognize $e^{bias\\_component}$ as the projection of $e$ onto the direction $g$. If you're not an expert in linear algebra, don't worry about this.\n",
        "\n",
        "<!-- \n",
        "**Reminder**: a vector $u$ can be split into two parts: its projection over a vector-axis $v_B$ and its projection over the axis orthogonal to $v$:\n",
        "$$u = u_B + u_{\\perp}$$\n",
        "where : $u_B = $ and $ u_{\\perp} = u - u_B $\n",
        "!--> "
      ]
    },
    {
      "cell_type": "code",
      "metadata": {
        "id": "KtOEBC8DZcb-",
        "colab_type": "code",
        "colab": {}
      },
      "source": [
        "def neutralize(word, g, word_to_vec_map):\n",
        "    \"\"\"\n",
        "    Removes the bias of \"word\" by projecting it on the space orthogonal to the bias axis. \n",
        "    This function ensures that gender neutral words are zero in the gender subspace.\n",
        "    \n",
        "    Arguments:\n",
        "        word -- string indicating the word to debias\n",
        "        g -- numpy-array of shape (50,), corresponding to the bias axis (such as gender)\n",
        "        word_to_vec_map -- dictionary mapping words to their corresponding vectors.\n",
        "    \n",
        "    Returns:\n",
        "        e_debiased -- neutralized word vector representation of the input \"word\"\n",
        "    \"\"\"\n",
        "    \n",
        "    ### START CODE HERE ###\n",
        "    # Select word vector representation of \"word\". Use word_to_vec_map. (≈ 1 line)\n",
        "    e = word_to_vec_map[word]\n",
        "    \n",
        "    # Compute e_biascomponent using the formula given above. (≈ 1 line)\n",
        "    e_biascomponent = (np.dot(e, g) / np.linalg.norm(g) ** 2) * g\n",
        " \n",
        "    # Neutralize e by subtracting e_biascomponent from it \n",
        "    # e_debiased should be equal to its orthogonal projection. (≈ 1 line)\n",
        "    e_debiased = e - e_biascomponent\n",
        "    ### END CODE HERE ###\n",
        "    \n",
        "    return e_debiased"
      ],
      "execution_count": 0,
      "outputs": []
    },
    {
      "cell_type": "code",
      "metadata": {
        "id": "cCTbo0M9bjpE",
        "colab_type": "code",
        "colab": {}
      },
      "source": [
        "e = \"receptionist\"\n",
        "print(\"cosine similarity between \" + e + \" and g, before neutralizing: \", cosine_similarity(word_to_vec_map[\"receptionist\"], g))\n",
        "\n",
        "e_debiased = neutralize(\"receptionist\", g, word_to_vec_map)\n",
        "print(\"cosine similarity between \" + e + \" and g, after neutralizing: \", cosine_similarity(e_debiased, g))"
      ],
      "execution_count": 0,
      "outputs": []
    },
    {
      "cell_type": "markdown",
      "metadata": {
        "id": "54o35mInftci",
        "colab_type": "text"
      },
      "source": [
        "**Expected Output**: The second result is essentially 0, up to numerical rounding (on the order of $10^{-17}$).\n",
        "\n",
        "\n",
        "<table>\n",
        "    <tr>\n",
        "        <td>\n",
        "            **cosine similarity between receptionist and g, before neutralizing:** :\n",
        "        </td>\n",
        "        <td>\n",
        "         0.330779417506\n",
        "        </td>\n",
        "    </tr>\n",
        "        <tr>\n",
        "        <td>\n",
        "            **cosine similarity between receptionist and g, after neutralizing:** :\n",
        "        </td>\n",
        "        <td>\n",
        "         -3.26732746085e-17\n",
        "    </tr>\n",
        "</table>"
      ]
    },
    {
      "cell_type": "markdown",
      "metadata": {
        "id": "6gqiwfM9fxZ5",
        "colab_type": "text"
      },
      "source": [
        "### 3.2 - Equalization algorithm for gender-specific words"
      ]
    },
    {
      "cell_type": "markdown",
      "metadata": {
        "id": "6DCgDyENfz4z",
        "colab_type": "text"
      },
      "source": [
        "Next, lets see how debiasing can also be applied to word pairs such as \"actress\" and \"actor.\" Equalization is applied to pairs of words that you might want to have differ only through the gender property. As a concrete example, suppose that \"actress\" is closer to \"babysit\" than \"actor.\" By applying neutralizing to \"babysit\" we can reduce the gender-stereotype associated with babysitting. But this still does not guarantee that \"actor\" and \"actress\" are equidistant from \"babysit.\" The equalization algorithm takes care of this. \n",
        "\n",
        "The key idea behind equalization is to make sure that a particular pair of words are equi-distant from the 49-dimensional $g_\\perp$. The equalization step also ensures that the two equalized steps are now the same distance from $e_{receptionist}^{debiased}$, or from any other work that has been neutralized. In pictures, this is how equalization works: \n",
        "\n",
        "<img src='https://github.com/rahiakela/img-repo/blob/master/deep-learning-specialization/equalize10.png?raw=1' width='800'/>\n",
        "\n",
        "The derivation of the linear algebra to do this is a bit more complex. (See Bolukbasi et al., 2016 for details.) But the key equations are: \n",
        "\n",
        "$$ \\mu = \\frac{e_{w1} + e_{w2}}{2}\\tag{4}$$ \n",
        "\n",
        "$$ \\mu_{B} = \\frac {\\mu \\cdot \\text{bias_axis}}{||\\text{bias_axis}||_2^2} *\\text{bias_axis}\n",
        "\\tag{5}$$ \n",
        "\n",
        "$$\\mu_{\\perp} = \\mu - \\mu_{B} \\tag{6}$$\n",
        "\n",
        "$$ e_{w1B} = \\frac {e_{w1} \\cdot \\text{bias_axis}}{||\\text{bias_axis}||_2^2} *\\text{bias_axis}\n",
        "\\tag{7}$$ \n",
        "$$ e_{w2B} = \\frac {e_{w2} \\cdot \\text{bias_axis}}{||\\text{bias_axis}||_2^2} *\\text{bias_axis}\n",
        "\\tag{8}$$\n",
        "\n",
        "\n",
        "$$e_{w1B}^{corrected} = \\sqrt{ |{1 - ||\\mu_{\\perp} ||^2_2} |} * \\frac{e_{\\text{w1B}} - \\mu_B} {||(e_{w1} - \\mu_{\\perp}) - \\mu_B||} \\tag{9}$$\n",
        "\n",
        "\n",
        "$$e_{w2B}^{corrected} = \\sqrt{ |{1 - ||\\mu_{\\perp} ||^2_2} |} * \\frac{e_{\\text{w2B}} - \\mu_B} {||(e_{w2} - \\mu_{\\perp}) - \\mu_B||} \\tag{10}$$\n",
        "\n",
        "$$e_1 = e_{w1B}^{corrected} + \\mu_{\\perp} \\tag{11}$$\n",
        "$$e_2 = e_{w2B}^{corrected} + \\mu_{\\perp} \\tag{12}$$\n",
        "\n",
        "\n",
        "**Exercise**: Implement the function below. Use the equations above to get the final equalized version of the pair of words. Good luck!"
      ]
    },
    {
      "cell_type": "code",
      "metadata": {
        "id": "ltO4SmC61HDr",
        "colab_type": "code",
        "colab": {}
      },
      "source": [
        "def equalize(pair, bias_axis, word_to_vec_map):\n",
        "    \"\"\"\n",
        "    Debias gender specific words by following the equalize method described in the figure above.\n",
        "    \n",
        "    Arguments:\n",
        "    pair -- pair of strings of gender specific words to debias, e.g. (\"actress\", \"actor\") \n",
        "    bias_axis -- numpy-array of shape (50,), vector corresponding to the bias axis, e.g. gender\n",
        "    word_to_vec_map -- dictionary mapping words to their corresponding vectors\n",
        "    \n",
        "    Returns\n",
        "    e_1 -- word vector corresponding to the first word\n",
        "    e_2 -- word vector corresponding to the second word\n",
        "    \"\"\"\n",
        "    \n",
        "    ### START CODE HERE ###\n",
        "    # Step 1: Select word vector representation of \"word\". Use word_to_vec_map. (≈ 2 lines)\n",
        "    w1, w2 = pair[0], pair[1]\n",
        "    e_w1, e_w2 = word_to_vec_map[w1], word_to_vec_map[w2]\n",
        "    \n",
        "    # Step 2: Compute the mean of e_w1 and e_w2 (≈ 1 line)\n",
        "    mu = (e_w1 + e_w2) / 2\n",
        "\n",
        "    # Step 3: Compute the projections of mu over the bias axis and the orthogonal axis (≈ 2 lines)\n",
        "    mu_B = (np.dot(mu, bias_axis) / np.linalg.norm(bias_axis) ** 2) * bias_axis\n",
        "    mu_orth = mu - mu_B\n",
        "\n",
        "    # Step 4: Use equations (7) and (8) to compute e_w1B and e_w2B (≈2 lines)\n",
        "    e_w1B = (np.dot(e_w1, bias_axis) / np.linalg.norm(bias_axis) ** 2) * bias_axis\n",
        "    e_w2B = (np.dot(e_w2, bias_axis) / np.linalg.norm(bias_axis) ** 2) * bias_axis\n",
        "        \n",
        "    # Step 5: Adjust the Bias part of e_w1B and e_w2B using the formulas (9) and (10) given above (≈2 lines)\n",
        "    mu_sqrt = np.sqrt(np.abs(1 - np.linalg.norm(mu_orth) ** 2)) \n",
        "    corrected_e_w1B = mu_sqrt * ((e_w1B - mu_B) / np.abs((e_w1 - mu_orth) - mu_B))\n",
        "    corrected_e_w2B = mu_sqrt * ((e_w2B - mu_B) / np.abs((e_w2 - mu_orth) - mu_B))\n",
        "\n",
        "    # Step 6: Debias by equalizing e1 and e2 to the sum of their corrected projections (≈2 lines)\n",
        "    e1 = corrected_e_w1B + mu_orth\n",
        "    e2 = corrected_e_w2B + mu_orth\n",
        "                                                                \n",
        "    ### END CODE HERE ###\n",
        "    \n",
        "    return e1, e2"
      ],
      "execution_count": 0,
      "outputs": []
    },
    {
      "cell_type": "code",
      "metadata": {
        "id": "3vqC6XNR1U0j",
        "colab_type": "code",
        "colab": {}
      },
      "source": [
        "print('cosine similarities before equalizing:')\n",
        "print(f'cosine_similarity(word_to_vec_map[\\\"man\\\"], gender) = {cosine_similarity(word_to_vec_map[\"man\"], g)}')\n",
        "print(f'cosine_similarity(word_to_vec_map[\\\"woman\\\"], gender) = {cosine_similarity(word_to_vec_map[\"woman\"], g)}')\n",
        "print()\n",
        "\n",
        "e1, e2 = equalize(('man', 'woman'), g, word_to_vec_map)\n",
        "print('cosine similarities after equalizing:')\n",
        "print(f'cosine_similarity(e1, gender) = {cosine_similarity(e1, g)}')\n",
        "print(f'cosine_similarity(e2, gender) = {cosine_similarity(e2, g)}')"
      ],
      "execution_count": 0,
      "outputs": []
    },
    {
      "cell_type": "markdown",
      "metadata": {
        "id": "pnrmuHya2qJf",
        "colab_type": "text"
      },
      "source": [
        "**Expected Output**:\n",
        "\n",
        "cosine similarities before equalizing:\n",
        "<table>\n",
        "    <tr>\n",
        "        <td>\n",
        "            **cosine_similarity(word_to_vec_map[\"man\"], gender)** =\n",
        "        </td>\n",
        "        <td>\n",
        "         -0.117110957653\n",
        "        </td>\n",
        "    </tr>\n",
        "        <tr>\n",
        "        <td>\n",
        "            **cosine_similarity(word_to_vec_map[\"woman\"], gender)** =\n",
        "        </td>\n",
        "        <td>\n",
        "         0.356666188463\n",
        "        </td>\n",
        "    </tr>\n",
        "</table>\n",
        "\n",
        "cosine similarities after equalizing:\n",
        "<table>\n",
        "    <tr>\n",
        "        <td>\n",
        "            **cosine_similarity(u1, gender)** =\n",
        "        </td>\n",
        "        <td>\n",
        "         -0.700436428931\n",
        "        </td>\n",
        "    </tr>\n",
        "        <tr>\n",
        "        <td>\n",
        "            **cosine_similarity(u2, gender)** =\n",
        "        </td>\n",
        "        <td>\n",
        "         0.700436428931\n",
        "        </td>\n",
        "    </tr>\n",
        "</table>"
      ]
    },
    {
      "cell_type": "markdown",
      "metadata": {
        "id": "Onjn3nBd2qxE",
        "colab_type": "text"
      },
      "source": [
        "Please feel free to play with the input words in the cell above, to apply equalization to other pairs of words. \n",
        "\n",
        "These debiasing algorithms are very helpful for reducing bias, but are not perfect and do not eliminate all traces of bias. For example, one weakness of this implementation was that the bias direction $g$ was defined using only the pair of words _woman_ and _man_. As discussed earlier, if $g$ were defined by computing $g_1 = e_{woman} - e_{man}$; $g_2 = e_{mother} - e_{father}$; $g_3 = e_{girl} - e_{boy}$; and so on and averaging over them, you would obtain a better estimate of the \"gender\" dimension in the 50 dimensional word embedding space. Feel free to play with such variants as well.  \n",
        "                     "
      ]
    },
    {
      "cell_type": "markdown",
      "metadata": {
        "id": "VCyT4UuV2t6Y",
        "colab_type": "text"
      },
      "source": [
        "### Congratulations"
      ]
    },
    {
      "cell_type": "markdown",
      "metadata": {
        "id": "cZ3wZ5Su2wWv",
        "colab_type": "text"
      },
      "source": [
        "You have come to the end of this notebook, and have seen a lot of the ways that word vectors can be used as well as  modified. \n",
        "\n",
        "Congratulations on finishing this notebook! "
      ]
    },
    {
      "cell_type": "markdown",
      "metadata": {
        "id": "2S-vhMJV2yzB",
        "colab_type": "text"
      },
      "source": [
        "**References**:\n",
        "- The debiasing algorithm is from Bolukbasi et al., 2016, [Man is to Computer Programmer as Woman is to\n",
        "Homemaker? Debiasing Word Embeddings](https://papers.nips.cc/paper/6228-man-is-to-computer-programmer-as-woman-is-to-homemaker-debiasing-word-embeddings.pdf)\n",
        "- The GloVe word embeddings were due to Jeffrey Pennington, Richard Socher, and Christopher D. Manning. (https://nlp.stanford.edu/projects/glove/)\n"
      ]
    }
  ]
}