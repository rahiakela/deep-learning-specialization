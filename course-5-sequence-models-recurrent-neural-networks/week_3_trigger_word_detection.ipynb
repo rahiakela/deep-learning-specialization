{
  "nbformat": 4,
  "nbformat_minor": 0,
  "metadata": {
    "colab": {
      "name": "week-3-trigger_word_detection.ipynb",
      "provenance": [],
      "toc_visible": true,
      "authorship_tag": "ABX9TyMwuNmWOlQim2/LlZo9a++5",
      "include_colab_link": true
    },
    "kernelspec": {
      "name": "python3",
      "display_name": "Python 3"
    }
  },
  "cells": [
    {
      "cell_type": "markdown",
      "metadata": {
        "id": "view-in-github",
        "colab_type": "text"
      },
      "source": [
        "<a href=\"https://colab.research.google.com/github/rahiakela/coursera-deep-learning-specialization/blob/course-5-sequence-models-recurrent-neural-networks/week_3_trigger_word_detection.ipynb\" target=\"_parent\"><img src=\"https://colab.research.google.com/assets/colab-badge.svg\" alt=\"Open In Colab\"/></a>"
      ]
    },
    {
      "cell_type": "markdown",
      "metadata": {
        "id": "H9BIBHz37ccy",
        "colab_type": "text"
      },
      "source": [
        "## Trigger Word Detection"
      ]
    },
    {
      "cell_type": "markdown",
      "metadata": {
        "id": "VUy7jY2E7gqL",
        "colab_type": "text"
      },
      "source": [
        "Welcome to the final programming assignment of this specialization! \n",
        "\n",
        "In this week's videos, you learned about applying deep learning to speech recognition. In this assignment, you will construct a speech dataset and implement an algorithm for trigger word detection (sometimes also called keyword detection, or wake word detection). \n",
        "\n",
        "* Trigger word detection is the technology that allows devices like Amazon Alexa, Google Home, Apple Siri, and Baidu DuerOS to wake up upon hearing a certain word.  \n",
        "* For this exercise, our trigger word will be \"Activate.\" Every time it hears you say \"activate,\" it will make a \"chiming\" sound. \n",
        "* By the end of this assignment, you will be able to record a clip of yourself talking, and have the algorithm trigger a chime when it detects you saying \"activate.\" \n",
        "* After completing this assignment, perhaps you can also extend it to run on your laptop so that every time you say \"activate\" it starts up your favorite app, or turns on a network connected lamp in your house, or triggers some other event? \n",
        "\n",
        "<img src='https://github.com/rahiakela/img-repo/blob/master/deep-learning-specialization/sound.png?raw=1' width='800'/>\n",
        "\n",
        "In this assignment you will learn to: \n",
        "- Structure a speech recognition project\n",
        "- Synthesize and process audio recordings to create train/dev datasets\n",
        "- Train a trigger word detection model and make predictions"
      ]
    },
    {
      "cell_type": "markdown",
      "metadata": {
        "id": "A4sc8UOD7jro",
        "colab_type": "text"
      },
      "source": [
        "## Setup\n",
        "\n",
        "Let's get started! Run the following cell to load the package you are going to use.    "
      ]
    },
    {
      "cell_type": "code",
      "metadata": {
        "id": "Vvk6UCNU8l0e",
        "colab_type": "code",
        "colab": {}
      },
      "source": [
        "import numpy as np\n",
        "from pydub import AudioSegment\n",
        "import random\n",
        "import sys\n",
        "import io\n",
        "import os\n",
        "import glob\n",
        "import IPython\n",
        "from td_utils import *\n",
        "%matplotlib inline"
      ],
      "execution_count": 0,
      "outputs": []
    },
    {
      "cell_type": "markdown",
      "metadata": {
        "id": "5XYqB6YkAY0F",
        "colab_type": "text"
      },
      "source": [
        "## 1 - Data synthesis: Creating a speech dataset "
      ]
    },
    {
      "cell_type": "markdown",
      "metadata": {
        "id": "a6N-VVnXAZfC",
        "colab_type": "text"
      },
      "source": [
        "Let's start by building a dataset for your trigger word detection algorithm. \n",
        "* A speech dataset should ideally be as close as possible to the application you will want to run it on. \n",
        "* In this case, you'd like to detect the word \"activate\" in working environments (library, home, offices, open-spaces ...). \n",
        "* Therefore, you need to create recordings with a mix of positive words (\"activate\") and negative words (random words other than activate) on different background sounds. Let's see how you can create such a dataset. "
      ]
    },
    {
      "cell_type": "markdown",
      "metadata": {
        "id": "dwFo_StgAeeZ",
        "colab_type": "text"
      },
      "source": [
        "### 1.1 - Listening to the data "
      ]
    },
    {
      "cell_type": "markdown",
      "metadata": {
        "id": "99OKXCK2Ahxn",
        "colab_type": "text"
      },
      "source": [
        "* One of your friends is helping you out on this project, and they've gone to libraries, cafes, restaurants, homes and offices all around the region to record background noises, as well as snippets of audio of people saying positive/negative words. This dataset includes people speaking in a variety of accents. \n",
        "* In the raw_data directory, you can find a subset of the raw audio files of the positive words, negative words, and background noise. You will use these audio files to synthesize a dataset to train the model. \n",
        "    * The \"activate\" directory contains positive examples of people saying the word \"activate\". \n",
        "    * The \"negatives\" directory contains negative examples of people saying random words other than \"activate\". \n",
        "    * There is one word per audio recording. \n",
        "    * The \"backgrounds\" directory contains 10 second clips of background noise in different environments.\n",
        "\n",
        "Run the cells below to listen to some examples."
      ]
    },
    {
      "cell_type": "code",
      "metadata": {
        "id": "YDB1iHu-AkBZ",
        "colab_type": "code",
        "colab": {}
      },
      "source": [
        "IPython.display.Audio(\"./raw_data/activates/1.wav\")"
      ],
      "execution_count": 0,
      "outputs": []
    },
    {
      "cell_type": "code",
      "metadata": {
        "id": "ZsVRE4AXDcJe",
        "colab_type": "code",
        "colab": {}
      },
      "source": [
        "IPython.display.Audio(\"./raw_data/negatives/4.wav\")"
      ],
      "execution_count": 0,
      "outputs": []
    },
    {
      "cell_type": "code",
      "metadata": {
        "id": "ZeGtisLMDeiW",
        "colab_type": "code",
        "colab": {}
      },
      "source": [
        "IPython.display.Audio(\"./raw_data/backgrounds/1.wav\")"
      ],
      "execution_count": 0,
      "outputs": []
    },
    {
      "cell_type": "markdown",
      "metadata": {
        "id": "FcI1JwddDgyu",
        "colab_type": "text"
      },
      "source": [
        "You will use these three types of recordings (positives/negatives/backgrounds) to create a labeled dataset."
      ]
    },
    {
      "cell_type": "markdown",
      "metadata": {
        "id": "eLgAXByiDjeG",
        "colab_type": "text"
      },
      "source": [
        "## 1.2 - From audio recordings to spectrograms"
      ]
    },
    {
      "cell_type": "markdown",
      "metadata": {
        "id": "ioISxZWGDm1W",
        "colab_type": "text"
      },
      "source": [
        "What really is an audio recording? \n",
        "* A microphone records little variations in air pressure over time, and it is these little variations in air pressure that your ear also perceives as sound. \n",
        "* You can think of an audio recording is a long list of numbers measuring the little air pressure changes detected by the microphone. \n",
        "* We will use audio sampled at 44100 Hz (or 44100 Hertz). \n",
        "    * This means the microphone gives us 44,100 numbers per second. \n",
        "    * Thus, a 10 second audio clip is represented by 441,000 numbers (= $10 \\times 44,100$). "
      ]
    },
    {
      "cell_type": "markdown",
      "metadata": {
        "id": "vN1qbsnYDtDX",
        "colab_type": "text"
      },
      "source": [
        "### Spectrogram"
      ]
    },
    {
      "cell_type": "markdown",
      "metadata": {
        "id": "81DAR-p6Duwj",
        "colab_type": "text"
      },
      "source": [
        "* It is quite difficult to figure out from this \"raw\" representation of audio whether the word \"activate\" was said. \n",
        "* In  order to help your sequence model more easily learn to detect trigger words, we will compute a *spectrogram* of the audio. \n",
        "* The spectrogram tells us how much different frequencies are present in an audio clip at any moment in time. \n",
        "* If you've ever taken an advanced class on signal processing or on Fourier transforms:\n",
        "    * A spectrogram is computed by sliding a window over the raw audio signal, and calculating the most active frequencies in each window using a Fourier transform. \n",
        "    * If you don't understand the previous sentence, don't worry about it.\n",
        "\n",
        "Let's look at an example."
      ]
    },
    {
      "cell_type": "code",
      "metadata": {
        "id": "1NnQLTOODxhK",
        "colab_type": "code",
        "colab": {}
      },
      "source": [
        "IPython.display.Audio(\"audio_examples/example_train.wav\")"
      ],
      "execution_count": 0,
      "outputs": []
    },
    {
      "cell_type": "code",
      "metadata": {
        "id": "yZtR3qyuD4Oz",
        "colab_type": "code",
        "colab": {}
      },
      "source": [
        "x = graph_spectrogram(\"audio_examples/example_train.wav\")"
      ],
      "execution_count": 0,
      "outputs": []
    },
    {
      "cell_type": "markdown",
      "metadata": {
        "id": "ImuOAHuXD6ug",
        "colab_type": "text"
      },
      "source": [
        "The graph above represents how active each frequency is (y axis) over a number of time-steps (x axis). \n",
        "\n",
        "<img src='https://github.com/rahiakela/img-repo/blob/master/deep-learning-specialization/spectrogram.png?raw=1' width='800'/>\n",
        "<center> **Figure 1**: Spectrogram of an audio recording </center>\n",
        "\n",
        "* The color in the spectrogram shows the degree to which different frequencies are present (loud) in the audio at different points in time. \n",
        "* Green means a certain frequency is more active or more present in the audio clip (louder).\n",
        "* Blue squares denote less active frequencies.\n",
        "* The dimension of the output spectrogram depends upon the hyperparameters of the spectrogram software and the length of the input. \n",
        "* In this notebook, we will be working with 10 second audio clips as the \"standard length\" for our training examples. \n",
        "    * The number of timesteps of the spectrogram will be 5511. \n",
        "    * You'll see later that the spectrogram will be the input $x$ into the network, and so $T_x = 5511$."
      ]
    },
    {
      "cell_type": "code",
      "metadata": {
        "id": "xmbYkhnmD86C",
        "colab_type": "code",
        "colab": {}
      },
      "source": [
        "_, data = wavfile.read('audio_examples/example_train.wav')\n",
        "print(f'Time steps in audio recording before spectrogram {data[:, 0].shape}')\n",
        "print(f'Time steps in input after spectrogram {x.shape}')"
      ],
      "execution_count": 0,
      "outputs": []
    },
    {
      "cell_type": "markdown",
      "metadata": {
        "id": "_gHbzzi0Ekot",
        "colab_type": "text"
      },
      "source": [
        "Now, you can define:"
      ]
    },
    {
      "cell_type": "code",
      "metadata": {
        "id": "MbB9R6nTElMQ",
        "colab_type": "code",
        "colab": {}
      },
      "source": [
        "Tx = 5511  # The number of time steps input to the model from the spectrogram\n",
        "n_freq = 101 # Number of frequencies input to the model at each time step of the spectrogram"
      ],
      "execution_count": 0,
      "outputs": []
    },
    {
      "cell_type": "markdown",
      "metadata": {
        "id": "3wGaXMiiE0EK",
        "colab_type": "text"
      },
      "source": [
        "### Dividing into time-intervals"
      ]
    },
    {
      "cell_type": "markdown",
      "metadata": {
        "id": "iGP3PYPVE1zA",
        "colab_type": "text"
      },
      "source": [
        "Note that we may divide a 10 second interval of time with different units (steps).\n",
        "* Raw audio divides 10 seconds into 441,000 units.\n",
        "* A spectrogram divides 10 seconds into 5,511 units.\n",
        "    * $T_x = 5511$\n",
        "* You will use a Python module `pydub` to synthesize audio, and it divides 10 seconds into 10,000 units.\n",
        "* The output of our model will divide 10 seconds into 1,375 units.\n",
        "    * $T_y = 1375$\n",
        "    * For each of the 1375 time steps, the model predicts whether someone recently finished saying the trigger word \"activate.\" \n",
        "* All of these are hyperparameters and can be changed (except the 441000, which is a function of the microphone). \n",
        "* We have chosen values that are within the standard range used for speech systems."
      ]
    },
    {
      "cell_type": "code",
      "metadata": {
        "id": "hy9GBoiKE69P",
        "colab_type": "code",
        "colab": {}
      },
      "source": [
        "Ty = 1375   # The number of time steps in the output of our model"
      ],
      "execution_count": 0,
      "outputs": []
    },
    {
      "cell_type": "markdown",
      "metadata": {
        "id": "kNs98PcTE_zH",
        "colab_type": "text"
      },
      "source": [
        "## 1.3 - Generating a single training example"
      ]
    },
    {
      "cell_type": "markdown",
      "metadata": {
        "id": "XoEtngegFCpV",
        "colab_type": "text"
      },
      "source": [
        "#### Benefits of synthesizing data\n",
        "Because speech data is hard to acquire and label, you will synthesize your training data using the audio clips of activates, negatives, and backgrounds. \n",
        "* It is quite slow to record lots of 10 second audio clips with random \"activates\" in it. \n",
        "* Instead, it is easier to record lots of positives and negative words, and record background noise separately (or download background noise from free online sources). \n",
        "\n",
        "#### Process for Synthesizing an audio clip\n",
        "* To synthesize a single training example, you will:\n",
        "    - Pick a random 10 second background audio clip\n",
        "    - Randomly insert 0-4 audio clips of \"activate\" into this 10sec clip\n",
        "    - Randomly insert 0-2 audio clips of negative words into this 10sec clip\n",
        "* Because you had synthesized the word \"activate\" into the background clip, you know exactly when in the 10 second clip the \"activate\" makes its appearance. \n",
        "    * You'll see later that this makes it easier to generate the labels $y^{\\langle t \\rangle}$ as well. \n",
        "\n",
        "#### Pydub\n",
        "* You will use the pydub package to manipulate audio. \n",
        "* Pydub converts raw audio files into lists of Pydub data structures.\n",
        "    * Don't worry about the details of the data structures.\n",
        "* Pydub uses 1ms as the discretization interval (1ms is 1 millisecond = 1/1000 seconds).\n",
        "    * This is why a 10 second clip is always represented using 10,000 steps. "
      ]
    },
    {
      "cell_type": "code",
      "metadata": {
        "id": "vo7whpeQvQTT",
        "colab_type": "code",
        "colab": {}
      },
      "source": [
        "# Load audio segments using pydub \n",
        "activates, negatives, backgrounds = load_raw_audio()\n",
        "\n",
        "print(\"background len should be 10,000, since it is a 10 sec clip\\n\" + str(len(backgrounds[0])),\"\\n\")\n",
        "print(\"activate[0] len may be around 1000, since an `activate` audio clip is usually around 1 second (but varies a lot) \\n\" + str(len(activates[0])),\"\\n\")\n",
        "print(\"activate[1] len: different `activate` clips can have different lengths\\n\" + str(len(activates[1])),\"\\n\")"
      ],
      "execution_count": 0,
      "outputs": []
    },
    {
      "cell_type": "markdown",
      "metadata": {
        "id": "RrvIHsU9vQ5K",
        "colab_type": "text"
      },
      "source": [
        "### Overlaying positive/negative 'word' audio clips on top of the background audio"
      ]
    },
    {
      "cell_type": "markdown",
      "metadata": {
        "id": "w_0ibsPTvU6_",
        "colab_type": "text"
      },
      "source": [
        "* Given a 10 second background clip and a short audio clip containing a positive or negative word, you need to be able to \"add\" the word audio clip on top of the background audio.\n",
        "* You will be inserting multiple clips of positive/negative words into the background, and you don't want to insert an \"activate\" or a random word somewhere that overlaps with another clip you had previously added. \n",
        "    * To ensure that the 'word' audio segments do not overlap when inserted, you will keep track of the times of previously inserted audio clips. \n",
        "* To be clear, when you insert a 1 second \"activate\" onto a 10 second clip of cafe noise, **you do not end up with an 11 sec clip.** \n",
        "    * The resulting audio clip is still 10 seconds long.\n",
        "    * You'll see later how pydub allows you to do this.  "
      ]
    },
    {
      "cell_type": "markdown",
      "metadata": {
        "id": "XfHH1kZMvX1v",
        "colab_type": "text"
      },
      "source": [
        "#### Label the positive/negative words"
      ]
    },
    {
      "cell_type": "markdown",
      "metadata": {
        "id": "roCIOlL-vcN-",
        "colab_type": "text"
      },
      "source": [
        "* Recall that the labels $y^{\\langle t \\rangle}$ represent whether or not someone has just finished saying \"activate.\" \n",
        "    * $y^{\\langle t \\rangle} = 1$ when that that clip has finished saying \"activate\".\n",
        "    * Given a background clip, we can initialize $y^{\\langle t \\rangle}=0$ for all $t$, since the clip doesn't contain any \"activates.\" \n",
        "* When you insert or overlay an \"activate\" clip, you will also update labels for $y^{\\langle t \\rangle}$.\n",
        "    * Rather than updating the label of a single time step, we will update 50 steps of the output to have target label 1. \n",
        "    * Recall from the lecture on trigger word detection that updating several consecutive time steps can make the training data more balanced.\n",
        "* You will train a GRU (Gated Recurrent Unit) to detect when someone has **finished** saying \"activate\". \n"
      ]
    },
    {
      "cell_type": "markdown",
      "metadata": {
        "id": "5BEwSzrov7Jx",
        "colab_type": "text"
      },
      "source": [
        "##### Example\n"
      ]
    },
    {
      "cell_type": "markdown",
      "metadata": {
        "id": "KY5D3RoEv9Kh",
        "colab_type": "text"
      },
      "source": [
        "* Suppose the synthesized \"activate\" clip ends at the 5 second mark in the 10 second audio - exactly halfway into the clip. \n",
        "* Recall that $T_y = 1375$, so timestep $687 = $ `int(1375*0.5)` corresponds to the moment 5 seconds into the audio clip. \n",
        "* Set $y^{\\langle 688 \\rangle} = 1$. \n",
        "* We will allow the GRU to detect \"activate\" anywhere within a short time-internal **after** this moment, so we actually **set 50 consecutive values** of the label $y^{\\langle t \\rangle}$ to 1. \n",
        "    * Specifically, we have $y^{\\langle 688 \\rangle} = y^{\\langle 689 \\rangle} = \\cdots = y^{\\langle 737 \\rangle} = 1$.  \n"
      ]
    },
    {
      "cell_type": "markdown",
      "metadata": {
        "id": "9LK8DXwnv_Ih",
        "colab_type": "text"
      },
      "source": [
        "##### Synthesized data is easier to label\n"
      ]
    },
    {
      "cell_type": "markdown",
      "metadata": {
        "id": "G2L6v06CwAx1",
        "colab_type": "text"
      },
      "source": [
        "* This is another reason for synthesizing the training data: It's relatively straightforward to generate these labels $y^{\\langle t \\rangle}$ as described above. \n",
        "* In contrast, if you have 10sec of audio recorded on a microphone, it's quite time consuming for a person to listen to it and mark manually exactly when \"activate\" finished."
      ]
    },
    {
      "cell_type": "markdown",
      "metadata": {
        "id": "emGppPx_wBkM",
        "colab_type": "text"
      },
      "source": [
        "#### Visualizing the labels"
      ]
    },
    {
      "cell_type": "markdown",
      "metadata": {
        "id": "TEdUrOKvwGGX",
        "colab_type": "text"
      },
      "source": [
        "* Here's a figure illustrating the labels $y^{\\langle t \\rangle}$ in a clip.\n",
        "    * We have inserted \"activate\", \"innocent\", activate\", \"baby.\" \n",
        "    * Note that the positive labels \"1\" are associated only with the positive words. \n",
        "\n",
        "<img src='https://github.com/rahiakela/img-repo/blob/master/deep-learning-specialization/label_diagram.png?raw=1' width='800'/>\n",
        "<center> **Figure 2** </center>"
      ]
    },
    {
      "cell_type": "markdown",
      "metadata": {
        "id": "Ghg99PSRwSRp",
        "colab_type": "text"
      },
      "source": [
        "#### Helper functions"
      ]
    },
    {
      "cell_type": "markdown",
      "metadata": {
        "id": "fNWSod6owS0H",
        "colab_type": "text"
      },
      "source": [
        "To implement the training set synthesis process, you will use the following helper functions. \n",
        "* All of these functions will use a 1ms discretization interval\n",
        "* The 10 seconds of audio is always discretized into 10,000 steps. \n",
        "\n",
        "\n",
        "1. `get_random_time_segment(segment_ms)`\n",
        "    * Retrieves a random time segment from the background audio.\n",
        "2. `is_overlapping(segment_time, existing_segments)`\n",
        "    * Checks if a time segment overlaps with existing segments\n",
        "3. `insert_audio_clip(background, audio_clip, existing_times)`\n",
        "    * Inserts an audio segment at a random time in the background audio\n",
        "    * Uses the functions `get_random_time_segment` and `is_overlapping`\n",
        "4. `insert_ones(y, segment_end_ms)`\n",
        "    * Inserts additional 1's into the label vector y after the word \"activate\""
      ]
    },
    {
      "cell_type": "markdown",
      "metadata": {
        "id": "BBDu2FqRwU6G",
        "colab_type": "text"
      },
      "source": [
        "#### Get a random time segment"
      ]
    },
    {
      "cell_type": "markdown",
      "metadata": {
        "id": "c39LM8LhwX5s",
        "colab_type": "text"
      },
      "source": [
        "* The function `get_random_time_segment(segment_ms)` returns a random time segment onto which we can insert an audio clip of duration `segment_ms`. \n",
        "* Please read through the code to make sure you understand what it is doing. "
      ]
    },
    {
      "cell_type": "code",
      "metadata": {
        "id": "m-UEupitwZ-k",
        "colab_type": "code",
        "colab": {}
      },
      "source": [
        "def get_random_time_segment(segment_ms):\n",
        "    \"\"\"\n",
        "    Gets a random time segment of duration segment_ms in a 10,000 ms audio clip.\n",
        "    \n",
        "    Arguments:\n",
        "    segment_ms -- the duration of the audio clip in ms (\"ms\" stands for \"milliseconds\")\n",
        "    \n",
        "    Returns:\n",
        "    segment_time -- a tuple of (segment_start, segment_end) in ms\n",
        "    \"\"\"\n",
        "    \n",
        "    segment_start = np.random.randint(low=0, high=10000-segment_ms)   # Make sure segment doesn't run past the 10sec background \n",
        "    segment_end = segment_start + segment_ms - 1\n",
        "    \n",
        "    return (segment_start, segment_end)"
      ],
      "execution_count": 0,
      "outputs": []
    },
    {
      "cell_type": "markdown",
      "metadata": {
        "id": "SBXQ4GiY7TkD",
        "colab_type": "text"
      },
      "source": [
        "#### Check if audio clips are overlapping"
      ]
    },
    {
      "cell_type": "markdown",
      "metadata": {
        "id": "WR7ZzPbi7WvN",
        "colab_type": "text"
      },
      "source": [
        "* Suppose you have inserted audio clips at segments (1000,1800) and (3400,4500).\n",
        "    * The first segment starts at step 1000 and ends at step 1800. \n",
        "    * The second segment starts at 3400 and ends at 4500.\n",
        "* If we are considering whether to insert a new audio clip at (3000,3600) does this overlap with one of the previously inserted segments? \n",
        "    * In this case, (3000,3600) and (3400,4500) overlap, so we should decide against inserting a clip here.\n",
        "* For the purpose of this function, define (100,200) and (200,250) to be overlapping, since they overlap at timestep 200. \n",
        "* (100,199) and (200,250) are non-overlapping. \n",
        "\n",
        "**Exercise**: \n",
        "* Implement `is_overlapping(segment_time, existing_segments)` to check if a new time segment overlaps with any of the previous segments. \n",
        "* You will need to carry out 2 steps:\n",
        "\n",
        "1. Create a \"False\" flag, that you will later set to \"True\" if you find that there is an overlap.\n",
        "2. Loop over the previous_segments' start and end times. Compare these times to the segment's start and end times. If there is an overlap, set the flag defined in (1) as True. \n",
        "\n",
        "You can use:\n",
        "```python\n",
        "for ....:\n",
        "        if ... <= ... and ... >= ...:\n",
        "            ...\n",
        "```\n",
        "Hint: There is overlap if:\n",
        "* The new segment starts before the previous segment ends **and**\n",
        "* The new segment ends after the previous segment starts."
      ]
    },
    {
      "cell_type": "code",
      "metadata": {
        "id": "iarNDxGx7ZT7",
        "colab_type": "code",
        "colab": {}
      },
      "source": [
        "# GRADED FUNCTION: is_overlapping\n",
        "\n",
        "def is_overlapping(segment_time, previous_segments):\n",
        "    \"\"\"\n",
        "    Checks if the time of a segment overlaps with the times of existing segments.\n",
        "    \n",
        "    Arguments:\n",
        "    segment_time -- a tuple of (segment_start, segment_end) for the new segment\n",
        "    previous_segments -- a list of tuples of (segment_start, segment_end) for the existing segments\n",
        "    \n",
        "    Returns:\n",
        "    True if the time segment overlaps with any of the existing segments, False otherwise\n",
        "    \"\"\"\n",
        "    \n",
        "    segment_start, segment_end = segment_time\n",
        "    \n",
        "    ### START CODE HERE ### (≈ 4 lines)\n",
        "    # Step 1: Initialize overlap as a \"False\" flag. (≈ 1 line)\n",
        "    overlap = False\n",
        "    \n",
        "    # Step 2: loop over the previous_segments start and end times.\n",
        "    # Compare start/end times and set the flag to True if there is an overlap (≈ 3 lines)\n",
        "    for previous_start, previous_end in previous_segments:\n",
        "        if segment_start <= previous_end and segment_end >= previous_start:\n",
        "            overlap = True\n",
        "    ### END CODE HERE ###\n",
        "\n",
        "    return overlap"
      ],
      "execution_count": 0,
      "outputs": []
    },
    {
      "cell_type": "code",
      "metadata": {
        "id": "5jJSgHyd7cfE",
        "colab_type": "code",
        "colab": {}
      },
      "source": [
        "overlap1 = is_overlapping((950, 1430), [(2000, 2550), (260, 949)])\n",
        "overlap2 = is_overlapping((2305, 2950), [(824, 1532), (1900, 2305), (3424, 3656)])\n",
        "print(\"Overlap 1 = \", overlap1)\n",
        "print(\"Overlap 2 = \", overlap2)"
      ],
      "execution_count": 0,
      "outputs": []
    },
    {
      "cell_type": "markdown",
      "metadata": {
        "id": "heDD9EMt7fMo",
        "colab_type": "text"
      },
      "source": [
        "**Expected Output**:\n",
        "\n",
        "<table>\n",
        "    <tr>\n",
        "        <td>\n",
        "            **Overlap 1**\n",
        "        </td>\n",
        "        <td>\n",
        "           False\n",
        "        </td>\n",
        "    </tr>\n",
        "    <tr>\n",
        "        <td>\n",
        "            **Overlap 2**\n",
        "        </td>\n",
        "        <td>\n",
        "           True\n",
        "        </td>\n",
        "    </tr>\n",
        "</table>"
      ]
    },
    {
      "cell_type": "markdown",
      "metadata": {
        "id": "bM3GfS1g7k70",
        "colab_type": "text"
      },
      "source": [
        "#### Insert audio clip"
      ]
    },
    {
      "cell_type": "markdown",
      "metadata": {
        "id": "YbqK0A4N7lZ9",
        "colab_type": "text"
      },
      "source": [
        "* Let's use the previous helper functions to insert a new audio clip onto the 10 second background at a random time.\n",
        "* We will ensure that any newly inserted segment doesn't overlap with previously inserted segments. \n",
        "\n",
        "**Exercise**:\n",
        "* Implement `insert_audio_clip()` to overlay an audio clip onto the background 10sec clip. \n",
        "* You implement 4 steps:\n",
        "\n",
        "1. Get the length of the audio clip that is to be inserted.\n",
        "    * Get a random time segment whose duration equals the duration of the audio clip that is to be inserted.\n",
        "2. Make sure that the time segment does not overlap with any of the previous time segments. \n",
        "    * If it is overlapping, then go back to step 1 and pick a new time segment.\n",
        "3. Append the new time segment to the list of existing time segments\n",
        "    * This keeps track of all the segments you've inserted.  \n",
        "4. Overlay the audio clip over the background using pydub. We have implemented this for you."
      ]
    },
    {
      "cell_type": "code",
      "metadata": {
        "id": "GPYhFsNW7nZO",
        "colab_type": "code",
        "colab": {}
      },
      "source": [
        "# GRADED FUNCTION: insert_audio_clip\n",
        "\n",
        "def insert_audio_clip(background, audio_clip, previous_segments):\n",
        "    \"\"\"\n",
        "    Insert a new audio segment over the background noise at a random time step, ensuring that the \n",
        "    audio segment does not overlap with existing segments.\n",
        "    \n",
        "    Arguments:\n",
        "    background -- a 10 second background audio recording.  \n",
        "    audio_clip -- the audio clip to be inserted/overlaid. \n",
        "    previous_segments -- times where audio segments have already been placed\n",
        "    \n",
        "    Returns:\n",
        "    new_background -- the updated background audio\n",
        "    \"\"\"\n",
        "    \n",
        "    # Get the duration of the audio clip in ms\n",
        "    segment_ms = len(audio_clip)\n",
        "    \n",
        "    ### START CODE HERE ### \n",
        "    # Step 1: Use one of the helper functions to pick a random time segment onto which to insert \n",
        "    # the new audio clip. (≈ 1 line)\n",
        "    segment_time = get_random_time_segment(segment_ms)\n",
        "    \n",
        "    # Step 2: Check if the new segment_time overlaps with one of the previous_segments. If so, keep \n",
        "    # picking new segment_time at random until it doesn't overlap. (≈ 2 lines)\n",
        "    while is_overlapping(segment_time, previous_segments):\n",
        "        segment_time = get_random_time_segment(segment_ms)\n",
        "\n",
        "    # Step 3: Append the new segment_time to the list of previous_segments (≈ 1 line)\n",
        "    previous_segments.append(segment_time)\n",
        "    ### END CODE HERE ###\n",
        "    \n",
        "    # Step 4: Superpose audio segment and background\n",
        "    new_background = background.overlay(audio_clip, position = segment_time[0])\n",
        "    \n",
        "    return new_background, segment_time"
      ],
      "execution_count": 0,
      "outputs": []
    },
    {
      "cell_type": "code",
      "metadata": {
        "id": "AvW57JEV7qso",
        "colab_type": "code",
        "colab": {}
      },
      "source": [
        "np.random.seed(5)\n",
        "audio_clip, segment_time = insert_audio_clip(backgrounds[0], activates[0], [(3790, 4400)])\n",
        "audio_clip.export(\"insert_test.wav\", format=\"wav\")\n",
        "print(\"Segment Time: \", segment_time)\n",
        "IPython.display.Audio(\"insert_test.wav\")"
      ],
      "execution_count": 0,
      "outputs": []
    },
    {
      "cell_type": "markdown",
      "metadata": {
        "id": "cYxvw1FC7s2g",
        "colab_type": "text"
      },
      "source": [
        "**Expected Output**\n",
        "\n",
        "<table>\n",
        "    <tr>\n",
        "        <td>\n",
        "            **Segment Time**\n",
        "        </td>\n",
        "        <td>\n",
        "           (2254, 3169)\n",
        "        </td>\n",
        "    </tr>\n",
        "</table>"
      ]
    },
    {
      "cell_type": "code",
      "metadata": {
        "id": "DCR4HAU27v3n",
        "colab_type": "code",
        "colab": {}
      },
      "source": [
        "# Expected audio\n",
        "IPython.display.Audio(\"audio_examples/insert_reference.wav\")"
      ],
      "execution_count": 0,
      "outputs": []
    },
    {
      "cell_type": "markdown",
      "metadata": {
        "id": "fXRk-gE57xk6",
        "colab_type": "text"
      },
      "source": [
        "#### Insert ones for the labels of the positive target"
      ]
    },
    {
      "cell_type": "markdown",
      "metadata": {
        "id": "jq6IiNF2QPrQ",
        "colab_type": "text"
      },
      "source": [
        "* Implement code to update the labels $y^{\\langle t \\rangle}$, assuming you just inserted an \"activate\" audio clip.\n",
        "* In the code below, `y` is a `(1,1375)` dimensional vector, since $T_y = 1375$. \n",
        "* If the \"activate\" audio clip ends at time step $t$, then set $y^{\\langle t+1 \\rangle} = 1$ and also set the next 49 additional consecutive values to 1.\n",
        "    * Notice that if the target word appears near the end of the entire audio clip, there may not be 50 additional time steps to set to 1.\n",
        "    * Make sure you don't run off the end of the array and try to update `y[0][1375]`, since the valid indices are `y[0][0]` through `y[0][1374]` because $T_y = 1375$. \n",
        "    * So if \"activate\" ends at step 1370, you would get only set `y[0][1371] = y[0][1372] = y[0][1373] = y[0][1374] = 1`\n",
        "\n",
        "**Exercise**: \n",
        "Implement `insert_ones()`. \n",
        "* You can use a for loop. \n",
        "* If you want to use Python's array slicing operations, you can do so as well.\n",
        "* If a segment ends at `segment_end_ms` (using a 10000 step discretization),\n",
        "    * To convert it to the indexing for the outputs $y$ (using a $1375$ step discretization), we will use this formula:  \n",
        "```\n",
        "    segment_end_y = int(segment_end_ms * Ty / 10000.0)\n",
        "```"
      ]
    },
    {
      "cell_type": "code",
      "metadata": {
        "id": "zs3YGxDAQSfy",
        "colab_type": "code",
        "colab": {}
      },
      "source": [
        "# GRADED FUNCTION: insert_ones\n",
        "\n",
        "def insert_ones(y, segment_end_ms):\n",
        "    \"\"\"\n",
        "    Update the label vector y. The labels of the 50 output steps strictly after the end of the segment \n",
        "    should be set to 1. By strictly we mean that the label of segment_end_y should be 0 while, the\n",
        "    50 following labels should be ones.\n",
        "    \n",
        "    \n",
        "    Arguments:\n",
        "    y -- numpy array of shape (1, Ty), the labels of the training example\n",
        "    segment_end_ms -- the end time of the segment in ms\n",
        "    \n",
        "    Returns:\n",
        "    y -- updated labels\n",
        "    \"\"\"\n",
        "    \n",
        "    # duration of the background (in terms of spectrogram time-steps)\n",
        "    segment_end_y = int(segment_end_ms * Ty / 10000.0)\n",
        "    \n",
        "    # Add 1 to the correct index in the background label (y)\n",
        "    ### START CODE HERE ### (≈ 3 lines)\n",
        "    for i in range(segment_end_ms + 1, segment_end_ms + 51):\n",
        "        if i < Ty:\n",
        "            y[0, i] = 1\n",
        "    ### END CODE HERE ###\n",
        "    \n",
        "    return y"
      ],
      "execution_count": 0,
      "outputs": []
    },
    {
      "cell_type": "code",
      "metadata": {
        "id": "Lc7rSYJ5QYeJ",
        "colab_type": "code",
        "colab": {}
      },
      "source": [
        "arr1 = insert_ones(np.zeros((1, Ty)), 9700)\n",
        "plt.plot(insert_ones(arr1, 4251)[0,:])\n",
        "print(\"sanity checks:\", arr1[0][1333], arr1[0][634], arr1[0][635])"
      ],
      "execution_count": 0,
      "outputs": []
    },
    {
      "cell_type": "markdown",
      "metadata": {
        "id": "edfuuQIAQbKv",
        "colab_type": "text"
      },
      "source": [
        "**Expected Output**\n",
        "<table>\n",
        "    <tr>\n",
        "        <td>\n",
        "            **sanity checks**:\n",
        "        </td>\n",
        "        <td>\n",
        "           0.0 1.0 0.0\n",
        "        </td>\n",
        "    </tr>\n",
        "</table>\n",
        "<img src='https://github.com/rahiakela/img-repo/blob/master/deep-learning-specialization/ones_reference.png?raw=1' width='800'/>"
      ]
    },
    {
      "cell_type": "markdown",
      "metadata": {
        "id": "GHBqe22uQmk2",
        "colab_type": "text"
      },
      "source": [
        "#### Creating a training example"
      ]
    },
    {
      "cell_type": "markdown",
      "metadata": {
        "id": "DKS4YeWg57sh",
        "colab_type": "text"
      },
      "source": [
        "Finally, you can use `insert_audio_clip` and `insert_ones` to create a new training example.\n",
        "\n",
        "**Exercise**: Implement `create_training_example()`. You will need to carry out the following steps:\n",
        "\n",
        "1. Initialize the label vector $y$ as a numpy array of zeros and shape $(1, T_y)$.\n",
        "2. Initialize the set of existing segments to an empty list.\n",
        "3. Randomly select 0 to 4 \"activate\" audio clips, and insert them onto the 10 second clip. Also insert labels at the correct position in the label vector $y$.\n",
        "4. Randomly select 0 to 2 negative audio clips, and insert them into the 10 second clip. "
      ]
    },
    {
      "cell_type": "code",
      "metadata": {
        "id": "Xb_kWhBc5-Nb",
        "colab_type": "code",
        "colab": {}
      },
      "source": [
        "# GRADED FUNCTION: create_training_example\n",
        "\n",
        "def create_training_example(background, activates, negatives):\n",
        "    \"\"\"\n",
        "    Creates a training example with a given background, activates, and negatives.\n",
        "    \n",
        "    Arguments:\n",
        "    background -- a 10 second background audio recording\n",
        "    activates -- a list of audio segments of the word \"activate\"\n",
        "    negatives -- a list of audio segments of random words that are not \"activate\"\n",
        "    \n",
        "    Returns:\n",
        "    x -- the spectrogram of the training example\n",
        "    y -- the label at each time step of the spectrogram\n",
        "    \"\"\"\n",
        "    \n",
        "    # Set the random seed\n",
        "    np.random.seed(18)\n",
        "    \n",
        "    # Make background quieter\n",
        "    background = background - 20\n",
        "\n",
        "    ### START CODE HERE ###\n",
        "    # Step 1: Initialize y (label vector) of zeros (≈ 1 line)\n",
        "    y = np.zeros((1, Ty))\n",
        "\n",
        "    # Step 2: Initialize segment times as an empty list (≈ 1 line)\n",
        "    previous_segments = []\n",
        "    ### END CODE HERE ###\n",
        "    \n",
        "    # Select 0-4 random \"activate\" audio clips from the entire list of \"activates\" recordings\n",
        "    number_of_activates = np.random.randint(0, 5)\n",
        "    random_indices = np.random.randint(len(activates), size=number_of_activates)\n",
        "    random_activates = [activates[i] for i in random_indices]\n",
        "    \n",
        "    ### START CODE HERE ### (≈ 3 lines)\n",
        "    # Step 3: Loop over randomly selected \"activate\" clips and insert in background\n",
        "    for random_activate in random_activates:\n",
        "        # Insert the audio clip on the background\n",
        "        background, segment_time = insert_audio_clip(background, random_activate, previous_segments)\n",
        "        # Retrieve segment_start and segment_end from segment_time\n",
        "        segment_start, segment_end = segment_time\n",
        "        # Insert labels in \"y\"\n",
        "        y = insert_ones(y, segment_end)\n",
        "    ### END CODE HERE ###\n",
        "\n",
        "    # Select 0-2 random negatives audio recordings from the entire list of \"negatives\" recordings\n",
        "    number_of_negatives = np.random.randint(0, 3)\n",
        "    random_indices = np.random.randint(len(negatives), size=number_of_negatives)\n",
        "    random_negatives = [negatives[i] for i in random_indices]\n",
        "\n",
        "    ### START CODE HERE ### (≈ 2 lines)\n",
        "    # Step 4: Loop over randomly selected negative clips and insert in background\n",
        "    for random_negative in random_negatives:\n",
        "        # Insert the audio clip on the background \n",
        "        background, _ = insert_audio_clip(background, random_negative, previous_segments)\n",
        "    ### END CODE HERE ###\n",
        "    \n",
        "    # Standardize the volume of the audio clip \n",
        "    background = match_target_amplitude(background, -20.0)\n",
        "\n",
        "    # Export new training example \n",
        "    file_handle = background.export(\"train\" + \".wav\", format=\"wav\")\n",
        "    print(\"File (train.wav) was saved in your directory.\")\n",
        "    \n",
        "    # Get and plot spectrogram of the new recording (background with superposition of positive and negatives)\n",
        "    x = graph_spectrogram(\"train.wav\")\n",
        "    \n",
        "    return x, y"
      ],
      "execution_count": 0,
      "outputs": []
    },
    {
      "cell_type": "code",
      "metadata": {
        "id": "z2dS22Et6BaJ",
        "colab_type": "code",
        "colab": {}
      },
      "source": [
        "x, y = create_training_example(backgrounds[0], activates, negatives)"
      ],
      "execution_count": 0,
      "outputs": []
    },
    {
      "cell_type": "markdown",
      "metadata": {
        "id": "6CMJ7-_Z6Eea",
        "colab_type": "text"
      },
      "source": [
        "**Expected Output**\n",
        "<img src='https://github.com/rahiakela/img-repo/blob/master/deep-learning-specialization/train_reference.png?raw=1' width='800'/>"
      ]
    },
    {
      "cell_type": "markdown",
      "metadata": {
        "id": "nWQhIx9G6Ond",
        "colab_type": "text"
      },
      "source": [
        "Now you can listen to the training example you created and compare it to the spectrogram generated above."
      ]
    },
    {
      "cell_type": "code",
      "metadata": {
        "id": "xNRH7yzb6PFx",
        "colab_type": "code",
        "colab": {}
      },
      "source": [
        "IPython.display.Audio(\"train.wav\")"
      ],
      "execution_count": 0,
      "outputs": []
    },
    {
      "cell_type": "markdown",
      "metadata": {
        "id": "ZjfIxDBd6SHz",
        "colab_type": "text"
      },
      "source": [
        "**Expected Output**"
      ]
    },
    {
      "cell_type": "code",
      "metadata": {
        "id": "Fsq15RTs6UU-",
        "colab_type": "code",
        "colab": {}
      },
      "source": [
        "IPython.display.Audio(\"audio_examples/train_reference.wav\")"
      ],
      "execution_count": 0,
      "outputs": []
    },
    {
      "cell_type": "markdown",
      "metadata": {
        "id": "pskYgZYn6XEa",
        "colab_type": "text"
      },
      "source": [
        "Finally, you can plot the associated labels for the generated training example."
      ]
    },
    {
      "cell_type": "code",
      "metadata": {
        "id": "o2-yCx0W6ZcY",
        "colab_type": "code",
        "colab": {}
      },
      "source": [
        "plt.plot(y[0])"
      ],
      "execution_count": 0,
      "outputs": []
    },
    {
      "cell_type": "markdown",
      "metadata": {
        "id": "LUwoAnJB6bnx",
        "colab_type": "text"
      },
      "source": [
        "**Expected Output**\n",
        "<img src='https://github.com/rahiakela/img-repo/blob/master/deep-learning-specialization/train_label.png?raw=1' width='800'/>"
      ]
    },
    {
      "cell_type": "markdown",
      "metadata": {
        "id": "Pa73Tsda6edW",
        "colab_type": "text"
      },
      "source": [
        "### 1.4 - Full training set"
      ]
    },
    {
      "cell_type": "markdown",
      "metadata": {
        "id": "3mIk_1jS6hNm",
        "colab_type": "text"
      },
      "source": [
        "* You've now implemented the code needed to generate a single training example. \n",
        "* We used this process to generate a large training set. \n",
        "* To save time, we've already generated a set of training examples. "
      ]
    },
    {
      "cell_type": "code",
      "metadata": {
        "id": "NPZeBvu--qo1",
        "colab_type": "code",
        "colab": {}
      },
      "source": [
        "# Load preprocessed training examples\n",
        "X = np.load(\"./XY_train/X.npy\")\n",
        "Y = np.load(\"./XY_train/Y.npy\")"
      ],
      "execution_count": 0,
      "outputs": []
    },
    {
      "cell_type": "markdown",
      "metadata": {
        "id": "pafSgRWN-vXP",
        "colab_type": "text"
      },
      "source": [
        "### 1.5 - Development set"
      ]
    },
    {
      "cell_type": "markdown",
      "metadata": {
        "id": "QiM9Otlj-v35",
        "colab_type": "text"
      },
      "source": [
        "* To test our model, we recorded a development set of 25 examples. \n",
        "* While our training data is synthesized, we want to create a development set using the same distribution as the real inputs. \n",
        "* Thus, we recorded 25 10-second audio clips of people saying \"activate\" and other random words, and labeled them by hand. \n",
        "* This follows the principle described in Course 3 \"Structuring Machine Learning Projects\" that we should create the dev set to be as similar as possible to the test set distribution\n",
        "    * This is why our **dev set uses real audio** rather than synthesized audio. \n"
      ]
    },
    {
      "cell_type": "code",
      "metadata": {
        "id": "vMveQJux-ykB",
        "colab_type": "code",
        "colab": {}
      },
      "source": [
        "# Load preprocessed dev set examples\n",
        "X_dev = np.load(\"./XY_dev/X_dev.npy\")\n",
        "Y_dev = np.load(\"./XY_dev/Y_dev.npy\")"
      ],
      "execution_count": 0,
      "outputs": []
    },
    {
      "cell_type": "markdown",
      "metadata": {
        "id": "GlnribIc_Mki",
        "colab_type": "text"
      },
      "source": [
        "## 2 - Model"
      ]
    },
    {
      "cell_type": "markdown",
      "metadata": {
        "id": "diPO356J_PrY",
        "colab_type": "text"
      },
      "source": [
        "* Now that you've built a dataset, let's write and train a trigger word detection model! \n",
        "* The model will use 1-D convolutional layers, GRU layers, and dense layers. \n",
        "* Let's load the packages that will allow you to use these layers in Keras. This might take a minute to load."
      ]
    },
    {
      "cell_type": "code",
      "metadata": {
        "id": "bmWfmfLM_Rtg",
        "colab_type": "code",
        "colab": {}
      },
      "source": [
        "from keras.callbacks import ModelCheckpoint\n",
        "from keras.models import Model, load_model, Sequential\n",
        "from keras.layers import Dense, Activation, Dropout, Input, Masking, TimeDistributed, LSTM, Conv1D\n",
        "from keras.layers import GRU, Bidirectional, BatchNormalization, Reshape\n",
        "from keras.optimizers import Adam"
      ],
      "execution_count": 0,
      "outputs": []
    },
    {
      "cell_type": "markdown",
      "metadata": {
        "id": "OpzPaiiU_klm",
        "colab_type": "text"
      },
      "source": [
        "### 2.1 - Build the model"
      ]
    },
    {
      "cell_type": "markdown",
      "metadata": {
        "id": "pX8u149Q_mel",
        "colab_type": "text"
      },
      "source": [
        "Our goal is to build a network that will ingest a spectrogram and output a signal when it detects the trigger word. This network will use 4 layers:\n",
        "    * A convolutional layer\n",
        "    * Two GRU layers\n",
        "    * A dense layer. \n",
        "\n",
        "Here is the architecture we will use.\n",
        "\n",
        "<img src='https://github.com/rahiakela/img-repo/blob/master/deep-learning-specialization/model2.png?raw=1' width='800'/>\n",
        "<center> **Figure 3** </center>"
      ]
    },
    {
      "cell_type": "markdown",
      "metadata": {
        "id": "dOm3ckF9_17c",
        "colab_type": "text"
      },
      "source": [
        "#### 1D convolutional layer"
      ]
    },
    {
      "cell_type": "markdown",
      "metadata": {
        "id": "QO12Odn3_5Rl",
        "colab_type": "text"
      },
      "source": [
        "One key layer of this model is the 1D convolutional step (near the bottom of Figure 3). \n",
        "* It inputs the 5511 step spectrogram.  Each step is a vector of 101 units.\n",
        "* It outputs a 1375 step output\n",
        "* This output is further processed by multiple layers to get the final $T_y = 1375$ step output. \n",
        "* This 1D convolutional layer plays a role similar to the 2D convolutions you saw in Course 4, of extracting low-level features and then possibly generating an output of a smaller dimension. \n",
        "* Computationally, the 1-D conv layer also helps speed up the model because now the GRU  can process only 1375 timesteps rather than 5511 timesteps. "
      ]
    },
    {
      "cell_type": "markdown",
      "metadata": {
        "id": "JP7tlDNb_7N4",
        "colab_type": "text"
      },
      "source": [
        "#### GRU, dense and sigmoid"
      ]
    },
    {
      "cell_type": "markdown",
      "metadata": {
        "id": "902_NNrW_9iU",
        "colab_type": "text"
      },
      "source": [
        "* The two GRU layers read the sequence of inputs from left to right.\n",
        "* A dense plus sigmoid layer makes a prediction for $y^{\\langle t \\rangle}$. \n",
        "* Because $y$ is a binary value (0 or 1), we use a sigmoid output at the last layer to estimate the chance of the output being 1, corresponding to the user having just said \"activate.\""
      ]
    },
    {
      "cell_type": "markdown",
      "metadata": {
        "id": "PsNHPTNQ__rM",
        "colab_type": "text"
      },
      "source": [
        "#### Unidirectional RNN"
      ]
    },
    {
      "cell_type": "markdown",
      "metadata": {
        "id": "ObIIl0hlAC_M",
        "colab_type": "text"
      },
      "source": [
        "* Note that we use a **unidirectional RNN** rather than a bidirectional RNN. \n",
        "* This is really important for trigger word detection, since we want to be able to detect the trigger word almost immediately after it is said. \n",
        "* If we used a bidirectional RNN, we would have to wait for the whole 10sec of audio to be recorded before we could tell if \"activate\" was said in the first second of the audio clip.  "
      ]
    },
    {
      "cell_type": "markdown",
      "metadata": {
        "id": "tUCrz9PHAIKt",
        "colab_type": "text"
      },
      "source": [
        "#### Implement the model"
      ]
    },
    {
      "cell_type": "markdown",
      "metadata": {
        "id": "i_npkXYtARgb",
        "colab_type": "text"
      },
      "source": [
        "Implementing the model can be done in four steps:\n",
        "    \n",
        "**Step 1**: CONV layer. Use `Conv1D()` to implement this, with 196 filters, \n",
        "a filter size of 15 (`kernel_size=15`), and stride of 4. [conv1d](https://keras.io/layers/convolutional/#conv1d)\n",
        "\n",
        "```Python\n",
        "output_x = Conv1D(filters=...,kernel_size=...,strides=...)(input_x)\n",
        "```\n",
        "* Follow this with a ReLu activation.  Note that we can pass in the name of the desired activation as a string, all in lowercase letters.\n",
        "\n",
        "```Python\n",
        "output_x = Activation(\"...\")(input_x)\n",
        "```\n",
        "\n",
        "* Follow this with dropout, using a keep rate of 0.8 \n",
        "\n",
        "```Python\n",
        "output_x = Dropout(rate=...)(input_x)\n",
        "```\n",
        "\n",
        "\n",
        "**Step 2**: First GRU layer. To generate the GRU layer, use 128 units.\n",
        "```Python\n",
        "output_x = GRU(units=..., return_sequences = ...)(input_x)\n",
        "```\n",
        "* Return sequences instead of just the last time step's prediction to ensures that all the GRU's hidden states are fed to the next layer. \n",
        "* Follow this with dropout, using a keep rate of 0.8.\n",
        "* Follow this with batch normalization.  No parameters need to be set.\n",
        "```Python\n",
        "output_x = BatchNormalization()(input_x)\n",
        "```\n",
        "\n",
        "**Step 3**: Second GRU layer. This has the same specifications as the first GRU layer.\n",
        "* Follow this with a dropout, batch normalization, and then another dropout.\n",
        "\n",
        "**Step 4**: Create a time-distributed dense layer as follows: \n",
        "```Python\n",
        "X = TimeDistributed(Dense(1, activation = \"sigmoid\"))(X)\n",
        "```\n",
        "This creates a dense layer followed by a sigmoid, so that the parameters used for the dense layer are the same for every time step.  \n",
        "Documentation:\n",
        "* [Keras documentation on wrappers](https://keras.io/layers/wrappers/).  \n",
        "* To learn more, you can read this blog post [How to Use the TimeDistributed Layer in Keras](https://machinelearningmastery.com/timedistributed-layer-for-long-short-term-memory-networks-in-python/).\n",
        "\n",
        "**Exercise**: Implement `model()`, the architecture is presented in Figure 3."
      ]
    },
    {
      "cell_type": "code",
      "metadata": {
        "id": "qzfubfzN-3YM",
        "colab_type": "code",
        "colab": {}
      },
      "source": [
        "# GRADED FUNCTION: model\n",
        "\n",
        "def model(input_shape):\n",
        "    \"\"\"\n",
        "    Function creating the model's graph in Keras.\n",
        "    \n",
        "    Argument:\n",
        "    input_shape -- shape of the model's input data (using Keras conventions)\n",
        "\n",
        "    Returns:\n",
        "    model -- Keras model instance\n",
        "    \"\"\"\n",
        "    \n",
        "    X_input = Input(shape = input_shape)\n",
        "    \n",
        "    ### START CODE HERE ###\n",
        "    \n",
        "    # Step 1: CONV layer (≈4 lines)\n",
        "    X = Conv1D(filters=196, kernel_size=15, strides=4)(X_input)    # CONV1D\n",
        "    X = BatchNormalization()(X)                                          # Batch normalization\n",
        "    X = Activation('relu')(X)                                            # ReLu activation\n",
        "    X = Dropout(rate=0.8)(X)                                             # dropout (use 0.8)\n",
        "\n",
        "    # Step 2: First GRU Layer (≈4 lines)\n",
        "    X = GRU(units=128,  return_sequences=True)(X)                        # GRU (use 128 units and return the sequences)\n",
        "    X = Dropout(rate=0.8)(X)                                             # dropout (use 0.8)\n",
        "    X = BatchNormalization()(X)                                          # Batch normalization\n",
        "    \n",
        "    # Step 3: Second GRU Layer (≈4 lines)\n",
        "    X = GRU(units=128, return_sequences=True)(X)                         # GRU (use 128 units and return the sequences)\n",
        "    X = Dropout(rate=0.8)(X)                                             # dropout (use 0.8)\n",
        "    X = BatchNormalization()(X)                                          # Batch normalization\n",
        "    X = Dropout(rate=0.8)(X)                                             # dropout (use 0.8)\n",
        "    \n",
        "    # Step 4: Time-distributed dense layer (see given code in instructions) (≈1 line)\n",
        "    X = TimeDistributed(Dense(1, activation='sigmoid'))(X)               # time distributed  (sigmoid)\n",
        "\n",
        "    ### END CODE HERE ###\n",
        "\n",
        "    model = Model(inputs = X_input, outputs = X)\n",
        "    \n",
        "    return model  "
      ],
      "execution_count": 0,
      "outputs": []
    },
    {
      "cell_type": "code",
      "metadata": {
        "id": "Vj4ddEloAdIm",
        "colab_type": "code",
        "colab": {}
      },
      "source": [
        "model = model(input_shape = (Tx, n_freq))"
      ],
      "execution_count": 0,
      "outputs": []
    },
    {
      "cell_type": "markdown",
      "metadata": {
        "id": "mRtMxWgGAdvS",
        "colab_type": "text"
      },
      "source": [
        "Let's print the model summary to keep track of the shapes."
      ]
    },
    {
      "cell_type": "code",
      "metadata": {
        "id": "G5J8YmWcAgjV",
        "colab_type": "code",
        "colab": {}
      },
      "source": [
        "model.summary()"
      ],
      "execution_count": 0,
      "outputs": []
    },
    {
      "cell_type": "markdown",
      "metadata": {
        "id": "5o00z0IAAiLh",
        "colab_type": "text"
      },
      "source": [
        "**Expected Output**:\n",
        "\n",
        "<table>\n",
        "    <tr>\n",
        "        <td>\n",
        "            **Total params**\n",
        "        </td>\n",
        "        <td>\n",
        "           522,561\n",
        "        </td>\n",
        "    </tr>\n",
        "    <tr>\n",
        "        <td>\n",
        "            **Trainable params**\n",
        "        </td>\n",
        "        <td>\n",
        "           521,657\n",
        "        </td>\n",
        "    </tr>\n",
        "    <tr>\n",
        "        <td>\n",
        "            **Non-trainable params**\n",
        "        </td>\n",
        "        <td>\n",
        "           904\n",
        "        </td>\n",
        "    </tr>\n",
        "</table>"
      ]
    },
    {
      "cell_type": "markdown",
      "metadata": {
        "id": "gPn2lW2xAlGp",
        "colab_type": "text"
      },
      "source": [
        "The output of the network is of shape (None, 1375, 1) while the input is (None, 5511, 101). The Conv1D has reduced the number of steps from 5511 to 1375. "
      ]
    },
    {
      "cell_type": "markdown",
      "metadata": {
        "id": "3LsnQ8pKAnLP",
        "colab_type": "text"
      },
      "source": [
        "## 2.2 - Fit the model"
      ]
    },
    {
      "cell_type": "markdown",
      "metadata": {
        "id": "m1GHHy8yAp4c",
        "colab_type": "text"
      },
      "source": [
        ""
      ]
    }
  ]
}