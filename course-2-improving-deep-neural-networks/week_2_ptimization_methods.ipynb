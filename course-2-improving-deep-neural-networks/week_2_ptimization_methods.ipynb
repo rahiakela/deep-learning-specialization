{
  "nbformat": 4,
  "nbformat_minor": 0,
  "metadata": {
    "colab": {
      "name": "week-2-ptimization-methods.ipynb",
      "provenance": [],
      "toc_visible": true,
      "include_colab_link": true
    },
    "kernelspec": {
      "name": "python3",
      "display_name": "Python 3"
    }
  },
  "cells": [
    {
      "cell_type": "markdown",
      "metadata": {
        "id": "view-in-github",
        "colab_type": "text"
      },
      "source": [
        "<a href=\"https://colab.research.google.com/github/rahiakela/coursera-deep-learning-specialization/blob/course-2-improving-deep-neural-networks/week_2_ptimization_methods.ipynb\" target=\"_parent\"><img src=\"https://colab.research.google.com/assets/colab-badge.svg\" alt=\"Open In Colab\"/></a>"
      ]
    },
    {
      "cell_type": "markdown",
      "metadata": {
        "id": "sfP_Zzw0Sw_p",
        "colab_type": "text"
      },
      "source": [
        "# Optimization"
      ]
    },
    {
      "cell_type": "markdown",
      "metadata": {
        "id": "0JRdzcGZSxrW",
        "colab_type": "text"
      },
      "source": [
        "Welcome to the optimization's programming assignment of the hyper-parameters tuning specialization. There are many different optimization algorithms you could be using to get you to the minimal cost. Similarly, there are many different paths down this hill to the lowest point.\n",
        "\n",
        "By completing this assignment you will:\n",
        "\n",
        "- Understand the intuition between Adam and RMS prop\n",
        "\n",
        "- Recognize the importance of mini-batch gradient descent\n",
        "\n",
        "- Learn the effects of momentum on the overall performance of your model\n",
        "\n",
        "This assignment prepares you well for the upcoming assignment. Take your time to complete it and make sure you get the expected outputs when working through the different exercises.\n",
        "\n",
        "Until now, you've always used Gradient Descent to update the parameters and minimize the cost. In this notebook, you will learn more advanced optimization methods that can speed up learning and perhaps even get you to a better final value for the cost function. Having a good optimization algorithm can be the difference between waiting days vs. just a few hours to get a good result. \n",
        "\n",
        "Gradient descent goes \"downhill\" on a cost function $J$. Think of it as trying to do this: \n",
        "\n",
        "<img src='https://github.com/rahiakela/img-repo/blob/master/deep-learning-specialization/cost.jpg?raw=1' width='800'/>\n",
        "<caption><center> <u> **Figure 1** </u>: **Minimizing the cost is like finding the lowest point in a hilly landscape**<br> At each step of the training, you update your parameters following a certain direction to try to get to the lowest possible point. </center></caption>\n",
        "\n",
        "**Notations**: As usual, $\\frac{\\partial J}{\\partial a } = $ `da` for any variable `a`.\n",
        "\n",
        "To get started, run the following code to import the libraries you will need."
      ]
    },
    {
      "cell_type": "markdown",
      "metadata": {
        "id": "7iBGqNdpTwYt",
        "colab_type": "text"
      },
      "source": [
        "## Setup"
      ]
    },
    {
      "cell_type": "code",
      "metadata": {
        "id": "-QSECcjCTzdQ",
        "colab_type": "code",
        "colab": {}
      },
      "source": [
        "import numpy as np\n",
        "import matplotlib.pyplot as plt\n",
        "import scipy.io\n",
        "import math\n",
        "import sklearn\n",
        "import sklearn.datasets\n",
        "\n",
        "from opt_utils_v1a import load_params_and_grads, initialize_parameters, forward_propagation, backward_propagation\n",
        "from opt_utils_v1a import compute_cost, predict, predict_dec, plot_decision_boundary, load_dataset\n",
        "from testCases import *\n",
        "\n",
        "%matplotlib inline\n",
        "plt.rcParams['figure.figsize'] = (7.0, 4.0) # set default size of plots\n",
        "plt.rcParams['image.interpolation'] = 'nearest'\n",
        "plt.rcParams['image.cmap'] = 'gray'"
      ],
      "execution_count": 0,
      "outputs": []
    },
    {
      "cell_type": "markdown",
      "metadata": {
        "id": "Mv8zx7orTyLX",
        "colab_type": "text"
      },
      "source": [
        "## 1 - Gradient Descent"
      ]
    },
    {
      "cell_type": "markdown",
      "metadata": {
        "id": "cF4qztX8WDA_",
        "colab_type": "text"
      },
      "source": [
        "A simple optimization method in machine learning is gradient descent (GD). When you take gradient steps with respect to all $m$ examples on each step, it is also called Batch Gradient Descent. \n",
        "\n",
        "**Warm-up exercise**: Implement the gradient descent update rule. The  gradient descent rule is, for $l = 1, ..., L$: \n",
        "$$ W^{[l]} = W^{[l]} - \\alpha \\text{ } dW^{[l]} \\tag{1}$$\n",
        "$$ b^{[l]} = b^{[l]} - \\alpha \\text{ } db^{[l]} \\tag{2}$$\n",
        "\n",
        "where L is the number of layers and $\\alpha$ is the learning rate. All parameters should be stored in the `parameters` dictionary. Note that the iterator `l` starts at 0 in the `for` loop while the first parameters are $W^{[1]}$ and $b^{[1]}$. You need to shift `l` to `l+1` when coding."
      ]
    },
    {
      "cell_type": "code",
      "metadata": {
        "id": "nP3w5Z90WJkF",
        "colab_type": "code",
        "colab": {}
      },
      "source": [
        "# FUNCTION: update_parameters_with_gd\n",
        "def update_parameters_with_gd(parameters, grads, learning_rate):\n",
        "  '''\n",
        "  Update parameters using one step of gradient descent\n",
        "    \n",
        "  Arguments:\n",
        "  parameters -- python dictionary containing your parameters to be updated:\n",
        "                  parameters['W' + str(l)] = Wl\n",
        "                  parameters['b' + str(l)] = bl\n",
        "  grads -- python dictionary containing your gradients to update each parameters:\n",
        "                  grads['dW' + str(l)] = dWl\n",
        "                  grads['db' + str(l)] = dbl\n",
        "  learning_rate -- the learning rate, scalar.\n",
        "  \n",
        "  Returns:\n",
        "  parameters -- python dictionary containing your updated parameters\n",
        "  '''\n",
        "\n",
        "  L = len(parameters) // 2   # number of layers in the neural networks\n",
        "\n",
        "  # Update rule for each parameter\n",
        "  for layer in range(L):\n",
        "    ### START CODE HERE ### (approx. 2 lines)\n",
        "    parameters[\"W\" + str(layer+1)] = parameters['W' + str(layer + 1)] - (learning_rate * grads['dW' + str(layer + 1)])\n",
        "    parameters[\"b\" + str(layer+1)] = parameters['b' + str(layer + 1)] - (learning_rate * grads['db' + str(layer + 1)])\n",
        "    ### END CODE HERE ###\n",
        "  \n",
        "  return parameters"
      ],
      "execution_count": 0,
      "outputs": []
    },
    {
      "cell_type": "code",
      "metadata": {
        "id": "a-O1GtPUWqW4",
        "colab_type": "code",
        "outputId": "77b879c2-d407-404a-f7ee-f8060ba8efa5",
        "colab": {
          "base_uri": "https://localhost:8080/",
          "height": 266
        }
      },
      "source": [
        "parameters, grads, learning_rate = update_parameters_with_gd_test_case()\n",
        "\n",
        "parameters = update_parameters_with_gd(parameters, grads, learning_rate)\n",
        "print(f'W1 =\\n {str(parameters[\"W1\"])}')\n",
        "print(f'b1 =\\n {str(parameters[\"b1\"])}')\n",
        "print(f'W2 =\\n\" {str(parameters[\"W2\"])}')\n",
        "print(f'b2 =\\n {str(parameters[\"b2\"])}')"
      ],
      "execution_count": 33,
      "outputs": [
        {
          "output_type": "stream",
          "text": [
            "W1 =\n",
            " [[ 1.63535156 -0.62320365 -0.53718766]\n",
            " [-1.07799357  0.85639907 -2.29470142]]\n",
            "b1 =\n",
            " [[ 1.74604067]\n",
            " [-0.75184921]]\n",
            "W2 =\n",
            "\" [[ 0.32171798 -0.25467393  1.46902454]\n",
            " [-2.05617317 -0.31554548 -0.3756023 ]\n",
            " [ 1.1404819  -1.09976462 -0.1612551 ]]\n",
            "b2 =\n",
            " [[-0.88020257]\n",
            " [ 0.02561572]\n",
            " [ 0.57539477]]\n"
          ],
          "name": "stdout"
        }
      ]
    },
    {
      "cell_type": "markdown",
      "metadata": {
        "id": "XiNbdX3wXjLm",
        "colab_type": "text"
      },
      "source": [
        "**Expected Output**:\n",
        "\n",
        "```\n",
        "W1 =\n",
        "[[ 1.63535156 -0.62320365 -0.53718766]\n",
        " [-1.07799357  0.85639907 -2.29470142]]\n",
        "b1 =\n",
        "[[ 1.74604067]\n",
        " [-0.75184921]]\n",
        "W2 =\n",
        "[[ 0.32171798 -0.25467393  1.46902454]\n",
        " [-2.05617317 -0.31554548 -0.3756023 ]\n",
        " [ 1.1404819  -1.09976462 -0.1612551 ]]\n",
        "b2 =\n",
        "[[-0.88020257]\n",
        " [ 0.02561572]\n",
        " [ 0.57539477]]\n",
        "```"
      ]
    },
    {
      "cell_type": "markdown",
      "metadata": {
        "id": "QOpiaGGBXxUo",
        "colab_type": "text"
      },
      "source": [
        "A variant of this is Stochastic Gradient Descent (SGD), which is equivalent to mini-batch gradient descent where each mini-batch has just 1 example. The update rule that you have just implemented does not change. What changes is that you would be computing gradients on just one training example at a time, rather than on the whole training set. The code examples below illustrate the difference between stochastic gradient descent and (batch) gradient descent. \n",
        "\n",
        "- **(Batch) Gradient Descent**:\n",
        "\n",
        "``` python\n",
        "X = data_input\n",
        "Y = labels\n",
        "parameters = initialize_parameters(layers_dims)\n",
        "for i in range(0, num_iterations):\n",
        "    # Forward propagation\n",
        "    a, caches = forward_propagation(X, parameters)\n",
        "    # Compute cost.\n",
        "    cost += compute_cost(a, Y)\n",
        "    # Backward propagation.\n",
        "    grads = backward_propagation(a, caches, parameters)\n",
        "    # Update parameters.\n",
        "    parameters = update_parameters(parameters, grads)\n",
        "        \n",
        "```\n",
        "\n",
        "- **Stochastic Gradient Descent**:\n",
        "\n",
        "```python\n",
        "X = data_input\n",
        "Y = labels\n",
        "parameters = initialize_parameters(layers_dims)\n",
        "for i in range(0, num_iterations):\n",
        "    for j in range(0, m):\n",
        "        # Forward propagation\n",
        "        a, caches = forward_propagation(X[:,j], parameters)\n",
        "        # Compute cost\n",
        "        cost += compute_cost(a, Y[:,j])\n",
        "        # Backward propagation\n",
        "        grads = backward_propagation(a, caches, parameters)\n",
        "        # Update parameters.\n",
        "        parameters = update_parameters(parameters, grads)\n",
        "```\n"
      ]
    },
    {
      "cell_type": "markdown",
      "metadata": {
        "id": "MPNaHHO9X5WJ",
        "colab_type": "text"
      },
      "source": [
        "In Stochastic Gradient Descent, you use only 1 training example before updating the gradients. When the training set is large, SGD can be faster. But the parameters will \"oscillate\" toward the minimum rather than converge smoothly. Here is an illustration of this: \n",
        "\n",
        "<img src='https://github.com/rahiakela/img-repo/blob/master/deep-learning-specialization/kiank_sgd.png?raw=1' width='800'/>\n",
        "<caption><center> <u> <font color='purple'> **Figure 1** </u><font color='purple'>  : **SGD vs GD**<br> \"+\" denotes a minimum of the cost. SGD leads to many oscillations to reach convergence. But each step is a lot faster to compute for SGD than for GD, as it uses only one training example (vs. the whole batch for GD). </center></caption>\n",
        "\n",
        "**Note** also that implementing SGD requires 3 for-loops in total:\n",
        "1. Over the number of iterations\n",
        "2. Over the $m$ training examples\n",
        "3. Over the layers (to update all parameters, from $(W^{[1]},b^{[1]})$ to $(W^{[L]},b^{[L]})$)\n",
        "\n",
        "In practice, you'll often get faster results if you do not use neither the whole training set, nor only one training example, to perform each update. Mini-batch gradient descent uses an intermediate number of examples for each step. With mini-batch gradient descent, you loop over the mini-batches instead of looping over individual training examples.\n",
        "\n",
        "<img src='https://github.com/rahiakela/img-repo/blob/master/deep-learning-specialization/kiank_minibatch.png?raw=1' width='800'/>\n",
        "<caption><center> <u> <font color='purple'> **Figure 2** </u>: <font color='purple'>  **SGD vs Mini-Batch GD**<br> \"+\" denotes a minimum of the cost. Using mini-batches in your optimization algorithm often leads to faster optimization. </center></caption>\n",
        "\n",
        "<font color='blue'>\n",
        "**What you should remember**:\n",
        "- The difference between gradient descent, mini-batch gradient descent and stochastic gradient descent is the number of examples you use to perform one update step.\n",
        "- You have to tune a learning rate hyperparameter $\\alpha$.\n",
        "- With a well-turned mini-batch size, usually it outperforms either gradient descent or stochastic gradient descent (particularly when the training set is large)."
      ]
    },
    {
      "cell_type": "markdown",
      "metadata": {
        "id": "3hSirVMqXyEI",
        "colab_type": "text"
      },
      "source": [
        "## 2 - Mini-Batch Gradient descent"
      ]
    },
    {
      "cell_type": "markdown",
      "metadata": {
        "id": "FfITxkjEY2BW",
        "colab_type": "text"
      },
      "source": [
        "Let's learn how to build mini-batches from the training set (X, Y).\n",
        "\n",
        "There are two steps:\n",
        "- **Shuffle**: Create a shuffled version of the training set (X, Y) as shown below. Each column of X and Y represents a training example. Note that the random shuffling is done synchronously between X and Y. Such that after the shuffling the $i^{th}$ column of X is the example corresponding to the $i^{th}$ label in Y. The shuffling step ensures that examples will be split randomly into different mini-batches. \n",
        "\n",
        "<img src='https://github.com/rahiakela/img-repo/blob/master/deep-learning-specialization/kiank_shuffle.png?raw=1' width='800'/>\n",
        "\n",
        "- **Partition**: Partition the shuffled (X, Y) into mini-batches of size `mini_batch_size` (here 64). Note that the number of training examples is not always divisible by `mini_batch_size`. The last mini batch might be smaller, but you don't need to worry about this. When the final mini-batch is smaller than the full `mini_batch_size`, it will look like this: \n",
        "\n",
        "<img src='https://github.com/rahiakela/img-repo/blob/master/deep-learning-specialization/kiank_partition.png?raw=1' width='800'/>\n",
        "\n",
        "**Exercise**: Implement `random_mini_batches`. We coded the shuffling part for you. To help you with the partitioning step, we give you the following code that selects the indexes for the $1^{st}$ and $2^{nd}$ mini-batches:\n",
        "```python\n",
        "first_mini_batch_X = shuffled_X[:, 0 : mini_batch_size]\n",
        "second_mini_batch_X = shuffled_X[:, mini_batch_size : 2 * mini_batch_size]\n",
        "...\n",
        "```\n",
        "\n",
        "Note that the last mini-batch might end up smaller than `mini_batch_size=64`. Let $\\lfloor s \\rfloor$ represents $s$ rounded down to the nearest integer (this is `math.floor(s)` in Python). If the total number of examples is not a multiple of `mini_batch_size=64` then there will be $\\lfloor \\frac{m}{mini\\_batch\\_size}\\rfloor$ mini-batches with a full 64 examples, and the number of examples in the final mini-batch will be ($m-mini_\\_batch_\\_size \\times \\lfloor \\frac{m}{mini\\_batch\\_size}\\rfloor$). "
      ]
    },
    {
      "cell_type": "code",
      "metadata": {
        "id": "XlRKO-2WXXTX",
        "colab_type": "code",
        "colab": {}
      },
      "source": [
        "# FUNCTION: random_mini_batches\n",
        "def random_mini_batches(X, Y, mini_batch_size=64, seed=0):\n",
        "  '''\n",
        "  Creates a list of random minibatches from (X, Y)\n",
        "    \n",
        "  Arguments:\n",
        "  X -- input data, of shape (input size, number of examples)\n",
        "  Y -- true \"label\" vector (1 for blue dot / 0 for red dot), of shape (1, number of examples)\n",
        "  mini_batch_size -- size of the mini-batches, integer\n",
        "  \n",
        "  Returns:\n",
        "  mini_batches -- list of synchronous (mini_batch_X, mini_batch_Y)\n",
        "  '''\n",
        "\n",
        "  np.random.seed(seed)          # To make your \"random\" minibatches the same as ours\n",
        "  m = X.shape[1]                # number of training examples\n",
        "  mini_batches = []\n",
        "\n",
        "  # Step 1: Shuffle (X, Y)\n",
        "  permutation = list(np.random.permutation(m))\n",
        "  shuffled_X = X[:, permutation]\n",
        "  shuffled_Y = Y[:, permutation].reshape((1, m))\n",
        "\n",
        "  # Step 2: Partition (shuffled_X, shuffled_Y). Minus the end case.\n",
        "  num_complete_minibatches = math.floor(m / mini_batch_size)  # number of mini batches of size mini_batch_size in your partitionning\n",
        "  for k in range(0, num_complete_minibatches):\n",
        "    \n",
        "    ### START CODE HERE ### (approx. 2 lines)\n",
        "    mini_batch_X = shuffled_X[:, k * mini_batch_size : (k + 1) * mini_batch_size]\n",
        "    mini_batch_Y = shuffled_Y[:, k * mini_batch_size : (k + 1) * mini_batch_size]\n",
        "    ### END CODE HERE ###\n",
        "    mini_batch = (mini_batch_X, mini_batch_Y)\n",
        "    mini_batches.append(mini_batch)\n",
        "\n",
        "  # Handling the end case (last mini-batch < mini_batch_size)\n",
        "  if m % mini_batch_size != 0:\n",
        "    ### START CODE HERE ### (approx. 2 lines)\n",
        "    mini_batch_X = shuffled_X[:, mini_batch_size * num_complete_minibatches: ]\n",
        "    mini_batch_Y = shuffled_Y[:, mini_batch_size * num_complete_minibatches: ]\n",
        "    ### END CODE HERE ###\n",
        "    mini_batch = (mini_batch_X, mini_batch_Y)\n",
        "    mini_batches.append(mini_batch)\n",
        "\n",
        "  return mini_batches"
      ],
      "execution_count": 0,
      "outputs": []
    },
    {
      "cell_type": "code",
      "metadata": {
        "id": "8Wbo27jGMWwy",
        "colab_type": "code",
        "outputId": "9430e340-52fc-4afe-cf59-de9c95eb2f59",
        "colab": {
          "base_uri": "https://localhost:8080/",
          "height": 141
        }
      },
      "source": [
        "X_assess, Y_assess, mini_batch_size = random_mini_batches_test_case()\n",
        "mini_batches = random_mini_batches(X_assess, Y_assess, mini_batch_size)\n",
        "\n",
        "print(f'shape of the 1st mini_batch_X: {str(mini_batches[0][0].shape)}')\n",
        "print(f'shape of the 2nd mini_batch_X: {str(mini_batches[1][0].shape)}')\n",
        "print(f'shape of the 3rd mini_batch_X: {str(mini_batches[2][0].shape)}')\n",
        "print(f'shape of the 1st mini_batch_Y: {str(mini_batches[0][1].shape)}')\n",
        "print(f'shape of the 2nd mini_batch_Y: {str(mini_batches[1][1].shape)}')\n",
        "print(f'shape of the 3rd mini_batch_Y: {str(mini_batches[2][1].shape)}')\n",
        "print(f'mini batch sanity check: {str(mini_batches[0][0][0][0:3])}')"
      ],
      "execution_count": 37,
      "outputs": [
        {
          "output_type": "stream",
          "text": [
            "shape of the 1st mini_batch_X: (12288, 64)\n",
            "shape of the 2nd mini_batch_X: (12288, 64)\n",
            "shape of the 3rd mini_batch_X: (12288, 20)\n",
            "shape of the 1st mini_batch_Y: (1, 64)\n",
            "shape of the 2nd mini_batch_Y: (1, 64)\n",
            "shape of the 3rd mini_batch_Y: (1, 20)\n",
            "mini batch sanity check: [ 0.90085595 -0.7612069   0.2344157 ]\n"
          ],
          "name": "stdout"
        }
      ]
    },
    {
      "cell_type": "markdown",
      "metadata": {
        "id": "_xQyzkmKRcbs",
        "colab_type": "text"
      },
      "source": [
        "**Expected Output**:\n",
        "\n",
        "<table style=\"width:50%\"> \n",
        "    <tr>\n",
        "    <td > **shape of the 1st mini_batch_X** </td> \n",
        "           <td > (12288, 64) </td> \n",
        "    </tr> \n",
        "    <tr>\n",
        "    <td > **shape of the 2nd mini_batch_X** </td> \n",
        "           <td > (12288, 64) </td> \n",
        "    </tr> \n",
        "    <tr>\n",
        "    <td > **shape of the 3rd mini_batch_X** </td> \n",
        "           <td > (12288, 20) </td> \n",
        "    </tr>\n",
        "    <tr>\n",
        "    <td > **shape of the 1st mini_batch_Y** </td> \n",
        "           <td > (1, 64) </td> \n",
        "    </tr> \n",
        "    <tr>\n",
        "    <td > **shape of the 2nd mini_batch_Y** </td> \n",
        "           <td > (1, 64) </td> \n",
        "    </tr> \n",
        "    <tr>\n",
        "    <td > **shape of the 3rd mini_batch_Y** </td> \n",
        "           <td > (1, 20) </td> \n",
        "    </tr> \n",
        "    <tr>\n",
        "    <td > **mini batch sanity check** </td> \n",
        "           <td > [ 0.90085595 -0.7612069   0.2344157 ] </td> \n",
        "    </tr>\n",
        "</table>"
      ]
    },
    {
      "cell_type": "markdown",
      "metadata": {
        "id": "WTgJd7SaRxHY",
        "colab_type": "text"
      },
      "source": [
        "**What you should remember**:\n",
        "\n",
        "- Shuffling and Partitioning are the two steps required to build mini-batches\n",
        "- Powers of two are often chosen to be the mini-batch size, e.g., 16, 32, 64, 128."
      ]
    },
    {
      "cell_type": "markdown",
      "metadata": {
        "id": "K2LwK5ooRzVQ",
        "colab_type": "text"
      },
      "source": [
        "## 3 - Momentum"
      ]
    },
    {
      "cell_type": "markdown",
      "metadata": {
        "id": "1glb1_VBR2R9",
        "colab_type": "text"
      },
      "source": [
        "Because mini-batch gradient descent makes a parameter update after seeing just a subset of examples, the direction of the update has some variance, and so the path taken by mini-batch gradient descent will \"oscillate\" toward convergence. Using momentum can reduce these oscillations. \n",
        "\n",
        "Momentum takes into account the past gradients to smooth out the update. We will store the 'direction' of the previous gradients in the variable $v$. Formally, this will be the exponentially weighted average of the gradient on previous steps. You can also think of $v$ as the \"velocity\" of a ball rolling downhill, building up speed (and momentum) according to the direction of the gradient/slope of the hill. \n",
        "\n",
        "<img src='https://github.com/rahiakela/img-repo/blob/master/deep-learning-specialization/opt_momentum.png?raw=1' width='800'/>\n",
        "<caption><center> <u><font color='purple'>**Figure 3**</u><font color='purple'>: The red arrows shows the direction taken by one step of mini-batch gradient descent with momentum. The blue points show the direction of the gradient (with respect to the current mini-batch) on each step. Rather than just following the gradient, we let the gradient influence $v$ and then take a step in the direction of $v$.<br> <font color='black'> </center>\n",
        "\n",
        "\n",
        "**Exercise**: Initialize the velocity. The velocity, $v$, is a python dictionary that needs to be initialized with arrays of zeros. Its keys are the same as those in the `grads` dictionary, that is:\n",
        "for $l =1,...,L$:\n",
        "```python\n",
        "v[\"dW\" + str(l+1)] = ... #(numpy array of zeros with the same shape as parameters[\"W\" + str(l+1)])\n",
        "v[\"db\" + str(l+1)] = ... #(numpy array of zeros with the same shape as parameters[\"b\" + str(l+1)])\n",
        "```\n",
        "**Note** that the iterator l starts at 0 in the for loop while the first parameters are v[\"dW1\"] and v[\"db1\"] (that's a \"one\" on the superscript). This is why we are shifting l to l+1 in the `for` loop."
      ]
    },
    {
      "cell_type": "code",
      "metadata": {
        "id": "eKKXOeWS7ehG",
        "colab_type": "code",
        "outputId": "5fc18391-42e3-44cf-d54f-e3b3085890c3",
        "colab": {
          "base_uri": "https://localhost:8080/"
        }
      },
      "source": [
        "parameters = initialize_velocity_test_case()\n",
        "parameters"
      ],
      "execution_count": 0,
      "outputs": [
        {
          "output_type": "execute_result",
          "data": {
            "text/plain": [
              "{'W1': array([[ 1.62434536, -0.61175641, -0.52817175],\n",
              "        [-1.07296862,  0.86540763, -2.3015387 ]]),\n",
              " 'W2': array([[ 0.3190391 , -0.24937038,  1.46210794],\n",
              "        [-2.06014071, -0.3224172 , -0.38405435],\n",
              "        [ 1.13376944, -1.09989127, -0.17242821]]),\n",
              " 'b1': array([[ 1.74481176],\n",
              "        [-0.7612069 ]]),\n",
              " 'b2': array([[-0.87785842],\n",
              "        [ 0.04221375],\n",
              "        [ 0.58281521]])}"
            ]
          },
          "metadata": {
            "tags": []
          },
          "execution_count": 6
        }
      ]
    },
    {
      "cell_type": "code",
      "metadata": {
        "id": "f1o9qs81NgpQ",
        "colab_type": "code",
        "colab": {}
      },
      "source": [
        "# FUNCTION: initialize_velocity\n",
        "def initialize_velocity(parameters):\n",
        "  '''\n",
        "  Initializes the velocity as a python dictionary with:\n",
        "              - keys: \"dW1\", \"db1\", ..., \"dWL\", \"dbL\" \n",
        "              - values: numpy arrays of zeros of the same shape as the corresponding gradients/parameters.\n",
        "  Arguments:\n",
        "  parameters -- python dictionary containing your parameters.\n",
        "                  parameters['W' + str(l)] = Wl\n",
        "                  parameters['b' + str(l)] = bl\n",
        "  \n",
        "  Returns:\n",
        "  v -- python dictionary containing the current velocity.\n",
        "                  v['dW' + str(l)] = velocity of dWl\n",
        "                  v['db' + str(l)] = velocity of dbl\n",
        "  '''\n",
        "\n",
        "  L = len(parameters) // 2    # number of layers in the neural networks\n",
        "  v = {}\n",
        "\n",
        "  # Initialize velocity\n",
        "  for layer in range(L):\n",
        "    ### START CODE HERE ### (approx. 2 lines)\n",
        "    v[\"dW\" + str(layer + 1)] = np.zeros_like(parameters['W' + str(layer + 1)], dtype=np.float32)\n",
        "    v[\"db\" + str(layer + 1)] = np.zeros_like(parameters['b' + str(layer + 1)], dtype=np.float32)\n",
        "    ### END CODE HERE ###\n",
        "\n",
        "  return v"
      ],
      "execution_count": 0,
      "outputs": []
    },
    {
      "cell_type": "code",
      "metadata": {
        "id": "qeFN1ik-7opw",
        "colab_type": "code",
        "outputId": "2cef097a-5148-4ae3-a099-4e14607c33d1",
        "colab": {
          "base_uri": "https://localhost:8080/"
        }
      },
      "source": [
        "parameters = initialize_velocity_test_case()\n",
        "\n",
        "v = initialize_velocity(parameters)\n",
        "print(f'v[\\\"dW1\\\"] =\\n{str(v[\"dW1\"])}')\n",
        "print(f'v[\\\"db1\\\"] =\\n{str(v[\"db1\"])}')\n",
        "print(f'v[\\\"dW2\\\"] =\\n{str(v[\"dW2\"])}')\n",
        "print(f'v[\\\"db2\\\"] =\\n{str(v[\"db2\"])}')"
      ],
      "execution_count": 0,
      "outputs": [
        {
          "output_type": "stream",
          "text": [
            "v[\"dW1\"] =\n",
            "[[0. 0. 0.]\n",
            " [0. 0. 0.]]\n",
            "v[\"db1\"] =\n",
            "[[0.]\n",
            " [0.]]\n",
            "v[\"dW2\"] =\n",
            "[[0. 0. 0.]\n",
            " [0. 0. 0.]\n",
            " [0. 0. 0.]]\n",
            "v[\"db2\"] =\n",
            "[[0.]\n",
            " [0.]\n",
            " [0.]]\n"
          ],
          "name": "stdout"
        }
      ]
    },
    {
      "cell_type": "markdown",
      "metadata": {
        "id": "5A24uT5UE256",
        "colab_type": "text"
      },
      "source": [
        "**Expected Output**:\n",
        "\n",
        "```\n",
        "v[\"dW1\"] =\n",
        "[[ 0.  0.  0.]\n",
        " [ 0.  0.  0.]]\n",
        "v[\"db1\"] =\n",
        "[[ 0.]\n",
        " [ 0.]]\n",
        "v[\"dW2\"] =\n",
        "[[ 0.  0.  0.]\n",
        " [ 0.  0.  0.]\n",
        " [ 0.  0.  0.]]\n",
        "v[\"db2\"] =\n",
        "[[ 0.]\n",
        " [ 0.]\n",
        " [ 0.]]\n",
        "```"
      ]
    },
    {
      "cell_type": "markdown",
      "metadata": {
        "id": "EM_bbT4UE8q_",
        "colab_type": "text"
      },
      "source": [
        "**Exercise**:  Now, implement the parameters update with momentum. The momentum update rule is, for $l = 1, ..., L$: \n",
        "\n",
        "$$ \\begin{cases}\n",
        "v_{dW^{[l]}} = \\beta v_{dW^{[l]}} + (1 - \\beta) dW^{[l]} \\\\\n",
        "W^{[l]} = W^{[l]} - \\alpha v_{dW^{[l]}}\n",
        "\\end{cases}\\tag{3}$$\n",
        "\n",
        "$$\\begin{cases}\n",
        "v_{db^{[l]}} = \\beta v_{db^{[l]}} + (1 - \\beta) db^{[l]} \\\\\n",
        "b^{[l]} = b^{[l]} - \\alpha v_{db^{[l]}} \n",
        "\\end{cases}\\tag{4}$$\n",
        "\n",
        "where L is the number of layers, $\\beta$ is the momentum and $\\alpha$ is the learning rate. All parameters should be stored in the `parameters` dictionary.  Note that the iterator `l` starts at 0 in the `for` loop while the first parameters are $W^{[1]}$ and $b^{[1]}$ (that's a \"one\" on the superscript). So you will need to shift `l` to `l+1` when coding."
      ]
    },
    {
      "cell_type": "code",
      "metadata": {
        "id": "iipcgjFs8GJu",
        "colab_type": "code",
        "colab": {}
      },
      "source": [
        "# FUNCTION: update_parameters_with_momentum\n",
        "def update_parameters_with_momentum(parameters, grads, v, beta, learning_rate):\n",
        "  '''\n",
        "  Update parameters using Momentum\n",
        "    \n",
        "  Arguments:\n",
        "  parameters -- python dictionary containing your parameters:\n",
        "                  parameters['W' + str(l)] = Wl\n",
        "                  parameters['b' + str(l)] = bl\n",
        "  grads -- python dictionary containing your gradients for each parameters:\n",
        "                  grads['dW' + str(l)] = dWl\n",
        "                  grads['db' + str(l)] = dbl\n",
        "  v -- python dictionary containing the current velocity:\n",
        "                  v['dW' + str(l)] = ...\n",
        "                  v['db' + str(l)] = ...\n",
        "  beta -- the momentum hyperparameter, scalar\n",
        "  learning_rate -- the learning rate, scalar\n",
        "  \n",
        "  Returns:\n",
        "  parameters -- python dictionary containing your updated parameters \n",
        "  v -- python dictionary containing your updated velocities\n",
        "  '''\n",
        "\n",
        "  L = len(parameters) // 2 # number of layers in the neural networks\n",
        "\n",
        "  # Momentum update for each parameter\n",
        "  for layer in range(L):\n",
        "    ### START CODE HERE ### (approx. 4 lines)\n",
        "    # compute velocities\n",
        "    v[\"dW\" + str(layer+1)] = beta * v['dW' + str(layer + 1)] + (1 - beta) * grads['dW' + str(layer + 1)]\n",
        "    v[\"db\" + str(layer+1)] = beta * v['db' + str(layer + 1)] + (1 - beta) * grads['db' + str(layer + 1)]\n",
        "    # update parameters\n",
        "    parameters[\"W\" + str(layer+1)] = parameters['W' + str(layer + 1)] - learning_rate * v['dW' + str(layer + 1)]\n",
        "    parameters[\"b\" + str(layer+1)] = parameters['b' + str(layer + 1)] - learning_rate * v['db' + str(layer + 1)]\n",
        "    ### END CODE HERE ###\n",
        "\n",
        "  return parameters, v"
      ],
      "execution_count": 0,
      "outputs": []
    },
    {
      "cell_type": "code",
      "metadata": {
        "id": "4FzoKqhCKsi8",
        "colab_type": "code",
        "outputId": "985bdff5-a1cd-4062-d38b-7208a0f4ffe9",
        "colab": {
          "base_uri": "https://localhost:8080/"
        }
      },
      "source": [
        "parameters, grads, v = update_parameters_with_momentum_test_case()\n",
        "\n",
        "parameters, v = update_parameters_with_momentum(parameters, grads, v, beta=0.9, learning_rate=0.01)\n",
        "print(f'W1 = \\n{str(parameters[\"W1\"])}')\n",
        "print(f'b1 = \\n{str(parameters[\"b1\"])}')\n",
        "print(f'W2 = \\n{str(parameters[\"W2\"])}')\n",
        "print(f'b2 = \\n{str(parameters[\"b2\"])}')\n",
        "print(f'v[\\\"dW1\\\"] = \\n{str(v[\"dW1\"])}')\n",
        "print(f'v[\\\"db1\\\"] = \\n{str(v[\"db1\"])}')\n",
        "print(f'v[\\\"dW2\\\"] = \\n{str(v[\"dW2\"])}')\n",
        "print(f'v[\\\"db2\\\"] = \\n{str(v[\"db2\"])}')"
      ],
      "execution_count": 0,
      "outputs": [
        {
          "output_type": "stream",
          "text": [
            "W1 = \n",
            "[[ 1.62544598 -0.61290114 -0.52907334]\n",
            " [-1.07347112  0.86450677 -2.30085497]]\n",
            "b1 = \n",
            "[[ 1.74493465]\n",
            " [-0.76027113]]\n",
            "W2 = \n",
            "[[ 0.31930698 -0.24990073  1.4627996 ]\n",
            " [-2.05974396 -0.32173003 -0.38320915]\n",
            " [ 1.13444069 -1.0998786  -0.1713109 ]]\n",
            "b2 = \n",
            "[[-0.87809283]\n",
            " [ 0.04055394]\n",
            " [ 0.58207317]]\n",
            "v[\"dW1\"] = \n",
            "[[-0.11006192  0.11447237  0.09015907]\n",
            " [ 0.05024943  0.09008559 -0.06837279]]\n",
            "v[\"db1\"] = \n",
            "[[-0.01228902]\n",
            " [-0.09357694]]\n",
            "v[\"dW2\"] = \n",
            "[[-0.02678881  0.05303555 -0.06916608]\n",
            " [-0.03967535 -0.06871727 -0.08452056]\n",
            " [-0.06712461 -0.00126646 -0.11173103]]\n",
            "v[\"db2\"] = \n",
            "[[0.02344157]\n",
            " [0.16598022]\n",
            " [0.07420442]]\n"
          ],
          "name": "stdout"
        }
      ]
    },
    {
      "cell_type": "markdown",
      "metadata": {
        "id": "FfcLATOlMpNB",
        "colab_type": "text"
      },
      "source": [
        "**Expected Output**:\n",
        "\n",
        "```\n",
        "W1 = \n",
        "[[ 1.62544598 -0.61290114 -0.52907334]\n",
        " [-1.07347112  0.86450677 -2.30085497]]\n",
        "b1 = \n",
        "[[ 1.74493465]\n",
        " [-0.76027113]]\n",
        "W2 = \n",
        "[[ 0.31930698 -0.24990073  1.4627996 ]\n",
        " [-2.05974396 -0.32173003 -0.38320915]\n",
        " [ 1.13444069 -1.0998786  -0.1713109 ]]\n",
        "b2 = \n",
        "[[-0.87809283]\n",
        " [ 0.04055394]\n",
        " [ 0.58207317]]\n",
        "v[\"dW1\"] = \n",
        "[[-0.11006192  0.11447237  0.09015907]\n",
        " [ 0.05024943  0.09008559 -0.06837279]]\n",
        "v[\"db1\"] = \n",
        "[[-0.01228902]\n",
        " [-0.09357694]]\n",
        "v[\"dW2\"] = \n",
        "[[-0.02678881  0.05303555 -0.06916608]\n",
        " [-0.03967535 -0.06871727 -0.08452056]\n",
        " [-0.06712461 -0.00126646 -0.11173103]]\n",
        "v[\"db2\"] = v[[ 0.02344157]\n",
        " [ 0.16598022]\n",
        " [ 0.07420442]]\n",
        "```"
      ]
    },
    {
      "cell_type": "markdown",
      "metadata": {
        "id": "S4kelDPhMrCW",
        "colab_type": "text"
      },
      "source": [
        "**Note** that:\n",
        "- The velocity is initialized with zeros. So the algorithm will take a few iterations to \"build up\" velocity and start to take bigger steps.\n",
        "- If $\\beta = 0$, then this just becomes standard gradient descent without momentum. \n",
        "\n",
        "**How do you choose $\\beta$?**\n",
        "\n",
        "- The larger the momentum $\\beta$ is, the smoother the update because the more we take the past gradients into account. But if $\\beta$ is too big, it could also smooth out the updates too much. \n",
        "- Common values for $\\beta$ range from 0.8 to 0.999. If you don't feel inclined to tune this, $\\beta = 0.9$ is often a reasonable default. \n",
        "- Tuning the optimal $\\beta$ for your model might need trying several values to see what works best in term of reducing the value of the cost function $J$. "
      ]
    },
    {
      "cell_type": "markdown",
      "metadata": {
        "id": "RLDqUQUaO1-X",
        "colab_type": "text"
      },
      "source": [
        "**What you should remember**:\n",
        "\n",
        "- Momentum takes past gradients into account to smooth out the steps of gradient descent. It can be applied with batch gradient descent, mini-batch gradient descent or stochastic gradient descent.\n",
        "- You have to tune a momentum hyperparameter $\\beta$ and a learning rate $\\alpha$."
      ]
    },
    {
      "cell_type": "markdown",
      "metadata": {
        "id": "kmNrS86YO4Tq",
        "colab_type": "text"
      },
      "source": [
        "## 4 - Adam"
      ]
    },
    {
      "cell_type": "markdown",
      "metadata": {
        "id": "yStZNIDaO7Lf",
        "colab_type": "text"
      },
      "source": [
        "Adam is one of the most effective optimization algorithms for training neural networks. It combines ideas from RMSProp (described in lecture) and Momentum. \n",
        "\n",
        "**How does Adam work?**\n",
        "1. It calculates an exponentially weighted average of past gradients, and stores it in variables $v$ (before bias correction) and $v^{corrected}$ (with bias correction). \n",
        "2. It calculates an exponentially weighted average of the squares of the past gradients, and  stores it in variables $s$ (before bias correction) and $s^{corrected}$ (with bias correction). \n",
        "3. It updates parameters in a direction based on combining information from \"1\" and \"2\".\n",
        "\n",
        "The update rule is, for $l = 1, ..., L$: \n",
        "\n",
        "$$\\begin{cases}\n",
        "v_{dW^{[l]}} = \\beta_1 v_{dW^{[l]}} + (1 - \\beta_1) \\frac{\\partial \\mathcal{J} }{ \\partial W^{[l]} } \\\\\n",
        "v^{corrected}_{dW^{[l]}} = \\frac{v_{dW^{[l]}}}{1 - (\\beta_1)^t} \\\\\n",
        "s_{dW^{[l]}} = \\beta_2 s_{dW^{[l]}} + (1 - \\beta_2) (\\frac{\\partial \\mathcal{J} }{\\partial W^{[l]} })^2 \\\\\n",
        "s^{corrected}_{dW^{[l]}} = \\frac{s_{dW^{[l]}}}{1 - (\\beta_2)^t} \\\\\n",
        "W^{[l]} = W^{[l]} - \\alpha \\frac{v^{corrected}_{dW^{[l]}}}{\\sqrt{s^{corrected}_{dW^{[l]}}} + \\varepsilon}\n",
        "\\end{cases}$$\n",
        "where:\n",
        "- t counts the number of steps taken of Adam \n",
        "- L is the number of layers\n",
        "- $\\beta_1$ and $\\beta_2$ are hyperparameters that control the two exponentially weighted averages. \n",
        "- $\\alpha$ is the learning rate\n",
        "- $\\varepsilon$ is a very small number to avoid dividing by zero\n",
        "\n",
        "As usual, we will store all parameters in the `parameters` dictionary  "
      ]
    },
    {
      "cell_type": "markdown",
      "metadata": {
        "id": "ql_CsGVfO-3G",
        "colab_type": "text"
      },
      "source": [
        "**Exercise**: Initialize the Adam variables $v, s$ which keep track of the past information.\n",
        "\n",
        "**Instruction**: The variables $v, s$ are python dictionaries that need to be initialized with arrays of zeros. Their keys are the same as for `grads`, that is:\n",
        "for $l = 1, ..., L$:\n",
        "```python\n",
        "v[\"dW\" + str(l+1)] = ... #(numpy array of zeros with the same shape as parameters[\"W\" + str(l+1)])\n",
        "v[\"db\" + str(l+1)] = ... #(numpy array of zeros with the same shape as parameters[\"b\" + str(l+1)])\n",
        "s[\"dW\" + str(l+1)] = ... #(numpy array of zeros with the same shape as parameters[\"W\" + str(l+1)])\n",
        "s[\"db\" + str(l+1)] = ... #(numpy array of zeros with the same shape as parameters[\"b\" + str(l+1)])\n",
        "\n",
        "```"
      ]
    },
    {
      "cell_type": "code",
      "metadata": {
        "id": "6KBpRmyJl6iP",
        "colab_type": "code",
        "outputId": "8f8282bb-b7af-426b-e0ce-1fe8ffa83f43",
        "colab": {
          "base_uri": "https://localhost:8080/",
          "height": 195
        }
      },
      "source": [
        "parameters = initialize_adam_test_case()\n",
        "parameters"
      ],
      "execution_count": 0,
      "outputs": [
        {
          "output_type": "execute_result",
          "data": {
            "text/plain": [
              "{'W1': array([[ 1.62434536, -0.61175641, -0.52817175],\n",
              "        [-1.07296862,  0.86540763, -2.3015387 ]]),\n",
              " 'W2': array([[ 0.3190391 , -0.24937038,  1.46210794],\n",
              "        [-2.06014071, -0.3224172 , -0.38405435],\n",
              "        [ 1.13376944, -1.09989127, -0.17242821]]),\n",
              " 'b1': array([[ 1.74481176],\n",
              "        [-0.7612069 ]]),\n",
              " 'b2': array([[-0.87785842],\n",
              "        [ 0.04221375],\n",
              "        [ 0.58281521]])}"
            ]
          },
          "metadata": {
            "tags": []
          },
          "execution_count": 11
        }
      ]
    },
    {
      "cell_type": "code",
      "metadata": {
        "id": "_09jB21aLwJg",
        "colab_type": "code",
        "colab": {}
      },
      "source": [
        "# FUNCTION: initialize_adam\n",
        "def initialize_adam(parameters):\n",
        "  '''\n",
        "  Initializes v and s as two python dictionaries with:\n",
        "              - keys: \"dW1\", \"db1\", ..., \"dWL\", \"dbL\" \n",
        "              - values: numpy arrays of zeros of the same shape as the corresponding gradients/parameters.\n",
        "  \n",
        "  Arguments:\n",
        "  parameters -- python dictionary containing your parameters.\n",
        "                  parameters[\"W\" + str(l)] = Wl\n",
        "                  parameters[\"b\" + str(l)] = bl\n",
        "  \n",
        "  Returns: \n",
        "  v -- python dictionary that will contain the exponentially weighted average of the gradient.\n",
        "                  v[\"dW\" + str(l)] = ...\n",
        "                  v[\"db\" + str(l)] = ...\n",
        "  s -- python dictionary that will contain the exponentially weighted average of the squared gradient.\n",
        "                  s[\"dW\" + str(l)] = ...\n",
        "                  s[\"db\" + str(l)] = ...\n",
        "  '''\n",
        "\n",
        "  L = len(parameters) // 2 # number of layers in the neural networks\n",
        "  v = {}\n",
        "  s = {}\n",
        "\n",
        "  # Initialize v, s. Input: \"parameters\". Outputs: \"v, s\".\n",
        "  for layer in range(L):\n",
        "    ### START CODE HERE ### (approx. 4 lines)\n",
        "    v[\"dW\" + str(layer+1)] = np.zeros_like(parameters['W' + str(layer + 1)])\n",
        "    v[\"db\" + str(layer+1)] = np.zeros_like(parameters['b' + str(layer + 1)])\n",
        "    s[\"dW\" + str(layer+1)] = np.zeros_like(parameters['W' + str(layer + 1)])\n",
        "    s[\"db\" + str(layer+1)] = np.zeros_like(parameters['b' + str(layer + 1)])\n",
        "    ### END CODE HERE ###\n",
        "  \n",
        "  return v, s"
      ],
      "execution_count": 0,
      "outputs": []
    },
    {
      "cell_type": "code",
      "metadata": {
        "id": "m9DAYwQzmg6r",
        "colab_type": "code",
        "outputId": "17d76093-97b9-498d-970e-252ee389b6b9",
        "colab": {
          "base_uri": "https://localhost:8080/",
          "height": 515
        }
      },
      "source": [
        "parameters = initialize_adam_test_case()\n",
        "\n",
        "v, s = initialize_adam(parameters)\n",
        "print(f'v[\\\"dW1\\\"] =\\n{str(v[\"dW1\"])}')\n",
        "print(f'v[\\\"db1\\\"] =\\n{str(v[\"db1\"])}')\n",
        "print(f'v[\\\"dW2\\\"] =\\n{str(v[\"dW2\"])}')\n",
        "print(f'v[\\\"db2\\\"] =\\n{str(v[\"db2\"])}')\n",
        "print(f's[\\\"dW1\\\"] =\\n{str(s[\"dW1\"])}')\n",
        "print(f's[\\\"db1\\\"] =\\n{str(s[\"db1\"])}')\n",
        "print(f's[\\\"dW2\\\"] =\\n{str(s[\"dW2\"])}')\n",
        "print(f's[\\\"db2\\\"] =\\n{str(s[\"db2\"])}')"
      ],
      "execution_count": 0,
      "outputs": [
        {
          "output_type": "stream",
          "text": [
            "v[\"dW1\"] =\n",
            "[[0. 0. 0.]\n",
            " [0. 0. 0.]]\n",
            "v[\"db1\"] =\n",
            "[[0.]\n",
            " [0.]]\n",
            "v[\"dW2\"] =\n",
            "[[0. 0. 0.]\n",
            " [0. 0. 0.]\n",
            " [0. 0. 0.]]\n",
            "v[\"db2\"] =\n",
            "[[0.]\n",
            " [0.]\n",
            " [0.]]\n",
            "s[\"dW1\"] =\n",
            "[[0. 0. 0.]\n",
            " [0. 0. 0.]]\n",
            "s[\"db1\"] =\n",
            "[[0.]\n",
            " [0.]]\n",
            "s[\"dW2\"] =\n",
            "[[0. 0. 0.]\n",
            " [0. 0. 0.]\n",
            " [0. 0. 0.]]\n",
            "s[\"db2\"] =\n",
            "[[0.]\n",
            " [0.]\n",
            " [0.]]\n"
          ],
          "name": "stdout"
        }
      ]
    },
    {
      "cell_type": "markdown",
      "metadata": {
        "id": "riU7jGtqqqlf",
        "colab_type": "text"
      },
      "source": [
        "**Expected Output**:\n",
        "\n",
        "```\n",
        "v[\"dW1\"] = \n",
        "[[ 0.  0.  0.]\n",
        " [ 0.  0.  0.]]\n",
        "v[\"db1\"] = \n",
        "[[ 0.]\n",
        " [ 0.]]\n",
        "v[\"dW2\"] = \n",
        "[[ 0.  0.  0.]\n",
        " [ 0.  0.  0.]\n",
        " [ 0.  0.  0.]]\n",
        "v[\"db2\"] = \n",
        "[[ 0.]\n",
        " [ 0.]\n",
        " [ 0.]]\n",
        "s[\"dW1\"] = \n",
        "[[ 0.  0.  0.]\n",
        " [ 0.  0.  0.]]\n",
        "s[\"db1\"] = \n",
        "[[ 0.]\n",
        " [ 0.]]\n",
        "s[\"dW2\"] = \n",
        "[[ 0.  0.  0.]\n",
        " [ 0.  0.  0.]\n",
        " [ 0.  0.  0.]]\n",
        "s[\"db2\"] = \n",
        "[[ 0.]\n",
        " [ 0.]\n",
        " [ 0.]]\n",
        "```"
      ]
    },
    {
      "cell_type": "markdown",
      "metadata": {
        "id": "lINGopH2qrRY",
        "colab_type": "text"
      },
      "source": [
        "**Exercise**:  Now, implement the parameters update with Adam. Recall the general update rule is, for $l = 1, ..., L$: \n",
        "\n",
        "$$\\begin{cases}\n",
        "v_{W^{[l]}} = \\beta_1 v_{W^{[l]}} + (1 - \\beta_1) \\frac{\\partial J }{ \\partial W^{[l]} } \\\\\n",
        "v^{corrected}_{W^{[l]}} = \\frac{v_{W^{[l]}}}{1 - (\\beta_1)^t} \\\\\n",
        "s_{W^{[l]}} = \\beta_2 s_{W^{[l]}} + (1 - \\beta_2) (\\frac{\\partial J }{\\partial W^{[l]} })^2 \\\\\n",
        "s^{corrected}_{W^{[l]}} = \\frac{s_{W^{[l]}}}{1 - (\\beta_2)^t} \\\\\n",
        "W^{[l]} = W^{[l]} - \\alpha \\frac{v^{corrected}_{W^{[l]}}}{\\sqrt{s^{corrected}_{W^{[l]}}}+\\varepsilon}\n",
        "\\end{cases}$$\n",
        "\n",
        "\n",
        "**Note** that the iterator `l` starts at 0 in the `for` loop while the first parameters are $W^{[1]}$ and $b^{[1]}$. You need to shift `l` to `l+1` when coding.\n",
        "\n",
        "<img src='https://github.com/rahiakela/img-repo/blob/master/deep-learning-specialization/adam_ptimization_algorithems.PNG?raw=1' width='800'/>\n"
      ]
    },
    {
      "cell_type": "code",
      "metadata": {
        "id": "ZjqhkvZfs9ys",
        "colab_type": "code",
        "outputId": "7111e86e-2491-46b4-ad18-de64cb08bb68",
        "colab": {
          "base_uri": "https://localhost:8080/",
          "height": 195
        }
      },
      "source": [
        "parameters, grads, v, s = update_parameters_with_adam_test_case()\n",
        "parameters"
      ],
      "execution_count": 0,
      "outputs": [
        {
          "output_type": "execute_result",
          "data": {
            "text/plain": [
              "{'W1': array([[ 1.62434536, -0.61175641, -0.52817175],\n",
              "        [-1.07296862,  0.86540763, -2.3015387 ]]),\n",
              " 'W2': array([[ 0.3190391 , -0.24937038,  1.46210794],\n",
              "        [-2.06014071, -0.3224172 , -0.38405435],\n",
              "        [ 1.13376944, -1.09989127, -0.17242821]]),\n",
              " 'b1': array([[ 1.74481176],\n",
              "        [-0.7612069 ]]),\n",
              " 'b2': array([[-0.87785842],\n",
              "        [ 0.04221375],\n",
              "        [ 0.58281521]])}"
            ]
          },
          "metadata": {
            "tags": []
          },
          "execution_count": 14
        }
      ]
    },
    {
      "cell_type": "code",
      "metadata": {
        "id": "i2VBIY5etBW1",
        "colab_type": "code",
        "outputId": "0fbfc25e-66ff-4d7b-c455-109e551314af",
        "colab": {
          "base_uri": "https://localhost:8080/",
          "height": 195
        }
      },
      "source": [
        "grads"
      ],
      "execution_count": 0,
      "outputs": [
        {
          "output_type": "execute_result",
          "data": {
            "text/plain": [
              "{'dW1': array([[-1.10061918,  1.14472371,  0.90159072],\n",
              "        [ 0.50249434,  0.90085595, -0.68372786]]),\n",
              " 'dW2': array([[-0.26788808,  0.53035547, -0.69166075],\n",
              "        [-0.39675353, -0.6871727 , -0.84520564],\n",
              "        [-0.67124613, -0.0126646 , -1.11731035]]),\n",
              " 'db1': array([[-0.12289023],\n",
              "        [-0.93576943]]),\n",
              " 'db2': array([[0.2344157 ],\n",
              "        [1.65980218],\n",
              "        [0.74204416]])}"
            ]
          },
          "metadata": {
            "tags": []
          },
          "execution_count": 15
        }
      ]
    },
    {
      "cell_type": "code",
      "metadata": {
        "id": "uBXASG6KtEqn",
        "colab_type": "code",
        "outputId": "bb0563e2-41d7-4cbe-f680-c5e3c95f6e5e",
        "colab": {
          "base_uri": "https://localhost:8080/",
          "height": 141
        }
      },
      "source": [
        "v"
      ],
      "execution_count": 0,
      "outputs": [
        {
          "output_type": "execute_result",
          "data": {
            "text/plain": [
              "{'dW1': array([[0., 0., 0.],\n",
              "        [0., 0., 0.]]), 'dW2': array([[0., 0., 0.],\n",
              "        [0., 0., 0.],\n",
              "        [0., 0., 0.]]), 'db1': array([[0.],\n",
              "        [0.]]), 'db2': array([[0.],\n",
              "        [0.],\n",
              "        [0.]])}"
            ]
          },
          "metadata": {
            "tags": []
          },
          "execution_count": 16
        }
      ]
    },
    {
      "cell_type": "code",
      "metadata": {
        "id": "M7z6URF5tHML",
        "colab_type": "code",
        "outputId": "ad23e02e-70f5-4d63-85e5-f2a12e95f99f",
        "colab": {
          "base_uri": "https://localhost:8080/",
          "height": 141
        }
      },
      "source": [
        "s"
      ],
      "execution_count": 0,
      "outputs": [
        {
          "output_type": "execute_result",
          "data": {
            "text/plain": [
              "{'dW1': array([[0., 0., 0.],\n",
              "        [0., 0., 0.]]), 'dW2': array([[0., 0., 0.],\n",
              "        [0., 0., 0.],\n",
              "        [0., 0., 0.]]), 'db1': array([[0.],\n",
              "        [0.]]), 'db2': array([[0.],\n",
              "        [0.],\n",
              "        [0.]])}"
            ]
          },
          "metadata": {
            "tags": []
          },
          "execution_count": 17
        }
      ]
    },
    {
      "cell_type": "code",
      "metadata": {
        "id": "IRj1R4xmm3ZL",
        "colab_type": "code",
        "colab": {}
      },
      "source": [
        "# FUNCTION: update_parameters_with_adam\n",
        "def update_parameters_with_adam(parameters, grads, v, s, t, learning_rate=0.01, beta1=0.9, beta2=0.999, epsilon=1e-8):\n",
        "  '''\n",
        "  Update parameters using Adam\n",
        "    \n",
        "  Arguments:\n",
        "  parameters -- python dictionary containing your parameters:\n",
        "                  parameters['W' + str(l)] = Wl\n",
        "                  parameters['b' + str(l)] = bl\n",
        "  grads -- python dictionary containing your gradients for each parameters:\n",
        "                  grads['dW' + str(l)] = dWl\n",
        "                  grads['db' + str(l)] = dbl\n",
        "  v -- Adam variable, moving average of the first gradient, python dictionary\n",
        "  s -- Adam variable, moving average of the squared gradient, python dictionary\n",
        "  learning_rate -- the learning rate, scalar.\n",
        "  beta1 -- Exponential decay hyperparameter for the first moment estimates \n",
        "  beta2 -- Exponential decay hyperparameter for the second moment estimates \n",
        "  epsilon -- hyperparameter preventing division by zero in Adam updates\n",
        "\n",
        "  Returns:\n",
        "  parameters -- python dictionary containing your updated parameters \n",
        "  v -- Adam variable, moving average of the first gradient, python dictionary\n",
        "  s -- Adam variable, moving average of the squared gradient, python dictionary\n",
        "  '''\n",
        "\n",
        "  L = len(parameters) // 2                 # number of layers in the neural networks\n",
        "  v_corrected = {}                         # Initializing first moment estimate, python dictionary\n",
        "  s_corrected = {}                         # Initializing second moment estimate, python dictionary\n",
        "\n",
        "  # Perform Adam update on all parameters\n",
        "  for layer in range(L):\n",
        "\n",
        "    # Moving average of the gradients. Inputs: \"v, grads, beta1\". Output: \"v\".\n",
        "    ### START CODE HERE ### (approx. 2 lines)  ## B1--momentum like update for hyper-parameter B1\n",
        "    v[\"dW\" + str(layer+1)] = beta1 * v['dW' + str(layer + 1)] + (1 - beta1) * grads['dW' + str(layer + 1)]\n",
        "    v[\"db\" + str(layer+1)] = beta1 * v['db' + str(layer + 1)] + (1 - beta1) * grads['db' + str(layer + 1)]\n",
        "    ### END CODE HERE ###\n",
        "\n",
        "    # Compute bias-corrected first moment estimate. Inputs: \"v, beta1, t\". Output: \"v_corrected\".\n",
        "    ### START CODE HERE ### (approx. 2 lines)\n",
        "    v_corrected[\"dW\" + str(layer+1)] = v['dW' + str(layer + 1)] / (1 - beta1 ** t)\n",
        "    v_corrected[\"db\" + str(layer+1)] = v['db' + str(layer + 1)] / (1 - beta1 ** t)\n",
        "    ### END CODE HERE ###\n",
        "\n",
        "    # Moving average of the squared gradients. Inputs: \"s, grads, beta2\". Output: \"s\".\n",
        "    ### START CODE HERE ### (approx. 2 lines)  ## B2--RMSprop like update for hyper-parameter B2\n",
        "    s[\"dW\" + str(layer+1)] = beta2 * s['dW' + str(layer + 1)] + (1 - beta2) * (grads['dW' + str(layer + 1)] ** 2)\n",
        "    s[\"db\" + str(layer+1)] = beta2 * s['db' + str(layer + 1)] + (1 - beta2) * (grads['db' + str(layer + 1)] ** 2)\n",
        "    ### END CODE HERE ###\n",
        "\n",
        "    # Compute bias-corrected second raw moment estimate. Inputs: \"s, beta2, t\". Output: \"s_corrected\".\n",
        "    ### START CODE HERE ### (approx. 2 lines)\n",
        "    s_corrected[\"dW\" + str(layer+1)] = s['dW' + str(layer + 1)] / (1 - beta2 ** t)\n",
        "    s_corrected[\"db\" + str(layer+1)] = s['db' + str(layer + 1)] / (1 - beta2 ** t)\n",
        "    ### END CODE HERE ###\n",
        "\n",
        "    # Update parameters. Inputs: \"parameters, learning_rate, v_corrected, s_corrected, epsilon\". Output: \"parameters\".\n",
        "    ### START CODE HERE ### (approx. 2 lines)\n",
        "    parameters[\"W\" + str(layer+1)] = parameters['W' + str(layer + 1)] - learning_rate * (v_corrected[\"dW\" + str(layer+1)] / np.sqrt(s_corrected[\"dW\" + str(layer + 1)] + epsilon))\n",
        "    parameters[\"b\" + str(layer+1)] = parameters[\"b\" + str(layer + 1)] - learning_rate * (v_corrected[\"db\" + str(layer + 1)] / np.sqrt(s_corrected[\"db\" + str(layer + 1)] + epsilon))\n",
        "    ### END CODE HERE ###\n",
        "\n",
        "  return parameters, v, s"
      ],
      "execution_count": 0,
      "outputs": []
    },
    {
      "cell_type": "code",
      "metadata": {
        "id": "QgDc1jVJ5YOk",
        "colab_type": "code",
        "outputId": "2d1b0539-5bf2-4430-9b3a-872864dd22dd",
        "colab": {
          "base_uri": "https://localhost:8080/",
          "height": 764
        }
      },
      "source": [
        "parameters, grads, v, s = update_parameters_with_adam_test_case()\n",
        "\n",
        "parameters, v, s = update_parameters_with_adam(parameters, grads, v, s, t=2)\n",
        "print(f'W1 = \\n{str(parameters[\"W1\"])}')\n",
        "print(f'b1 = \\n{str(parameters[\"b1\"])}')\n",
        "print(f'W2 = \\n{str(parameters[\"W2\"])}')\n",
        "print(f'b2 = \\n{str(parameters[\"b2\"])}')\n",
        "print(f'v[\\\"dW1\\\"] = \\n{str(v[\"dW1\"])}')\n",
        "print(f'v[\\\"db1\\\"] = \\n{str(v[\"db1\"])}')\n",
        "print(f'v[\\\"dW2\\\"] = \\n{str(v[\"dW2\"])}')\n",
        "print(f'v[\\\"db2\\\"] = \\n{str(v[\"db2\"])}')\n",
        "print(f's[\\\"dW1\\\"] = \\n{str(s[\"dW1\"])}')\n",
        "print(f's[\\\"db1\\\"] = \\n{str(s[\"db1\"])}')\n",
        "print(f's[\\\"dW2\\\"] = \\n{str(s[\"dW2\"])}')\n",
        "print(f's[\\\"db2\\\"] = \\n{str(s[\"db2\"])}')"
      ],
      "execution_count": 0,
      "outputs": [
        {
          "output_type": "stream",
          "text": [
            "W1 = \n",
            "[[ 1.63178673 -0.61919778 -0.53561312]\n",
            " [-1.08040999  0.85796626 -2.29409733]]\n",
            "b1 = \n",
            "[[ 1.75225313]\n",
            " [-0.75376553]]\n",
            "W2 = \n",
            "[[ 0.32648046 -0.25681174  1.46954931]\n",
            " [-2.05269934 -0.31497584 -0.37661299]\n",
            " [ 1.14121081 -1.09245036 -0.16498684]]\n",
            "b2 = \n",
            "[[-0.88529978]\n",
            " [ 0.03477238]\n",
            " [ 0.57537385]]\n",
            "v[\"dW1\"] = \n",
            "[[-0.11006192  0.11447237  0.09015907]\n",
            " [ 0.05024943  0.09008559 -0.06837279]]\n",
            "v[\"db1\"] = \n",
            "[[-0.01228902]\n",
            " [-0.09357694]]\n",
            "v[\"dW2\"] = \n",
            "[[-0.02678881  0.05303555 -0.06916608]\n",
            " [-0.03967535 -0.06871727 -0.08452056]\n",
            " [-0.06712461 -0.00126646 -0.11173103]]\n",
            "v[\"db2\"] = \n",
            "[[0.02344157]\n",
            " [0.16598022]\n",
            " [0.07420442]]\n",
            "s[\"dW1\"] = \n",
            "[[0.00121136 0.00131039 0.00081287]\n",
            " [0.0002525  0.00081154 0.00046748]]\n",
            "s[\"db1\"] = \n",
            "[[1.51020075e-05]\n",
            " [8.75664434e-04]]\n",
            "s[\"dW2\"] = \n",
            "[[7.17640232e-05 2.81276921e-04 4.78394595e-04]\n",
            " [1.57413361e-04 4.72206320e-04 7.14372576e-04]\n",
            " [4.50571368e-04 1.60392066e-07 1.24838242e-03]]\n",
            "s[\"db2\"] = \n",
            "[[5.49507194e-05]\n",
            " [2.75494327e-03]\n",
            " [5.50629536e-04]]\n"
          ],
          "name": "stdout"
        }
      ]
    },
    {
      "cell_type": "markdown",
      "metadata": {
        "id": "BJ1pfhTt7XY9",
        "colab_type": "text"
      },
      "source": [
        "**Expected Output**:\n",
        "\n",
        "```\n",
        "W1 = \n",
        "[[ 1.63178673 -0.61919778 -0.53561312]\n",
        " [-1.08040999  0.85796626 -2.29409733]]\n",
        "b1 = \n",
        "[[ 1.75225313]\n",
        " [-0.75376553]]\n",
        "W2 = \n",
        "[[ 0.32648046 -0.25681174  1.46954931]\n",
        " [-2.05269934 -0.31497584 -0.37661299]\n",
        " [ 1.14121081 -1.09245036 -0.16498684]]\n",
        "b2 = \n",
        "[[-0.88529978]\n",
        " [ 0.03477238]\n",
        " [ 0.57537385]]\n",
        "v[\"dW1\"] = \n",
        "[[-0.11006192  0.11447237  0.09015907]\n",
        " [ 0.05024943  0.09008559 -0.06837279]]\n",
        "v[\"db1\"] = \n",
        "[[-0.01228902]\n",
        " [-0.09357694]]\n",
        "v[\"dW2\"] = \n",
        "[[-0.02678881  0.05303555 -0.06916608]\n",
        " [-0.03967535 -0.06871727 -0.08452056]\n",
        " [-0.06712461 -0.00126646 -0.11173103]]\n",
        "v[\"db2\"] = \n",
        "[[ 0.02344157]\n",
        " [ 0.16598022]\n",
        " [ 0.07420442]]\n",
        "s[\"dW1\"] = \n",
        "[[ 0.00121136  0.00131039  0.00081287]\n",
        " [ 0.0002525   0.00081154  0.00046748]]\n",
        "s[\"db1\"] = \n",
        "[[  1.51020075e-05]\n",
        " [  8.75664434e-04]]\n",
        "s[\"dW2\"] = \n",
        "[[  7.17640232e-05   2.81276921e-04   4.78394595e-04]\n",
        " [  1.57413361e-04   4.72206320e-04   7.14372576e-04]\n",
        " [  4.50571368e-04   1.60392066e-07   1.24838242e-03]]\n",
        "s[\"db2\"] = \n",
        "[[  5.49507194e-05]\n",
        " [  2.75494327e-03]\n",
        " [  5.50629536e-04]]\n",
        "```"
      ]
    },
    {
      "cell_type": "markdown",
      "metadata": {
        "id": "WEQLjNX97YQH",
        "colab_type": "text"
      },
      "source": [
        "You now have three working optimization algorithms (mini-batch gradient descent, Momentum, Adam). Let's implement a model with each of these optimizers and observe the difference."
      ]
    },
    {
      "cell_type": "markdown",
      "metadata": {
        "id": "4S-O91X_7aUG",
        "colab_type": "text"
      },
      "source": [
        "## 5 - Model with different optimization algorithms"
      ]
    },
    {
      "cell_type": "markdown",
      "metadata": {
        "id": "R3LVObEY7gJe",
        "colab_type": "text"
      },
      "source": [
        "Lets use the following \"moons\" dataset to test the different optimization methods. (The dataset is named \"moons\" because the data from each of the two classes looks a bit like a crescent-shaped moon.) "
      ]
    },
    {
      "cell_type": "code",
      "metadata": {
        "id": "kMKvhsXd6ZZe",
        "colab_type": "code",
        "outputId": "c407ef39-009b-42d2-9eee-ff7610d34036",
        "colab": {
          "base_uri": "https://localhost:8080/",
          "height": 268
        }
      },
      "source": [
        "train_X, train_Y = load_dataset()"
      ],
      "execution_count": 0,
      "outputs": [
        {
          "output_type": "display_data",
          "data": {
            "image/png": "[encoded data removed]",
            "text/plain": [
              "<Figure size 504x288 with 1 Axes>"
            ]
          },
          "metadata": {
            "tags": []
          }
        }
      ]
    },
    {
      "cell_type": "markdown",
      "metadata": {
        "id": "CthtHgJ6tobk",
        "colab_type": "text"
      },
      "source": [
        "We have already implemented a 3-layer neural network. You will train it with: \n",
        "- Mini-batch **Gradient Descent**: it will call your function:\n",
        "    - `update_parameters_with_gd()`\n",
        "- Mini-batch **Momentum**: it will call your functions:\n",
        "    - `initialize_velocity()` and `update_parameters_with_momentum()`\n",
        "- Mini-batch **Adam**: it will call your functions:\n",
        "    - `initialize_adam()` and `update_parameters_with_adam()`"
      ]
    },
    {
      "cell_type": "code",
      "metadata": {
        "id": "cCoQS18Jtjnm",
        "colab_type": "code",
        "colab": {}
      },
      "source": [
        "def model(X, Y, layers_dims, optimizer, learning_rate=0.0007, mini_batch_size=64, \n",
        "          beta=0.9, beta1=0.9, beta2=0.999, epsilon=1e-8, num_epochs=10000, print_cost=True):\n",
        "  '''\n",
        "  3-layer neural network model which can be run in different optimizer modes.\n",
        "    \n",
        "  Arguments:\n",
        "  X -- input data, of shape (2, number of examples)\n",
        "  Y -- true \"label\" vector (1 for blue dot / 0 for red dot), of shape (1, number of examples)\n",
        "  layers_dims -- python list, containing the size of each layer\n",
        "  learning_rate -- the learning rate, scalar.\n",
        "  mini_batch_size -- the size of a mini batch\n",
        "  beta -- Momentum hyperparameter\n",
        "  beta1 -- Exponential decay hyperparameter for the past gradients estimates \n",
        "  beta2 -- Exponential decay hyperparameter for the past squared gradients estimates \n",
        "  epsilon -- hyperparameter preventing division by zero in Adam updates\n",
        "  num_epochs -- number of epochs\n",
        "  print_cost -- True to print the cost every 1000 epochs\n",
        "\n",
        "  Returns:\n",
        "  parameters -- python dictionary containing your updated parameters \n",
        "  '''\n",
        "\n",
        "  L = len(layers_dims)             # number of layers in the neural networks\n",
        "  costs = []                       # to keep track of the cost\n",
        "  t = 0                            # initializing the counter required for Adam update\n",
        "  seed = 10                        # For grading purposes, so that your \"random\" minibatches are the same as ours\n",
        "  m = X.shape[1]                   # number of training examples\n",
        "\n",
        "  # Initialize parameters\n",
        "  parameters = initialize_parameters(layers_dims)\n",
        "\n",
        "  # Initialize the optimizer\n",
        "  if optimizer == 'gd':\n",
        "    pass   # no initialization required for gradient descent\n",
        "  elif optimizer == 'momentum':\n",
        "    v = initialize_velocity(parameters)\n",
        "  elif optimizer == 'adam':\n",
        "    v, s = initialize_adam(parameters)\n",
        "\n",
        "  # Optimization loop\n",
        "  for i in range(num_epochs):\n",
        "\n",
        "    # Define the random minibatches. We increment the seed to reshuffle differently the dataset after each epoch\n",
        "    seed = seed + 1\n",
        "    minibatches = random_mini_batches(X, Y, mini_batch_size, seed)\n",
        "    cost_total = 0\n",
        "\n",
        "    for minibatch in minibatches:\n",
        "\n",
        "      # Select a minibatch\n",
        "      (minibatch_X, minibatch_Y) = minibatch\n",
        "\n",
        "      # Forward propagation\n",
        "      a3 , caches = forward_propagation(minibatch_X, parameters)\n",
        "\n",
        "      # Compute cost and add to the cost total\n",
        "      cost_total += compute_cost(a3, minibatch_Y)\n",
        "\n",
        "      # Backward propagation\n",
        "      grads = backward_propagation(minibatch_X, minibatch_Y, caches)\n",
        "\n",
        "      # Update parameters\n",
        "      if optimizer == 'gd':\n",
        "        parameters = update_parameters_with_gd(parameters, grads, learning_rate)\n",
        "      elif optimizer == 'momentum':\n",
        "        parameters, v = update_parameters_with_momentum(parameters, grads, v, beta, learning_rate)\n",
        "      elif optimizer == 'adam':\n",
        "        t = t + 1  # Adam counter\n",
        "        parameters, v, s = update_parameters_with_adam(parameters, grads, v, s, t, learning_rate, beta1, beta2, epsilon)\n",
        "\n",
        "    cost_avg = cost_total / m\n",
        "\n",
        "    # Print the cost every 1000 epoch\n",
        "    if print_cost and i % 1000 == 0:\n",
        "      print(f'Cost after epoch {str(i)}: {str(cost_avg)}')\n",
        "    if print_cost and i % 100 == 0:\n",
        "      costs.append(cost_avg)\n",
        "  \n",
        "  # plot the cost\n",
        "  plt.plot(costs)\n",
        "  plt.ylabel('cost')\n",
        "  plt.xlabel('epochs (per 100)')\n",
        "  plt.title(f'Learning rate = {str(learning_rate)}')\n",
        "  plt.show()\n",
        "\n",
        "  return parameters"
      ],
      "execution_count": 0,
      "outputs": []
    },
    {
      "cell_type": "markdown",
      "metadata": {
        "id": "LiQ6UprqyWnz",
        "colab_type": "text"
      },
      "source": [
        "You will now run this 3 layer neural network with each of the 3 optimization methods."
      ]
    },
    {
      "cell_type": "markdown",
      "metadata": {
        "id": "BJIUGzFByXNK",
        "colab_type": "text"
      },
      "source": [
        "### 5.1 - Mini-batch Gradient descent"
      ]
    },
    {
      "cell_type": "markdown",
      "metadata": {
        "id": "5Dssd6xOyaTL",
        "colab_type": "text"
      },
      "source": [
        "Run the following code to see how the model does with mini-batch gradient descent."
      ]
    },
    {
      "cell_type": "code",
      "metadata": {
        "id": "F8ca95_1yMeJ",
        "colab_type": "code",
        "outputId": "b5796379-a286-4599-a501-bcb2a6e6b2f5",
        "colab": {
          "base_uri": "https://localhost:8080/",
          "height": 769
        }
      },
      "source": [
        "# train 3-layer model\n",
        "layers_dims = [train_X.shape[0], 5, 2, 1]\n",
        "parameters = model(train_X, train_Y, layers_dims, optimizer='gd')\n",
        "\n",
        "# Predict\n",
        "predictions = predict(train_X, train_Y, parameters)\n",
        "\n",
        "# Plot decision boundary\n",
        "plt.title('Model with Gradient Descent optimization')\n",
        "axes = plt.gca()\n",
        "axes.set_xlim([-1.5, 2.5])\n",
        "axes.set_ylim([-1, 1.5])\n",
        "plot_decision_boundary(lambda x: predict_dec(parameters, x.T), train_X, train_Y.ravel())"
      ],
      "execution_count": 0,
      "outputs": [
        {
          "output_type": "stream",
          "text": [
            "Cost after epoch 0: 0.6990210134712456\n",
            "Cost after epoch 1000: 0.6931686873146852\n",
            "Cost after epoch 2000: 0.696966343696018\n",
            "Cost after epoch 3000: 0.6945934435481521\n",
            "Cost after epoch 4000: 0.7057589640803809\n",
            "Cost after epoch 5000: 0.6936160785806501\n",
            "Cost after epoch 6000: 0.6972858878142806\n",
            "Cost after epoch 7000: 0.6937355183653142\n",
            "Cost after epoch 8000: 0.6944601840969723\n",
            "Cost after epoch 9000: 0.7074751647089623\n"
          ],
          "name": "stdout"
        },
        {
          "output_type": "display_data",
          "data": {
            "image/png": "[encoded data removed]",
            "text/plain": [
              "<Figure size 504x288 with 1 Axes>"
            ]
          },
          "metadata": {
            "tags": []
          }
        },
        {
          "output_type": "stream",
          "text": [
            "Accuracy: 0.5\n"
          ],
          "name": "stdout"
        },
        {
          "output_type": "display_data",
          "data": {
            "image/png": "[encoded data removed]",
            "text/plain": [
              "<Figure size 504x288 with 1 Axes>"
            ]
          },
          "metadata": {
            "tags": []
          }
        }
      ]
    },
    {
      "cell_type": "markdown",
      "metadata": {
        "id": "FjrBCdpp0PYR",
        "colab_type": "text"
      },
      "source": [
        "### 5.2 - Mini-batch gradient descent with momentum"
      ]
    },
    {
      "cell_type": "markdown",
      "metadata": {
        "id": "fWXfoxFV0Rw6",
        "colab_type": "text"
      },
      "source": [
        "Run the following code to see how the model does with momentum. Because this example is relatively simple, the gains from using momemtum are small; but for more complex problems you might see bigger gains."
      ]
    },
    {
      "cell_type": "code",
      "metadata": {
        "id": "Ba0TKgnozXcq",
        "colab_type": "code",
        "outputId": "379ecc57-6dd8-4ef6-9bce-583c38cec58d",
        "colab": {
          "base_uri": "https://localhost:8080/",
          "height": 769
        }
      },
      "source": [
        "# train 3-layer model\n",
        "layers_dims = [train_X.shape[0], 5, 2, 1]\n",
        "parameters = model(train_X, train_Y, layers_dims, beta=0.9, optimizer='momentum')\n",
        "\n",
        "# Predict\n",
        "predictions = predict(train_X, train_Y, parameters)\n",
        "\n",
        "# Plot decision boundary\n",
        "plt.title('Model with Momentum optimization')\n",
        "axes = plt.gca()\n",
        "axes.set_xlim([-1.5, 2.5])\n",
        "axes.set_ylim([-1, 1.5])\n",
        "plot_decision_boundary(lambda x: predict_dec(parameters, x.T), train_X, train_Y.ravel())"
      ],
      "execution_count": 0,
      "outputs": [
        {
          "output_type": "stream",
          "text": [
            "Cost after epoch 0: 0.7140364408652577\n",
            "Cost after epoch 1000: 0.657384254015967\n",
            "Cost after epoch 2000: 0.6294610142859753\n",
            "Cost after epoch 3000: 0.649514576382489\n",
            "Cost after epoch 4000: 0.5381620073118419\n",
            "Cost after epoch 5000: 0.5614713293311817\n",
            "Cost after epoch 6000: 0.6148577812687015\n",
            "Cost after epoch 7000: 0.464084141579258\n",
            "Cost after epoch 8000: 0.5836824035834702\n",
            "Cost after epoch 9000: 0.4347398980417127\n"
          ],
          "name": "stdout"
        },
        {
          "output_type": "display_data",
          "data": {
            "image/png": "[encoded data removed]",
            "text/plain": [
              "<Figure size 504x288 with 1 Axes>"
            ]
          },
          "metadata": {
            "tags": []
          }
        },
        {
          "output_type": "stream",
          "text": [
            "Accuracy: 0.7966666666666666\n"
          ],
          "name": "stdout"
        },
        {
          "output_type": "display_data",
          "data": {
            "image/png": "[encoded data removed]",
            "text/plain": [
              "<Figure size 504x288 with 1 Axes>"
            ]
          },
          "metadata": {
            "tags": []
          }
        }
      ]
    },
    {
      "cell_type": "markdown",
      "metadata": {
        "id": "VWTIDpLy01Ia",
        "colab_type": "text"
      },
      "source": [
        "### 5.3 - Mini-batch with Adam mode"
      ]
    },
    {
      "cell_type": "markdown",
      "metadata": {
        "id": "puxlRHiR03qR",
        "colab_type": "text"
      },
      "source": [
        "Run the following code to see how the model does with Adam."
      ]
    },
    {
      "cell_type": "code",
      "metadata": {
        "id": "FWvDqQnu0oza",
        "colab_type": "code",
        "outputId": "454d94f6-05b3-4a28-d990-18815399dfaa",
        "colab": {
          "base_uri": "https://localhost:8080/",
          "height": 769
        }
      },
      "source": [
        "# train 3-layer model\n",
        "layers_dims = [train_X.shape[0], 5, 2, 1]\n",
        "parameters = model(train_X, train_Y, layers_dims, optimizer='adam')\n",
        "\n",
        "# Predict\n",
        "predictions = predict(train_X, train_Y, parameters)\n",
        "\n",
        "# Plot decision boundary\n",
        "plt.title('Model with Adam optimization')\n",
        "axes = plt.gca()\n",
        "axes.set_xlim([-1.5, 2.5])\n",
        "axes.set_ylim([-1, 1.5])\n",
        "plot_decision_boundary(lambda x: predict_dec(parameters, x.T), train_X, train_Y.ravel())"
      ],
      "execution_count": 0,
      "outputs": [
        {
          "output_type": "stream",
          "text": [
            "Cost after epoch 0: 0.713243350996302\n",
            "Cost after epoch 1000: 0.14431140318128294\n",
            "Cost after epoch 2000: 0.1741048386570729\n",
            "Cost after epoch 3000: 0.09672482661965075\n",
            "Cost after epoch 4000: 0.07014578395830816\n",
            "Cost after epoch 5000: 0.15377043102519294\n",
            "Cost after epoch 6000: 0.14842181218350975\n",
            "Cost after epoch 7000: 0.1834174744135205\n",
            "Cost after epoch 8000: 0.16864744334875656\n",
            "Cost after epoch 9000: 0.0874147008762821\n"
          ],
          "name": "stdout"
        },
        {
          "output_type": "display_data",
          "data": {
            "image/png": "[encoded data removed]",
            "text/plain": [
              "<Figure size 504x288 with 1 Axes>"
            ]
          },
          "metadata": {
            "tags": []
          }
        },
        {
          "output_type": "stream",
          "text": [
            "Accuracy: 0.9366666666666666\n"
          ],
          "name": "stdout"
        },
        {
          "output_type": "display_data",
          "data": {
            "image/png": "[encoded data removed]",
            "text/plain": [
              "<Figure size 504x288 with 1 Axes>"
            ]
          },
          "metadata": {
            "tags": []
          }
        }
      ]
    },
    {
      "cell_type": "markdown",
      "metadata": {
        "id": "lX2_RMFL3jXR",
        "colab_type": "text"
      },
      "source": [
        "## 6 - Summary"
      ]
    },
    {
      "cell_type": "markdown",
      "metadata": {
        "id": "paOD0sbd1Nn1",
        "colab_type": "text"
      },
      "source": [
        "<table> \n",
        "    <tr>\n",
        "        <td>\n",
        "        **optimization method**\n",
        "        </td>\n",
        "        <td>\n",
        "        **accuracy**\n",
        "        </td>\n",
        "        <td>\n",
        "        **cost shape**\n",
        "        </td>\n",
        "    </tr>\n",
        "        <td>\n",
        "        Gradient descent\n",
        "        </td>\n",
        "        <td>\n",
        "        79.7%\n",
        "        </td>\n",
        "        <td>\n",
        "        oscillations\n",
        "        </td>\n",
        "    <tr>\n",
        "        <td>\n",
        "        Momentum\n",
        "        </td>\n",
        "        <td>\n",
        "        79.7%\n",
        "        </td>\n",
        "        <td>\n",
        "        oscillations\n",
        "        </td>\n",
        "    </tr>\n",
        "    <tr>\n",
        "        <td>\n",
        "        Adam\n",
        "        </td>\n",
        "        <td>\n",
        "        94%\n",
        "        </td>\n",
        "        <td>\n",
        "        smoother\n",
        "        </td>\n",
        "    </tr>\n",
        "</table> \n",
        "\n",
        "Momentum usually helps, but given the small learning rate and the simplistic dataset, its impact is almost negligeable. Also, the huge oscillations you see in the cost come from the fact that some minibatches are more difficult thans others for the optimization algorithm.\n",
        "\n",
        "Adam on the other hand, clearly outperforms mini-batch gradient descent and Momentum. If you run the model for more epochs on this simple dataset, all three methods will lead to very good results. However, you've seen that Adam converges a lot faster.\n",
        "\n",
        "Some advantages of Adam include:\n",
        "- Relatively low memory requirements (though higher than gradient descent and gradient descent with momentum) \n",
        "- Usually works well even with little tuning of hyperparameters (except $\\alpha$)"
      ]
    },
    {
      "cell_type": "markdown",
      "metadata": {
        "id": "Iw0jq-I-1uGu",
        "colab_type": "text"
      },
      "source": [
        "**References**:\n",
        "\n",
        "- Adam paper: https://arxiv.org/pdf/1412.6980.pdf"
      ]
    }
  ]
}