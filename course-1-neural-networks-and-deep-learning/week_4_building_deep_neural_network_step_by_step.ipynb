{
  "nbformat": 4,
  "nbformat_minor": 0,
  "metadata": {
    "colab": {
      "name": "week-4-building_deep_neural_network_step_by_step.ipynb",
      "provenance": [],
      "toc_visible": true,
      "include_colab_link": true
    },
    "kernelspec": {
      "name": "python3",
      "display_name": "Python 3"
    }
  },
  "cells": [
    {
      "cell_type": "markdown",
      "metadata": {
        "id": "view-in-github",
        "colab_type": "text"
      },
      "source": [
        "<a href=\"https://colab.research.google.com/github/rahiakela/coursera-deep-learning-specialization/blob/course-1-neural-networks-and-deep-learning/week_4_building_deep_neural_network_step_by_step.ipynb\" target=\"_parent\"><img src=\"https://colab.research.google.com/assets/colab-badge.svg\" alt=\"Open In Colab\"/></a>"
      ]
    },
    {
      "cell_type": "markdown",
      "metadata": {
        "id": "zu7SFPpN-oG5",
        "colab_type": "text"
      },
      "source": [
        "# Building your Deep Neural Network: Step by Step"
      ]
    },
    {
      "cell_type": "markdown",
      "metadata": {
        "id": "i6sKBM2s-pJQ",
        "colab_type": "text"
      },
      "source": [
        "Welcome to your third programming exercise of the deep learning specialization. You will implement all the building blocks of a neural network and use these building blocks in the next assignment to build a neural network of any architecture you want. By completing this assignment you will:\n",
        "\n",
        "- Develop an intuition of the over all structure of a neural network.\n",
        "\n",
        "- Write functions (e.g. forward propagation, backward propagation, logistic loss, etc...) that would help you decompose your code and ease the process of building a neural network.\n",
        "\n",
        "- Initialize/update parameters according to your desired structure.\n",
        "\n",
        "This assignment prepares you well for the upcoming assignment. Take your time to complete it and make sure you get the expected outputs when working through the different exercises.\n",
        "\n",
        "This is the first part of your week 4 assignment! You have previously trained a 2-layer Neural Network (with a single hidden layer). This week, you will build a deep neural network, with as many layers as you want!\n",
        "\n",
        "- In this notebook, you will implement all the functions required to build a deep neural network.\n",
        "- In the next assignment, you will use these functions to build a deep neural network for image classification.\n",
        "\n",
        "**After this assignment you will be able to:**\n",
        "- Use non-linear units like ReLU to improve your model\n",
        "- Build a deeper neural network (with more than 1 hidden layer)\n",
        "- Implement an easy-to-use neural network class\n",
        "\n",
        "**Notation**:\n",
        "- Superscript $[l]$ denotes a quantity associated with the $l^{th}$ layer. \n",
        "    - Example: $a^{[L]}$ is the $L^{th}$ layer activation. $W^{[L]}$ and $b^{[L]}$ are the $L^{th}$ layer parameters.\n",
        "- Superscript $(i)$ denotes a quantity associated with the $i^{th}$ example. \n",
        "    - Example: $x^{(i)}$ is the $i^{th}$ training example.\n",
        "- Lowerscript $i$ denotes the $i^{th}$ entry of a vector.\n",
        "    - Example: $a^{[l]}_i$ denotes the $i^{th}$ entry of the $l^{th}$ layer's activations).\n",
        "\n",
        "Let's get started!"
      ]
    },
    {
      "cell_type": "markdown",
      "metadata": {
        "id": "oDncsxaU-r-o",
        "colab_type": "text"
      },
      "source": [
        "## 1 - Packages"
      ]
    },
    {
      "cell_type": "code",
      "metadata": {
        "id": "28IHYjHG_W1x",
        "colab_type": "code",
        "colab": {}
      },
      "source": [
        "import numpy as np\n",
        "import h5py\n",
        "import matplotlib.pyplot as plt\n",
        "from testCases_v4a import *\n",
        "from dnn_utils_v2 import sigmoid, sigmoid_backward, relu, relu_backward\n",
        "\n",
        "%matplotlib inline\n",
        "plt.rcParams['figure.figsize'] = (5.0, 4.0) # set default size of plots\n",
        "plt.rcParams['image.interpolation'] = 'nearest'\n",
        "plt.rcParams['image.cmap'] = 'gray'\n",
        "\n",
        "%load_ext autoreload\n",
        "%autoreload 2\n",
        "\n",
        "np.random.seed(1)"
      ],
      "execution_count": 0,
      "outputs": []
    },
    {
      "cell_type": "markdown",
      "metadata": {
        "id": "Li3VqY8X_f0q",
        "colab_type": "text"
      },
      "source": [
        "## 2 - Outline of the Assignment"
      ]
    },
    {
      "cell_type": "markdown",
      "metadata": {
        "id": "r4xdRigRAw8t",
        "colab_type": "text"
      },
      "source": [
        "To build your neural network, you will be implementing several \"helper functions\". These helper functions will be used in the next assignment to build a two-layer neural network and an L-layer neural network. Each small helper function you will implement will have detailed instructions that will walk you through the necessary steps. Here is an outline of this assignment, you will:\n",
        "\n",
        "- Initialize the parameters for a two-layer network and for an $L$-layer neural network.\n",
        "- Implement the forward propagation module (shown in purple in the figure below).\n",
        "     - Complete the LINEAR part of a layer's forward propagation step (resulting in $Z^{[l]}$).\n",
        "     - We give you the ACTIVATION function (relu/sigmoid).\n",
        "     - Combine the previous two steps into a new [LINEAR->ACTIVATION] forward function.\n",
        "     - Stack the [LINEAR->RELU] forward function L-1 time (for layers 1 through L-1) and add a [LINEAR->SIGMOID] at the end (for the final layer $L$). This gives you a new L_model_forward function.\n",
        "- Compute the loss.\n",
        "- Implement the backward propagation module (denoted in red in the figure below).\n",
        "    - Complete the LINEAR part of a layer's backward propagation step.\n",
        "    - We give you the gradient of the ACTIVATE function (relu_backward/sigmoid_backward) \n",
        "    - Combine the previous two steps into a new [LINEAR->ACTIVATION] backward function.\n",
        "    - Stack [LINEAR->RELU] backward L-1 times and add [LINEAR->SIGMOID] backward in a new L_model_backward function\n",
        "- Finally update the parameters.\n",
        "\n",
        "<img src='https://github.com/rahiakela/img-repo/blob/master/deep-learning-specialization/final-outline.png?raw=1' width='800'/>\n",
        "<caption><center> **Figure 1**</center></caption><br>\n",
        "\n",
        "\n",
        "**Note** that for every forward function, there is a corresponding backward function. That is why at every step of your forward module you will be storing some values in a cache. The cached values are useful for computing gradients. In the backpropagation module you will then use the cache to calculate the gradients. This assignment will show you exactly how to carry out each of these steps. "
      ]
    },
    {
      "cell_type": "markdown",
      "metadata": {
        "id": "Jt5V15A8A0e4",
        "colab_type": "text"
      },
      "source": [
        "## 3 - Initialization"
      ]
    },
    {
      "cell_type": "markdown",
      "metadata": {
        "id": "JVlenTJlHylJ",
        "colab_type": "text"
      },
      "source": [
        "You will write two helper functions that will initialize the parameters for your model. The first function will be used to initialize parameters for a two layer model. The second one will generalize this initialization process to $L$ layers."
      ]
    },
    {
      "cell_type": "markdown",
      "metadata": {
        "id": "H11OyjP0H08I",
        "colab_type": "text"
      },
      "source": [
        "### 3.1 - 2-layer Neural Network"
      ]
    },
    {
      "cell_type": "markdown",
      "metadata": {
        "id": "8U8uyCP1H6hU",
        "colab_type": "text"
      },
      "source": [
        "**Exercise**: Create and initialize the parameters of the 2-layer neural network.\n",
        "\n",
        "**Instructions**:\n",
        "- The model's structure is: *LINEAR -> RELU -> LINEAR -> SIGMOID*. \n",
        "- Use random initialization for the weight matrices. Use `np.random.randn(shape)*0.01` with the correct shape.\n",
        "- Use zero initialization for the biases. Use `np.zeros(shape)`."
      ]
    },
    {
      "cell_type": "code",
      "metadata": {
        "id": "dhHnb60aIAxb",
        "colab_type": "code",
        "colab": {}
      },
      "source": [
        "# FUNCTION: initialize_parameters\n",
        "def initialize_parameters(n_x, n_h, n_y):\n",
        "  '''\n",
        "  Argument:\n",
        "  n_x -- size of the input layer\n",
        "  n_h -- size of the hidden layer\n",
        "  n_y -- size of the output layer\n",
        "  \n",
        "  Returns:\n",
        "  parameters -- python dictionary containing your parameters:\n",
        "                  W1 -- weight matrix of shape (n_h, n_x)\n",
        "                  b1 -- bias vector of shape (n_h, 1)\n",
        "                  W2 -- weight matrix of shape (n_y, n_h)\n",
        "                  b2 -- bias vector of shape (n_y, 1)\n",
        "  '''\n",
        "  np.random.seed(1)\n",
        "\n",
        "  ### START CODE HERE ### (≈ 4 lines of code)\n",
        "  W1 = np.random.randn(n_h, n_x).astype('float32') * 0.01\n",
        "  b1 = np.zeros((n_h, 1), dtype=np.float32)\n",
        "  W2 = np.random.randn(n_y, n_h).astype('float32') * 0.01\n",
        "  b2 = np.zeros((n_y, 1), dtype=np.float32)\n",
        "  ### END CODE HERE ###\n",
        "\n",
        "  assert(W1.shape == (n_h, n_x))\n",
        "  assert(b1.shape == (n_h, 1))\n",
        "  assert(W2.shape == (n_y, n_h))\n",
        "  assert(b2.shape == (n_y, 1))\n",
        "\n",
        "  parameters = {\n",
        "      'W1': W1,\n",
        "      'b1': b1,\n",
        "      'W2': W2,\n",
        "      'b2': b2\n",
        "  }\n",
        "\n",
        "  return parameters"
      ],
      "execution_count": 0,
      "outputs": []
    },
    {
      "cell_type": "code",
      "metadata": {
        "id": "jjr0zDstKRND",
        "colab_type": "code",
        "outputId": "69303853-ea82-40be-d176-03da7e38be98",
        "colab": {
          "base_uri": "https://localhost:8080/",
          "height": 124
        }
      },
      "source": [
        "parameters = initialize_parameters(3, 2, 1)\n",
        "print(f'W1 = {str(parameters[\"W1\"])}')\n",
        "print(f'b1 = {str(parameters[\"b1\"])}')\n",
        "print(f'W2 = {str(parameters[\"W2\"])}')\n",
        "print(f'b2 = {str(parameters[\"b2\"])}')"
      ],
      "execution_count": 0,
      "outputs": [
        {
          "output_type": "stream",
          "text": [
            "W1 = [[ 0.01624345 -0.00611756 -0.00528172]\n",
            " [-0.01072969  0.00865408 -0.02301539]]\n",
            "b1 = [[0.]\n",
            " [0.]]\n",
            "W2 = [[ 0.01744812 -0.00761207]]\n",
            "b2 = [[0.]]\n"
          ],
          "name": "stdout"
        }
      ]
    },
    {
      "cell_type": "markdown",
      "metadata": {
        "id": "7JBr6PT1Ksfz",
        "colab_type": "text"
      },
      "source": [
        "**Expected output**:\n",
        "       \n",
        "<table style=\"width:80%\">\n",
        "  <tr>\n",
        "    <td> **W1** </td>\n",
        "    <td> [[ 0.01624345 -0.00611756 -0.00528172]\n",
        " [-0.01072969  0.00865408 -0.02301539]] </td> \n",
        "  </tr>\n",
        "\n",
        "  <tr>\n",
        "    <td> **b1**</td>\n",
        "    <td>[[ 0.]\n",
        " [ 0.]]</td> \n",
        "  </tr>\n",
        "  \n",
        "  <tr>\n",
        "    <td>**W2**</td>\n",
        "    <td> [[ 0.01744812 -0.00761207]]</td>\n",
        "  </tr>\n",
        "  \n",
        "  <tr>\n",
        "    <td> **b2** </td>\n",
        "    <td> [[ 0.]] </td> \n",
        "  </tr>\n",
        "  \n",
        "</table>"
      ]
    },
    {
      "cell_type": "markdown",
      "metadata": {
        "id": "ic3eQd5-MYLD",
        "colab_type": "text"
      },
      "source": [
        "### 3.2 - L-layer Neural Network"
      ]
    },
    {
      "cell_type": "markdown",
      "metadata": {
        "id": "fvXeMw6hMYxu",
        "colab_type": "text"
      },
      "source": [
        "The initialization for a deeper L-layer neural network is more complicated because there are many more weight matrices and bias vectors. When completing the `initialize_parameters_deep`, you should make sure that your dimensions match between each layer. Recall that $n^{[l]}$ is the number of units in layer $l$. Thus for example if the size of our input $X$ is $(12288, 209)$ (with $m=209$ examples) then:\n",
        "\n",
        "<table style=\"width:100%\">\n",
        "    <tr>\n",
        "        <td>  </td> \n",
        "        <td> **Shape of W** </td> \n",
        "        <td> **Shape of b**  </td> \n",
        "        <td> **Activation** </td>\n",
        "        <td> **Shape of Activation** </td> \n",
        "    <tr>\n",
        "    <tr>\n",
        "        <td> **Layer 1** </td> \n",
        "        <td> $(n^{[1]},12288)$ </td> \n",
        "        <td> $(n^{[1]},1)$ </td> \n",
        "        <td> $Z^{[1]} = W^{[1]}  X + b^{[1]} $ </td> \n",
        "        <td> $(n^{[1]},209)$ </td> \n",
        "    <tr>\n",
        "    <tr>\n",
        "        <td> **Layer 2** </td> \n",
        "        <td> $(n^{[2]}, n^{[1]})$  </td> \n",
        "        <td> $(n^{[2]},1)$ </td> \n",
        "        <td>$Z^{[2]} = W^{[2]} A^{[1]} + b^{[2]}$ </td> \n",
        "        <td> $(n^{[2]}, 209)$ </td> \n",
        "    <tr>\n",
        "    <tr>\n",
        "        <td> $\\vdots$ </td> \n",
        "        <td> $\\vdots$  </td> \n",
        "        <td> $\\vdots$  </td> \n",
        "        <td> $\\vdots$</td> \n",
        "        <td> $\\vdots$  </td> \n",
        "    <tr>\n",
        "   <tr>\n",
        "        <td> **Layer L-1** </td> \n",
        "        <td> $(n^{[L-1]}, n^{[L-2]})$ </td> \n",
        "        <td> $(n^{[L-1]}, 1)$  </td> \n",
        "        <td>$Z^{[L-1]} =  W^{[L-1]} A^{[L-2]} + b^{[L-1]}$ </td> \n",
        "        <td> $(n^{[L-1]}, 209)$ </td> \n",
        "    <tr>  \n",
        "   <tr>\n",
        "        <td> **Layer L** </td> \n",
        "        <td> $(n^{[L]}, n^{[L-1]})$ </td> \n",
        "        <td> $(n^{[L]}, 1)$ </td>\n",
        "        <td> $Z^{[L]} =  W^{[L]} A^{[L-1]} + b^{[L]}$</td>\n",
        "        <td> $(n^{[L]}, 209)$  </td> \n",
        "    <tr>\n",
        "\n",
        "</table>\n",
        "\n",
        "Remember that when we compute $W X + b$ in python, it carries out broadcasting. For example, if: \n",
        "\n",
        "$$ W = \\begin{bmatrix}\n",
        "    j  & k  & l\\\\\n",
        "    m  & n & o \\\\\n",
        "    p  & q & r \n",
        "\\end{bmatrix}\\;\\;\\; X = \\begin{bmatrix}\n",
        "    a  & b  & c\\\\\n",
        "    d  & e & f \\\\\n",
        "    g  & h & i \n",
        "\\end{bmatrix} \\;\\;\\; b =\\begin{bmatrix}\n",
        "    s  \\\\\n",
        "    t  \\\\\n",
        "    u\n",
        "\\end{bmatrix}\\tag{2}$$\n",
        "\n",
        "Then $WX + b$ will be:\n",
        "\n",
        "$$ WX + b = \\begin{bmatrix}\n",
        "    (ja + kd + lg) + s  & (jb + ke + lh) + s  & (jc + kf + li)+ s\\\\\n",
        "    (ma + nd + og) + t & (mb + ne + oh) + t & (mc + nf + oi) + t\\\\\n",
        "    (pa + qd + rg) + u & (pb + qe + rh) + u & (pc + qf + ri)+ u\n",
        "\\end{bmatrix}\\tag{3}  $$"
      ]
    },
    {
      "cell_type": "markdown",
      "metadata": {
        "id": "sHkwkCfuNIE0",
        "colab_type": "text"
      },
      "source": [
        "**Exercise**: Implement initialization for an L-layer Neural Network. \n",
        "\n",
        "**Instructions**:\n",
        "- The model's structure is *[LINEAR -> RELU] $ \\times$ (L-1) -> LINEAR -> SIGMOID*. I.e., it has $L-1$ layers using a ReLU activation function followed by an output layer with a sigmoid activation function.\n",
        "- Use random initialization for the weight matrices. Use `np.random.randn(shape) * 0.01`.\n",
        "- Use zeros initialization for the biases. Use `np.zeros(shape)`.\n",
        "- We will store $n^{[l]}$, the number of units in different layers, in a variable `layer_dims`. For example, the `layer_dims` for the \"Planar Data classification model\" from last week would have been [2,4,1]: There were two inputs, one hidden layer with 4 hidden units, and an output layer with 1 output unit. This means `W1`'s shape was (4,2), `b1` was (4,1), `W2` was (1,4) and `b2` was (1,1). Now you will generalize this to $L$ layers! \n",
        "- Here is the implementation for $L=1$ (one layer neural network). It should inspire you to implement the general case (L-layer neural network).\n",
        "```python\n",
        "    if L == 1:\n",
        "        parameters[\"W\" + str(L)] = np.random.randn(layer_dims[1], layer_dims[0]) * 0.01\n",
        "        parameters[\"b\" + str(L)] = np.zeros((layer_dims[1], 1))\n",
        "```"
      ]
    },
    {
      "cell_type": "code",
      "metadata": {
        "id": "pa66BA-XKnQJ",
        "colab_type": "code",
        "colab": {}
      },
      "source": [
        "# FUNCTION: initialize_parameters_deep\n",
        "def initialize_parameters_deep(layer_dims):\n",
        "  '''\n",
        "  Arguments:\n",
        "  layer_dims -- python array (list) containing the dimensions of each layer in our network\n",
        "  \n",
        "  Returns:\n",
        "  parameters -- python dictionary containing your parameters \"W1\", \"b1\", ..., \"WL\", \"bL\":\n",
        "                  Wl -- weight matrix of shape (layer_dims[l], layer_dims[l-1])\n",
        "                  bl -- bias vector of shape (layer_dims[l], 1)\n",
        "  '''\n",
        "  np.random.seed(3)\n",
        "\n",
        "  parameters = {}\n",
        "  L = len(layer_dims)      # number of layers in the network\n",
        "\n",
        "  for layer in range(1, L):\n",
        "    ### START CODE HERE ### (≈ 2 lines of code)\n",
        "    parameters[f'W{str(layer)}'] = np.random.randn(layer_dims[layer], layer_dims[layer - 1]).astype('float32') * 0.01\n",
        "    parameters[f'b{str(layer)}'] = np.zeros((layer_dims[layer], 1), dtype=np.float32)\n",
        "    ### END CODE HERE ###\n",
        "\n",
        "    assert(parameters[f'W{str(layer)}'].shape == (layer_dims[layer], layer_dims[layer - 1]))\n",
        "    assert(parameters[f'b{str(layer)}'].shape == (layer_dims[layer], 1))\n",
        "\n",
        "  return parameters"
      ],
      "execution_count": 0,
      "outputs": []
    },
    {
      "cell_type": "code",
      "metadata": {
        "id": "2TqO-WV0TQ8Y",
        "colab_type": "code",
        "outputId": "fdee004c-30ed-4764-f514-781fec4cdef3",
        "colab": {
          "base_uri": "https://localhost:8080/",
          "height": 266
        }
      },
      "source": [
        "parameters = initialize_parameters_deep([5, 4, 3])\n",
        "\n",
        "print(f'W1 = {str(parameters[\"W1\"])}')\n",
        "print(f'b1 = {str(parameters[\"b1\"])}')\n",
        "print(f'W2 = {str(parameters[\"W2\"])}')\n",
        "print(f'b2 = {str(parameters[\"b2\"])}')"
      ],
      "execution_count": 0,
      "outputs": [
        {
          "output_type": "stream",
          "text": [
            "W1 = [[ 0.01788628  0.0043651   0.00096497 -0.01863493 -0.00277388]\n",
            " [-0.00354759 -0.00082741 -0.00627001 -0.00043818 -0.00477218]\n",
            " [-0.01313865  0.00884622  0.00881318  0.01709573  0.00050034]\n",
            " [-0.00404677 -0.0054536  -0.01546477  0.00982367 -0.01101068]]\n",
            "b1 = [[0.]\n",
            " [0.]\n",
            " [0.]\n",
            " [0.]]\n",
            "W2 = [[-0.01185047 -0.0020565   0.01486148  0.00236716]\n",
            " [-0.01023785 -0.00712993  0.00625245 -0.00160513]\n",
            " [-0.00768836 -0.00230031  0.00745056  0.01976111]]\n",
            "b2 = [[0.]\n",
            " [0.]\n",
            " [0.]]\n"
          ],
          "name": "stdout"
        }
      ]
    },
    {
      "cell_type": "markdown",
      "metadata": {
        "id": "yQTcn70QUCLw",
        "colab_type": "text"
      },
      "source": [
        "**Expected output**:\n",
        "       \n",
        "<table style=\"width:80%\">\n",
        "  <tr>\n",
        "    <td> **W1** </td>\n",
        "    <td>[[ 0.01788628  0.0043651   0.00096497 -0.01863493 -0.00277388]\n",
        " [-0.00354759 -0.00082741 -0.00627001 -0.00043818 -0.00477218]\n",
        " [-0.01313865  0.00884622  0.00881318  0.01709573  0.00050034]\n",
        " [-0.00404677 -0.0054536  -0.01546477  0.00982367 -0.01101068]]</td> \n",
        "  </tr>\n",
        "  \n",
        "  <tr>\n",
        "    <td>**b1** </td>\n",
        "    <td>[[ 0.]\n",
        " [ 0.]\n",
        " [ 0.]\n",
        " [ 0.]]</td> \n",
        "  </tr>\n",
        "  \n",
        "  <tr>\n",
        "    <td>**W2** </td>\n",
        "    <td>[[-0.01185047 -0.0020565   0.01486148  0.00236716]\n",
        " [-0.01023785 -0.00712993  0.00625245 -0.00160513]\n",
        " [-0.00768836 -0.00230031  0.00745056  0.01976111]]</td> \n",
        "  </tr>\n",
        "  \n",
        "  <tr>\n",
        "    <td>**b2** </td>\n",
        "    <td>[[ 0.]\n",
        " [ 0.]\n",
        " [ 0.]]</td> \n",
        "  </tr>\n",
        "  \n",
        "</table>"
      ]
    },
    {
      "cell_type": "markdown",
      "metadata": {
        "id": "vDHlQX8OUREm",
        "colab_type": "text"
      },
      "source": [
        "## 4 - Forward propagation module"
      ]
    },
    {
      "cell_type": "markdown",
      "metadata": {
        "id": "_OhocY2TURtY",
        "colab_type": "text"
      },
      "source": [
        "### 4.1 - Linear Forward"
      ]
    },
    {
      "cell_type": "markdown",
      "metadata": {
        "id": "O_pg8CCiUT01",
        "colab_type": "text"
      },
      "source": [
        "Now that you have initialized your parameters, you will do the forward propagation module. You will start by implementing some basic functions that you will use later when implementing the model. You will complete three functions in this order:\n",
        "\n",
        "- LINEAR\n",
        "- LINEAR -> ACTIVATION where ACTIVATION will be either ReLU or Sigmoid. \n",
        "- [LINEAR -> RELU] $\\times$ (L-1) -> LINEAR -> SIGMOID (whole model)\n",
        "\n",
        "The linear forward module (vectorized over all the examples) computes the following equations:\n",
        "\n",
        "$$Z^{[l]} = W^{[l]}A^{[l-1]} +b^{[l]}\\tag{4}$$\n",
        "\n",
        "where $A^{[0]} = X$. \n",
        "\n",
        "**Exercise**: Build the linear part of forward propagation.\n",
        "\n",
        "**Reminder**:\n",
        "The mathematical representation of this unit is $Z^{[l]} = W^{[l]}A^{[l-1]} +b^{[l]}$. You may also find `np.dot()` useful. If your dimensions don't match, printing `W.shape` may help."
      ]
    },
    {
      "cell_type": "code",
      "metadata": {
        "id": "qBh9v2KITwG2",
        "colab_type": "code",
        "colab": {}
      },
      "source": [
        "# FUNCTION: linear_forward\n",
        "def linear_forward(A, W, b):\n",
        "  '''\n",
        "  Implement the linear part of a layer's forward propagation.\n",
        "\n",
        "  Arguments:\n",
        "  A -- activations from previous layer (or input data): (size of previous layer, number of examples)\n",
        "  W -- weights matrix: numpy array of shape (size of current layer, size of previous layer)\n",
        "  b -- bias vector, numpy array of shape (size of the current layer, 1)\n",
        "\n",
        "  Returns:\n",
        "  Z -- the input of the activation function, also called pre-activation parameter \n",
        "  cache -- a python tuple containing \"A\", \"W\" and \"b\" ; stored for computing the backward pass efficiently\n",
        "  '''\n",
        "\n",
        "  ### START CODE HERE ### (≈ 1 line of code)\n",
        "  Z = np.dot(W, A) + b\n",
        "  ### END CODE HERE ###\n",
        "\n",
        "  assert(Z.shape == (W.shape[0], A.shape[1]))\n",
        "  cache = (A, W, b)\n",
        "\n",
        "  return Z, cache"
      ],
      "execution_count": 0,
      "outputs": []
    },
    {
      "cell_type": "code",
      "metadata": {
        "id": "zluPrILBpMrR",
        "colab_type": "code",
        "outputId": "1158d17f-c54a-4a04-c423-5c4d6a72f26c",
        "colab": {
          "base_uri": "https://localhost:8080/",
          "height": 35
        }
      },
      "source": [
        "A, W, b = linear_forward_test_case()\n",
        "\n",
        "Z, linear_cache = linear_forward(A, W, b)\n",
        "print(f'Z = {str(Z)}')"
      ],
      "execution_count": 0,
      "outputs": [
        {
          "output_type": "stream",
          "text": [
            "Z = [[ 3.26295337 -1.23429987]]\n"
          ],
          "name": "stdout"
        }
      ]
    },
    {
      "cell_type": "markdown",
      "metadata": {
        "id": "9vvhEpvppoZM",
        "colab_type": "text"
      },
      "source": [
        "**Expected output**:\n",
        "\n",
        "<table style=\"width:35%\">\n",
        "  \n",
        "  <tr>\n",
        "    <td> **Z** </td>\n",
        "    <td> [[ 3.26295337 -1.23429987]] </td> \n",
        "  </tr>\n",
        "  \n",
        "</table>"
      ]
    },
    {
      "cell_type": "markdown",
      "metadata": {
        "id": "ed2Ql9F1p5i1",
        "colab_type": "text"
      },
      "source": [
        "### 4.2 - Linear-Activation Forward"
      ]
    },
    {
      "cell_type": "markdown",
      "metadata": {
        "id": "dl06MtW-p6vG",
        "colab_type": "text"
      },
      "source": [
        "In this notebook, you will use two activation functions:\n",
        "\n",
        "- **Sigmoid**: $\\sigma(Z) = \\sigma(W A + b) = \\frac{1}{ 1 + e^{-(W A + b)}}$. We have provided you with the `sigmoid` function. This function returns **two** items: the activation value \"`a`\" and a \"`cache`\" that contains \"`Z`\" (it's what we will feed in to the corresponding backward function). To use it you could just call: \n",
        "``` python\n",
        "A, activation_cache = sigmoid(Z)\n",
        "```\n",
        "\n",
        "- **ReLU**: The mathematical formula for ReLu is $A = RELU(Z) = max(0, Z)$. We have provided you with the `relu` function. This function returns **two** items: the activation value \"`A`\" and a \"`cache`\" that contains \"`Z`\" (it's what we will feed in to the corresponding backward function). To use it you could just call:\n",
        "``` python\n",
        "A, activation_cache = relu(Z)\n",
        "```"
      ]
    },
    {
      "cell_type": "markdown",
      "metadata": {
        "id": "12x0YCifqcpj",
        "colab_type": "text"
      },
      "source": [
        "For more convenience, you are going to group two functions (Linear and Activation) into one function (LINEAR->ACTIVATION). Hence, you will implement a function that does the LINEAR forward step followed by an ACTIVATION forward step.\n",
        "\n",
        "**Exercise**: Implement the forward propagation of the *LINEAR->ACTIVATION* layer. Mathematical relation is: $A^{[l]} = g(Z^{[l]}) = g(W^{[l]}A^{[l-1]} +b^{[l]})$ where the activation \"g\" can be sigmoid() or relu(). Use linear_forward() and the correct activation function."
      ]
    },
    {
      "cell_type": "code",
      "metadata": {
        "id": "mGoiShnppf9t",
        "colab_type": "code",
        "colab": {}
      },
      "source": [
        "# FUNCTION: linear_activation_forward\n",
        "def linear_activation_forward(A_prev, W, b, activation):\n",
        "  '''\n",
        "  Implement the forward propagation for the LINEAR->ACTIVATION layer\n",
        "\n",
        "  Arguments:\n",
        "  A_prev -- activations from previous layer (or input data): (size of previous layer, number of examples)\n",
        "  W -- weights matrix: numpy array of shape (size of current layer, size of previous layer)\n",
        "  b -- bias vector, numpy array of shape (size of the current layer, 1)\n",
        "  activation -- the activation to be used in this layer, stored as a text string: \"sigmoid\" or \"relu\"\n",
        "\n",
        "  Returns:\n",
        "  A -- the output of the activation function, also called the post-activation value \n",
        "  cache -- a python tuple containing \"linear_cache\" and \"activation_cache\";\n",
        "            stored for computing the backward pass efficiently\n",
        "  ''' \n",
        "\n",
        "  if activation == 'sigmoid':\n",
        "    # Inputs: \"A_prev, W, b\". Outputs: \"A, activation_cache\".\n",
        "    ### START CODE HERE ### (≈ 2 lines of code)\n",
        "    Z, linear_cache = linear_forward(A_prev, W, b)\n",
        "    A, activation_cache = sigmoid(Z)\n",
        "    ### END CODE HERE ### \n",
        "  elif activation == 'relu':\n",
        "    # Inputs: \"A_prev, W, b\". Outputs: \"A, activation_cache\".\n",
        "    ### START CODE HERE ### (≈ 2 lines of code)\n",
        "    Z, linear_cache = linear_forward(A_prev, W, b)\n",
        "    A, activation_cache = relu(Z)\n",
        "    ### END CODE HERE ###\n",
        "\n",
        "  assert(A.shape == (W.shape[0], A_prev.shape[1]))\n",
        "  cache = (linear_cache, activation_cache)\n",
        "\n",
        "  return A, cache"
      ],
      "execution_count": 0,
      "outputs": []
    },
    {
      "cell_type": "code",
      "metadata": {
        "id": "uk1JLD2qsJ1b",
        "colab_type": "code",
        "outputId": "77dd2a92-b376-421f-c682-6b0bae4766ca",
        "colab": {
          "base_uri": "https://localhost:8080/",
          "height": 52
        }
      },
      "source": [
        "A_prev, W, b = linear_activation_forward_test_case()\n",
        "\n",
        "A, linear_activation_cache = linear_activation_forward(A_prev, W, b, activation='sigmoid')\n",
        "print(f'With sigmoid: A = {str(A)}')\n",
        "\n",
        "A, linear_activation_cache = linear_activation_forward(A_prev, W, b, activation='relu')\n",
        "print(f'With ReLU: A = {str(A)}')"
      ],
      "execution_count": 0,
      "outputs": [
        {
          "output_type": "stream",
          "text": [
            "With sigmoid: A = [[0.96890023 0.11013289]]\n",
            "With ReLU: A = [[3.43896131 0.        ]]\n"
          ],
          "name": "stdout"
        }
      ]
    },
    {
      "cell_type": "markdown",
      "metadata": {
        "id": "xDjMhk4zsy68",
        "colab_type": "text"
      },
      "source": [
        "**Expected output**:\n",
        "       \n",
        "<table style=\"width:35%\">\n",
        "  <tr>\n",
        "    <td> **With sigmoid: A** </td>\n",
        "    <td > [[ 0.96890023  0.11013289]]</td> \n",
        "  </tr>\n",
        "  <tr>\n",
        "    <td> **With ReLU: A** </td>\n",
        "    <td > [[ 3.43896131  0.        ]]</td> \n",
        "  </tr>\n",
        "</table>\n"
      ]
    },
    {
      "cell_type": "markdown",
      "metadata": {
        "id": "3Rj8ugk3s0Ql",
        "colab_type": "text"
      },
      "source": [
        "**Note**: In deep learning, the \"[LINEAR->ACTIVATION]\" computation is counted as a single layer in the neural network, not two layers. "
      ]
    },
    {
      "cell_type": "markdown",
      "metadata": {
        "id": "Df761_7ftduD",
        "colab_type": "text"
      },
      "source": [
        "### d) L-Layer Model"
      ]
    },
    {
      "cell_type": "markdown",
      "metadata": {
        "id": "Quyt-EZStglS",
        "colab_type": "text"
      },
      "source": [
        "For even more convenience when implementing the $L$-layer Neural Net, you will need a function that replicates the previous one (`linear_activation_forward` with RELU) $L-1$ times, then follows that with one `linear_activation_forward` with SIGMOID.\n",
        "\n",
        "<img src='https://github.com/rahiakela/img-repo/blob/master/deep-learning-specialization/model_architecture_kiank.png?raw=1' width='800'/>\n",
        "\n",
        "<caption><center> **Figure 2** : *[LINEAR -> RELU] $\\times$ (L-1) -> LINEAR -> SIGMOID* model</center></caption><br>\n",
        "\n",
        "**Exercise**: Implement the forward propagation of the above model.\n",
        "\n",
        "**Instruction**: In the code below, the variable `AL` will denote $A^{[L]} = \\sigma(Z^{[L]}) = \\sigma(W^{[L]} A^{[L-1]} + b^{[L]})$. (This is sometimes also called `Yhat`, i.e., this is $\\hat{Y}$.) \n",
        "\n",
        "**Tips**:\n",
        "- Use the functions you had previously written \n",
        "- Use a for loop to replicate [LINEAR->RELU] (L-1) times\n",
        "- Don't forget to keep track of the caches in the \"caches\" list. To add a new value `c` to a `list`, you can use `list.append(c)`."
      ]
    },
    {
      "cell_type": "code",
      "metadata": {
        "id": "P5YOCqlAwioJ",
        "colab_type": "code",
        "outputId": "7aed235b-d97b-4663-95cf-0fb8434f1919",
        "colab": {
          "base_uri": "https://localhost:8080/",
          "height": 301
        }
      },
      "source": [
        "X, parameters = L_model_forward_test_case_2hidden()\n",
        "parameters"
      ],
      "execution_count": 0,
      "outputs": [
        {
          "output_type": "execute_result",
          "data": {
            "text/plain": [
              "{'W1': array([[ 0.35480861,  1.81259031, -1.3564758 , -0.46363197,  0.82465384],\n",
              "        [-1.17643148,  1.56448966,  0.71270509, -0.1810066 ,  0.53419953],\n",
              "        [-0.58661296, -1.48185327,  0.85724762,  0.94309899,  0.11444143],\n",
              "        [-0.02195668, -2.12714455, -0.83440747, -0.46550831,  0.23371059]]),\n",
              " 'W2': array([[-0.12673638, -1.36861282,  1.21848065, -0.85750144],\n",
              "        [-0.56147088, -1.0335199 ,  0.35877096,  1.07368134],\n",
              "        [-0.37550472,  0.39636757, -0.47144628,  2.33660781]]),\n",
              " 'W3': array([[ 0.9398248 ,  0.42628539, -0.75815703]]),\n",
              " 'b1': array([[ 1.38503523],\n",
              "        [-0.51962709],\n",
              "        [-0.78015214],\n",
              "        [ 0.95560959]]),\n",
              " 'b2': array([[ 1.50278553],\n",
              "        [-0.59545972],\n",
              "        [ 0.52834106]]),\n",
              " 'b3': array([[-0.16236698]])}"
            ]
          },
          "metadata": {
            "tags": []
          },
          "execution_count": 10
        }
      ]
    },
    {
      "cell_type": "code",
      "metadata": {
        "id": "r9ZbMgI82QDX",
        "colab_type": "code",
        "outputId": "83a0db2d-ed5c-4d41-b968-08060e7ff2d1",
        "colab": {
          "base_uri": "https://localhost:8080/",
          "height": 88
        }
      },
      "source": [
        "parameters[f'b{str(1)}']"
      ],
      "execution_count": 0,
      "outputs": [
        {
          "output_type": "execute_result",
          "data": {
            "text/plain": [
              "array([[ 1.38503523],\n",
              "       [-0.51962709],\n",
              "       [-0.78015214],\n",
              "       [ 0.95560959]])"
            ]
          },
          "metadata": {
            "tags": []
          },
          "execution_count": 11
        }
      ]
    },
    {
      "cell_type": "code",
      "metadata": {
        "id": "4sTxaeVwstJr",
        "colab_type": "code",
        "colab": {}
      },
      "source": [
        "# FUNCTION: L_model_forward\n",
        "def L_model_forward(X, parameters):\n",
        "  '''\n",
        "  Implement forward propagation for the [LINEAR->RELU]*(L-1)->LINEAR->SIGMOID computation\n",
        "    \n",
        "  Arguments:\n",
        "  X -- data, numpy array of shape (input size, number of examples)\n",
        "  parameters -- output of initialize_parameters_deep()\n",
        "  \n",
        "  Returns:\n",
        "  AL -- last post-activation value\n",
        "  caches -- list of caches containing: every cache of linear_activation_forward() (there are L-1 of them, indexed from 0 to L-1)\n",
        "  '''\n",
        "\n",
        "  caches = []\n",
        "  A = X\n",
        "  L = len(parameters) // 2      # number of layers in the neural network\n",
        "  # print(f'Layer size = {str(L)}')\n",
        "\n",
        "  # Implement [LINEAR -> RELU]*(L-1). Add \"cache\" to the \"caches\" list.\n",
        "  for layer in range(1, L):\n",
        "    A_prev = A\n",
        "    ### START CODE HERE ### (≈ 2 lines of code)\n",
        "    A, cache = linear_activation_forward(A_prev, parameters[f'W{str(layer)}'], parameters[f'b{str(layer)}'], activation='relu')\n",
        "    caches.append(cache)\n",
        "    ### END CODE HERE ###\n",
        "\n",
        "  # Implement LINEAR -> SIGMOID. Add \"cache\" to the \"caches\" list.\n",
        "  ### START CODE HERE ### (≈ 2 lines of code)\n",
        "  AL, cache = linear_activation_forward(A, parameters[f'W{str(L)}'], parameters[f'b{str(L)}'], activation='sigmoid')\n",
        "  caches.append(cache)\n",
        "  ### END CODE HERE ###\n",
        "\n",
        "  assert(AL.shape == (1, X.shape[1]))\n",
        "\n",
        "  return AL, cache"
      ],
      "execution_count": 0,
      "outputs": []
    },
    {
      "cell_type": "code",
      "metadata": {
        "id": "BqzAHslo0IHt",
        "colab_type": "code",
        "outputId": "85250015-09b4-4b39-de1d-f1b71165c5f4",
        "colab": {
          "base_uri": "https://localhost:8080/",
          "height": 52
        }
      },
      "source": [
        "X, parameters = L_model_forward_test_case_2hidden()\n",
        "\n",
        "AL, cache = L_model_forward(X, parameters)\n",
        "print(f'AL = {str(AL)}')\n",
        "print(f'Length of caches list = {str(len(cache))}')"
      ],
      "execution_count": 0,
      "outputs": [
        {
          "output_type": "stream",
          "text": [
            "AL = [[0.03921668 0.70498921 0.19734387 0.04728177]]\n",
            "Length of caches list = 2\n"
          ],
          "name": "stdout"
        }
      ]
    },
    {
      "cell_type": "markdown",
      "metadata": {
        "id": "Eu7FU_Z47EJA",
        "colab_type": "text"
      },
      "source": [
        "Great! Now you have a full forward propagation that takes the input X and outputs a row vector $A^{[L]}$ containing your predictions. It also records all intermediate values in \"caches\". Using $A^{[L]}$, you can compute the cost of your predictions."
      ]
    },
    {
      "cell_type": "markdown",
      "metadata": {
        "id": "4YcR2dGH6eNT",
        "colab_type": "text"
      },
      "source": [
        "<table style=\"width:50%\">\n",
        "  <tr>\n",
        "    <td> **AL** </td>\n",
        "    <td > [[ 0.03921668  0.70498921  0.19734387  0.04728177]]</td> \n",
        "  </tr>\n",
        "  <tr>\n",
        "    <td> **Length of caches list ** </td>\n",
        "    <td > 3 </td> \n",
        "  </tr>\n",
        "</table>"
      ]
    },
    {
      "cell_type": "markdown",
      "metadata": {
        "id": "ivdZTmDg7SL9",
        "colab_type": "text"
      },
      "source": [
        "## 5 - Cost function"
      ]
    },
    {
      "cell_type": "markdown",
      "metadata": {
        "id": "u0BxrW5T7St-",
        "colab_type": "text"
      },
      "source": [
        "Now you will implement forward and backward propagation. You need to compute the cost, because you want to check if your model is actually learning.\n",
        "\n",
        "**Exercise**: Compute the cross-entropy cost $J$, using the following formula: $$-\\frac{1}{m} \\sum\\limits_{i = 1}^{m} (y^{(i)}\\log\\left(a^{[L] (i)}\\right) + (1-y^{(i)})\\log\\left(1- a^{[L](i)}\\right)) \\tag{7}$$"
      ]
    },
    {
      "cell_type": "code",
      "metadata": {
        "id": "4swOKU0w0rLp",
        "colab_type": "code",
        "colab": {}
      },
      "source": [
        "# FUNCTION: compute_cost\n",
        "def compute_cost(AL, Y):\n",
        "  '''\n",
        "  Implement the cost function defined by equation (7).\n",
        "\n",
        "  Arguments:\n",
        "  AL -- probability vector corresponding to your label predictions, shape (1, number of examples)\n",
        "  Y -- true \"label\" vector (for example: containing 0 if non-cat, 1 if cat), shape (1, number of examples)\n",
        "\n",
        "  Returns:\n",
        "  cost -- cross-entropy cost\n",
        "  '''\n",
        "\n",
        "  m = Y.shape[1]\n",
        "\n",
        "  # Compute loss from aL and y.\n",
        "  ### START CODE HERE ### (≈ 1 lines of code)\n",
        "  cost = - (1 / m) * np.sum(Y * np.log(AL) + (1 - Y) * np.log(1 - AL))\n",
        "  ### END CODE HERE ###\n",
        "\n",
        "  cost = np.squeeze(cost)       # To make sure your cost's shape is what we expect (e.g. this turns [[17]] into 17).\n",
        "\n",
        "  assert(cost.shape == ())\n",
        "\n",
        "  return cost"
      ],
      "execution_count": 0,
      "outputs": []
    },
    {
      "cell_type": "code",
      "metadata": {
        "id": "S5Xhim0R8k0-",
        "colab_type": "code",
        "outputId": "30c6a6ba-33ed-43ae-ab44-1bf7ca9671a1",
        "colab": {
          "base_uri": "https://localhost:8080/",
          "height": 35
        }
      },
      "source": [
        "Y, AL = compute_cost_test_case()\n",
        "\n",
        "print(f'cost = {str(compute_cost(AL, Y))}')"
      ],
      "execution_count": 0,
      "outputs": [
        {
          "output_type": "stream",
          "text": [
            "cost = 0.2797765635793422\n"
          ],
          "name": "stdout"
        }
      ]
    },
    {
      "cell_type": "markdown",
      "metadata": {
        "id": "Wmb3aC-BgchA",
        "colab_type": "text"
      },
      "source": [
        "**Expected Output**:\n",
        "\n",
        "<table>\n",
        "    <tr>\n",
        "    <td>**cost** </td>\n",
        "    <td> 0.2797765635793422</td> \n",
        "    </tr>\n",
        "</table>"
      ]
    },
    {
      "cell_type": "markdown",
      "metadata": {
        "id": "knNxg7qdhTiS",
        "colab_type": "text"
      },
      "source": [
        "## 6 - Backward propagation module"
      ]
    },
    {
      "cell_type": "markdown",
      "metadata": {
        "id": "bHrhI6_RhUm_",
        "colab_type": "text"
      },
      "source": [
        "Just like with forward propagation, you will implement helper functions for backpropagation. Remember that back propagation is used to calculate the gradient of the loss function with respect to the parameters. \n",
        "\n",
        "**Reminder**: \n",
        "\n",
        "<img src='https://github.com/rahiakela/img-repo/blob/master/deep-learning-specialization/backprop_kiank.png?raw=1' width='800'/>\n",
        "\n",
        "<caption><center> **Figure 3** : Forward and Backward propagation for *LINEAR->RELU->LINEAR->SIGMOID* <br> *The purple blocks represent the forward propagation, and the red blocks represent the backward propagation.*  </center></caption>\n",
        "\n",
        "<!-- \n",
        "For those of you who are expert in calculus (you don't need to be to do this assignment), the chain rule of calculus can be used to derive the derivative of the loss $\\mathcal{L}$ with respect to $z^{[1]}$ in a 2-layer network as follows:\n",
        "\n",
        "$$\\frac{d \\mathcal{L}(a^{[2]},y)}{{dz^{[1]}}} = \\frac{d\\mathcal{L}(a^{[2]},y)}{{da^{[2]}}}\\frac{{da^{[2]}}}{{dz^{[2]}}}\\frac{{dz^{[2]}}}{{da^{[1]}}}\\frac{{da^{[1]}}}{{dz^{[1]}}} \\tag{8} $$\n",
        "\n",
        "In order to calculate the gradient $dW^{[1]} = \\frac{\\partial L}{\\partial W^{[1]}}$, you use the previous chain rule and you do $dW^{[1]} = dz^{[1]} \\times \\frac{\\partial z^{[1]} }{\\partial W^{[1]}}$. During the backpropagation, at each step you multiply your current gradient by the gradient corresponding to the specific layer to get the gradient you wanted.\n",
        "\n",
        "Equivalently, in order to calculate the gradient $db^{[1]} = \\frac{\\partial L}{\\partial b^{[1]}}$, you use the previous chain rule and you do $db^{[1]} = dz^{[1]} \\times \\frac{\\partial z^{[1]} }{\\partial b^{[1]}}$.\n",
        "\n",
        "This is why we talk about **backpropagation**.\n",
        "!-->\n",
        "\n",
        "Now, similar to forward propagation, you are going to build the backward propagation in three steps:\n",
        "- LINEAR backward\n",
        "- LINEAR -> ACTIVATION backward where ACTIVATION computes the derivative of either the ReLU or sigmoid activation\n",
        "- [LINEAR -> RELU] $\\times$ (L-1) -> LINEAR -> SIGMOID backward (whole model)"
      ]
    },
    {
      "cell_type": "markdown",
      "metadata": {
        "id": "c_2iceLOiAAy",
        "colab_type": "text"
      },
      "source": [
        "### 6.1 - Linear backward"
      ]
    },
    {
      "cell_type": "markdown",
      "metadata": {
        "id": "lDCUo823iAkJ",
        "colab_type": "text"
      },
      "source": [
        "For layer $l$, the linear part is: $Z^{[l]} = W^{[l]} A^{[l-1]} + b^{[l]}$ (followed by an activation).\n",
        "\n",
        "Suppose you have already calculated the derivative $dZ^{[l]} = \\frac{\\partial \\mathcal{L} }{\\partial Z^{[l]}}$. You want to get $(dW^{[l]}, db^{[l]}, dA^{[l-1]})$.\n",
        "\n",
        "<center><img src='https://github.com/rahiakela/img-repo/blob/master/deep-learning-specialization/linearback_kiank.png?raw=1' width='400'/></center>\n",
        "<caption><center> **Figure 4** </center></caption>\n",
        "\n",
        "The three outputs $(dW^{[l]}, db^{[l]}, dA^{[l-1]})$ are computed using the input $dZ^{[l]}$.Here are the formulas you need:\n",
        "$$ dW^{[l]} = \\frac{\\partial \\mathcal{J} }{\\partial W^{[l]}} = \\frac{1}{m} dZ^{[l]} A^{[l-1] T} \\tag{8}$$\n",
        "$$ db^{[l]} = \\frac{\\partial \\mathcal{J} }{\\partial b^{[l]}} = \\frac{1}{m} \\sum_{i = 1}^{m} dZ^{[l](i)}\\tag{9}$$\n",
        "$$ dA^{[l-1]} = \\frac{\\partial \\mathcal{L} }{\\partial A^{[l-1]}} = W^{[l] T} dZ^{[l]} \\tag{10}$$"
      ]
    },
    {
      "cell_type": "markdown",
      "metadata": {
        "id": "bJlTCxM6iXZR",
        "colab_type": "text"
      },
      "source": [
        "**Exercise**: Use the 3 formulas above to implement linear_backward()."
      ]
    },
    {
      "cell_type": "code",
      "metadata": {
        "id": "j2URNziUB_cw",
        "colab_type": "code",
        "outputId": "006037ff-7715-487d-9318-b5476260db5a",
        "colab": {
          "base_uri": "https://localhost:8080/",
          "height": 35
        }
      },
      "source": [
        "dZ, linear_cache = linear_backward_test_case()\n",
        "A_prev, W, b = linear_cache\n",
        "A_prev.shape"
      ],
      "execution_count": 0,
      "outputs": [
        {
          "output_type": "execute_result",
          "data": {
            "text/plain": [
              "(5, 4)"
            ]
          },
          "metadata": {
            "tags": []
          },
          "execution_count": 16
        }
      ]
    },
    {
      "cell_type": "code",
      "metadata": {
        "id": "VCxz7M3XCEdq",
        "colab_type": "code",
        "outputId": "5191cae1-7800-48ab-b192-98ef1f252c00",
        "colab": {
          "base_uri": "https://localhost:8080/",
          "height": 35
        }
      },
      "source": [
        "dZ.shape"
      ],
      "execution_count": 0,
      "outputs": [
        {
          "output_type": "execute_result",
          "data": {
            "text/plain": [
              "(3, 4)"
            ]
          },
          "metadata": {
            "tags": []
          },
          "execution_count": 17
        }
      ]
    },
    {
      "cell_type": "code",
      "metadata": {
        "id": "twoK4NqBCHhu",
        "colab_type": "code",
        "outputId": "6377e242-e724-4857-de40-1f67a06d134c",
        "colab": {
          "base_uri": "https://localhost:8080/",
          "height": 35
        }
      },
      "source": [
        "A_prev.T.shape"
      ],
      "execution_count": 0,
      "outputs": [
        {
          "output_type": "execute_result",
          "data": {
            "text/plain": [
              "(4, 5)"
            ]
          },
          "metadata": {
            "tags": []
          },
          "execution_count": 18
        }
      ]
    },
    {
      "cell_type": "code",
      "metadata": {
        "id": "_OGk0eWzCKnj",
        "colab_type": "code",
        "outputId": "065d55a9-f300-47cb-a9d8-6557426d5ea4",
        "colab": {
          "base_uri": "https://localhost:8080/",
          "height": 70
        }
      },
      "source": [
        "np.dot(dZ, A_prev.T)"
      ],
      "execution_count": 0,
      "outputs": [
        {
          "output_type": "execute_result",
          "data": {
            "text/plain": [
              "array([[ 0.29255465, -0.39068599, -3.50343314,  2.95053447,  0.03142864],\n",
              "       [ 3.42035273,  1.50121651, -2.39650621,  2.85112758, -2.35727231],\n",
              "       [ 3.91653216, -0.97505975, -0.35358682,  2.20604767, -0.4116363 ]])"
            ]
          },
          "metadata": {
            "tags": []
          },
          "execution_count": 19
        }
      ]
    },
    {
      "cell_type": "code",
      "metadata": {
        "id": "YeQ1YPO1CwEc",
        "colab_type": "code",
        "outputId": "ad9a91fc-5675-4c02-985a-5deee4d1ad76",
        "colab": {
          "base_uri": "https://localhost:8080/",
          "height": 35
        }
      },
      "source": [
        "b.shape"
      ],
      "execution_count": 0,
      "outputs": [
        {
          "output_type": "execute_result",
          "data": {
            "text/plain": [
              "(3, 1)"
            ]
          },
          "metadata": {
            "tags": []
          },
          "execution_count": 20
        }
      ]
    },
    {
      "cell_type": "code",
      "metadata": {
        "id": "wRXyXdjofwTB",
        "colab_type": "code",
        "colab": {}
      },
      "source": [
        "# FUNCTION: linear_backward\n",
        "def linear_backward(dZ, cache):\n",
        "  '''\n",
        "  Implement the linear portion of backward propagation for a single layer (layer l)\n",
        "\n",
        "  Arguments:\n",
        "  dZ -- Gradient of the cost with respect to the linear output (of current layer l)\n",
        "  cache -- tuple of values (A_prev, W, b) coming from the forward propagation in the current layer\n",
        "\n",
        "  Returns:\n",
        "  dA_prev -- Gradient of the cost with respect to the activation (of the previous layer l-1), same shape as A_prev\n",
        "  dW -- Gradient of the cost with respect to W (current layer l), same shape as W\n",
        "  db -- Gradient of the cost with respect to b (current layer l), same shape as b\n",
        "  '''\n",
        "\n",
        "  A_prev, W, b = cache\n",
        "  m = A_prev.shape[1]\n",
        "\n",
        "  ### START CODE HERE ### (≈ 3 lines of code)\n",
        "  dW = np.dot(dZ, A_prev.T) / m\n",
        "  db = np.sum(dZ, axis=1, keepdims=True) / m\n",
        "  dA_prev = np.dot(W.T, dZ)\n",
        "  ### END CODE HERE ###\n",
        "\n",
        "  assert(dA_prev.shape == A_prev.shape)\n",
        "  assert(dW.shape == W.shape)\n",
        "  assert(db.shape == b.shape)\n",
        "\n",
        "  return dA_prev, dW, db "
      ],
      "execution_count": 0,
      "outputs": []
    },
    {
      "cell_type": "code",
      "metadata": {
        "id": "ZAU6y6vo-zLB",
        "colab_type": "code",
        "outputId": "408cd03e-ad01-45e8-b9ad-60f49ee165d7",
        "colab": {
          "base_uri": "https://localhost:8080/",
          "height": 212
        }
      },
      "source": [
        "# Set up some test inputs\n",
        "dZ, linear_cache = linear_backward_test_case()\n",
        "\n",
        "dA_prev, dW, db = linear_backward(dZ, linear_cache)\n",
        "print(f'dA_prev = {str(dA_prev)}')\n",
        "print(f'dW = {str(dW)}')\n",
        "print(f'db = {str(db)}')"
      ],
      "execution_count": 0,
      "outputs": [
        {
          "output_type": "stream",
          "text": [
            "dA_prev = [[-1.15171336  0.06718465 -0.3204696   2.09812712]\n",
            " [ 0.60345879 -3.72508701  5.81700741 -3.84326836]\n",
            " [-0.4319552  -1.30987417  1.72354705  0.05070578]\n",
            " [-0.38981415  0.60811244 -1.25938424  1.47191593]\n",
            " [-2.52214926  2.67882552 -0.67947465  1.48119548]]\n",
            "dW = [[ 0.07313866 -0.0976715  -0.87585828  0.73763362  0.00785716]\n",
            " [ 0.85508818  0.37530413 -0.59912655  0.71278189 -0.58931808]\n",
            " [ 0.97913304 -0.24376494 -0.08839671  0.55151192 -0.10290907]]\n",
            "db = [[-0.14713786]\n",
            " [-0.11313155]\n",
            " [-0.13209101]]\n"
          ],
          "name": "stdout"
        }
      ]
    },
    {
      "cell_type": "markdown",
      "metadata": {
        "id": "njhOg9A7_zBp",
        "colab_type": "text"
      },
      "source": [
        "** Expected Output**:\n",
        "    \n",
        "```\n",
        "dA_prev = \n",
        " [[-1.15171336  0.06718465 -0.3204696   2.09812712]\n",
        " [ 0.60345879 -3.72508701  5.81700741 -3.84326836]\n",
        " [-0.4319552  -1.30987417  1.72354705  0.05070578]\n",
        " [-0.38981415  0.60811244 -1.25938424  1.47191593]\n",
        " [-2.52214926  2.67882552 -0.67947465  1.48119548]]\n",
        "dW = \n",
        " [[ 0.07313866 -0.0976715  -0.87585828  0.73763362  0.00785716]\n",
        " [ 0.85508818  0.37530413 -0.59912655  0.71278189 -0.58931808]\n",
        " [ 0.97913304 -0.24376494 -0.08839671  0.55151192 -0.10290907]]\n",
        "db = \n",
        " [[-0.14713786]\n",
        " [-0.11313155]\n",
        " [-0.13209101]]\n",
        "```"
      ]
    },
    {
      "cell_type": "markdown",
      "metadata": {
        "id": "cflYA3pJHCQu",
        "colab_type": "text"
      },
      "source": [
        "### 6.2 - Linear-Activation backward"
      ]
    },
    {
      "cell_type": "markdown",
      "metadata": {
        "id": "iY80PSXyHC8K",
        "colab_type": "text"
      },
      "source": [
        "Next, you will create a function that merges the two helper functions: **`linear_backward`** and the backward step for the activation **`linear_activation_backward`**. \n",
        "\n",
        "To help you implement `linear_activation_backward`, we provided two backward functions:\n",
        "- **`sigmoid_backward`**: Implements the backward propagation for SIGMOID unit. You can call it as follows:\n",
        "\n",
        "```python\n",
        "dZ = sigmoid_backward(dA, activation_cache)\n",
        "```\n",
        "\n",
        "- **`relu_backward`**: Implements the backward propagation for RELU unit. You can call it as follows:\n",
        "\n",
        "```python\n",
        "dZ = relu_backward(dA, activation_cache)\n",
        "```\n",
        "\n",
        "If $g(.)$ is the activation function, \n",
        "`sigmoid_backward` and `relu_backward` compute $$dZ^{[l]} = dA^{[l]} * g'(Z^{[l]}) \\tag{11}$$.  \n",
        "\n",
        "**Exercise**: Implement the backpropagation for the *LINEAR->ACTIVATION* layer."
      ]
    },
    {
      "cell_type": "code",
      "metadata": {
        "id": "sRJZZIkY_s_t",
        "colab_type": "code",
        "colab": {}
      },
      "source": [
        "# FUNCTION: linear_activation_backward\n",
        "def linear_activation_backward(dA, cache, activation):\n",
        "  '''\n",
        "  Implement the backward propagation for the LINEAR->ACTIVATION layer.\n",
        "    \n",
        "  Arguments:\n",
        "  dA -- post-activation gradient for current layer l \n",
        "  cache -- tuple of values (linear_cache, activation_cache) we store for computing backward propagation efficiently\n",
        "  activation -- the activation to be used in this layer, stored as a text string: \"sigmoid\" or \"relu\"\n",
        "  \n",
        "  Returns:\n",
        "  dA_prev -- Gradient of the cost with respect to the activation (of the previous layer l-1), same shape as A_prev\n",
        "  dW -- Gradient of the cost with respect to W (current layer l), same shape as W\n",
        "  db -- Gradient of the cost with respect to b (current layer l), same shape as b\n",
        "  '''\n",
        "\n",
        "  linear_cache, activation_cache = cache\n",
        "\n",
        "  if activation == 'relu':\n",
        "    ### START CODE HERE ### (≈ 2 lines of code)\n",
        "    dZ = relu_backward(dA, activation_cache)\n",
        "    dA_prev, dW, db = linear_backward(dZ, linear_cache)\n",
        "    ### END CODE HERE ###\n",
        "  elif activation == 'sigmoid':\n",
        "    ### START CODE HERE ### (≈ 2 lines of code)\n",
        "    dZ = sigmoid_backward(dA, activation_cache)\n",
        "    dA_prev, dW, db = linear_backward(dZ, linear_cache)\n",
        "    ### END CODE HERE ###\n",
        "\n",
        "  return dA_prev, dW, db"
      ],
      "execution_count": 0,
      "outputs": []
    },
    {
      "cell_type": "code",
      "metadata": {
        "id": "BmJQNbf2JvsO",
        "colab_type": "code",
        "outputId": "40dbdd2c-c7c3-44b7-f838-bab8361188c8",
        "colab": {
          "base_uri": "https://localhost:8080/",
          "height": 266
        }
      },
      "source": [
        "dAL, linear_activation_cache = linear_activation_backward_test_case()\n",
        "\n",
        "dA_prev, dW, db = linear_activation_backward(dAL, linear_activation_cache, activation='sigmoid')\n",
        "print('sigmoid:')\n",
        "print(f'dA_prev = {str(dA_prev)}')\n",
        "print(f'dW = {str(dW)}')\n",
        "print(f'db = {str(db)}\\n')\n",
        "\n",
        "dA_prev, dW, db = linear_activation_backward(dAL, linear_activation_cache, activation='relu')\n",
        "print('relu:')\n",
        "print(f'dA_prev = {str(dA_prev)}')\n",
        "print(f'dW = {str(dW)}')\n",
        "print(f'db = {str(db)}\\n')"
      ],
      "execution_count": 0,
      "outputs": [
        {
          "output_type": "stream",
          "text": [
            "sigmoid:\n",
            "dA_prev = [[ 0.11017994  0.01105339]\n",
            " [ 0.09466817  0.00949723]\n",
            " [-0.05743092 -0.00576154]]\n",
            "dW = [[ 0.10266786  0.09778551 -0.01968084]]\n",
            "db = [[-0.05729622]]\n",
            "\n",
            "relu:\n",
            "dA_prev = [[ 0.44090989  0.        ]\n",
            " [ 0.37883606  0.        ]\n",
            " [-0.2298228   0.        ]]\n",
            "dW = [[ 0.44513824  0.37371418 -0.10478989]]\n",
            "db = [[-0.20837892]]\n",
            "\n"
          ],
          "name": "stdout"
        }
      ]
    },
    {
      "cell_type": "markdown",
      "metadata": {
        "id": "T2lZgeskK3Ga",
        "colab_type": "text"
      },
      "source": [
        "**Expected output with sigmoid:**\n",
        "\n",
        "<table style=\"width:100%\">\n",
        "  <tr>\n",
        "    <td > dA_prev </td> \n",
        "           <td >[[ 0.11017994  0.01105339]\n",
        " [ 0.09466817  0.00949723]\n",
        " [-0.05743092 -0.00576154]] </td> \n",
        "  </tr> \n",
        "    <tr>\n",
        "    <td > dW </td> \n",
        "    <td > [[ 0.10266786  0.09778551 -0.01968084]] </td> \n",
        "  </tr> \n",
        "    <tr>\n",
        "    <td > db </td> \n",
        "    <td > [[-0.05729622]] </td> \n",
        "  </tr> \n",
        "</table>\n",
        "\n",
        "**Expected output with relu:**\n",
        "\n",
        "<table style=\"width:100%\">\n",
        "  <tr>\n",
        "    <td > dA_prev </td> \n",
        "           <td > [[ 0.44090989  0.        ]\n",
        " [ 0.37883606  0.        ]\n",
        " [-0.2298228   0.        ]] \n",
        " </td> \n",
        "  </tr> \n",
        "    <tr>\n",
        "    <td > dW </td> \n",
        "    <td > [[ 0.44513824  0.37371418 -0.10478989]] </td> \n",
        "  </tr> \n",
        "    <tr>\n",
        "    <td > db </td> \n",
        "    <td > [[-0.20837892]] </td> \n",
        "  </tr> \n",
        "</table>\n",
        "\n",
        "\n",
        "\n"
      ]
    },
    {
      "cell_type": "markdown",
      "metadata": {
        "id": "N_Sg1xTILXT9",
        "colab_type": "text"
      },
      "source": [
        "### 6.3 - L-Model Backward"
      ]
    },
    {
      "cell_type": "markdown",
      "metadata": {
        "id": "8j4iTpup_92y",
        "colab_type": "text"
      },
      "source": [
        "Now you will implement the backward function for the whole network. Recall that when you implemented the `L_model_forward` function, at each iteration, you stored a cache which contains (X,W,b, and z). In the back propagation module, you will use those variables to compute the gradients. Therefore, in the `L_model_backward` function, you will iterate through all the hidden layers backward, starting from layer $L$. On each step, you will use the cached values for layer $l$ to backpropagate through layer $l$. Figure 5 below shows the backward pass. \n",
        "\n",
        "<img src='https://github.com/rahiakela/img-repo/blob/master/deep-learning-specialization/mn_backward.png?raw=1' width='800'/>\n",
        "<caption><center>  **Figure 5** : Backward pass  </center></caption>\n",
        "\n",
        "** Initializing backpropagation**:\n",
        "To backpropagate through this network, we know that the output is, \n",
        "$A^{[L]} = \\sigma(Z^{[L]})$. Your code thus needs to compute `dAL` $= \\frac{\\partial \\mathcal{L}}{\\partial A^{[L]}}$.\n",
        "To do so, use this formula (derived using calculus which you don't need in-depth knowledge of):\n",
        "```python\n",
        "dAL = - (np.divide(Y, AL) - np.divide(1 - Y, 1 - AL)) # derivative of cost with respect to AL\n",
        "```\n",
        "\n",
        "You can then use this post-activation gradient `dAL` to keep going backward. As seen in Figure 5, you can now feed in `dAL` into the LINEAR->SIGMOID backward function you implemented (which will use the cached values stored by the L_model_forward function). After that, you will have to use a `for` loop to iterate through all the other layers using the LINEAR->RELU backward function. You should store each dA, dW, and db in the grads dictionary. To do so, use this formula : \n",
        "\n",
        "$$grads[\"dW\" + str(l)] = dW^{[l]}\\tag{15} $$\n",
        "\n",
        "For example, for $l=3$ this would store $dW^{[l]}$ in `grads[\"dW3\"]`.\n",
        "\n",
        "**Exercise**: Implement backpropagation for the *[LINEAR->RELU] $\\times$ (L-1) -> LINEAR -> SIGMOID* model."
      ]
    },
    {
      "cell_type": "code",
      "metadata": {
        "id": "ykAfvRPhHDSS",
        "colab_type": "code",
        "outputId": "84e6df77-76d3-41b3-d2bd-3ef933bda302",
        "colab": {
          "base_uri": "https://localhost:8080/",
          "height": 35
        }
      },
      "source": [
        "AL, Y_assess, caches = L_model_backward_test_case()\n",
        "AL"
      ],
      "execution_count": 0,
      "outputs": [
        {
          "output_type": "execute_result",
          "data": {
            "text/plain": [
              "array([[1.78862847, 0.43650985]])"
            ]
          },
          "metadata": {
            "tags": []
          },
          "execution_count": 25
        }
      ]
    },
    {
      "cell_type": "code",
      "metadata": {
        "id": "D6ocnl_NHSKt",
        "colab_type": "code",
        "outputId": "924097b8-16c8-4d90-90ef-ae3d075fc255",
        "colab": {
          "base_uri": "https://localhost:8080/",
          "height": 35
        }
      },
      "source": [
        "Y_assess"
      ],
      "execution_count": 0,
      "outputs": [
        {
          "output_type": "execute_result",
          "data": {
            "text/plain": [
              "array([[1, 0]])"
            ]
          },
          "metadata": {
            "tags": []
          },
          "execution_count": 26
        }
      ]
    },
    {
      "cell_type": "code",
      "metadata": {
        "id": "obfOVVYeHUoV",
        "colab_type": "code",
        "outputId": "3db7e58b-1a13-47e3-98a8-6da91a3de5a7",
        "colab": {
          "base_uri": "https://localhost:8080/",
          "height": 355
        }
      },
      "source": [
        "caches"
      ],
      "execution_count": 0,
      "outputs": [
        {
          "output_type": "execute_result",
          "data": {
            "text/plain": [
              "(((array([[ 0.09649747, -1.8634927 ],\n",
              "          [-0.2773882 , -0.35475898],\n",
              "          [-0.08274148, -0.62700068],\n",
              "          [-0.04381817, -0.47721803]]),\n",
              "   array([[-1.31386475,  0.88462238,  0.88131804,  1.70957306],\n",
              "          [ 0.05003364, -0.40467741, -0.54535995, -1.54647732],\n",
              "          [ 0.98236743, -1.10106763, -1.18504653, -0.2056499 ]]),\n",
              "   array([[ 1.48614836],\n",
              "          [ 0.23671627],\n",
              "          [-1.02378514]])),\n",
              "  array([[-0.7129932 ,  0.62524497],\n",
              "         [-0.16051336, -0.76883635],\n",
              "         [-0.23003072,  0.74505627]])),\n",
              " ((array([[ 1.97611078, -1.24412333],\n",
              "          [-0.62641691, -0.80376609],\n",
              "          [-2.41908317, -0.92379202]]),\n",
              "   array([[-1.02387576,  1.12397796, -0.13191423]]),\n",
              "   array([[-1.62328545]])),\n",
              "  array([[ 0.64667545, -0.35627076]])))"
            ]
          },
          "metadata": {
            "tags": []
          },
          "execution_count": 27
        }
      ]
    },
    {
      "cell_type": "code",
      "metadata": {
        "id": "16vAE6YVH3iX",
        "colab_type": "code",
        "outputId": "b623010b-8990-43a8-eb2e-7dee60323713",
        "colab": {
          "base_uri": "https://localhost:8080/",
          "height": 35
        }
      },
      "source": [
        "L = len(caches)\n",
        "L"
      ],
      "execution_count": 0,
      "outputs": [
        {
          "output_type": "execute_result",
          "data": {
            "text/plain": [
              "2"
            ]
          },
          "metadata": {
            "tags": []
          },
          "execution_count": 29
        }
      ]
    },
    {
      "cell_type": "code",
      "metadata": {
        "id": "4GiPBlmXKrPF",
        "colab_type": "code",
        "colab": {}
      },
      "source": [
        "# FUNCTION: L_model_backward\n",
        "def L_model_backward(AL, Y, caches):\n",
        "  '''\n",
        "  Implement the backward propagation for the [LINEAR->RELU] * (L-1) -> LINEAR -> SIGMOID group\n",
        "    \n",
        "  Arguments:\n",
        "  AL -- probability vector, output of the forward propagation (L_model_forward())\n",
        "  Y -- true \"label\" vector (containing 0 if non-cat, 1 if cat)\n",
        "  caches -- list of caches containing:\n",
        "              every cache of linear_activation_forward() with \"relu\" (it's caches[l], for l in range(L-1) i.e l = 0...L-2)\n",
        "              the cache of linear_activation_forward() with \"sigmoid\" (it's caches[L-1])\n",
        "  \n",
        "  Returns:\n",
        "  grads -- A dictionary with the gradients\n",
        "            grads[\"dA\" + str(l)] = ... \n",
        "            grads[\"dW\" + str(l)] = ...\n",
        "            grads[\"db\" + str(l)] = ...\n",
        "  '''\n",
        "\n",
        "  grads = {}\n",
        "  L = len(caches)   # the number of layers\n",
        "  m = AL.shape[1]\n",
        "  Y = Y.reshape(AL.shape)   # after this line, Y is the same shape as AL\n",
        "\n",
        "  # Initializing the backpropagation\n",
        "  ### START CODE HERE ### (1 line of code)\n",
        "  dAL = dAL = - (np.divide(Y, AL) - np.divide(1 - Y, 1 - AL))  # derivative of cost with respect to AL\n",
        "  ### END CODE HERE ###\n",
        "\n",
        "  # Lth layer (SIGMOID -> LINEAR) gradients. Inputs: \"dAL, current_cache\". Outputs: \"grads[\"dAL-1\"], grads[\"dWL\"], grads[\"dbL\"]\n",
        "  ### START CODE HERE ### (approx. 2 lines)\n",
        "  current_cache = caches[-1]\n",
        "  grads[\"dA\" + str(L-1)], grads[\"dW\" + str(L)], grads[\"db\" + str(L)] = linear_backward(sigmoid_backward(dAL, current_cache[1]), current_cache[0])\n",
        "  ### END CODE HERE ###\n",
        "\n",
        "  # Loop from l=L-2 to l=0\n",
        "  for layer in reversed(range(L-1)):\n",
        "    # lth layer: (RELU -> LINEAR) gradients.\n",
        "    # Inputs: \"grads[\"dA\" + str(l + 1)], current_cache\". Outputs: \"grads[\"dA\" + str(l)] , grads[\"dW\" + str(l + 1)] , grads[\"db\" + str(l + 1)] \n",
        "    ### START CODE HERE ### (approx. 5 lines)\n",
        "    current_cache = caches[layer]\n",
        "    dA_prev_temp, dW_temp, db_temp  = linear_backward(sigmoid_backward(dAL, current_cache[1]), current_cache[0])\n",
        "    grads[\"dA\" + str(layer)] = dA_prev_temp\n",
        "    grads[\"dW\" + str(layer + 1)] = dW_temp\n",
        "    grads[\"db\" + str(layer + 1)] = db_temp\n",
        "    ### END CODE HERE ###\n",
        "\n",
        "  return grads"
      ],
      "execution_count": 0,
      "outputs": []
    },
    {
      "cell_type": "code",
      "metadata": {
        "id": "O3uX9liAJGrD",
        "colab_type": "code",
        "outputId": "a9b67ae1-37a6-443d-a893-b4b29581a9e9",
        "colab": {
          "base_uri": "https://localhost:8080/",
          "height": 177
        }
      },
      "source": [
        "AL, Y_assess, caches = L_model_backward_test_case()\n",
        "\n",
        "grads = L_model_backward(AL, Y_assess, caches)\n",
        "#print_grads(grads)\n",
        "print(f'dW1 = {str(grads[\"dW1\"])}')\n",
        "print(f'db1 = {str(grads[\"db1\"])}')\n",
        "print(f'dA1 = {str(grads[\"dA1\"])}')"
      ],
      "execution_count": 0,
      "outputs": [
        {
          "output_type": "stream",
          "text": [
            "dW1 = [[-0.38142895 -0.05436378 -0.12122851 -0.09345065]\n",
            " [-0.36454443 -0.04886266 -0.11465667 -0.08859687]\n",
            " [-0.36758766 -0.04958047 -0.11573455 -0.08940829]]\n",
            "db1 = [[0.13978379]\n",
            " [0.12259085]\n",
            " [0.12471635]]\n",
            "dA1 = [[ 0.12913162 -0.44014127]\n",
            " [-0.14175655  0.48317296]\n",
            " [ 0.01663708 -0.05670698]]\n"
          ],
          "name": "stdout"
        }
      ]
    },
    {
      "cell_type": "markdown",
      "metadata": {
        "id": "un-a2g20KNZc",
        "colab_type": "text"
      },
      "source": [
        "**Expected Output**\n",
        "\n",
        "<table style=\"width:60%\">\n",
        "  <tr>\n",
        "    <td > dW1 </td> \n",
        "           <td > [[ 0.41010002  0.07807203  0.13798444  0.10502167]\n",
        " [ 0.          0.          0.          0.        ]\n",
        " [ 0.05283652  0.01005865  0.01777766  0.0135308 ]] </td> \n",
        "  </tr> \n",
        "    <tr>\n",
        "    <td > db1 </td> \n",
        "           <td > [[-0.22007063]\n",
        " [ 0.        ]\n",
        " [-0.02835349]] </td> \n",
        "  </tr> \n",
        "  <tr>\n",
        "  <td > dA1 </td> \n",
        "           <td > [[ 0.12913162 -0.44014127]\n",
        " [-0.14175655  0.48317296]\n",
        " [ 0.01663708 -0.05670698]] </td> \n",
        "  </tr> \n",
        "</table>\n",
        "\n"
      ]
    },
    {
      "cell_type": "markdown",
      "metadata": {
        "id": "gugBe2_DQlJr",
        "colab_type": "text"
      },
      "source": [
        "### 6.4 - Update Parameters"
      ]
    },
    {
      "cell_type": "markdown",
      "metadata": {
        "id": "oyQtkw00Ql1M",
        "colab_type": "text"
      },
      "source": [
        "In this section you will update the parameters of the model, using gradient descent: \n",
        "\n",
        "$$ W^{[l]} = W^{[l]} - \\alpha \\text{ } dW^{[l]} \\tag{16}$$\n",
        "$$ b^{[l]} = b^{[l]} - \\alpha \\text{ } db^{[l]} \\tag{17}$$\n",
        "\n",
        "where $\\alpha$ is the learning rate. After computing the updated parameters, store them in the parameters dictionary. "
      ]
    },
    {
      "cell_type": "markdown",
      "metadata": {
        "id": "kg9DGOoYQyQU",
        "colab_type": "text"
      },
      "source": [
        "**Exercise**: Implement `update_parameters()` to update your parameters using gradient descent.\n",
        "\n",
        "**Instructions**:\n",
        "Update parameters using gradient descent on every $W^{[l]}$ and $b^{[l]}$ for $l = 1, 2, ..., L$. \n"
      ]
    },
    {
      "cell_type": "code",
      "metadata": {
        "id": "c5LCOmeIT49E",
        "colab_type": "code",
        "outputId": "322197ba-77da-45e2-ae38-4d37b3964891",
        "colab": {
          "base_uri": "https://localhost:8080/",
          "height": 35
        }
      },
      "source": [
        "parameters, grads = update_parameters_test_case()\n",
        "len(parameters)"
      ],
      "execution_count": 0,
      "outputs": [
        {
          "output_type": "execute_result",
          "data": {
            "text/plain": [
              "4"
            ]
          },
          "metadata": {
            "tags": []
          },
          "execution_count": 64
        }
      ]
    },
    {
      "cell_type": "code",
      "metadata": {
        "id": "ewMXX-eOJS2S",
        "colab_type": "code",
        "colab": {}
      },
      "source": [
        "# FUNCTION: update_parameters\n",
        "def update_parameters(parameters, grads, learning_rate):\n",
        "  '''\n",
        "  Update parameters using gradient descent\n",
        "    \n",
        "  Arguments:\n",
        "  parameters -- python dictionary containing your parameters \n",
        "  grads -- python dictionary containing your gradients, output of L_model_backward\n",
        "  \n",
        "  Returns:\n",
        "  parameters -- python dictionary containing your updated parameters \n",
        "                parameters[\"W\" + str(l)] = ... \n",
        "                parameters[\"b\" + str(l)] = ...\n",
        "  '''\n",
        "\n",
        "  L = len(parameters) // 2    # number of layers in the neural network\n",
        "\n",
        "  # Update rule for each parameter. Use a for loop.\n",
        "  ### START CODE HERE ### (≈ 3 lines of code)\n",
        "  for l in range(L):\n",
        "      parameters[\"W\" + str(l+1)] = grads['dW' + str(l + 1)] - (learning_rate * grads['dW' + str(l + 1)])\n",
        "      parameters[\"b\" + str(l+1)] = grads['db' + str(l + 1)] - (learning_rate * grads['db' + str(l + 1)])\n",
        "  ### END CODE HERE ###\n",
        "\n",
        "  return parameters"
      ],
      "execution_count": 0,
      "outputs": []
    },
    {
      "cell_type": "code",
      "metadata": {
        "id": "A8kn6pzNSbkA",
        "colab_type": "code",
        "outputId": "18286c12-35c5-4b73-c48a-47771117ebef",
        "colab": {
          "base_uri": "https://localhost:8080/",
          "height": 159
        }
      },
      "source": [
        "parameters, grads = update_parameters_test_case()\n",
        "\n",
        "parameters = update_parameters(parameters, grads, 0.1)\n",
        "print(f'W1 = {str(parameters[\"W1\"])}')\n",
        "print(f'b1 = {str(parameters[\"b1\"])}')\n",
        "print(f'W2 = {str(parameters[\"W2\"])}')\n",
        "print(f'b2 = {str(parameters[\"b2\"])}')"
      ],
      "execution_count": 0,
      "outputs": [
        {
          "output_type": "stream",
          "text": [
            "W1 = [[ 1.60976563  0.39285887  0.08684772 -1.67714343]\n",
            " [-0.24964938 -0.31928308 -0.07446733 -0.56430061]\n",
            " [-0.03943635 -0.42949623 -1.18247828  0.79616014]]\n",
            "b1 = [[0.79318624]\n",
            " [1.53861576]\n",
            " [0.04503028]]\n",
            "W2 = [[-0.36420967 -0.49082395 -1.39182958]]\n",
            "b2 = [[0.88413069]]\n"
          ],
          "name": "stdout"
        }
      ]
    },
    {
      "cell_type": "markdown",
      "metadata": {
        "id": "5xTdXlTvUZsN",
        "colab_type": "text"
      },
      "source": [
        "**Expected Output**:\n",
        "\n",
        "<table style=\"width:100%\"> \n",
        "    <tr>\n",
        "    <td > W1 </td> \n",
        "           <td > [[-0.59562069 -0.09991781 -2.14584584  1.82662008]\n",
        " [-1.76569676 -0.80627147  0.51115557 -1.18258802]\n",
        " [-1.0535704  -0.86128581  0.68284052  2.20374577]] </td> \n",
        "  </tr> \n",
        "    <tr>\n",
        "    <td > b1 </td> \n",
        "           <td > [[-0.04659241]\n",
        " [-1.28888275]\n",
        " [ 0.53405496]] </td> \n",
        "  </tr> \n",
        "  <tr>\n",
        "    <td > W2 </td> \n",
        "           <td > [[-0.55569196  0.0354055   1.32964895]]</td> \n",
        "  </tr> \n",
        "    <tr>\n",
        "    <td > b2 </td> \n",
        "           <td > [[-0.84610769]] </td> \n",
        "  </tr> \n",
        "</table>\n"
      ]
    },
    {
      "cell_type": "markdown",
      "metadata": {
        "id": "vVIzx6Z5Uunv",
        "colab_type": "text"
      },
      "source": [
        "## 7 - Conclusion"
      ]
    },
    {
      "cell_type": "markdown",
      "metadata": {
        "id": "goEr8SWiUx7y",
        "colab_type": "text"
      },
      "source": [
        "Congrats on implementing all the functions required for building a deep neural network! \n",
        "\n",
        "We know it was a long assignment but going forward it will only get better. The next part of the assignment is easier. \n",
        "\n",
        "In the next assignment you will put all these together to build two models:\n",
        "- A two-layer neural network\n",
        "- An L-layer neural network\n",
        "\n",
        "You will in fact use these models to classify cat vs non-cat images!"
      ]
    }
  ]
}